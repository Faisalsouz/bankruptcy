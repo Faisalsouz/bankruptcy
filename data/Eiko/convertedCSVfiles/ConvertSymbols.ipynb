{
 "cells": [
  {
   "cell_type": "code",
   "execution_count": 2,
   "metadata": {},
   "outputs": [],
   "source": [
    "import eikon as ek  # the Eikon Python wrapper package\n",
    "import numpy as np\n",
    "import pandas as pd\n",
    "import cufflinks as cf\n",
    "import configparser as cp"
   ]
  },
  {
   "cell_type": "markdown",
   "metadata": {},
   "source": [
    "## Connecting to Eikon Data API\n",
    "\n",
    "This code sets the app_id to connect to the Eikon Data API Proxy which needs to be running locally. It requires the previously created text file eikon.cfg to be in the current working directory."
   ]
  },
  {
   "cell_type": "code",
   "execution_count": 2,
   "metadata": {},
   "outputs": [
    {
     "data": {
      "text/plain": [
       "['eikon.cfg']"
      ]
     },
     "execution_count": 2,
     "metadata": {},
     "output_type": "execute_result"
    }
   ],
   "source": [
    "cfg = cp.ConfigParser()\n",
    "cfg.read('eikon.cfg')"
   ]
  },
  {
   "cell_type": "code",
   "execution_count": 3,
   "metadata": {},
   "outputs": [],
   "source": [
    "ek.set_app_key(cfg['eikon']['app_id']) #set_app_id function being deprecated"
   ]
  },
  {
   "cell_type": "markdown",
   "metadata": {},
   "source": [
    "## Converting Symbols"
   ]
  },
  {
   "cell_type": "code",
   "execution_count": 4,
   "metadata": {},
   "outputs": [
    {
     "name": "stdout",
     "output_type": "stream",
     "text": [
      "112\n",
      "112\n",
      "20708\n",
      "20766\n"
     ]
    }
   ],
   "source": [
    "# read data for bankrupt and healthy companies\n",
    "# read the list of bankrupt companies\n",
    "bankrupt = pd.read_csv('list_bankrupt.csv')\n",
    "healthy = pd.read_csv('list_healthy.csv')\n",
    "\n",
    "# get the tickers\n",
    "bankrupt_ticker = bankrupt['Ticker'].tolist()\n",
    "healthy_ticker = healthy['Ticker'].tolist()\n",
    "\n",
    "# get CUSIP\n",
    "bankrupt_cusip = bankrupt['CUSIP'].tolist()\n",
    "healthy_cusip = healthy['CUSIP'].tolist()\n",
    "\n",
    "print(len(set(bankrupt_ticker)))\n",
    "print(len(set(bankrupt_cusip)))\n",
    "print(len(set(healthy_ticker)))\n",
    "print(len(set(healthy_cusip)))\n"
   ]
  },
  {
   "cell_type": "markdown",
   "metadata": {},
   "source": [
    "# Bankrupt Companies"
   ]
  },
  {
   "cell_type": "markdown",
   "metadata": {},
   "source": [
    "### Bankrupt: Ticker to RIC"
   ]
  },
  {
   "cell_type": "code",
   "execution_count": 41,
   "metadata": {},
   "outputs": [
    {
     "name": "stdout",
     "output_type": "stream",
     "text": [
      "112\n"
     ]
    },
    {
     "data": {
      "text/plain": [
       "58"
      ]
     },
     "execution_count": 41,
     "metadata": {},
     "output_type": "execute_result"
    }
   ],
   "source": [
    "# convert tickers to RIC\n",
    "bankrupt_tic2ric = ek.get_symbology(bankrupt_ticker, from_symbol_type='ticker', to_symbol_type='RIC')\n",
    "\n",
    "# checking the length of the resulted series\n",
    "print(len(bankrupt_tic2ric))\n",
    "\n",
    "# write the results to a csv file\n",
    "bankrupt_tic2ric.to_csv('bankrupt_tic2ric.csv')\n",
    "\n",
    "# bankrupt_tic2ric\n",
    "len(set(bankrupt_tic2ric.RIC.to_list()))"
   ]
  },
  {
   "cell_type": "markdown",
   "metadata": {},
   "source": [
    "### Bankrupt: Ticker to ISIN"
   ]
  },
  {
   "cell_type": "code",
   "execution_count": 44,
   "metadata": {},
   "outputs": [
    {
     "name": "stdout",
     "output_type": "stream",
     "text": [
      "112\n"
     ]
    },
    {
     "data": {
      "text/plain": [
       "96"
      ]
     },
     "execution_count": 44,
     "metadata": {},
     "output_type": "execute_result"
    }
   ],
   "source": [
    "# convert Tickers to ISIN\n",
    "bankrupt_tic2isn = ek.get_symbology(bankrupt_ticker, from_symbol_type='ticker', to_symbol_type='ISIN')\n",
    "\n",
    "# checking the length of the resulted df\n",
    "print(len(bankrupt_tic2isn))\n",
    "\n",
    "# write the results to a csv file\n",
    "bankrupt_tic2isn.to_csv('bankrupt_tic2isn.csv')\n",
    "\n",
    "# check the number of unique ISINs obtained\n",
    "len(set(bankrupt_tic2isn.ISIN.to_list()))"
   ]
  },
  {
   "cell_type": "markdown",
   "metadata": {},
   "source": [
    "### Bankrupt: CUSIP to RIC"
   ]
  },
  {
   "cell_type": "code",
   "execution_count": 46,
   "metadata": {},
   "outputs": [
    {
     "name": "stdout",
     "output_type": "stream",
     "text": [
      "112\n"
     ]
    },
    {
     "data": {
      "text/plain": [
       "7"
      ]
     },
     "execution_count": 46,
     "metadata": {},
     "output_type": "execute_result"
    }
   ],
   "source": [
    "# convert CUSIP to RIC\n",
    "bankrupt_csp2ric = ek.get_symbology(bankrupt_cusip, from_symbol_type='CUSIP', to_symbol_type='RIC')\n",
    "\n",
    "# checking the length of the resulted df\n",
    "print(len(bankrupt_csp2ric))\n",
    "\n",
    "# write the results to a csv file\n",
    "bankrupt_csp2ric.to_csv('bankrupt_csp2ric.csv')\n",
    "\n",
    "# check the number of unique RICs obtained\n",
    "len(set(bankrupt_csp2ric.RIC.to_list()))"
   ]
  },
  {
   "cell_type": "markdown",
   "metadata": {},
   "source": [
    "### Bankrupt: CUSIP to ISIN"
   ]
  },
  {
   "cell_type": "code",
   "execution_count": 48,
   "metadata": {},
   "outputs": [
    {
     "name": "stdout",
     "output_type": "stream",
     "text": [
      "112\n"
     ]
    },
    {
     "data": {
      "text/plain": [
       "96"
      ]
     },
     "execution_count": 48,
     "metadata": {},
     "output_type": "execute_result"
    }
   ],
   "source": [
    "# convert CUSIP to ISIN\n",
    "bankrupt_csp2isn = ek.get_symbology(bankrupt_cusip, from_symbol_type='CUSIP', to_symbol_type='ISIN')\n",
    "\n",
    "# checking the length of the resulted df\n",
    "print(len(bankrupt_tic2isn))\n",
    "\n",
    "# write the results to a csv file\n",
    "bankrupt_csp2isn.to_csv('bankrupt_csp2isn.csv')\n",
    "\n",
    "# check the number of unique ISINs obtained\n",
    "len(set(bankrupt_tic2isn.ISIN.to_list()))"
   ]
  },
  {
   "cell_type": "markdown",
   "metadata": {},
   "source": [
    "### Preprocessing healthy lists for NANs and length"
   ]
  },
  {
   "cell_type": "code",
   "execution_count": 5,
   "metadata": {},
   "outputs": [],
   "source": [
    "# make lists of Tickers and CUSIPs without NANs\n",
    "h_tic = healthy['Ticker'].dropna().tolist()\n",
    "h_csp = healthy['CUSIP'].dropna().tolist()\n",
    "\n",
    "# divide healthy Tickers list to 4000-ticker chunks\n",
    "# cause Eikon does not convert a 20,000 length list\n",
    "# last chunk includes only 761 Tickers\n",
    "h_tic1 = h_tic[:4000]\n",
    "h_tic2 = h_tic[4000:8000]\n",
    "h_tic3 = h_tic[8000:12000]\n",
    "h_tic4 = h_tic[12000:16000]\n",
    "h_tic5 = h_tic[16000:20000]\n",
    "h_tic6 = h_tic[20000:]\n",
    "\n",
    "\n",
    "# divide healthy CUSIPs list to 4000-CUSIP chunks\n",
    "# cause Eikon does not convert a 20,000 length list\n",
    "# last chunk includes only 765 CUSIPs\n",
    "h_csp1 = h_csp[:4000]\n",
    "h_csp2 = h_csp[4000:8000]\n",
    "h_csp3 = h_csp[8000:12000]\n",
    "h_csp4 = h_csp[12000:16000]\n",
    "h_csp5 = h_csp[16000:20000]\n",
    "h_csp6 = h_csp[20000:]\n"
   ]
  },
  {
   "cell_type": "markdown",
   "metadata": {},
   "source": [
    "### Healthy: Ticker to RIC"
   ]
  },
  {
   "cell_type": "code",
   "execution_count": 90,
   "metadata": {},
   "outputs": [
    {
     "name": "stdout",
     "output_type": "stream",
     "text": [
      "4000\n"
     ]
    },
    {
     "data": {
      "text/plain": [
       "928"
      ]
     },
     "execution_count": 90,
     "metadata": {},
     "output_type": "execute_result"
    }
   ],
   "source": [
    "# convert Tcikers to RIC - Part I\n",
    "healthy_tic2ric1 = ek.get_symbology(h_tic1, from_symbol_type='ticker', to_symbol_type='RIC')\n",
    "\n",
    "# write the results to a csv file\n",
    "healthy_tic2ric1.to_csv('healthy_tic2ric1.csv')\n",
    "\n",
    "# check the number of converted Tickers\n",
    "# compared to the number of unique RICs obtained\n",
    "print(len(healthy_tic2ric1))\n",
    "len(set(healthy_tic2ric1.RIC.to_list()))"
   ]
  },
  {
   "cell_type": "code",
   "execution_count": 91,
   "metadata": {},
   "outputs": [
    {
     "name": "stdout",
     "output_type": "stream",
     "text": [
      "3998\n"
     ]
    },
    {
     "data": {
      "text/plain": [
       "530"
      ]
     },
     "execution_count": 91,
     "metadata": {},
     "output_type": "execute_result"
    }
   ],
   "source": [
    "# convert Tcikers to RIC - Part II\n",
    "healthy_tic2ric2 = ek.get_symbology(h_tic2, from_symbol_type='ticker', to_symbol_type='RIC')\n",
    "\n",
    "# write the results to a csv file\n",
    "healthy_tic2ric2.to_csv('healthy_tic2ric2.csv')\n",
    "\n",
    "# check the number of converted Tickers\n",
    "# compared to the number of unique RICs obtained\n",
    "print(len(healthy_tic2ric2))\n",
    "len(set(healthy_tic2ric2.RIC.to_list()))"
   ]
  },
  {
   "cell_type": "code",
   "execution_count": 92,
   "metadata": {},
   "outputs": [
    {
     "name": "stdout",
     "output_type": "stream",
     "text": [
      "3997\n"
     ]
    },
    {
     "data": {
      "text/plain": [
       "460"
      ]
     },
     "execution_count": 92,
     "metadata": {},
     "output_type": "execute_result"
    }
   ],
   "source": [
    "# convert Tcikers to RIC - Part III\n",
    "healthy_tic2ric3 = ek.get_symbology(h_tick3, from_symbol_type='ticker', to_symbol_type='RIC')\n",
    "\n",
    "# write the results to a csv file\n",
    "healthy_tic2ric3.to_csv('healthy_tic2ric3.csv')\n",
    "\n",
    "# check the number of converted Tickers\n",
    "# compared to the number of unique RICs obtained\n",
    "print(len(healthy_tic2ric3))\n",
    "len(set(healthy_tic2ric3.RIC.to_list()))"
   ]
  },
  {
   "cell_type": "code",
   "execution_count": 94,
   "metadata": {},
   "outputs": [
    {
     "name": "stdout",
     "output_type": "stream",
     "text": [
      "4000\n"
     ]
    },
    {
     "data": {
      "text/plain": [
       "763"
      ]
     },
     "execution_count": 94,
     "metadata": {},
     "output_type": "execute_result"
    }
   ],
   "source": [
    "# convert Tcikers to RIC - Part IV\n",
    "healthy_tic2ric4 = ek.get_symbology(h_tic4, from_symbol_type='ticker', to_symbol_type='RIC')\n",
    "\n",
    "# write the results to a csv file\n",
    "healthy_tic2ric4.to_csv('healthy_tic2ric4.csv')\n",
    "\n",
    "# check the number of converted Tickers\n",
    "# compared to the number of unique RICs obtained\n",
    "print(len(healthy_tic2ric4))\n",
    "len(set(healthy_tic2ric4.RIC.to_list()))"
   ]
  },
  {
   "cell_type": "code",
   "execution_count": 96,
   "metadata": {},
   "outputs": [
    {
     "name": "stdout",
     "output_type": "stream",
     "text": [
      "3999\n"
     ]
    },
    {
     "data": {
      "text/plain": [
       "705"
      ]
     },
     "execution_count": 96,
     "metadata": {},
     "output_type": "execute_result"
    }
   ],
   "source": [
    "# convert Tcikers to RIC - Part V\n",
    "healthy_tic2ric5 = ek.get_symbology(h_tic5, from_symbol_type='ticker', to_symbol_type='RIC')\n",
    "\n",
    "# write the results to a csv file\n",
    "healthy_tic2ric5.to_csv('healthy_tic2ric5.csv')\n",
    "\n",
    "# check the number of converted Tickers\n",
    "# compared to the number of unique RICs obtained\n",
    "print(len(healthy_tic2ric5))\n",
    "len(set(healthy_tic2ric5.RIC.to_list()))"
   ]
  },
  {
   "cell_type": "code",
   "execution_count": 98,
   "metadata": {},
   "outputs": [
    {
     "name": "stdout",
     "output_type": "stream",
     "text": [
      "761\n"
     ]
    },
    {
     "data": {
      "text/plain": [
       "123"
      ]
     },
     "execution_count": 98,
     "metadata": {},
     "output_type": "execute_result"
    }
   ],
   "source": [
    "# convert Tcikers to RIC - Part VI\n",
    "healthy_tic2ric6 = ek.get_symbology(h_tic6, from_symbol_type='ticker', to_symbol_type='RIC')\n",
    "\n",
    "# write the results to a csv file\n",
    "healthy_tic2ric6.to_csv('healthy_tic2ric6.csv')\n",
    "\n",
    "# check the number of converted Tickers\n",
    "# compared to the number of unique RICs obtained\n",
    "print(len(healthy_tic2ric6))\n",
    "len(set(healthy_tic2ric6.RIC.to_list()))"
   ]
  },
  {
   "cell_type": "markdown",
   "metadata": {},
   "source": [
    "### Healthy: Ticker to ISIN"
   ]
  },
  {
   "cell_type": "code",
   "execution_count": 101,
   "metadata": {},
   "outputs": [
    {
     "name": "stdout",
     "output_type": "stream",
     "text": [
      "4000\n"
     ]
    },
    {
     "data": {
      "text/plain": [
       "2355"
      ]
     },
     "execution_count": 101,
     "metadata": {},
     "output_type": "execute_result"
    }
   ],
   "source": [
    "# convert Tcikers to ISIN - Part I\n",
    "healthy_tic2isn1 = ek.get_symbology(h_tic1, from_symbol_type='ticker', to_symbol_type='ISIN')\n",
    "\n",
    "# write the results to a csv file\n",
    "healthy_tic2isn1.to_csv('healthy_tic2isn1.csv')\n",
    "\n",
    "# check the number of converted Tickers\n",
    "# compared to the number of unique ISINs obtained\n",
    "print(len(healthy_tic2isn1))\n",
    "len(set(healthy_tic2isn1.ISIN.to_list()))"
   ]
  },
  {
   "cell_type": "code",
   "execution_count": 102,
   "metadata": {},
   "outputs": [
    {
     "name": "stdout",
     "output_type": "stream",
     "text": [
      "3998\n"
     ]
    },
    {
     "data": {
      "text/plain": [
       "2136"
      ]
     },
     "execution_count": 102,
     "metadata": {},
     "output_type": "execute_result"
    }
   ],
   "source": [
    "# convert Tcikers to ISIN - Part II\n",
    "healthy_tic2isn2 = ek.get_symbology(h_tic2, from_symbol_type='ticker', to_symbol_type='ISIN')\n",
    "\n",
    "# write the results to a csv file\n",
    "healthy_tic2isn2.to_csv('healthy_tic2isn2.csv')\n",
    "\n",
    "# check the number of converted Tickers\n",
    "# compared to the number of unique ISINs obtained\n",
    "print(len(healthy_tic2isn2))\n",
    "len(set(healthy_tic2isn2.ISIN.to_list()))"
   ]
  },
  {
   "cell_type": "code",
   "execution_count": 103,
   "metadata": {},
   "outputs": [
    {
     "name": "stdout",
     "output_type": "stream",
     "text": [
      "3997\n"
     ]
    },
    {
     "data": {
      "text/plain": [
       "2414"
      ]
     },
     "execution_count": 103,
     "metadata": {},
     "output_type": "execute_result"
    }
   ],
   "source": [
    "# convert Tcikers to ISIN - Part III\n",
    "healthy_tic2isn3 = ek.get_symbology(h_tic3, from_symbol_type='ticker', to_symbol_type='ISIN')\n",
    "\n",
    "# write the results to a csv file\n",
    "healthy_tic2isn3.to_csv('healthy_tic2isn3.csv')\n",
    "\n",
    "# check the number of converted Tickers\n",
    "# compared to the number of unique ISINs obtained\n",
    "print(len(healthy_tic2isn3))\n",
    "len(set(healthy_tic2isn3.ISIN.to_list()))"
   ]
  },
  {
   "cell_type": "code",
   "execution_count": 104,
   "metadata": {},
   "outputs": [
    {
     "name": "stdout",
     "output_type": "stream",
     "text": [
      "4000\n"
     ]
    },
    {
     "data": {
      "text/plain": [
       "2338"
      ]
     },
     "execution_count": 104,
     "metadata": {},
     "output_type": "execute_result"
    }
   ],
   "source": [
    "# convert Tcikers to ISIN - Part IV\n",
    "healthy_tic2isn4 = ek.get_symbology(h_tic4, from_symbol_type='ticker', to_symbol_type='ISIN')\n",
    "\n",
    "# write the results to a csv file\n",
    "healthy_tic2isn4.to_csv('healthy_tic2isn4.csv')\n",
    "\n",
    "# check the number of converted Tickers\n",
    "# compared to the number of unique ISINs obtained\n",
    "print(len(healthy_tic2isn4))\n",
    "len(set(healthy_tic2isn4.ISIN.to_list()))"
   ]
  },
  {
   "cell_type": "code",
   "execution_count": 105,
   "metadata": {},
   "outputs": [
    {
     "name": "stdout",
     "output_type": "stream",
     "text": [
      "3999\n"
     ]
    },
    {
     "data": {
      "text/plain": [
       "2259"
      ]
     },
     "execution_count": 105,
     "metadata": {},
     "output_type": "execute_result"
    }
   ],
   "source": [
    "# convert Tcikers to ISIN - Part V\n",
    "healthy_tic2isn5 = ek.get_symbology(h_tic5, from_symbol_type='ticker', to_symbol_type='ISIN')\n",
    "\n",
    "# write the results to a csv file\n",
    "healthy_tic2isn5.to_csv('healthy_tic2isn5.csv')\n",
    "\n",
    "# check the number of converted Tickers\n",
    "# compared to the number of unique ISINs obtained\n",
    "print(len(healthy_tic2isn5))\n",
    "len(set(healthy_tic2isn5.ISIN.to_list()))"
   ]
  },
  {
   "cell_type": "code",
   "execution_count": 106,
   "metadata": {},
   "outputs": [
    {
     "name": "stdout",
     "output_type": "stream",
     "text": [
      "761\n"
     ]
    },
    {
     "data": {
      "text/plain": [
       "418"
      ]
     },
     "execution_count": 106,
     "metadata": {},
     "output_type": "execute_result"
    }
   ],
   "source": [
    "# convert Tcikers to ISIN - Part VI\n",
    "healthy_tic2isn6 = ek.get_symbology(h_tic6, from_symbol_type='ticker', to_symbol_type='ISIN')\n",
    "\n",
    "# write the results to a csv file\n",
    "healthy_tic2isn6.to_csv('healthy_tic2isn6.csv')\n",
    "\n",
    "# check the number of converted Tickers\n",
    "# compared to the number of unique ISINs obtained\n",
    "print(len(healthy_tic2isn6))\n",
    "len(set(healthy_tic2isn6.ISIN.to_list()))"
   ]
  },
  {
   "cell_type": "markdown",
   "metadata": {},
   "source": [
    "### Healthy: CUSIP to RIC"
   ]
  },
  {
   "cell_type": "code",
   "execution_count": 107,
   "metadata": {},
   "outputs": [
    {
     "name": "stdout",
     "output_type": "stream",
     "text": [
      "4000\n"
     ]
    },
    {
     "data": {
      "text/plain": [
       "2113"
      ]
     },
     "execution_count": 107,
     "metadata": {},
     "output_type": "execute_result"
    }
   ],
   "source": [
    "# convert CUSIP to RIC - Part I\n",
    "healthy_csp2ric1 = ek.get_symbology(h_csp1, from_symbol_type='CUSIP', to_symbol_type='RIC')\n",
    "\n",
    "# write the results to a csv file\n",
    "healthy_csp2ric1.to_csv('healthy_csp2ric1.csv')\n",
    "\n",
    "# check the number of converted CUSIPs\n",
    "# compared to the number of unique RICs obtained\n",
    "print(len(healthy_csp2ric1))\n",
    "len(set(healthy_csp2ric1.RIC.to_list()))"
   ]
  },
  {
   "cell_type": "code",
   "execution_count": 108,
   "metadata": {},
   "outputs": [
    {
     "name": "stdout",
     "output_type": "stream",
     "text": [
      "4000\n"
     ]
    },
    {
     "data": {
      "text/plain": [
       "1662"
      ]
     },
     "execution_count": 108,
     "metadata": {},
     "output_type": "execute_result"
    }
   ],
   "source": [
    "# convert CUSIP to RIC - Part II\n",
    "healthy_csp2ric2 = ek.get_symbology(h_csp2, from_symbol_type='CUSIP', to_symbol_type='RIC')\n",
    "\n",
    "# write the results to a csv file\n",
    "healthy_csp2ric2.to_csv('healthy_csp2ric2.csv')\n",
    "\n",
    "# check the number of converted CUSIPs\n",
    "# compared to the number of unique RICs obtained\n",
    "print(len(healthy_csp2ric2))\n",
    "len(set(healthy_csp2ric2.RIC.to_list()))"
   ]
  },
  {
   "cell_type": "code",
   "execution_count": 109,
   "metadata": {},
   "outputs": [
    {
     "name": "stdout",
     "output_type": "stream",
     "text": [
      "4000\n"
     ]
    },
    {
     "data": {
      "text/plain": [
       "1831"
      ]
     },
     "execution_count": 109,
     "metadata": {},
     "output_type": "execute_result"
    }
   ],
   "source": [
    "# convert CUSIP to RIC - Part III\n",
    "healthy_csp2ric3 = ek.get_symbology(h_csp3, from_symbol_type='CUSIP', to_symbol_type='RIC')\n",
    "\n",
    "# write the results to a csv file\n",
    "healthy_csp2ric3.to_csv('healthy_csp2ric3.csv')\n",
    "\n",
    "# check the number of converted CUSIPs\n",
    "# compared to the number of unique RICs obtained\n",
    "print(len(healthy_csp2ric3))\n",
    "len(set(healthy_csp2ric3.RIC.to_list()))"
   ]
  },
  {
   "cell_type": "code",
   "execution_count": 110,
   "metadata": {},
   "outputs": [
    {
     "name": "stdout",
     "output_type": "stream",
     "text": [
      "4000\n"
     ]
    },
    {
     "data": {
      "text/plain": [
       "1499"
      ]
     },
     "execution_count": 110,
     "metadata": {},
     "output_type": "execute_result"
    }
   ],
   "source": [
    "# convert CUSIP to RIC - Part IV\n",
    "healthy_csp2ric4 = ek.get_symbology(h_csp4, from_symbol_type='CUSIP', to_symbol_type='RIC')\n",
    "\n",
    "# write the results to a csv file\n",
    "healthy_csp2ric4.to_csv('healthy_csp2ric4.csv')\n",
    "\n",
    "# check the number of converted CUSIPs\n",
    "# compared to the number of unique RICs obtained\n",
    "print(len(healthy_csp2ric4))\n",
    "len(set(healthy_csp2ric4.RIC.to_list()))"
   ]
  },
  {
   "cell_type": "code",
   "execution_count": 111,
   "metadata": {},
   "outputs": [
    {
     "name": "stdout",
     "output_type": "stream",
     "text": [
      "4000\n"
     ]
    },
    {
     "data": {
      "text/plain": [
       "1363"
      ]
     },
     "execution_count": 111,
     "metadata": {},
     "output_type": "execute_result"
    }
   ],
   "source": [
    "# convert CUSIP to RIC - Part V\n",
    "healthy_csp2ric5 = ek.get_symbology(h_csp5, from_symbol_type='CUSIP', to_symbol_type='RIC')\n",
    "\n",
    "# write the results to a csv file\n",
    "healthy_csp2ric5.to_csv('healthy_csp2ric5.csv')\n",
    "\n",
    "# check the number of converted CUSIPs\n",
    "# compared to the number of unique RICs obtained\n",
    "print(len(healthy_csp2ric5))\n",
    "len(set(healthy_csp2ric5.RIC.to_list()))"
   ]
  },
  {
   "cell_type": "code",
   "execution_count": 112,
   "metadata": {},
   "outputs": [
    {
     "name": "stdout",
     "output_type": "stream",
     "text": [
      "765\n"
     ]
    },
    {
     "data": {
      "text/plain": [
       "362"
      ]
     },
     "execution_count": 112,
     "metadata": {},
     "output_type": "execute_result"
    }
   ],
   "source": [
    "# convert CUSIP to RIC - Part VI\n",
    "healthy_csp2ric6 = ek.get_symbology(h_csp6, from_symbol_type='CUSIP', to_symbol_type='RIC')\n",
    "\n",
    "# write the results to a csv file\n",
    "healthy_csp2ric6.to_csv('healthy_csp2ric6.csv')\n",
    "\n",
    "# check the number of converted CUSIPs\n",
    "# compared to the number of unique RICs obtained\n",
    "print(len(healthy_csp2ric6))\n",
    "len(set(healthy_csp2ric6.RIC.to_list()))"
   ]
  },
  {
   "cell_type": "markdown",
   "metadata": {},
   "source": [
    "### Healthy: CUSIP to ISIN"
   ]
  },
  {
   "cell_type": "code",
   "execution_count": 113,
   "metadata": {},
   "outputs": [
    {
     "name": "stdout",
     "output_type": "stream",
     "text": [
      "4000\n"
     ]
    },
    {
     "data": {
      "text/plain": [
       "2355"
      ]
     },
     "execution_count": 113,
     "metadata": {},
     "output_type": "execute_result"
    }
   ],
   "source": [
    "# convert CUSIP to ISIN - Part I\n",
    "healthy_csp2isn1 = ek.get_symbology(h_csp1, from_symbol_type='CUSIP', to_symbol_type='ISIN')\n",
    "\n",
    "# write the results to a csv file\n",
    "healthy_csp2isn1.to_csv('healthy_csp2isn1.csv')\n",
    "\n",
    "# check the number of converted CUSIPs\n",
    "# compared to the number of unique ISINs obtained\n",
    "print(len(healthy_tic2isn1))\n",
    "len(set(healthy_tic2isn1.ISIN.to_list()))"
   ]
  },
  {
   "cell_type": "code",
   "execution_count": 114,
   "metadata": {},
   "outputs": [
    {
     "name": "stdout",
     "output_type": "stream",
     "text": [
      "3998\n"
     ]
    },
    {
     "data": {
      "text/plain": [
       "2136"
      ]
     },
     "execution_count": 114,
     "metadata": {},
     "output_type": "execute_result"
    }
   ],
   "source": [
    "# convert CUSIP to ISIN - Part II\n",
    "healthy_csp2isn2 = ek.get_symbology(h_csp2, from_symbol_type='CUSIP', to_symbol_type='ISIN')\n",
    "\n",
    "# write the results to a csv file\n",
    "healthy_csp2isn2.to_csv('healthy_csp2isn2.csv')\n",
    "\n",
    "# check the number of converted CUSIPs\n",
    "# compared to the number of unique ISINs obtained\n",
    "print(len(healthy_tic2isn2))\n",
    "len(set(healthy_tic2isn2.ISIN.to_list()))"
   ]
  },
  {
   "cell_type": "code",
   "execution_count": 115,
   "metadata": {},
   "outputs": [
    {
     "name": "stdout",
     "output_type": "stream",
     "text": [
      "3997\n"
     ]
    },
    {
     "data": {
      "text/plain": [
       "2414"
      ]
     },
     "execution_count": 115,
     "metadata": {},
     "output_type": "execute_result"
    }
   ],
   "source": [
    "# convert CUSIP to ISIN - Part III\n",
    "healthy_csp2isn3 = ek.get_symbology(h_csp3, from_symbol_type='CUSIP', to_symbol_type='ISIN')\n",
    "\n",
    "# write the results to a csv file\n",
    "healthy_csp2isn3.to_csv('healthy_csp2isn3.csv')\n",
    "\n",
    "# check the number of converted CUSIPs\n",
    "# compared to the number of unique ISINs obtained\n",
    "print(len(healthy_tic2isn3))\n",
    "len(set(healthy_tic2isn3.ISIN.to_list()))"
   ]
  },
  {
   "cell_type": "code",
   "execution_count": 116,
   "metadata": {},
   "outputs": [
    {
     "name": "stdout",
     "output_type": "stream",
     "text": [
      "4000\n"
     ]
    },
    {
     "data": {
      "text/plain": [
       "2338"
      ]
     },
     "execution_count": 116,
     "metadata": {},
     "output_type": "execute_result"
    }
   ],
   "source": [
    "# convert CUSIP to ISIN - Part IV\n",
    "healthy_csp2isn4 = ek.get_symbology(h_csp4, from_symbol_type='CUSIP', to_symbol_type='ISIN')\n",
    "\n",
    "# write the results to a csv file\n",
    "healthy_csp2isn4.to_csv('healthy_csp2isn4.csv')\n",
    "\n",
    "# check the number of converted CUSIPs\n",
    "# compared to the number of unique ISINs obtained\n",
    "print(len(healthy_tic2isn4))\n",
    "len(set(healthy_tic2isn4.ISIN.to_list()))"
   ]
  },
  {
   "cell_type": "code",
   "execution_count": 117,
   "metadata": {},
   "outputs": [
    {
     "name": "stdout",
     "output_type": "stream",
     "text": [
      "3999\n"
     ]
    },
    {
     "data": {
      "text/plain": [
       "2259"
      ]
     },
     "execution_count": 117,
     "metadata": {},
     "output_type": "execute_result"
    }
   ],
   "source": [
    "# convert CUSIP to ISIN - Part V\n",
    "healthy_csp2isn5 = ek.get_symbology(h_csp5, from_symbol_type='CUSIP', to_symbol_type='ISIN')\n",
    "\n",
    "# write the results to a csv file\n",
    "healthy_csp2isn5.to_csv('healthy_csp2isn5.csv')\n",
    "\n",
    "# check the number of converted CUSIPs\n",
    "# compared to the number of unique ISINs obtained\n",
    "print(len(healthy_tic2isn5))\n",
    "len(set(healthy_tic2isn5.ISIN.to_list()))"
   ]
  },
  {
   "cell_type": "code",
   "execution_count": 118,
   "metadata": {},
   "outputs": [
    {
     "name": "stdout",
     "output_type": "stream",
     "text": [
      "761\n"
     ]
    },
    {
     "data": {
      "text/plain": [
       "418"
      ]
     },
     "execution_count": 118,
     "metadata": {},
     "output_type": "execute_result"
    }
   ],
   "source": [
    "# convert CUSIP to ISIN - Part VI\n",
    "healthy_csp2isn6 = ek.get_symbology(h_csp6, from_symbol_type='CUSIP', to_symbol_type='ISIN')\n",
    "\n",
    "# write the results to a csv file\n",
    "healthy_csp2isn6.to_csv('healthy_csp2isn6.csv')\n",
    "\n",
    "# check the number of converted CUSIPs\n",
    "# compared to the number of unique ISINs obtained\n",
    "print(len(healthy_tic2isn6))\n",
    "len(set(healthy_tic2isn6.ISIN.to_list()))"
   ]
  }
 ],
 "metadata": {
  "kernelspec": {
   "display_name": "Python 3",
   "language": "python",
   "name": "python3"
  },
  "language_info": {
   "codemirror_mode": {
    "name": "ipython",
    "version": 3
   },
   "file_extension": ".py",
   "mimetype": "text/x-python",
   "name": "python",
   "nbconvert_exporter": "python",
   "pygments_lexer": "ipython3",
   "version": "3.6.3"
  }
 },
 "nbformat": 4,
 "nbformat_minor": 2
}
