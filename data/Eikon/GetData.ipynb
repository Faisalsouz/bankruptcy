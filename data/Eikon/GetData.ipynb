{
 "cells": [
  {
   "cell_type": "code",
   "execution_count": 1,
   "metadata": {},
   "outputs": [],
   "source": [
    "# import eikon as ek\n",
    "import numpy as np\n",
    "import pickle\n",
    "import pandas as pd\n",
    "# import cufflinks as cf\n",
    "# import configparser as cp"
   ]
  },
  {
   "cell_type": "markdown",
   "metadata": {},
   "source": [
    "## Connecting to Eikon Data API\n",
    "\n",
    "This code sets the app_id to connect to the Eikon Data API Proxy which needs to be running locally. It requires the previously created text file eikon.cfg to be in the current working directory."
   ]
  },
  {
   "cell_type": "code",
   "execution_count": null,
   "metadata": {},
   "outputs": [],
   "source": [
    "cfg = cp.ConfigParser()\n",
    "cfg.read('eikon.cfg')  # adjust for different file location"
   ]
  },
  {
   "cell_type": "code",
   "execution_count": null,
   "metadata": {},
   "outputs": [],
   "source": [
    "ek.set_app_key(cfg['eikon']['app_id']) #set_app_id function being deprecated"
   ]
  },
  {
   "cell_type": "markdown",
   "metadata": {},
   "source": [
    "****"
   ]
  },
  {
   "cell_type": "markdown",
   "metadata": {},
   "source": [
    "## Get a List of RICs"
   ]
  },
  {
   "cell_type": "code",
   "execution_count": 11,
   "metadata": {},
   "outputs": [
    {
     "name": "stdout",
     "output_type": "stream",
     "text": [
      "Identifier            112\n",
      "Company               112\n",
      "Data Deletion Date    112\n",
      "Deletion Reason       112\n",
      "Ticker                112\n",
      "CUSIP                 112\n",
      "CIK                   100\n",
      "ISIN                  112\n",
      "ISINc                 112\n",
      "RIC                   101\n",
      "RICc                  112\n",
      "Country               112\n",
      "dtype: int64\n"
     ]
    },
    {
     "data": {
      "text/html": [
       "<div>\n",
       "<style scoped>\n",
       "    .dataframe tbody tr th:only-of-type {\n",
       "        vertical-align: middle;\n",
       "    }\n",
       "\n",
       "    .dataframe tbody tr th {\n",
       "        vertical-align: top;\n",
       "    }\n",
       "\n",
       "    .dataframe thead th {\n",
       "        text-align: right;\n",
       "    }\n",
       "</style>\n",
       "<table border=\"1\" class=\"dataframe\">\n",
       "  <thead>\n",
       "    <tr style=\"text-align: right;\">\n",
       "      <th></th>\n",
       "      <th>Identifier</th>\n",
       "      <th>Company</th>\n",
       "      <th>Data Deletion Date</th>\n",
       "      <th>Deletion Reason</th>\n",
       "      <th>Ticker</th>\n",
       "      <th>CUSIP</th>\n",
       "      <th>CIK</th>\n",
       "      <th>ISIN</th>\n",
       "      <th>ISINc</th>\n",
       "      <th>RIC</th>\n",
       "      <th>RICc</th>\n",
       "      <th>Country</th>\n",
       "    </tr>\n",
       "  </thead>\n",
       "  <tbody>\n",
       "    <tr>\n",
       "      <th>0</th>\n",
       "      <td>001367</td>\n",
       "      <td>Amber Resources Company of C</td>\n",
       "      <td>08/31/2012</td>\n",
       "      <td>2.0</td>\n",
       "      <td>3AMBE</td>\n",
       "      <td>023184203</td>\n",
       "      <td>0000276750</td>\n",
       "      <td>US0231842032</td>\n",
       "      <td>.</td>\n",
       "      <td>AMBEQ.OB^H12</td>\n",
       "      <td>.</td>\n",
       "      <td>US</td>\n",
       "    </tr>\n",
       "    <tr>\n",
       "      <th>1</th>\n",
       "      <td>002033</td>\n",
       "      <td>Fairchild Corp. (The)</td>\n",
       "      <td>11/01/2011</td>\n",
       "      <td>2.0</td>\n",
       "      <td>FCHDQ</td>\n",
       "      <td>303698104</td>\n",
       "      <td>0000009779</td>\n",
       "      <td>US3036981047</td>\n",
       "      <td>.</td>\n",
       "      <td>FCHDQ.PK^K11</td>\n",
       "      <td>.</td>\n",
       "      <td>US</td>\n",
       "    </tr>\n",
       "    <tr>\n",
       "      <th>2</th>\n",
       "      <td>004049</td>\n",
       "      <td>Constar International Inc</td>\n",
       "      <td>06/01/2011</td>\n",
       "      <td>2.0</td>\n",
       "      <td>CNSTQ</td>\n",
       "      <td>21036U206</td>\n",
       "      <td>0000029806</td>\n",
       "      <td>US21036U2069</td>\n",
       "      <td>.</td>\n",
       "      <td>CNST.OQ^A11</td>\n",
       "      <td>.</td>\n",
       "      <td>US</td>\n",
       "    </tr>\n",
       "    <tr>\n",
       "      <th>3</th>\n",
       "      <td>004352</td>\n",
       "      <td>Energy Conversion Devices In</td>\n",
       "      <td>09/04/2012</td>\n",
       "      <td>2.0</td>\n",
       "      <td>ENERQ</td>\n",
       "      <td>292659109</td>\n",
       "      <td>0000032878</td>\n",
       "      <td>US2926591098</td>\n",
       "      <td>.</td>\n",
       "      <td>ENERQ.PK^I12</td>\n",
       "      <td>.</td>\n",
       "      <td>US</td>\n",
       "    </tr>\n",
       "    <tr>\n",
       "      <th>4</th>\n",
       "      <td>004768</td>\n",
       "      <td>Fleetwood Enterprises Inc.</td>\n",
       "      <td>08/23/2010</td>\n",
       "      <td>2.0</td>\n",
       "      <td>FLTWQ</td>\n",
       "      <td>339099103</td>\n",
       "      <td>0000314132</td>\n",
       "      <td>US3390991038</td>\n",
       "      <td>.</td>\n",
       "      <td>FLTWQ.PK^H10</td>\n",
       "      <td>.</td>\n",
       "      <td>US</td>\n",
       "    </tr>\n",
       "  </tbody>\n",
       "</table>\n",
       "</div>"
      ],
      "text/plain": [
       "  Identifier                       Company Data Deletion Date Deletion Reason  \\\n",
       "0     001367  Amber Resources Company of C         08/31/2012             2.0   \n",
       "1     002033         Fairchild Corp. (The)         11/01/2011             2.0   \n",
       "2     004049     Constar International Inc         06/01/2011             2.0   \n",
       "3     004352  Energy Conversion Devices In         09/04/2012             2.0   \n",
       "4     004768    Fleetwood Enterprises Inc.         08/23/2010             2.0   \n",
       "\n",
       "  Ticker      CUSIP         CIK          ISIN ISINc           RIC RICc Country  \n",
       "0  3AMBE  023184203  0000276750  US0231842032     .  AMBEQ.OB^H12    .      US  \n",
       "1  FCHDQ  303698104  0000009779  US3036981047     .  FCHDQ.PK^K11    .      US  \n",
       "2  CNSTQ  21036U206  0000029806  US21036U2069     .   CNST.OQ^A11    .      US  \n",
       "3  ENERQ  292659109  0000032878  US2926591098     .  ENERQ.PK^I12    .      US  \n",
       "4  FLTWQ  339099103  0000314132  US3390991038     .  FLTWQ.PK^H10    .      US  "
      ]
     },
     "execution_count": 11,
     "metadata": {},
     "output_type": "execute_result"
    }
   ],
   "source": [
    "# temporarily, we download data for all RICs we have\n",
    "# late on, we will remove some of those RICs\n",
    "# for that purpose, we need to read RICs from three csv files:\n",
    "# that is 1.banktupt_listv2.csv and 2.*_list.csv files\n",
    "\n",
    "# set the path to xlsx file\n",
    "path_xlsx = 'D:\\\\studyproject\\\\bankruptcy\\\\data\\\\Eikon\\\\' + \\\n",
    "       'Identifiers_Mapping\\\\1.CUSIP-to-ISIN\\\\' # for win\n",
    "# path = '/Users/user/Documents/Bankruptcy/bankruptcy/data/Eikon/' + \\\n",
    "#       'Identifiers_Mapping/1.CUSIP-to-ISIN/' # for mac\n",
    "\n",
    "# set the path to csv files\n",
    "path_csv = 'D:\\\\studyproject\\\\bankruptcy\\\\data\\\\Eikon\\\\' + \\\n",
    "       'Identifiers_Mapping\\\\2.ISIN-to-RIC\\\\' # for win\n",
    "# path = '/Users/user/Documents/Bankruptcy/bankruptcy/data/Eikon/' + \\\n",
    "#       'Identifiers_Mapping/2.ISIN-to-RIC/' # for mac\n",
    "\n",
    "\n",
    "\n",
    "# read xlsx bankrupt file, downloaded from Google Drive\n",
    "# after being manually improved\n",
    "bankrupt_m = pd.read_excel(path_xlsx + '1.bankrupt_list_v2.xlsx', sheet_name='1.bankrupt_list',\n",
    "                           dtype=object)\n",
    "\n",
    "# read final csv files\n",
    "bankrupt = pd.read_csv(path_csv + '2.bankrupt_list.csv', dtype=object)\n",
    "healthy = pd.read_csv(path_csv + '2.healthy_list.csv', dtype=object)\n",
    "\n",
    "print(bankrupt_m.count())\n",
    "bankrupt_m.head()"
   ]
  },
  {
   "cell_type": "code",
   "execution_count": 12,
   "metadata": {},
   "outputs": [
    {
     "name": "stdout",
     "output_type": "stream",
     "text": [
      "Company               105\n",
      "Data Deletion Date    105\n",
      "Deletion Reason       105\n",
      "Ticker                105\n",
      "CUSIP                 105\n",
      "CIK                    93\n",
      "ISIN                  105\n",
      "ISINc                 105\n",
      "RIC                    57\n",
      "RIC_ek                  6\n",
      "RICc                  105\n",
      "Country               105\n",
      "dtype: int64\n"
     ]
    },
    {
     "data": {
      "text/html": [
       "<div>\n",
       "<style scoped>\n",
       "    .dataframe tbody tr th:only-of-type {\n",
       "        vertical-align: middle;\n",
       "    }\n",
       "\n",
       "    .dataframe tbody tr th {\n",
       "        vertical-align: top;\n",
       "    }\n",
       "\n",
       "    .dataframe thead th {\n",
       "        text-align: right;\n",
       "    }\n",
       "</style>\n",
       "<table border=\"1\" class=\"dataframe\">\n",
       "  <thead>\n",
       "    <tr style=\"text-align: right;\">\n",
       "      <th></th>\n",
       "      <th>Company</th>\n",
       "      <th>Data Deletion Date</th>\n",
       "      <th>Deletion Reason</th>\n",
       "      <th>Ticker</th>\n",
       "      <th>CUSIP</th>\n",
       "      <th>CIK</th>\n",
       "      <th>ISIN</th>\n",
       "      <th>ISINc</th>\n",
       "      <th>RIC</th>\n",
       "      <th>RIC_ek</th>\n",
       "      <th>RICc</th>\n",
       "      <th>Country</th>\n",
       "    </tr>\n",
       "  </thead>\n",
       "  <tbody>\n",
       "    <tr>\n",
       "      <th>0</th>\n",
       "      <td>Amber Resources Company of C</td>\n",
       "      <td>08/31/2012</td>\n",
       "      <td>2.0</td>\n",
       "      <td>3AMBE</td>\n",
       "      <td>023184203</td>\n",
       "      <td>0000276750</td>\n",
       "      <td>US0231842032</td>\n",
       "      <td>0</td>\n",
       "      <td>NaN</td>\n",
       "      <td>NaN</td>\n",
       "      <td>0</td>\n",
       "      <td>US</td>\n",
       "    </tr>\n",
       "    <tr>\n",
       "      <th>1</th>\n",
       "      <td>Fairchild Corp. (The)</td>\n",
       "      <td>11/01/2011</td>\n",
       "      <td>2.0</td>\n",
       "      <td>FCHDQ</td>\n",
       "      <td>303698104</td>\n",
       "      <td>0000009779</td>\n",
       "      <td>US3036981047</td>\n",
       "      <td>0</td>\n",
       "      <td>FCHDQ.PK^K11</td>\n",
       "      <td>NaN</td>\n",
       "      <td>1</td>\n",
       "      <td>US</td>\n",
       "    </tr>\n",
       "    <tr>\n",
       "      <th>2</th>\n",
       "      <td>Constar International Inc</td>\n",
       "      <td>06/01/2011</td>\n",
       "      <td>2.0</td>\n",
       "      <td>CNSTQ</td>\n",
       "      <td>21036U206</td>\n",
       "      <td>0000029806</td>\n",
       "      <td>US21036U2069</td>\n",
       "      <td>0</td>\n",
       "      <td>NaN</td>\n",
       "      <td>NaN</td>\n",
       "      <td>0</td>\n",
       "      <td>US</td>\n",
       "    </tr>\n",
       "    <tr>\n",
       "      <th>3</th>\n",
       "      <td>Energy Conversion Devices In</td>\n",
       "      <td>09/04/2012</td>\n",
       "      <td>2.0</td>\n",
       "      <td>ENERQ</td>\n",
       "      <td>292659109</td>\n",
       "      <td>0000032878</td>\n",
       "      <td>US2926591098</td>\n",
       "      <td>0</td>\n",
       "      <td>ENERQ.PK^I12</td>\n",
       "      <td>NaN</td>\n",
       "      <td>1</td>\n",
       "      <td>US</td>\n",
       "    </tr>\n",
       "    <tr>\n",
       "      <th>4</th>\n",
       "      <td>Fleetwood Enterprises Inc.</td>\n",
       "      <td>08/23/2010</td>\n",
       "      <td>2.0</td>\n",
       "      <td>FLTWQ</td>\n",
       "      <td>339099103</td>\n",
       "      <td>0000314132</td>\n",
       "      <td>US3390991038</td>\n",
       "      <td>0</td>\n",
       "      <td>FLTWQ.PK^H10</td>\n",
       "      <td>NaN</td>\n",
       "      <td>1</td>\n",
       "      <td>US</td>\n",
       "    </tr>\n",
       "  </tbody>\n",
       "</table>\n",
       "</div>"
      ],
      "text/plain": [
       "                        Company Data Deletion Date Deletion Reason Ticker  \\\n",
       "0  Amber Resources Company of C         08/31/2012             2.0  3AMBE   \n",
       "1         Fairchild Corp. (The)         11/01/2011             2.0  FCHDQ   \n",
       "2     Constar International Inc         06/01/2011             2.0  CNSTQ   \n",
       "3  Energy Conversion Devices In         09/04/2012             2.0  ENERQ   \n",
       "4    Fleetwood Enterprises Inc.         08/23/2010             2.0  FLTWQ   \n",
       "\n",
       "       CUSIP         CIK          ISIN ISINc           RIC RIC_ek RICc Country  \n",
       "0  023184203  0000276750  US0231842032     0           NaN    NaN    0      US  \n",
       "1  303698104  0000009779  US3036981047     0  FCHDQ.PK^K11    NaN    1      US  \n",
       "2  21036U206  0000029806  US21036U2069     0           NaN    NaN    0      US  \n",
       "3  292659109  0000032878  US2926591098     0  ENERQ.PK^I12    NaN    1      US  \n",
       "4  339099103  0000314132  US3390991038     0  FLTWQ.PK^H10    NaN    1      US  "
      ]
     },
     "execution_count": 12,
     "metadata": {},
     "output_type": "execute_result"
    }
   ],
   "source": [
    "print(bankrupt.count())\n",
    "bankrupt.head()"
   ]
  },
  {
   "cell_type": "code",
   "execution_count": 13,
   "metadata": {
    "scrolled": false
   },
   "outputs": [
    {
     "name": "stdout",
     "output_type": "stream",
     "text": [
      "Company               19158\n",
      "Data Deletion Date    19158\n",
      "Deletion Reason        7780\n",
      "Ticker                19154\n",
      "CUSIP                 19158\n",
      "CIK                   13462\n",
      "ISIN                  19158\n",
      "ISINc                 19158\n",
      "RIC                    9945\n",
      "RIC_ek                 8551\n",
      "RICc                  19158\n",
      "Country               18573\n",
      "dtype: int64\n"
     ]
    },
    {
     "data": {
      "text/html": [
       "<div>\n",
       "<style scoped>\n",
       "    .dataframe tbody tr th:only-of-type {\n",
       "        vertical-align: middle;\n",
       "    }\n",
       "\n",
       "    .dataframe tbody tr th {\n",
       "        vertical-align: top;\n",
       "    }\n",
       "\n",
       "    .dataframe thead th {\n",
       "        text-align: right;\n",
       "    }\n",
       "</style>\n",
       "<table border=\"1\" class=\"dataframe\">\n",
       "  <thead>\n",
       "    <tr style=\"text-align: right;\">\n",
       "      <th></th>\n",
       "      <th>Company</th>\n",
       "      <th>Data Deletion Date</th>\n",
       "      <th>Deletion Reason</th>\n",
       "      <th>Ticker</th>\n",
       "      <th>CUSIP</th>\n",
       "      <th>CIK</th>\n",
       "      <th>ISIN</th>\n",
       "      <th>ISINc</th>\n",
       "      <th>RIC</th>\n",
       "      <th>RIC_ek</th>\n",
       "      <th>RICc</th>\n",
       "      <th>Country</th>\n",
       "    </tr>\n",
       "  </thead>\n",
       "  <tbody>\n",
       "    <tr>\n",
       "      <th>0</th>\n",
       "      <td>AAR Corp</td>\n",
       "      <td>.</td>\n",
       "      <td>NaN</td>\n",
       "      <td>AIR</td>\n",
       "      <td>000361105</td>\n",
       "      <td>0000001750</td>\n",
       "      <td>US0003611052</td>\n",
       "      <td>0</td>\n",
       "      <td>AIR</td>\n",
       "      <td>AIR</td>\n",
       "      <td>0</td>\n",
       "      <td>US</td>\n",
       "    </tr>\n",
       "    <tr>\n",
       "      <th>1</th>\n",
       "      <td>ADC Telecommunications Inc.</td>\n",
       "      <td>12/10/2010</td>\n",
       "      <td>1.0</td>\n",
       "      <td>ADCT</td>\n",
       "      <td>000886309</td>\n",
       "      <td>0000061478</td>\n",
       "      <td>US0008863096</td>\n",
       "      <td>0</td>\n",
       "      <td>NaN</td>\n",
       "      <td>NaN</td>\n",
       "      <td>0</td>\n",
       "      <td>US</td>\n",
       "    </tr>\n",
       "    <tr>\n",
       "      <th>2</th>\n",
       "      <td>AFP Imaging Corp</td>\n",
       "      <td>09/15/2014</td>\n",
       "      <td>7.0</td>\n",
       "      <td>IWKS</td>\n",
       "      <td>001058205</td>\n",
       "      <td>0000319126</td>\n",
       "      <td>US0010582056</td>\n",
       "      <td>0</td>\n",
       "      <td>IWKS.PK</td>\n",
       "      <td>IWKS.PK</td>\n",
       "      <td>1</td>\n",
       "      <td>US</td>\n",
       "    </tr>\n",
       "    <tr>\n",
       "      <th>3</th>\n",
       "      <td>Alpharma Inc.</td>\n",
       "      <td>12/31/2008</td>\n",
       "      <td>1.0</td>\n",
       "      <td>ALO.2</td>\n",
       "      <td>020813101</td>\n",
       "      <td>0000730469</td>\n",
       "      <td>US0208131013</td>\n",
       "      <td>0</td>\n",
       "      <td>NaN</td>\n",
       "      <td>NaN</td>\n",
       "      <td>0</td>\n",
       "      <td>US</td>\n",
       "    </tr>\n",
       "    <tr>\n",
       "      <th>4</th>\n",
       "      <td>American Airlines Group Inc</td>\n",
       "      <td>.</td>\n",
       "      <td>NaN</td>\n",
       "      <td>AAL</td>\n",
       "      <td>02376R102</td>\n",
       "      <td>0000006201</td>\n",
       "      <td>US02376R1023</td>\n",
       "      <td>0</td>\n",
       "      <td>AAL.O - AAL.Z</td>\n",
       "      <td>AAL.O</td>\n",
       "      <td>3</td>\n",
       "      <td>US</td>\n",
       "    </tr>\n",
       "  </tbody>\n",
       "</table>\n",
       "</div>"
      ],
      "text/plain": [
       "                       Company Data Deletion Date Deletion Reason Ticker  \\\n",
       "0                     AAR Corp                  .             NaN    AIR   \n",
       "1  ADC Telecommunications Inc.         12/10/2010             1.0   ADCT   \n",
       "2             AFP Imaging Corp         09/15/2014             7.0   IWKS   \n",
       "3                Alpharma Inc.         12/31/2008             1.0  ALO.2   \n",
       "4  American Airlines Group Inc                  .             NaN    AAL   \n",
       "\n",
       "       CUSIP         CIK          ISIN ISINc            RIC   RIC_ek RICc  \\\n",
       "0  000361105  0000001750  US0003611052     0            AIR      AIR    0   \n",
       "1  000886309  0000061478  US0008863096     0            NaN      NaN    0   \n",
       "2  001058205  0000319126  US0010582056     0        IWKS.PK  IWKS.PK    1   \n",
       "3  020813101  0000730469  US0208131013     0            NaN      NaN    0   \n",
       "4  02376R102  0000006201  US02376R1023     0  AAL.O - AAL.Z    AAL.O    3   \n",
       "\n",
       "  Country  \n",
       "0      US  \n",
       "1      US  \n",
       "2      US  \n",
       "3      US  \n",
       "4      US  "
      ]
     },
     "execution_count": 13,
     "metadata": {},
     "output_type": "execute_result"
    }
   ],
   "source": [
    "print(healthy.count())\n",
    "healthy.head()"
   ]
  },
  {
   "cell_type": "code",
   "execution_count": 14,
   "metadata": {},
   "outputs": [],
   "source": [
    "# read a dataseries and convert it to a list\n",
    "def series_to_list(ds):\n",
    "    '''\n",
    "    this function takes a dataseries, breaks the double-value\n",
    "    rows, and returns a list.\n",
    "    '''\n",
    "    # drop NANs\n",
    "    ds.dropna(inplace=True)\n",
    "    \n",
    "    the_list = []\n",
    "    # iterate over series rows\n",
    "    for index, value in ds.items():\n",
    "        if ' - ' in value:\n",
    "            the_list.append(value[:value.find(' - ')])\n",
    "            the_list.append(value[value.find(' - ') + 3:])\n",
    "        else:\n",
    "            the_list.append(value)\n",
    "    \n",
    "    return the_list"
   ]
  },
  {
   "cell_type": "code",
   "execution_count": 23,
   "metadata": {},
   "outputs": [
    {
     "name": "stdout",
     "output_type": "stream",
     "text": [
      "101 RICs for bankrupt companies, and\n",
      "8596 RICs for healthy companies.\n"
     ]
    }
   ],
   "source": [
    "# actually extract, and merge the lists together\n",
    "bankrupt_RIC = list(set(series_to_list(bankrupt_m.RIC) + series_to_list(bankrupt.RIC)\n",
    "                        + series_to_list(bankrupt.RIC_ek)))\n",
    "\n",
    "healthy_RIC = list(set(series_to_list(healthy.RIC + healthy.RIC_ek)))\n",
    "\n",
    "print(len(bankrupt_RIC), 'RICs for bankrupt companies, and')\n",
    "print(len(healthy_RIC), 'RICs for healthy companies.')"
   ]
  },
  {
   "cell_type": "code",
   "execution_count": null,
   "metadata": {},
   "outputs": [],
   "source": [
    "# ============================================================================\n",
    "# 5. write the code for downloading financial ratios and timeseries for both\n",
    "# ============================================================================"
   ]
  },
  {
   "cell_type": "markdown",
   "metadata": {},
   "source": [
    "## And Finally, Download the Data"
   ]
  },
  {
   "cell_type": "markdown",
   "metadata": {},
   "source": [
    "### Historical Data"
   ]
  },
  {
   "cell_type": "code",
   "execution_count": null,
   "metadata": {},
   "outputs": [],
   "source": [
    "# create a folder for saving data\n",
    "if not os.path.exists('bankrup_data'):\n",
    "    os.makedirs('bankrup_data')\n",
    "    \n",
    "if not os.path.exists('healthy_data'):\n",
    "    os.makedirs('healthy_data')"
   ]
  },
  {
   "cell_type": "code",
   "execution_count": null,
   "metadata": {},
   "outputs": [],
   "source": [
    "# for bankrupt copmanies\n",
    "for ric in bankrupt_RIC:\n",
    "    try:\n",
    "        \n",
    "        df = ek.get_timeseries(ric,  # the RIC for the company\n",
    "                             fields='*',  # all fields\n",
    "                             start_date='2000-01-01',  # start date\n",
    "                             end_date='2019-08-19')  # end date\n",
    "    except:\n",
    "        pass\n",
    "\n",
    "    df.to_csv('10162019/bankrupt_timeseries/{}.csv'.format(ric))"
   ]
  },
  {
   "cell_type": "code",
   "execution_count": null,
   "metadata": {},
   "outputs": [],
   "source": []
  },
  {
   "cell_type": "code",
   "execution_count": null,
   "metadata": {},
   "outputs": [],
   "source": [
    "fields=['CF_NETCHNG', 'CF_ASK', 'CF_BID', 'CF_LAST', 'CF_CLOSE', 'CF_TICK', 'CF_CURR', 'CF_SOURCE', 'CF_HIGH',\n",
    "        'CF_LOW', 'CF_VOLUME', 'CF_EXCHNG', 'CF_LOTSIZE', 'CF_NAME', 'CF_TIME', 'CF_DATE',\n",
    "        'TR.CashAndSTInvestments(Period=FY0)', 'TR.LTDebtToTtlCapitalPct(Period=FY0)',\n",
    "        'TR.RevenuePerShare(Period=FY0)', 'TR.EBITDA(Period=FY0)', 'TR.EBIT(Period=FY0)',\n",
    "        'TR.TotalCapital(Period=FY0)', 'TR.TangibleBVPSTotalEquity(Period=FY0)',\n",
    "        'TR.BVPSTotalEquity(Period=FY0)', 'TR.BookValuePerShare(Period=FY0)',\n",
    "        'TR.IssuanceRetirementOfDebt(Period=FY0)', 'TR.LTDebtNet(Period=FY0)', 'TR.STDebtNet(Period=FY0)',\n",
    "        'TR.IssuanceRetirementOfStock(Period=FY0)', 'TR.PreferredStockNet(Period=FY0)',\n",
    "        'TR.CommonStockNet(Period=FY0)', 'TR.TotalCashDividendsPaid(Period=FY0)']\n",
    "\n"
   ]
  },
  {
   "cell_type": "code",
   "execution_count": null,
   "metadata": {},
   "outputs": [],
   "source": [
    "bankrupt_data, err = ek.get_data(bankrupt_RIC, fields=fields)\n",
    "bankrupt_data.to_csv('10162019/bankrupt_data/bankrupt_data.csv')"
   ]
  },
  {
   "cell_type": "markdown",
   "metadata": {},
   "source": [
    "****"
   ]
  },
  {
   "cell_type": "code",
   "execution_count": null,
   "metadata": {},
   "outputs": [],
   "source": [
    "\n",
    "help(ek.get_data)"
   ]
  },
  {
   "cell_type": "markdown",
   "metadata": {},
   "source": [
    "## Retrieving Historical Data\n",
    "\n",
    "As a test, consider the retrieval of historical end-of-day data for the Apple, Inc. stock."
   ]
  },
  {
   "cell_type": "code",
   "execution_count": null,
   "metadata": {},
   "outputs": [],
   "source": [
    "testAAPLdata = ek.get_timeseries('AAPL.O',  # the RIC for Apple, Inc.\n",
    "                         fields='*',  # all fields\n",
    "                         start_date='2000-01-01',  # start date\n",
    "                         end_date='2019-08-19')  # end date"
   ]
  },
  {
   "cell_type": "code",
   "execution_count": null,
   "metadata": {},
   "outputs": [],
   "source": [
    "testAAPLdata.tail()  # final five rows"
   ]
  },
  {
   "cell_type": "code",
   "execution_count": null,
   "metadata": {},
   "outputs": [],
   "source": [
    "testAAPLdata.head()"
   ]
  },
  {
   "cell_type": "code",
   "execution_count": null,
   "metadata": {},
   "outputs": [],
   "source": [
    "testAAPLdata.to_csv('testDataAPPL.csv')"
   ]
  },
  {
   "cell_type": "markdown",
   "metadata": {},
   "source": [
    "## Test get_data Function"
   ]
  },
  {
   "cell_type": "code",
   "execution_count": null,
   "metadata": {},
   "outputs": [],
   "source": [
    "data_grid, err = ek.get_data(['IBM', 'GOOG.O', 'MSFT.O'],\n",
    "                             ['TR.TotalReturnYTD', 'TR.WACCBeta', 'YRHIGH', 'YRLOW'])"
   ]
  },
  {
   "cell_type": "code",
   "execution_count": null,
   "metadata": {},
   "outputs": [],
   "source": [
    "data_grid"
   ]
  },
  {
   "cell_type": "code",
   "execution_count": null,
   "metadata": {},
   "outputs": [],
   "source": [
    "# read the list of bankrupt companies\n",
    "bankrupt = pd.read_csv('bankrupt.csv')\n",
    "bankruptList = bankrupt['Ticker'].tolist()\n"
   ]
  },
  {
   "cell_type": "markdown",
   "metadata": {},
   "source": [
    "## Test the bankruptcy list companies data availability on eikon"
   ]
  },
  {
   "cell_type": "code",
   "execution_count": null,
   "metadata": {},
   "outputs": [],
   "source": [
    "testBR, err = ek.get_data(bankruptList, ['TR.TotalReturnYTD', 'TR.WACCBeta', 'YRHIGH', 'YRLOW'])"
   ]
  },
  {
   "cell_type": "code",
   "execution_count": null,
   "metadata": {},
   "outputs": [],
   "source": [
    "testBR"
   ]
  },
  {
   "cell_type": "markdown",
   "metadata": {},
   "source": [
    "## Test historical data availability for bankrupt data"
   ]
  },
  {
   "cell_type": "code",
   "execution_count": null,
   "metadata": {},
   "outputs": [],
   "source": [
    "errors = 0\n",
    "for company in bankruptList:\n",
    "    try:\n",
    "        testdata = ek.get_timeseries(company,  # the RIC for Apple, Inc.\n",
    "                             fields='*',  # all fields\n",
    "                             start_date='2000-01-01',  # start date\n",
    "                             end_date='2019-08-19')  # end date\n",
    "    except:\n",
    "            errors += 1\n",
    "\n",
    "\n",
    "print(errors)\n"
   ]
  },
  {
   "cell_type": "code",
   "execution_count": null,
   "metadata": {},
   "outputs": [],
   "source": [
    "testdata = ek.get_timeseries('ARA.Z',  # the RIC for Apple, Inc.\n",
    "                             fields='*',  # all fields\n",
    "                             start_date='2000-01-01',  # start date\n",
    "                             end_date='2019-08-19')  # end date"
   ]
  },
  {
   "cell_type": "code",
   "execution_count": null,
   "metadata": {},
   "outputs": [],
   "source": [
    "testdata"
   ]
  },
  {
   "cell_type": "code",
   "execution_count": null,
   "metadata": {},
   "outputs": [],
   "source": [
    "test1 = ek.get_timeseries('AMAT',  # the RIC for Apple, Inc.\n",
    "                             fields='*',  # all fields\n",
    "                             start_date='2000-01-01',  # start date\n",
    "                             end_date='2019-08-19')  # end date"
   ]
  },
  {
   "cell_type": "code",
   "execution_count": null,
   "metadata": {},
   "outputs": [],
   "source": [
    "test1.head()"
   ]
  },
  {
   "cell_type": "markdown",
   "metadata": {},
   "source": [
    "## Retrieving Historical Data\n",
    "\n",
    "As a test, consider the retrieval of historical end-of-day data for the Apple, Inc. stock."
   ]
  },
  {
   "cell_type": "code",
   "execution_count": null,
   "metadata": {},
   "outputs": [],
   "source": [
    "testAAPLdata = ek.get_timeseries('AAPL.O',  # the RIC for Apple, Inc.\n",
    "                         fields='*',  # all fields\n",
    "                         start_date='2000-01-01',  # start date\n",
    "                         end_date='2019-08-19')  # end date"
   ]
  },
  {
   "cell_type": "code",
   "execution_count": null,
   "metadata": {},
   "outputs": [],
   "source": [
    "testAAPLdata.tail()  # final five rows"
   ]
  },
  {
   "cell_type": "code",
   "execution_count": null,
   "metadata": {},
   "outputs": [],
   "source": [
    "testAAPLdata.head()"
   ]
  },
  {
   "cell_type": "code",
   "execution_count": null,
   "metadata": {},
   "outputs": [],
   "source": [
    "testAAPLdata.to_csv('testDataAPPL.csv')"
   ]
  },
  {
   "cell_type": "markdown",
   "metadata": {},
   "source": [
    "## Test get_data Function"
   ]
  },
  {
   "cell_type": "code",
   "execution_count": null,
   "metadata": {},
   "outputs": [],
   "source": [
    "data_grid, err = ek.get_data(['IBM', 'GOOG.O', 'MSFT.O'],\n",
    "                             ['TR.TotalReturnYTD', 'TR.WACCBeta', 'YRHIGH', 'YRLOW'])"
   ]
  },
  {
   "cell_type": "code",
   "execution_count": null,
   "metadata": {},
   "outputs": [],
   "source": [
    "data_grid"
   ]
  }
 ],
 "metadata": {
  "kernelspec": {
   "display_name": "Python 3",
   "language": "python",
   "name": "python3"
  },
  "language_info": {
   "codemirror_mode": {
    "name": "ipython",
    "version": 3
   },
   "file_extension": ".py",
   "mimetype": "text/x-python",
   "name": "python",
   "nbconvert_exporter": "python",
   "pygments_lexer": "ipython3",
   "version": "3.7.3"
  }
 },
 "nbformat": 4,
 "nbformat_minor": 2
}
