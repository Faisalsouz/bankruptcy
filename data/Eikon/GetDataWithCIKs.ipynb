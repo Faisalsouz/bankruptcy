{
 "cells": [
  {
   "cell_type": "code",
   "execution_count": 1,
   "metadata": {},
   "outputs": [],
   "source": [
    "import os\n",
    "import eikon as ek\n",
    "import numpy as np\n",
    "import pickle\n",
    "import pandas as pd\n",
    "import cufflinks as cf\n",
    "import configparser as cp"
   ]
  },
  {
   "cell_type": "code",
   "execution_count": 2,
   "metadata": {},
   "outputs": [
    {
     "data": {
      "text/plain": [
       "['eikon.cfg']"
      ]
     },
     "execution_count": 2,
     "metadata": {},
     "output_type": "execute_result"
    }
   ],
   "source": [
    "cfg = cp.ConfigParser()\n",
    "cfg.read('eikon.cfg')  # adjust for different file location"
   ]
  },
  {
   "cell_type": "code",
   "execution_count": 3,
   "metadata": {},
   "outputs": [],
   "source": [
    "ek.set_app_key(cfg['eikon']['app_id']) #set_app_id function being deprecated"
   ]
  },
  {
   "cell_type": "markdown",
   "metadata": {},
   "source": [
    "## Get a List of CIKs"
   ]
  },
  {
   "cell_type": "markdown",
   "metadata": {},
   "source": [
    "### From Compustat\n",
    "#### For Both Bankrupt and Healthy Companies"
   ]
  },
  {
   "cell_type": "code",
   "execution_count": 4,
   "metadata": {},
   "outputs": [
    {
     "data": {
      "text/html": [
       "<div>\n",
       "<style scoped>\n",
       "    .dataframe tbody tr th:only-of-type {\n",
       "        vertical-align: middle;\n",
       "    }\n",
       "\n",
       "    .dataframe tbody tr th {\n",
       "        vertical-align: top;\n",
       "    }\n",
       "\n",
       "    .dataframe thead th {\n",
       "        text-align: right;\n",
       "    }\n",
       "</style>\n",
       "<table border=\"1\" class=\"dataframe\">\n",
       "  <thead>\n",
       "    <tr style=\"text-align: right;\">\n",
       "      <th></th>\n",
       "      <th>Identifier</th>\n",
       "      <th>Company</th>\n",
       "      <th>Data Deletion Date</th>\n",
       "      <th>Deletion Reason</th>\n",
       "      <th>Ticker</th>\n",
       "      <th>CUSIP</th>\n",
       "      <th>CIK</th>\n",
       "    </tr>\n",
       "  </thead>\n",
       "  <tbody>\n",
       "    <tr>\n",
       "      <th>0</th>\n",
       "      <td>001367</td>\n",
       "      <td>Amber Resources Company of C</td>\n",
       "      <td>08/31/2012</td>\n",
       "      <td>2.0</td>\n",
       "      <td>3AMBE</td>\n",
       "      <td>023184203</td>\n",
       "      <td>0000276750</td>\n",
       "    </tr>\n",
       "    <tr>\n",
       "      <th>1</th>\n",
       "      <td>002033</td>\n",
       "      <td>Fairchild Corp. (The)</td>\n",
       "      <td>11/01/2011</td>\n",
       "      <td>2.0</td>\n",
       "      <td>FCHDQ</td>\n",
       "      <td>303698104</td>\n",
       "      <td>0000009779</td>\n",
       "    </tr>\n",
       "    <tr>\n",
       "      <th>2</th>\n",
       "      <td>004049</td>\n",
       "      <td>Constar International Inc</td>\n",
       "      <td>06/01/2011</td>\n",
       "      <td>2.0</td>\n",
       "      <td>CNSTQ</td>\n",
       "      <td>21036U206</td>\n",
       "      <td>0000029806</td>\n",
       "    </tr>\n",
       "    <tr>\n",
       "      <th>3</th>\n",
       "      <td>004352</td>\n",
       "      <td>Energy Conversion Devices In</td>\n",
       "      <td>09/04/2012</td>\n",
       "      <td>2.0</td>\n",
       "      <td>ENERQ</td>\n",
       "      <td>292659109</td>\n",
       "      <td>0000032878</td>\n",
       "    </tr>\n",
       "    <tr>\n",
       "      <th>4</th>\n",
       "      <td>004768</td>\n",
       "      <td>Fleetwood Enterprises Inc.</td>\n",
       "      <td>08/23/2010</td>\n",
       "      <td>2.0</td>\n",
       "      <td>FLTWQ</td>\n",
       "      <td>339099103</td>\n",
       "      <td>0000314132</td>\n",
       "    </tr>\n",
       "  </tbody>\n",
       "</table>\n",
       "</div>"
      ],
      "text/plain": [
       "  Identifier                       Company Data Deletion Date Deletion Reason  \\\n",
       "0     001367  Amber Resources Company of C         08/31/2012             2.0   \n",
       "1     002033         Fairchild Corp. (The)         11/01/2011             2.0   \n",
       "2     004049     Constar International Inc         06/01/2011             2.0   \n",
       "3     004352  Energy Conversion Devices In         09/04/2012             2.0   \n",
       "4     004768    Fleetwood Enterprises Inc.         08/23/2010             2.0   \n",
       "\n",
       "  Ticker      CUSIP         CIK  \n",
       "0  3AMBE  023184203  0000276750  \n",
       "1  FCHDQ  303698104  0000009779  \n",
       "2  CNSTQ  21036U206  0000029806  \n",
       "3  ENERQ  292659109  0000032878  \n",
       "4  FLTWQ  339099103  0000314132  "
      ]
     },
     "execution_count": 4,
     "metadata": {},
     "output_type": "execute_result"
    }
   ],
   "source": [
    "# set the path to csv files\n",
    "# path = 'D:\\\\studyproject\\\\bankruptcy\\\\data\\\\Compustat\\\\' # for win\n",
    "path = '/Users/user/Documents/Bankruptcy/bankruptcy/data/Compustat/' # for mac\n",
    "\n",
    "# read the csv files\n",
    "bankrupt_compustat = pd.read_csv(path + 'list_bankrupt.csv', dtype=object, index_col=0)\n",
    "healthy = pd.read_csv(path + 'list_healthy.csv', dtype=object, index_col=0)\n",
    "\n",
    "bankrupt_compustat.head()"
   ]
  },
  {
   "cell_type": "code",
   "execution_count": 5,
   "metadata": {},
   "outputs": [
    {
     "data": {
      "text/html": [
       "<div>\n",
       "<style scoped>\n",
       "    .dataframe tbody tr th:only-of-type {\n",
       "        vertical-align: middle;\n",
       "    }\n",
       "\n",
       "    .dataframe tbody tr th {\n",
       "        vertical-align: top;\n",
       "    }\n",
       "\n",
       "    .dataframe thead th {\n",
       "        text-align: right;\n",
       "    }\n",
       "</style>\n",
       "<table border=\"1\" class=\"dataframe\">\n",
       "  <thead>\n",
       "    <tr style=\"text-align: right;\">\n",
       "      <th></th>\n",
       "      <th>Identifier</th>\n",
       "      <th>Company</th>\n",
       "      <th>Data Deletion Date</th>\n",
       "      <th>Deletion Reason</th>\n",
       "      <th>Ticker</th>\n",
       "      <th>CUSIP</th>\n",
       "      <th>CIK</th>\n",
       "    </tr>\n",
       "  </thead>\n",
       "  <tbody>\n",
       "    <tr>\n",
       "      <th>0</th>\n",
       "      <td>001004</td>\n",
       "      <td>AAR Corp</td>\n",
       "      <td>.</td>\n",
       "      <td>NaN</td>\n",
       "      <td>AIR</td>\n",
       "      <td>000361105</td>\n",
       "      <td>0000001750</td>\n",
       "    </tr>\n",
       "    <tr>\n",
       "      <th>1</th>\n",
       "      <td>001013</td>\n",
       "      <td>ADC Telecommunications Inc.</td>\n",
       "      <td>12/10/2010</td>\n",
       "      <td>1.0</td>\n",
       "      <td>ADCT</td>\n",
       "      <td>000886309</td>\n",
       "      <td>0000061478</td>\n",
       "    </tr>\n",
       "    <tr>\n",
       "      <th>2</th>\n",
       "      <td>001021</td>\n",
       "      <td>AFP Imaging Corp</td>\n",
       "      <td>09/15/2014</td>\n",
       "      <td>7.0</td>\n",
       "      <td>IWKS</td>\n",
       "      <td>001058205</td>\n",
       "      <td>0000319126</td>\n",
       "    </tr>\n",
       "    <tr>\n",
       "      <th>3</th>\n",
       "      <td>001034</td>\n",
       "      <td>Alpharma Inc.</td>\n",
       "      <td>12/31/2008</td>\n",
       "      <td>1.0</td>\n",
       "      <td>ALO.2</td>\n",
       "      <td>020813101</td>\n",
       "      <td>0000730469</td>\n",
       "    </tr>\n",
       "    <tr>\n",
       "      <th>4</th>\n",
       "      <td>001045</td>\n",
       "      <td>American Airlines Group Inc</td>\n",
       "      <td>.</td>\n",
       "      <td>NaN</td>\n",
       "      <td>AAL</td>\n",
       "      <td>02376R102</td>\n",
       "      <td>0000006201</td>\n",
       "    </tr>\n",
       "  </tbody>\n",
       "</table>\n",
       "</div>"
      ],
      "text/plain": [
       "  Identifier                      Company Data Deletion Date Deletion Reason  \\\n",
       "0     001004                     AAR Corp                  .             NaN   \n",
       "1     001013  ADC Telecommunications Inc.         12/10/2010             1.0   \n",
       "2     001021             AFP Imaging Corp         09/15/2014             7.0   \n",
       "3     001034                Alpharma Inc.         12/31/2008             1.0   \n",
       "4     001045  American Airlines Group Inc                  .             NaN   \n",
       "\n",
       "  Ticker      CUSIP         CIK  \n",
       "0    AIR  000361105  0000001750  \n",
       "1   ADCT  000886309  0000061478  \n",
       "2   IWKS  001058205  0000319126  \n",
       "3  ALO.2  020813101  0000730469  \n",
       "4    AAL  02376R102  0000006201  "
      ]
     },
     "execution_count": 5,
     "metadata": {},
     "output_type": "execute_result"
    }
   ],
   "source": [
    "healthy.head()"
   ]
  },
  {
   "cell_type": "code",
   "execution_count": 6,
   "metadata": {},
   "outputs": [
    {
     "name": "stdout",
     "output_type": "stream",
     "text": [
      "100 CIKs available for Compustat bankrupt companies, and\n",
      "14761 CIKs available for healthy companies.\n"
     ]
    }
   ],
   "source": [
    "bankrupt_compustat_CIK = bankrupt_compustat.CIK.dropna().to_list()\n",
    "healthy_CIK = healthy.CIK.dropna().to_list()\n",
    "\n",
    "print(len(bankrupt_compustat_CIK), 'CIKs available for Compustat bankrupt companies, and')\n",
    "print(len(healthy_CIK), 'CIKs available for healthy companies.')\n"
   ]
  },
  {
   "cell_type": "markdown",
   "metadata": {},
   "source": [
    "### From Edgar\n",
    "#### For Bankrupt Companies"
   ]
  },
  {
   "cell_type": "code",
   "execution_count": 7,
   "metadata": {},
   "outputs": [
    {
     "data": {
      "text/html": [
       "<div>\n",
       "<style scoped>\n",
       "    .dataframe tbody tr th:only-of-type {\n",
       "        vertical-align: middle;\n",
       "    }\n",
       "\n",
       "    .dataframe tbody tr th {\n",
       "        vertical-align: top;\n",
       "    }\n",
       "\n",
       "    .dataframe thead th {\n",
       "        text-align: right;\n",
       "    }\n",
       "</style>\n",
       "<table border=\"1\" class=\"dataframe\">\n",
       "  <thead>\n",
       "    <tr style=\"text-align: right;\">\n",
       "      <th></th>\n",
       "      <th>CIK</th>\n",
       "      <th>Company name</th>\n",
       "      <th>Bankruptcy chapter</th>\n",
       "      <th>Form type</th>\n",
       "      <th>Date</th>\n",
       "      <th>URL</th>\n",
       "    </tr>\n",
       "  </thead>\n",
       "  <tbody>\n",
       "    <tr>\n",
       "      <th>0</th>\n",
       "      <td>0000002034</td>\n",
       "      <td>ACETO CORP</td>\n",
       "      <td>11</td>\n",
       "      <td>8-K</td>\n",
       "      <td>09/20/2019</td>\n",
       "      <td>https://www.sec.gov/Archives/edgar/data/2034/0...</td>\n",
       "    </tr>\n",
       "    <tr>\n",
       "      <th>1</th>\n",
       "      <td>0000002178</td>\n",
       "      <td>ADAMS RESOURCES &amp; ENERGY, INC.</td>\n",
       "      <td>11</td>\n",
       "      <td>8-K</td>\n",
       "      <td>04/24/2017</td>\n",
       "      <td>https://www.sec.gov/Archives/edgar/data/2178/0...</td>\n",
       "    </tr>\n",
       "    <tr>\n",
       "      <th>2</th>\n",
       "      <td>0000004515</td>\n",
       "      <td>AMERICAN AIRLINES INC</td>\n",
       "      <td>11</td>\n",
       "      <td>8-K</td>\n",
       "      <td>11/29/2011</td>\n",
       "      <td>https://www.sec.gov/Archives/edgar/data/4515/0...</td>\n",
       "    </tr>\n",
       "    <tr>\n",
       "      <th>3</th>\n",
       "      <td>0000004707</td>\n",
       "      <td>AMERICA CAPITAL CORP</td>\n",
       "      <td>11</td>\n",
       "      <td>8-K</td>\n",
       "      <td>02/09/2009</td>\n",
       "      <td>https://www.sec.gov/Archives/edgar/data/4707/0...</td>\n",
       "    </tr>\n",
       "    <tr>\n",
       "      <th>4</th>\n",
       "      <td>0000006201</td>\n",
       "      <td>AMR CORP</td>\n",
       "      <td>11</td>\n",
       "      <td>8-K</td>\n",
       "      <td>10/23/2013</td>\n",
       "      <td>https://www.sec.gov/Archives/edgar/data/6201/0...</td>\n",
       "    </tr>\n",
       "  </tbody>\n",
       "</table>\n",
       "</div>"
      ],
      "text/plain": [
       "          CIK                    Company name Bankruptcy chapter Form type  \\\n",
       "0  0000002034                      ACETO CORP                 11       8-K   \n",
       "1  0000002178  ADAMS RESOURCES & ENERGY, INC.                 11       8-K   \n",
       "2  0000004515           AMERICAN AIRLINES INC                 11       8-K   \n",
       "3  0000004707            AMERICA CAPITAL CORP                 11       8-K   \n",
       "4  0000006201                        AMR CORP                 11       8-K   \n",
       "\n",
       "         Date                                                URL  \n",
       "0  09/20/2019  https://www.sec.gov/Archives/edgar/data/2034/0...  \n",
       "1  04/24/2017  https://www.sec.gov/Archives/edgar/data/2178/0...  \n",
       "2  11/29/2011  https://www.sec.gov/Archives/edgar/data/4515/0...  \n",
       "3  02/09/2009  https://www.sec.gov/Archives/edgar/data/4707/0...  \n",
       "4  10/23/2013  https://www.sec.gov/Archives/edgar/data/6201/0...  "
      ]
     },
     "execution_count": 7,
     "metadata": {},
     "output_type": "execute_result"
    }
   ],
   "source": [
    "# set the path to csv file\n",
    "# path = 'D:\\\\studyproject\\\\bankruptcy\\\\data\\\\Edgar\\\\' # for win\n",
    "path = '/Users/user/Documents/Bankruptcy/bankruptcy/data/Edgar/' # for mac\n",
    "\n",
    "# read the csv files\n",
    "bankrupt_edgar = pd.read_csv(path + 'edgar_bankrupt_companies.csv', dtype=object)\n",
    "\n",
    "bankrupt_edgar.head()"
   ]
  },
  {
   "cell_type": "code",
   "execution_count": 8,
   "metadata": {},
   "outputs": [
    {
     "name": "stdout",
     "output_type": "stream",
     "text": [
      "1075 CIKs available for Edgar bankrupt companies.\n"
     ]
    }
   ],
   "source": [
    "bankrupt_edgar_CIK = bankrupt_edgar.CIK.dropna().to_list()\n",
    "\n",
    "print(len(bankrupt_edgar_CIK), 'CIKs available for Edgar bankrupt companies.')"
   ]
  },
  {
   "cell_type": "markdown",
   "metadata": {},
   "source": [
    "## Merging Bankrupt Lists"
   ]
  },
  {
   "cell_type": "code",
   "execution_count": 9,
   "metadata": {},
   "outputs": [
    {
     "data": {
      "text/plain": [
       "1103"
      ]
     },
     "execution_count": 9,
     "metadata": {},
     "output_type": "execute_result"
    }
   ],
   "source": [
    "# add two lists and remove the duplicates\n",
    "bankrupt_CIK = list(set(bankrupt_compustat_CIK + bankrupt_edgar_CIK))\n",
    "\n",
    "len(bankrupt_CIK)"
   ]
  },
  {
   "cell_type": "markdown",
   "metadata": {},
   "source": [
    "****"
   ]
  },
  {
   "cell_type": "markdown",
   "metadata": {},
   "source": [
    "## Save CIK Lists"
   ]
  },
  {
   "cell_type": "code",
   "execution_count": 10,
   "metadata": {},
   "outputs": [],
   "source": [
    "# pickle down the bankrupt CIK list\n",
    "with open('CIK_list_bankrupt.txt', 'wb') as f:\n",
    "    pickle.dump(bankrupt_CIK, f)\n",
    "\n",
    "# pickle down the healthy CIK list\n",
    "with open('CIK_list_healthy.txt', 'wb') as f:\n",
    "    pickle.dump(healthy_CIK, f)"
   ]
  },
  {
   "cell_type": "markdown",
   "metadata": {},
   "source": [
    "****"
   ]
  },
  {
   "cell_type": "markdown",
   "metadata": {},
   "source": [
    "## Download the Data"
   ]
  },
  {
   "cell_type": "code",
   "execution_count": 11,
   "metadata": {},
   "outputs": [],
   "source": [
    "# create folders for saving data\n",
    "if not os.path.exists('data_bankrupt_CIK'):\n",
    "    os.makedirs('data_bankrupt_CIK')\n",
    "    \n",
    "if not os.path.exists('data_healthy_CIK'):\n",
    "    os.makedirs('data_healthy_CIK')"
   ]
  },
  {
   "cell_type": "code",
   "execution_count": 12,
   "metadata": {},
   "outputs": [
    {
     "data": {
      "text/plain": [
       "15"
      ]
     },
     "execution_count": 12,
     "metadata": {},
     "output_type": "execute_result"
    }
   ],
   "source": [
    "# Eikon does not work with large lists, so we\n",
    "# need to break the healthy_CIK list\n",
    "\n",
    "healthy_CIK_list = [healthy_CIK[i:i + 1000] for i in range(0, len(healthy_CIK), 1000)]\n",
    "\n",
    "len(healthy_CIK_list)\n"
   ]
  },
  {
   "cell_type": "markdown",
   "metadata": {},
   "source": [
    "### Historical Data"
   ]
  },
  {
   "cell_type": "code",
   "execution_count": null,
   "metadata": {},
   "outputs": [],
   "source": [
    "# define a function for getting timeseries\n",
    "'''\n",
    "def timeseries(cik_list, folder):\n",
    "    '''\n",
    "    the function gets a list of CIKs and name of a folder,\n",
    "    and saves a dataframe of historical data for each valid\n",
    "    CIK in the list, in that folder.\n",
    "    '''\n",
    "    for cik in cik_list:\n",
    "        try:\n",
    "\n",
    "            df = ek.get_timeseries(cik,  # the CIK for the company\n",
    "                                 fields='*',  # all fields\n",
    "                                 start_date='2000-01-01',  # start date\n",
    "                                 end_date='2019-08-19')  # end date\n",
    "            df.to_csv(folder + '/{}.csv'.format(cik))\n",
    "            \n",
    "        except:\n",
    "            pass\n",
    "\n",
    "        \n",
    "\n",
    "# get timeseries for bankrupt companies\n",
    "timeseries(bankrupt_CIK, 'data_bankrupt_CIK')\n",
    "'''\n"
   ]
  },
  {
   "cell_type": "code",
   "execution_count": null,
   "metadata": {},
   "outputs": [],
   "source": [
    "# and healthy ones\n",
    "# ----------------------------------------------------\n",
    "# for eikon data-download limitation I write the code\n",
    "# for each list in a separate line, and you know what,\n",
    "# in a separate cell, as well. This way we could resume\n",
    "# downloading after 12 hours without any unnecessary\n",
    "# confusion.\n",
    "# ----------------------------------------------------\n",
    "\n",
    "# 1 out of 8 - undone\n",
    "# timeseries(healthy_CIK_list[0], 'data_healthy_CIK')\n"
   ]
  },
  {
   "cell_type": "code",
   "execution_count": null,
   "metadata": {},
   "outputs": [],
   "source": [
    "# 2 out of 8 - undone\n",
    "# timeseries(healthy_CIK_list[1], 'data_healthy_CIK')\n"
   ]
  },
  {
   "cell_type": "code",
   "execution_count": null,
   "metadata": {},
   "outputs": [],
   "source": [
    "# 3 out of 8 - undone\n",
    "# timeseries(healthy_CIK_list[2], 'data_healthy_CIK')\n"
   ]
  },
  {
   "cell_type": "code",
   "execution_count": null,
   "metadata": {},
   "outputs": [],
   "source": [
    "# 4 out of 8 - undone\n",
    "# timeseries(healthy_CIK_list[3], 'data_healthy_CIK')\n"
   ]
  },
  {
   "cell_type": "code",
   "execution_count": null,
   "metadata": {},
   "outputs": [],
   "source": [
    "# 5 out of 8 - undone\n",
    "# timeseries(healthy_CIK_list[4], 'data_healthy_CIK')\n"
   ]
  },
  {
   "cell_type": "code",
   "execution_count": null,
   "metadata": {},
   "outputs": [],
   "source": [
    "# 6 out of 8 - undone\n",
    "# timeseries(healthy_CIK_list[5], 'data_healthy_CIK')\n"
   ]
  },
  {
   "cell_type": "code",
   "execution_count": null,
   "metadata": {},
   "outputs": [],
   "source": [
    "# 7 out of 8 - undone\n",
    "# timeseries(healthy_CIK_list[6], 'data_healthy_CIK')\n"
   ]
  },
  {
   "cell_type": "code",
   "execution_count": null,
   "metadata": {},
   "outputs": [],
   "source": [
    "# 8 out of 8 - undone\n",
    "# timeseries(healthy_CIK_list[7], 'data_healthy_CIK')\n"
   ]
  },
  {
   "cell_type": "markdown",
   "metadata": {},
   "source": [
    "### Financial Factors\n"
   ]
  },
  {
   "cell_type": "code",
   "execution_count": 41,
   "metadata": {},
   "outputs": [
    {
     "name": "stdout",
     "output_type": "stream",
     "text": [
      "15\n",
      "10\n",
      "11\n",
      "10\n"
     ]
    }
   ],
   "source": [
    "# add all financial factors we need to replicate *the paper*\n",
    "\n",
    "field1 = ['TR.TotalCurrentAssets', # Current Assets\n",
    "          'TR.TotalCurrLiabilities', # Current Liabilities\n",
    "          'TR.AccountsPayableCFStmt', # Accounts Payable\n",
    "          'TR.NetSales', # \n",
    "          'TR.CashAndSTInvestments',\n",
    "          'TR.TotalAssetsReported',\n",
    "          'TR.CashAndSTInvestments',\n",
    "          'TR.MarketCapDS',\n",
    "          'TR.TotalCurrLiabilities',\n",
    "          'TR.Cash',\n",
    "          'TR.TotalAssetsReported',\n",
    "          'TR.Cash',\n",
    "          'TR.TotalCurrLiabilities',\n",
    "          'TR.BGS.BusEarningsBeforeInterestandTaxesEbit',\n",
    "          'TR.BGS.GeoEarningsBeforeInterestandTaxesEbit',\n",
    "          'TR.DepreciationAmort',\n",
    "          'TR.TotalAssetsReported',\n",
    "          'TR.BGS.BusEarningsBeforeInterestandTaxesEbit',\n",
    "          'TR.BGS.GeoEarningsBeforeInterestandTaxesEbit',\n",
    "          'TR.TotalAssetsReported',\n",
    "          'TR.BGS.BusEarningsBeforeInterestandTaxesEbit',\n",
    "          'TR.BGS.GeoEarningsBeforeInterestandTaxesEbit',\n",
    "          'TR.NetSales',\n",
    "          'TR.TotalDebtOutstanding',\n",
    "          'TR.NetDebt',\n",
    "          'TR.TotalAssetsReported',\n",
    "          'TR.PCTotInvt5YrCompAnnGrowthRate',\n",
    "          'TR.Inventories',\n",
    "          'TR.Inventories',\n",
    "          'TR.NetSales',\n",
    "          'TR.TotalCurrLiabilities',\n",
    "          'TR.Cash']\n",
    "\n",
    "field2 = ['TR.TotalAssetsReported',\n",
    "          'TR.TotalCurrLiabilities',\n",
    "          'TR.TotalAssetsReported',\n",
    "          'TR.TotalCurrLiabilities',\n",
    "          'TR.TotalLiabilities',\n",
    "          'TR.TotalCurrLiabilities',\n",
    "          'TR.NetSales',\n",
    "          'TR.TotalLiabilities',\n",
    "          'TR.TotalAssetsReported',\n",
    "          'TR.TotalLiabilities',\n",
    "          'TR.TotalLiabilities',\n",
    "          'TR.TangibleBookValueRptd',\n",
    "          'TR.TangibleBookValueBnk',\n",
    "          'TR.TangibleBookValueIns',\n",
    "          'TR.TangibleBookValueUtil',\n",
    "          'TR.TangibleBVPS',\n",
    "          'TR.NetIncomeStartingLine',\n",
    "          'TR.TotalAssetsReported',\n",
    "          'TR.NetIncomeStartingLine']\n",
    "\n",
    "field3 = ['TR.NetIncomeStartingLine',\n",
    "          'TR.NetSales',\n",
    "          'TR.OperatingIncome',\n",
    "          'TR.TotalAssetsReported',\n",
    "          'TR.STOCKPRICE',\n",
    "          'TR.FiPrice',\n",
    "          'TR.TotalCurrLiabilities',\n",
    "          'TR.RetainedEarnings',\n",
    "          'TR.TotalAssetsReported',\n",
    "          'TR.MARKETCAPITALISATION',\n",
    "          'MKT_CAP',\n",
    "          'TR.TotalEquity']\n",
    "\n",
    "field4 = ['TR.TotalAssetsReported',\n",
    "          'TR.FiPricingVolatility',\n",
    "          'TR.PCWrkgCapPrdOverPrdAvg(Period=FY0)',\n",
    "          'TR.PCWrkgCapPrdOverPrdPctChg(Period=FY0)',\n",
    "          'TR.PZPHasFiledForBankruptcy', # bankruptcy check (not working)\n",
    "          'TR.PZPBankruptcyFilingDate', # bankruptcy check (not working)\n",
    "          'TR.InstrumentIsActive', # bankruptcy check (not reliable)\n",
    "          'TR.IsDelistedQuote',\n",
    "          'TR.GICSIndustry',\n",
    "          'TR.NAICSIndustryGroup']  # bankruptcy check (not reliable)\n",
    "\n",
    "# remove duplicates\n",
    "field1 = list(set(field1))\n",
    "field2 = list(set(field2))\n",
    "field3 = list(set(field3))\n",
    "field4 = list(set(field4))\n",
    "\n",
    "print(len(field1))\n",
    "print(len(field2))\n",
    "print(len(field3))\n",
    "print(len(field4))"
   ]
  },
  {
   "cell_type": "markdown",
   "metadata": {},
   "source": [
    "### Bankrupt Companies"
   ]
  },
  {
   "cell_type": "code",
   "execution_count": null,
   "metadata": {},
   "outputs": [],
   "source": [
    "# download the financial factors for the first list of \n",
    "\n",
    "# for the bankrupt companies\n",
    "# get the data\n",
    "bankrupt_data, err = ek.get_data(bankrupt_CIK, fields=field1,\n",
    "                                 parameters={'Frq':'Q',\n",
    "                                             'SDate':'2000-01-01',\n",
    "                                             'EDate':'2019-06-30'})\n",
    "# and save the dataframe as a csv file\n",
    "bankrupt_data.to_csv('data_bankrupt_CIK/bankrupt_data1.csv')\n"
   ]
  },
  {
   "cell_type": "code",
   "execution_count": null,
   "metadata": {},
   "outputs": [],
   "source": [
    "# download the financial factors\n",
    "\n",
    "# for the bankrupt companies\n",
    "# get the data\n",
    "bankrupt_data, err = ek.get_data(bankrupt_CIK, fields=field2,\n",
    "                                 parameters={'Frq':'Q',\n",
    "                                             'SDate':'2000-01-01',\n",
    "                                             'EDate':'2019-06-30'})\n",
    "# and save the dataframe as a csv file\n",
    "bankrupt_data.to_csv('data_bankrupt_CIK/bankrupt_data2.csv')\n"
   ]
  },
  {
   "cell_type": "code",
   "execution_count": 42,
   "metadata": {},
   "outputs": [],
   "source": [
    "# download the financial factors\n",
    "\n",
    "# for the bankrupt companies\n",
    "# get the data\n",
    "bankrupt_data, err = ek.get_data(bankrupt_CIK, fields=field3,\n",
    "                                 parameters={'Frq':'Q',\n",
    "                                             'SDate':'2000-01-01',\n",
    "                                             'EDate':'2019-06-30'})\n",
    "# and save the dataframe as a csv file\n",
    "bankrupt_data.to_csv('data_bankrupt_CIK/bankrupt_data3.csv')\n"
   ]
  },
  {
   "cell_type": "code",
   "execution_count": 43,
   "metadata": {},
   "outputs": [],
   "source": [
    "# download the financial factors\n",
    "\n",
    "# for the bankrupt companies\n",
    "# get the data\n",
    "bankrupt_data, err = ek.get_data(bankrupt_CIK, fields=field4,\n",
    "                                 parameters={'Frq':'Q',\n",
    "                                             'SDate':'2000-01-01',\n",
    "                                             'EDate':'2019-06-30'})\n",
    "# and save the dataframe as a csv file\n",
    "bankrupt_data.to_csv('data_bankrupt_CIK/bankrupt_data4.csv')\n"
   ]
  },
  {
   "cell_type": "markdown",
   "metadata": {},
   "source": [
    "****"
   ]
  },
  {
   "cell_type": "markdown",
   "metadata": {},
   "source": [
    "### Healthy Companies"
   ]
  },
  {
   "cell_type": "code",
   "execution_count": 14,
   "metadata": {},
   "outputs": [],
   "source": [
    "# again for the healthy list we need to arrange\n",
    "# download precedure in different cells\n",
    "\n",
    "# chunk 1 out of 15 - fields 1 out of 4\n",
    "healthy_df, err = ek.get_data(healthy_CIK_list[0], fields=field1,\n",
    "                              parameters={'Frq':'Q',\n",
    "                                          'SDate':'2000-01-01',\n",
    "                                          'EDate':'2019-06-30'})\n",
    "\n",
    "healthy_df.to_csv('data_healthy_CIK/healthy_chunk01_fields1.csv')\n"
   ]
  },
  {
   "cell_type": "code",
   "execution_count": 15,
   "metadata": {},
   "outputs": [],
   "source": [
    "# again for the healthy list we need to arrange\n",
    "# download precedure in different cells\n",
    "\n",
    "# chunk 1 out of 15 - fields 2 out of 4\n",
    "healthy_df, err = ek.get_data(healthy_CIK_list[0], fields=field2,\n",
    "                              parameters={'Frq':'Q',\n",
    "                                          'SDate':'2000-01-01',\n",
    "                                          'EDate':'2019-06-30'})\n",
    "\n",
    "healthy_df.to_csv('data_healthy_CIK/healthy_chunk01_fields2.csv')\n"
   ]
  },
  {
   "cell_type": "code",
   "execution_count": 44,
   "metadata": {},
   "outputs": [],
   "source": [
    "# again for the healthy list we need to arrange\n",
    "# download precedure in different cells\n",
    "\n",
    "# chunk 1 out of 15 - fields 3 out of 4\n",
    "healthy_df, err = ek.get_data(healthy_CIK_list[0], fields=field3,\n",
    "                              parameters={'Frq':'Q',\n",
    "                                          'SDate':'2000-01-01',\n",
    "                                          'EDate':'2019-06-30'})\n",
    "\n",
    "healthy_df.to_csv('data_healthy_CIK/healthy_chunk01_fields3.csv')\n"
   ]
  },
  {
   "cell_type": "code",
   "execution_count": 45,
   "metadata": {},
   "outputs": [],
   "source": [
    "# again for the healthy list we need to arrange\n",
    "# download precedure in different cells\n",
    "\n",
    "# chunk 1 out of 15 - fields 4 out of 4\n",
    "healthy_df, err = ek.get_data(healthy_CIK_list[0], fields=field4,\n",
    "                              parameters={'Frq':'Q',\n",
    "                                          'SDate':'2000-01-01',\n",
    "                                          'EDate':'2019-06-30'})\n",
    "\n",
    "healthy_df.to_csv('data_healthy_CIK/healthy_chunk01_fields4.csv')\n"
   ]
  },
  {
   "cell_type": "markdown",
   "metadata": {},
   "source": [
    "****"
   ]
  },
  {
   "cell_type": "code",
   "execution_count": 17,
   "metadata": {},
   "outputs": [],
   "source": [
    "# chunk 2 out of 15 - fields 1 out of 4\n",
    "healthy_df, err = ek.get_data(healthy_CIK_list[1], fields=field1,\n",
    "                              parameters={'Frq':'Q',\n",
    "                                          'SDate':'2000-01-01',\n",
    "                                          'EDate':'2019-06-30'})\n",
    "\n",
    "healthy_df.to_csv('data_healthy_CIK/healthy_chunk02_fields1.csv')\n"
   ]
  },
  {
   "cell_type": "code",
   "execution_count": 18,
   "metadata": {},
   "outputs": [],
   "source": [
    "# chunk 2 out of 15 - fields 2 out of 4\n",
    "healthy_df, err = ek.get_data(healthy_CIK_list[1], fields=field2,\n",
    "                              parameters={'Frq':'Q',\n",
    "                                          'SDate':'2000-01-01',\n",
    "                                          'EDate':'2019-06-30'})\n",
    "\n",
    "healthy_df.to_csv('data_healthy_CIK/healthy_chunk02_fields2.csv')\n"
   ]
  },
  {
   "cell_type": "code",
   "execution_count": 46,
   "metadata": {},
   "outputs": [],
   "source": [
    "# chunk 2 out of 15 - fields 3 out of 4\n",
    "healthy_df, err = ek.get_data(healthy_CIK_list[1], fields=field3,\n",
    "                              parameters={'Frq':'Q',\n",
    "                                          'SDate':'2000-01-01',\n",
    "                                          'EDate':'2019-06-30'})\n",
    "\n",
    "healthy_df.to_csv('data_healthy_CIK/healthy_chunk02_fields3.csv')\n"
   ]
  },
  {
   "cell_type": "code",
   "execution_count": 47,
   "metadata": {},
   "outputs": [],
   "source": [
    "# chunk 2 out of 15 - fields 4 out of 4\n",
    "healthy_df, err = ek.get_data(healthy_CIK_list[1], fields=field4,\n",
    "                              parameters={'Frq':'Q',\n",
    "                                          'SDate':'2000-01-01',\n",
    "                                          'EDate':'2019-06-30'})\n",
    "\n",
    "healthy_df.to_csv('data_healthy_CIK/healthy_chunk02_fields4.csv')\n",
    "\n"
   ]
  },
  {
   "cell_type": "markdown",
   "metadata": {},
   "source": [
    "****"
   ]
  },
  {
   "cell_type": "code",
   "execution_count": 21,
   "metadata": {},
   "outputs": [],
   "source": [
    "# chunk 3 out of 15 - fields 1 out of 4\n",
    "healthy_df, err = ek.get_data(healthy_CIK_list[2], fields=field1,\n",
    "                              parameters={'Frq':'Q',\n",
    "                                          'SDate':'2000-01-01',\n",
    "                                          'EDate':'2019-06-30'})\n",
    "\n",
    "healthy_df.to_csv('data_healthy_CIK/healthy_chunk03_fields1.csv')\n"
   ]
  },
  {
   "cell_type": "code",
   "execution_count": 22,
   "metadata": {},
   "outputs": [],
   "source": [
    "# chunk 3 out of 15 - fields 2 out of 4\n",
    "healthy_df, err = ek.get_data(healthy_CIK_list[2], fields=field2,\n",
    "                              parameters={'Frq':'Q',\n",
    "                                          'SDate':'2000-01-01',\n",
    "                                          'EDate':'2019-06-30'})\n",
    "\n",
    "healthy_df.to_csv('data_healthy_CIK/healthy_chunk03_fields2.csv')\n"
   ]
  },
  {
   "cell_type": "code",
   "execution_count": 48,
   "metadata": {},
   "outputs": [],
   "source": [
    "# chunk 3 out of 15 - fields 3 out of 4\n",
    "healthy_df, err = ek.get_data(healthy_CIK_list[2], fields=field3,\n",
    "                              parameters={'Frq':'Q',\n",
    "                                          'SDate':'2000-01-01',\n",
    "                                          'EDate':'2019-06-30'})\n",
    "\n",
    "healthy_df.to_csv('data_healthy_CIK/healthy_chunk03_fields3.csv')\n"
   ]
  },
  {
   "cell_type": "code",
   "execution_count": 49,
   "metadata": {},
   "outputs": [],
   "source": [
    "# chunk 3 out of 15 - fields 4 out of 4\n",
    "healthy_df, err = ek.get_data(healthy_CIK_list[2], fields=field4,\n",
    "                              parameters={'Frq':'Q',\n",
    "                                          'SDate':'2000-01-01',\n",
    "                                          'EDate':'2019-06-30'})\n",
    "\n",
    "healthy_df.to_csv('data_healthy_CIK/healthy_chunk03_fields4.csv')\n"
   ]
  },
  {
   "cell_type": "markdown",
   "metadata": {},
   "source": [
    "****"
   ]
  },
  {
   "cell_type": "code",
   "execution_count": 24,
   "metadata": {},
   "outputs": [],
   "source": [
    "# chunk 4 out of 15 - fields 1 out of 4\n",
    "healthy_df, err = ek.get_data(healthy_CIK_list[3], fields=field1,\n",
    "                              parameters={'Frq':'Q',\n",
    "                                          'SDate':'2000-01-01',\n",
    "                                          'EDate':'2019-06-30'})\n",
    "\n",
    "healthy_df.to_csv('data_healthy_CIK/healthy_chunk04_fields1.csv')\n"
   ]
  },
  {
   "cell_type": "code",
   "execution_count": 25,
   "metadata": {},
   "outputs": [],
   "source": [
    "# chunk 4 out of 15 - fields 2 out of 4\n",
    "healthy_df, err = ek.get_data(healthy_CIK_list[3], fields=field2,\n",
    "                              parameters={'Frq':'Q',\n",
    "                                          'SDate':'2000-01-01',\n",
    "                                          'EDate':'2019-06-30'})\n",
    "\n",
    "healthy_df.to_csv('data_healthy_CIK/healthy_chunk04_fields2.csv')\n"
   ]
  },
  {
   "cell_type": "code",
   "execution_count": 50,
   "metadata": {},
   "outputs": [],
   "source": [
    "# chunk 4 out of 15 - fields 3 out of 4\n",
    "healthy_df, err = ek.get_data(healthy_CIK_list[3], fields=field3,\n",
    "                              parameters={'Frq':'Q',\n",
    "                                          'SDate':'2000-01-01',\n",
    "                                          'EDate':'2019-06-30'})\n",
    "\n",
    "healthy_df.to_csv('data_healthy_CIK/healthy_chunk04_fields3.csv')\n"
   ]
  },
  {
   "cell_type": "code",
   "execution_count": 51,
   "metadata": {},
   "outputs": [],
   "source": [
    "# chunk 4 out of 15 - fields 4 out of 4\n",
    "healthy_df, err = ek.get_data(healthy_CIK_list[3], fields=field4,\n",
    "                              parameters={'Frq':'Q',\n",
    "                                          'SDate':'2000-01-01',\n",
    "                                          'EDate':'2019-06-30'})\n",
    "\n",
    "healthy_df.to_csv('data_healthy_CIK/healthy_chunk04_fields4.csv')\n"
   ]
  },
  {
   "cell_type": "markdown",
   "metadata": {},
   "source": [
    "****"
   ]
  },
  {
   "cell_type": "code",
   "execution_count": 27,
   "metadata": {},
   "outputs": [],
   "source": [
    "# chunk 5 out of 15 - fields 1 out of 4\n",
    "healthy_df, err = ek.get_data(healthy_CIK_list[4], fields=field1,\n",
    "                              parameters={'Frq':'Q',\n",
    "                                          'SDate':'2000-01-01',\n",
    "                                          'EDate':'2019-06-30'})\n",
    "\n",
    "healthy_df.to_csv('data_healthy_CIK/healthy_chunk05_fields1.csv')\n"
   ]
  },
  {
   "cell_type": "code",
   "execution_count": 28,
   "metadata": {},
   "outputs": [],
   "source": [
    "# chunk 5 out of 15 - fields 2 out of 4\n",
    "healthy_df, err = ek.get_data(healthy_CIK_list[4], fields=field2,\n",
    "                              parameters={'Frq':'Q',\n",
    "                                          'SDate':'2000-01-01',\n",
    "                                          'EDate':'2019-06-30'})\n",
    "\n",
    "healthy_df.to_csv('data_healthy_CIK/healthy_chunk05_fields2.csv')\n"
   ]
  },
  {
   "cell_type": "code",
   "execution_count": 52,
   "metadata": {},
   "outputs": [],
   "source": [
    "# chunk 5 out of 15 - fields 3 out of 4\n",
    "healthy_df, err = ek.get_data(healthy_CIK_list[4], fields=field3,\n",
    "                              parameters={'Frq':'Q',\n",
    "                                          'SDate':'2000-01-01',\n",
    "                                          'EDate':'2019-06-30'})\n",
    "\n",
    "healthy_df.to_csv('data_healthy_CIK/healthy_chunk05_fields3.csv')\n"
   ]
  },
  {
   "cell_type": "code",
   "execution_count": 53,
   "metadata": {},
   "outputs": [],
   "source": [
    "# chunk 5 out of 15 - fields 4 out of 4\n",
    "healthy_df, err = ek.get_data(healthy_CIK_list[4], fields=field4,\n",
    "                              parameters={'Frq':'Q',\n",
    "                                          'SDate':'2000-01-01',\n",
    "                                          'EDate':'2019-06-30'})\n",
    "\n",
    "healthy_df.to_csv('data_healthy_CIK/healthy_chunk05_fields4.csv')\n"
   ]
  },
  {
   "cell_type": "markdown",
   "metadata": {},
   "source": [
    "****"
   ]
  },
  {
   "cell_type": "code",
   "execution_count": 30,
   "metadata": {},
   "outputs": [],
   "source": [
    "# chunk 6 out of 15 - fields 1 out of 4\n",
    "healthy_df, err = ek.get_data(healthy_CIK_list[5], fields=field1,\n",
    "                              parameters={'Frq':'Q',\n",
    "                                          'SDate':'2000-01-01',\n",
    "                                          'EDate':'2019-06-30'})\n",
    "\n",
    "healthy_df.to_csv('data_healthy_CIK/healthy_chunk06_fields1.csv')\n"
   ]
  },
  {
   "cell_type": "code",
   "execution_count": 31,
   "metadata": {},
   "outputs": [],
   "source": [
    "# chunk 6 out of 15 - fields 2 out of 4\n",
    "healthy_df, err = ek.get_data(healthy_CIK_list[5], fields=field2,\n",
    "                              parameters={'Frq':'Q',\n",
    "                                          'SDate':'2000-01-01',\n",
    "                                          'EDate':'2019-06-30'})\n",
    "\n",
    "healthy_df.to_csv('data_healthy_CIK/healthy_chunk06_fields2.csv')\n"
   ]
  },
  {
   "cell_type": "code",
   "execution_count": 54,
   "metadata": {},
   "outputs": [],
   "source": [
    "# chunk 6 out of 15 - fields 3 out of 4\n",
    "healthy_df, err = ek.get_data(healthy_CIK_list[5], fields=field3,\n",
    "                              parameters={'Frq':'Q',\n",
    "                                          'SDate':'2000-01-01',\n",
    "                                          'EDate':'2019-06-30'})\n",
    "\n",
    "healthy_df.to_csv('data_healthy_CIK/healthy_chunk06_fields3.csv')\n"
   ]
  },
  {
   "cell_type": "code",
   "execution_count": 55,
   "metadata": {},
   "outputs": [],
   "source": [
    "# chunk 6 out of 15 - fields 4 out of 4\n",
    "healthy_df, err = ek.get_data(healthy_CIK_list[5], fields=field4,\n",
    "                              parameters={'Frq':'Q',\n",
    "                                          'SDate':'2000-01-01',\n",
    "                                          'EDate':'2019-06-30'})\n",
    "\n",
    "healthy_df.to_csv('data_healthy_CIK/healthy_chunk06_fields4.csv')\n",
    "\n"
   ]
  },
  {
   "cell_type": "markdown",
   "metadata": {},
   "source": [
    "****"
   ]
  },
  {
   "cell_type": "code",
   "execution_count": 33,
   "metadata": {},
   "outputs": [],
   "source": [
    "# chunk 7 out of 15 - fields 1 out of 4\n",
    "healthy_df, err = ek.get_data(healthy_CIK_list[6], fields=field1,\n",
    "                              parameters={'Frq':'Q',\n",
    "                                          'SDate':'2000-01-01',\n",
    "                                          'EDate':'2019-06-30'})\n",
    "\n",
    "healthy_df.to_csv('data_healthy_CIK/healthy_chunk07_fields1.csv')\n"
   ]
  },
  {
   "cell_type": "code",
   "execution_count": 34,
   "metadata": {},
   "outputs": [],
   "source": [
    "# chunk 7 out of 15 - fields 2 out of 4\n",
    "healthy_df, err = ek.get_data(healthy_CIK_list[6], fields=field2,\n",
    "                              parameters={'Frq':'Q',\n",
    "                                          'SDate':'2000-01-01',\n",
    "                                          'EDate':'2019-06-30'})\n",
    "\n",
    "healthy_df.to_csv('data_healthy_CIK/healthy_chunk07_fields2.csv')\n"
   ]
  },
  {
   "cell_type": "code",
   "execution_count": 56,
   "metadata": {},
   "outputs": [],
   "source": [
    "# chunk 7 out of 15 - fields 3 out of 4\n",
    "healthy_df, err = ek.get_data(healthy_CIK_list[6], fields=field3,\n",
    "                              parameters={'Frq':'Q',\n",
    "                                          'SDate':'2000-01-01',\n",
    "                                          'EDate':'2019-06-30'})\n",
    "\n",
    "healthy_df.to_csv('data_healthy_CIK/healthy_chunk07_fields3.csv')\n"
   ]
  },
  {
   "cell_type": "code",
   "execution_count": 57,
   "metadata": {},
   "outputs": [],
   "source": [
    "# chunk 7 out of 15 - fields 4 out of 4\n",
    "healthy_df, err = ek.get_data(healthy_CIK_list[6], fields=field4,\n",
    "                              parameters={'Frq':'Q',\n",
    "                                          'SDate':'2000-01-01',\n",
    "                                          'EDate':'2019-06-30'})\n",
    "\n",
    "healthy_df.to_csv('data_healthy_CIK/healthy_chunk07_fields4.csv')\n"
   ]
  },
  {
   "cell_type": "markdown",
   "metadata": {},
   "source": [
    "****"
   ]
  },
  {
   "cell_type": "code",
   "execution_count": 36,
   "metadata": {},
   "outputs": [],
   "source": [
    "# chunk 8 out of 15 - fields 1 out of 4\n",
    "healthy_df, err = ek.get_data(healthy_CIK_list[7], fields=field1,\n",
    "                              parameters={'Frq':'Q',\n",
    "                                          'SDate':'2000-01-01',\n",
    "                                          'EDate':'2019-06-30'})\n",
    "\n",
    "healthy_df.to_csv('data_healthy_CIK/healthy_chunk08_fields1.csv')\n"
   ]
  },
  {
   "cell_type": "code",
   "execution_count": 37,
   "metadata": {},
   "outputs": [],
   "source": [
    "# chunk 8 out of 15 - fields 2 out of 4\n",
    "healthy_df, err = ek.get_data(healthy_CIK_list[7], fields=field2,\n",
    "                              parameters={'Frq':'Q',\n",
    "                                          'SDate':'2000-01-01',\n",
    "                                          'EDate':'2019-06-30'})\n",
    "\n",
    "healthy_df.to_csv('data_healthy_CIK/healthy_chunk08_fields2.csv')\n"
   ]
  },
  {
   "cell_type": "code",
   "execution_count": 58,
   "metadata": {},
   "outputs": [],
   "source": [
    "# chunk 8 out of 15 - fields 3 out of 4\n",
    "healthy_df, err = ek.get_data(healthy_CIK_list[7], fields=field3,\n",
    "                              parameters={'Frq':'Q',\n",
    "                                          'SDate':'2000-01-01',\n",
    "                                          'EDate':'2019-06-30'})\n",
    "\n",
    "healthy_df.to_csv('data_healthy_CIK/healthy_chunk08_fields3.csv')\n"
   ]
  },
  {
   "cell_type": "code",
   "execution_count": 59,
   "metadata": {},
   "outputs": [],
   "source": [
    "# chunk 8 out of 15 - fields 4 out of 4\n",
    "healthy_df, err = ek.get_data(healthy_CIK_list[7], fields=field4,\n",
    "                              parameters={'Frq':'Q',\n",
    "                                          'SDate':'2000-01-01',\n",
    "                                          'EDate':'2019-06-30'})\n",
    "\n",
    "healthy_df.to_csv('data_healthy_CIK/healthy_chunk08_fields4.csv')\n",
    "\n"
   ]
  },
  {
   "cell_type": "markdown",
   "metadata": {},
   "source": [
    "****"
   ]
  },
  {
   "cell_type": "code",
   "execution_count": null,
   "metadata": {},
   "outputs": [],
   "source": [
    "# chunk 9 out of 15 - fields 1 out of 4\n",
    "healthy_df, err = ek.get_data(healthy_CIK_list[8], fields=field1,\n",
    "                              parameters={'Frq':'Q',\n",
    "                                          'SDate':'2000-01-01',\n",
    "                                          'EDate':'2019-06-30'})\n",
    "\n",
    "healthy_df.to_csv('data_healthy_CIK/healthy_chunk09_fields1.csv')\n"
   ]
  },
  {
   "cell_type": "code",
   "execution_count": null,
   "metadata": {},
   "outputs": [],
   "source": [
    "# chunk 9 out of 15 - fields 2 out of 4\n",
    "healthy_df, err = ek.get_data(healthy_CIK_list[8], fields=field2,\n",
    "                              parameters={'Frq':'Q',\n",
    "                                          'SDate':'2000-01-01',\n",
    "                                          'EDate':'2019-06-30'})\n",
    "\n",
    "healthy_df.to_csv('data_healthy_CIK/healthy_chunk09_fields2.csv')\n"
   ]
  },
  {
   "cell_type": "code",
   "execution_count": null,
   "metadata": {},
   "outputs": [],
   "source": [
    "# chunk 9 out of 15 - fields 3 out of 4\n",
    "healthy_df, err = ek.get_data(healthy_CIK_list[8], fields=field3,\n",
    "                              parameters={'Frq':'Q',\n",
    "                                          'SDate':'2000-01-01',\n",
    "                                          'EDate':'2019-06-30'})\n",
    "\n",
    "healthy_df.to_csv('data_healthy_CIK/healthy_chunk09_fields3.csv')\n"
   ]
  },
  {
   "cell_type": "code",
   "execution_count": null,
   "metadata": {},
   "outputs": [],
   "source": [
    "# chunk 9 out of 15 - fields 4 out of 4\n",
    "healthy_df, err = ek.get_data(healthy_CIK_list[8], fields=field4,\n",
    "                              parameters={'Frq':'Q',\n",
    "                                          'SDate':'2000-01-01',\n",
    "                                          'EDate':'2019-06-30'})\n",
    "\n",
    "healthy_df.to_csv('data_healthy_CIK/healthy_chunk09_fields4.csv')\n"
   ]
  },
  {
   "cell_type": "markdown",
   "metadata": {},
   "source": [
    "****"
   ]
  },
  {
   "cell_type": "code",
   "execution_count": null,
   "metadata": {},
   "outputs": [],
   "source": [
    "# chunk 10 out of 15 - fields 1 out of 4\n",
    "healthy_df, err = ek.get_data(healthy_CIK_list[9], fields=field1,\n",
    "                              parameters={'Frq':'Q',\n",
    "                                          'SDate':'2000-01-01',\n",
    "                                          'EDate':'2019-06-30'})\n",
    "\n",
    "healthy_df.to_csv('data_healthy_CIK/healthy_chunk10_fields1.csv')\n"
   ]
  },
  {
   "cell_type": "code",
   "execution_count": null,
   "metadata": {},
   "outputs": [],
   "source": [
    "# chunk 10 out of 15 - fields 2 out of 4\n",
    "healthy_df, err = ek.get_data(healthy_CIK_list[9], fields=field2,\n",
    "                              parameters={'Frq':'Q',\n",
    "                                          'SDate':'2000-01-01',\n",
    "                                          'EDate':'2019-06-30'})\n",
    "\n",
    "healthy_df.to_csv('data_healthy_CIK/healthy_chunk10_fields2.csv')\n"
   ]
  },
  {
   "cell_type": "code",
   "execution_count": null,
   "metadata": {},
   "outputs": [],
   "source": [
    "# chunk 10 out of 15 - fields 3 out of 4\n",
    "healthy_df, err = ek.get_data(healthy_CIK_list[9], fields=field3,\n",
    "                              parameters={'Frq':'Q',\n",
    "                                          'SDate':'2000-01-01',\n",
    "                                          'EDate':'2019-06-30'})\n",
    "\n",
    "healthy_df.to_csv('data_healthy_CIK/healthy_chunk10_fields3.csv')\n"
   ]
  },
  {
   "cell_type": "code",
   "execution_count": null,
   "metadata": {},
   "outputs": [],
   "source": [
    "# chunk 10 out of 15 - fields 4 out of 4\n",
    "healthy_df, err = ek.get_data(healthy_CIK_list[9], fields=field4,\n",
    "                              parameters={'Frq':'Q',\n",
    "                                          'SDate':'2000-01-01',\n",
    "                                          'EDate':'2019-06-30'})\n",
    "\n",
    "healthy_df.to_csv('data_healthy_CIK/healthy_chunk10_fields4.csv')\n"
   ]
  },
  {
   "cell_type": "markdown",
   "metadata": {},
   "source": [
    "****"
   ]
  },
  {
   "cell_type": "code",
   "execution_count": null,
   "metadata": {},
   "outputs": [],
   "source": [
    "# chunk 11 out of 15 - fields 1 out of 4\n",
    "healthy_df, err = ek.get_data(healthy_CIK_list[10], fields=field1,\n",
    "                              parameters={'Frq':'Q',\n",
    "                                          'SDate':'2000-01-01',\n",
    "                                          'EDate':'2019-06-30'})\n",
    "\n",
    "healthy_df.to_csv('data_healthy_CIK/healthy_chunk11_fields1.csv')\n"
   ]
  },
  {
   "cell_type": "code",
   "execution_count": null,
   "metadata": {},
   "outputs": [],
   "source": [
    "# chunk 11 out of 15 - fields 2 out of 4\n",
    "healthy_df, err = ek.get_data(healthy_CIK_list[10], fields=field2,\n",
    "                              parameters={'Frq':'Q',\n",
    "                                          'SDate':'2000-01-01',\n",
    "                                          'EDate':'2019-06-30'})\n",
    "\n",
    "healthy_df.to_csv('data_healthy_CIK/healthy_chunk11_fields2.csv')\n"
   ]
  },
  {
   "cell_type": "code",
   "execution_count": null,
   "metadata": {},
   "outputs": [],
   "source": [
    "# chunk 11 out of 15 - fields 3 out of 4\n",
    "healthy_df, err = ek.get_data(healthy_CIK_list[10], fields=field3,\n",
    "                              parameters={'Frq':'Q',\n",
    "                                          'SDate':'2000-01-01',\n",
    "                                          'EDate':'2019-06-30'})\n",
    "\n",
    "healthy_df.to_csv('data_healthy_CIK/healthy_chunk11_fields3.csv')\n"
   ]
  },
  {
   "cell_type": "code",
   "execution_count": null,
   "metadata": {},
   "outputs": [],
   "source": [
    "# chunk 11 out of 15 - fields 4 out of 4\n",
    "healthy_df, err = ek.get_data(healthy_CIK_list[10], fields=field4,\n",
    "                              parameters={'Frq':'Q',\n",
    "                                          'SDate':'2000-01-01',\n",
    "                                          'EDate':'2019-06-30'})\n",
    "\n",
    "healthy_df.to_csv('data_healthy_CIK/healthy_chunk11_fields4.csv')\n"
   ]
  },
  {
   "cell_type": "markdown",
   "metadata": {},
   "source": [
    "****"
   ]
  },
  {
   "cell_type": "code",
   "execution_count": null,
   "metadata": {},
   "outputs": [],
   "source": [
    "# chunk 12 out of 15 - fields 1 out of 4\n",
    "healthy_df, err = ek.get_data(healthy_CIK_list[11], fields=field1,\n",
    "                              parameters={'Frq':'Q',\n",
    "                                          'SDate':'2000-01-01',\n",
    "                                          'EDate':'2019-06-30'})\n",
    "\n",
    "healthy_df.to_csv('data_healthy_CIK/healthy_chunk12_fields1.csv')\n"
   ]
  },
  {
   "cell_type": "code",
   "execution_count": null,
   "metadata": {},
   "outputs": [],
   "source": [
    "# chunk 12 out of 15 - fields 2 out of 4\n",
    "healthy_df, err = ek.get_data(healthy_CIK_list[11], fields=field2,\n",
    "                              parameters={'Frq':'Q',\n",
    "                                          'SDate':'2000-01-01',\n",
    "                                          'EDate':'2019-06-30'})\n",
    "\n",
    "healthy_df.to_csv('data_healthy_CIK/healthy_chunk12_fields2.csv')\n"
   ]
  },
  {
   "cell_type": "code",
   "execution_count": null,
   "metadata": {},
   "outputs": [],
   "source": [
    "# chunk 12 out of 15 - fields 3 out of 4\n",
    "healthy_df, err = ek.get_data(healthy_CIK_list[11], fields=field3,\n",
    "                              parameters={'Frq':'Q',\n",
    "                                          'SDate':'2000-01-01',\n",
    "                                          'EDate':'2019-06-30'})\n",
    "\n",
    "healthy_df.to_csv('data_healthy_CIK/healthy_chunk12_fields3.csv')\n"
   ]
  },
  {
   "cell_type": "code",
   "execution_count": null,
   "metadata": {},
   "outputs": [],
   "source": [
    "# chunk 12 out of 15 - fields 4 out of 4\n",
    "healthy_df, err = ek.get_data(healthy_CIK_list[11], fields=field4,\n",
    "                              parameters={'Frq':'Q',\n",
    "                                          'SDate':'2000-01-01',\n",
    "                                          'EDate':'2019-06-30'})\n",
    "\n",
    "healthy_df.to_csv('data_healthy_CIK/healthy_chunk12_fields4.csv')\n"
   ]
  },
  {
   "cell_type": "markdown",
   "metadata": {},
   "source": [
    "****"
   ]
  },
  {
   "cell_type": "code",
   "execution_count": null,
   "metadata": {},
   "outputs": [],
   "source": [
    "# chunk 13 out of 15 - fields 1 out of 4\n",
    "healthy_df, err = ek.get_data(healthy_CIK_list[12], fields=field1,\n",
    "                              parameters={'Frq':'Q',\n",
    "                                          'SDate':'2000-01-01',\n",
    "                                          'EDate':'2019-06-30'})\n",
    "\n",
    "healthy_df.to_csv('data_healthy_CIK/healthy_chunk13_fields1.csv')\n"
   ]
  },
  {
   "cell_type": "code",
   "execution_count": null,
   "metadata": {},
   "outputs": [],
   "source": [
    "# chunk 13 out of 15 - fields 2 out of 4\n",
    "healthy_df, err = ek.get_data(healthy_CIK_list[12], fields=field2,\n",
    "                              parameters={'Frq':'Q',\n",
    "                                          'SDate':'2000-01-01',\n",
    "                                          'EDate':'2019-06-30'})\n",
    "\n",
    "healthy_df.to_csv('data_healthy_CIK/healthy_chunk13_fields2.csv')\n"
   ]
  },
  {
   "cell_type": "code",
   "execution_count": null,
   "metadata": {},
   "outputs": [],
   "source": [
    "# chunk 13 out of 15 - fields 3 out of 4\n",
    "healthy_df, err = ek.get_data(healthy_CIK_list[12], fields=field3,\n",
    "                              parameters={'Frq':'Q',\n",
    "                                          'SDate':'2000-01-01',\n",
    "                                          'EDate':'2019-06-30'})\n",
    "\n",
    "healthy_df.to_csv('data_healthy_CIK/healthy_chunk13_fields3.csv')\n"
   ]
  },
  {
   "cell_type": "code",
   "execution_count": null,
   "metadata": {},
   "outputs": [],
   "source": [
    "# chunk 13 out of 15 - fields 4 out of 4\n",
    "healthy_df, err = ek.get_data(healthy_CIK_list[12], fields=field4,\n",
    "                              parameters={'Frq':'Q',\n",
    "                                          'SDate':'2000-01-01',\n",
    "                                          'EDate':'2019-06-30'})\n",
    "\n",
    "healthy_df.to_csv('data_healthy_CIK/healthy_chunk13_fields4.csv')\n"
   ]
  },
  {
   "cell_type": "markdown",
   "metadata": {},
   "source": [
    "****"
   ]
  },
  {
   "cell_type": "code",
   "execution_count": null,
   "metadata": {},
   "outputs": [],
   "source": [
    "# chunk 14 out of 15 - fields 1 out of 4\n",
    "healthy_df, err = ek.get_data(healthy_CIK_list[13], fields=field1,\n",
    "                              parameters={'Frq':'Q',\n",
    "                                          'SDate':'2000-01-01',\n",
    "                                          'EDate':'2019-06-30'})\n",
    "\n",
    "healthy_df.to_csv('data_healthy_CIK/healthy_chunk14_fields1.csv')\n"
   ]
  },
  {
   "cell_type": "code",
   "execution_count": null,
   "metadata": {},
   "outputs": [],
   "source": [
    "# chunk 14 out of 15 - fields 2 out of 4\n",
    "healthy_df, err = ek.get_data(healthy_CIK_list[13], fields=field2,\n",
    "                              parameters={'Frq':'Q',\n",
    "                                          'SDate':'2000-01-01',\n",
    "                                          'EDate':'2019-06-30'})\n",
    "\n",
    "healthy_df.to_csv('data_healthy_CIK/healthy_chunk14_fields2.csv')\n"
   ]
  },
  {
   "cell_type": "code",
   "execution_count": null,
   "metadata": {},
   "outputs": [],
   "source": [
    "# chunk 14 out of 15 - fields 3 out of 4\n",
    "healthy_df, err = ek.get_data(healthy_CIK_list[13], fields=field3,\n",
    "                              parameters={'Frq':'Q',\n",
    "                                          'SDate':'2000-01-01',\n",
    "                                          'EDate':'2019-06-30'})\n",
    "\n",
    "healthy_df.to_csv('data_healthy_CIK/healthy_chunk14_fields3.csv')\n"
   ]
  },
  {
   "cell_type": "code",
   "execution_count": null,
   "metadata": {},
   "outputs": [],
   "source": [
    "# chunk 14 out of 15 - fields 4 out of 4\n",
    "healthy_df, err = ek.get_data(healthy_CIK_list[13], fields=field4,\n",
    "                              parameters={'Frq':'Q',\n",
    "                                          'SDate':'2000-01-01',\n",
    "                                          'EDate':'2019-06-30'})\n",
    "\n",
    "healthy_df.to_csv('data_healthy_CIK/healthy_chunk14_fields4.csv')\n"
   ]
  },
  {
   "cell_type": "markdown",
   "metadata": {},
   "source": [
    "****"
   ]
  },
  {
   "cell_type": "code",
   "execution_count": null,
   "metadata": {},
   "outputs": [],
   "source": [
    "# chunk 15 out of 15 - fields 1 out of 4\n",
    "healthy_df, err = ek.get_data(healthy_CIK_list[14], fields=field1,\n",
    "                              parameters={'Frq':'Q',\n",
    "                                          'SDate':'2000-01-01',\n",
    "                                          'EDate':'2019-06-30'})\n",
    "\n",
    "healthy_df.to_csv('data_healthy_CIK/healthy_chunk15_fields1.csv')\n"
   ]
  },
  {
   "cell_type": "code",
   "execution_count": null,
   "metadata": {},
   "outputs": [],
   "source": [
    "# chunk 15 out of 15 - fields 2 out of 4\n",
    "healthy_df, err = ek.get_data(healthy_CIK_list[14], fields=field2,\n",
    "                              parameters={'Frq':'Q',\n",
    "                                          'SDate':'2000-01-01',\n",
    "                                          'EDate':'2019-06-30'})\n",
    "\n",
    "healthy_df.to_csv('data_healthy_CIK/healthy_chunk15_fields2.csv')\n"
   ]
  },
  {
   "cell_type": "code",
   "execution_count": null,
   "metadata": {},
   "outputs": [],
   "source": [
    "# chunk 15 out of 15 - fields 3 out of 4\n",
    "healthy_df, err = ek.get_data(healthy_CIK_list[14], fields=field3,\n",
    "                              parameters={'Frq':'Q',\n",
    "                                          'SDate':'2000-01-01',\n",
    "                                          'EDate':'2019-06-30'})\n",
    "\n",
    "healthy_df.to_csv('data_healthy_CIK/healthy_chunk15_fields3.csv')\n"
   ]
  },
  {
   "cell_type": "code",
   "execution_count": null,
   "metadata": {},
   "outputs": [],
   "source": [
    "# chunk 15 out of 15 - fields 4 out of 4\n",
    "healthy_df, err = ek.get_data(healthy_CIK_list[14], fields=field4,\n",
    "                              parameters={'Frq':'Q',\n",
    "                                          'SDate':'2000-01-01',\n",
    "                                          'EDate':'2019-06-30'})\n",
    "\n",
    "healthy_df.to_csv('data_healthy_CIK/healthy_chunk15_fields4.csv')\n"
   ]
  },
  {
   "cell_type": "markdown",
   "metadata": {},
   "source": [
    "****"
   ]
  },
  {
   "cell_type": "markdown",
   "metadata": {},
   "source": [
    "## Load CSV Into 1 Dataframe"
   ]
  },
  {
   "cell_type": "code",
   "execution_count": null,
   "metadata": {},
   "outputs": [],
   "source": [
    "# concatenate the 15 dataframes in the list\n",
    "healthy_data = pd.concat([df for df in healthy_data_list])\n",
    "    \n",
    "# and save the merged dataframe as a csv file\n",
    "healthy_data.to_csv('data_healthy_CIK/healthy_data.csv')\n"
   ]
  },
  {
   "cell_type": "code",
   "execution_count": null,
   "metadata": {},
   "outputs": [],
   "source": [
    "# test the resulting dataframe for bankrupt company\n",
    "print(len(bankrupt_data))\n",
    "bankrupt_data.head()\n"
   ]
  },
  {
   "cell_type": "code",
   "execution_count": null,
   "metadata": {},
   "outputs": [],
   "source": [
    "bankrupt_data"
   ]
  },
  {
   "cell_type": "code",
   "execution_count": null,
   "metadata": {},
   "outputs": [],
   "source": [
    "# test the resulting dataframe for healthy company\n",
    "print(len(healthy_data))\n",
    "healthy_data.head()\n"
   ]
  },
  {
   "cell_type": "code",
   "execution_count": null,
   "metadata": {},
   "outputs": [],
   "source": [
    "healthy_data"
   ]
  },
  {
   "cell_type": "markdown",
   "metadata": {},
   "source": [
    "****"
   ]
  },
  {
   "cell_type": "code",
   "execution_count": null,
   "metadata": {},
   "outputs": [],
   "source": [
    "# use screen to find more bankrupt companies using eikon data item\n",
    "# something = ek.get_data('SCREEN(IN(TR.PZPHasFiledForBankruptcy, Y))', ['TR.CommonName', 'TR.RIC])\n",
    "\n"
   ]
  }
 ],
 "metadata": {
  "kernelspec": {
   "display_name": "Python 3",
   "language": "python",
   "name": "python3"
  },
  "language_info": {
   "codemirror_mode": {
    "name": "ipython",
    "version": 3
   },
   "file_extension": ".py",
   "mimetype": "text/x-python",
   "name": "python",
   "nbconvert_exporter": "python",
   "pygments_lexer": "ipython3",
   "version": "3.6.3"
  }
 },
 "nbformat": 4,
 "nbformat_minor": 2
}
