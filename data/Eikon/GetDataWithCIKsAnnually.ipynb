{
 "cells": [
  {
   "cell_type": "code",
   "execution_count": 1,
   "metadata": {},
   "outputs": [],
   "source": [
    "import os\n",
    "import eikon as ek\n",
    "import numpy as np\n",
    "import pickle\n",
    "import pandas as pd\n",
    "import cufflinks as cf\n",
    "import configparser as cp"
   ]
  },
  {
   "cell_type": "code",
   "execution_count": 2,
   "metadata": {},
   "outputs": [
    {
     "data": {
      "text/plain": [
       "['eikon.cfg']"
      ]
     },
     "execution_count": 2,
     "metadata": {},
     "output_type": "execute_result"
    }
   ],
   "source": [
    "cfg = cp.ConfigParser()\n",
    "cfg.read('eikon.cfg')  # adjust for different file location"
   ]
  },
  {
   "cell_type": "code",
   "execution_count": 3,
   "metadata": {},
   "outputs": [],
   "source": [
    "ek.set_app_key(cfg['eikon']['app_id']) #set_app_id function being deprecated"
   ]
  },
  {
   "cell_type": "markdown",
   "metadata": {},
   "source": [
    "## Get a List of CIKs"
   ]
  },
  {
   "cell_type": "markdown",
   "metadata": {},
   "source": [
    "### From Compustat\n",
    "#### For Both Bankrupt and Healthy Companies"
   ]
  },
  {
   "cell_type": "code",
   "execution_count": 4,
   "metadata": {},
   "outputs": [
    {
     "data": {
      "text/html": [
       "<div>\n",
       "<style scoped>\n",
       "    .dataframe tbody tr th:only-of-type {\n",
       "        vertical-align: middle;\n",
       "    }\n",
       "\n",
       "    .dataframe tbody tr th {\n",
       "        vertical-align: top;\n",
       "    }\n",
       "\n",
       "    .dataframe thead th {\n",
       "        text-align: right;\n",
       "    }\n",
       "</style>\n",
       "<table border=\"1\" class=\"dataframe\">\n",
       "  <thead>\n",
       "    <tr style=\"text-align: right;\">\n",
       "      <th></th>\n",
       "      <th>Identifier</th>\n",
       "      <th>Company</th>\n",
       "      <th>Data Deletion Date</th>\n",
       "      <th>Deletion Reason</th>\n",
       "      <th>Ticker</th>\n",
       "      <th>CUSIP</th>\n",
       "      <th>CIK</th>\n",
       "    </tr>\n",
       "  </thead>\n",
       "  <tbody>\n",
       "    <tr>\n",
       "      <th>0</th>\n",
       "      <td>001367</td>\n",
       "      <td>Amber Resources Company of C</td>\n",
       "      <td>08/31/2012</td>\n",
       "      <td>2.0</td>\n",
       "      <td>3AMBE</td>\n",
       "      <td>023184203</td>\n",
       "      <td>0000276750</td>\n",
       "    </tr>\n",
       "    <tr>\n",
       "      <th>1</th>\n",
       "      <td>002033</td>\n",
       "      <td>Fairchild Corp. (The)</td>\n",
       "      <td>11/01/2011</td>\n",
       "      <td>2.0</td>\n",
       "      <td>FCHDQ</td>\n",
       "      <td>303698104</td>\n",
       "      <td>0000009779</td>\n",
       "    </tr>\n",
       "    <tr>\n",
       "      <th>2</th>\n",
       "      <td>004049</td>\n",
       "      <td>Constar International Inc</td>\n",
       "      <td>06/01/2011</td>\n",
       "      <td>2.0</td>\n",
       "      <td>CNSTQ</td>\n",
       "      <td>21036U206</td>\n",
       "      <td>0000029806</td>\n",
       "    </tr>\n",
       "    <tr>\n",
       "      <th>3</th>\n",
       "      <td>004352</td>\n",
       "      <td>Energy Conversion Devices In</td>\n",
       "      <td>09/04/2012</td>\n",
       "      <td>2.0</td>\n",
       "      <td>ENERQ</td>\n",
       "      <td>292659109</td>\n",
       "      <td>0000032878</td>\n",
       "    </tr>\n",
       "    <tr>\n",
       "      <th>4</th>\n",
       "      <td>004768</td>\n",
       "      <td>Fleetwood Enterprises Inc.</td>\n",
       "      <td>08/23/2010</td>\n",
       "      <td>2.0</td>\n",
       "      <td>FLTWQ</td>\n",
       "      <td>339099103</td>\n",
       "      <td>0000314132</td>\n",
       "    </tr>\n",
       "  </tbody>\n",
       "</table>\n",
       "</div>"
      ],
      "text/plain": [
       "  Identifier                       Company Data Deletion Date Deletion Reason  \\\n",
       "0     001367  Amber Resources Company of C         08/31/2012             2.0   \n",
       "1     002033         Fairchild Corp. (The)         11/01/2011             2.0   \n",
       "2     004049     Constar International Inc         06/01/2011             2.0   \n",
       "3     004352  Energy Conversion Devices In         09/04/2012             2.0   \n",
       "4     004768    Fleetwood Enterprises Inc.         08/23/2010             2.0   \n",
       "\n",
       "  Ticker      CUSIP         CIK  \n",
       "0  3AMBE  023184203  0000276750  \n",
       "1  FCHDQ  303698104  0000009779  \n",
       "2  CNSTQ  21036U206  0000029806  \n",
       "3  ENERQ  292659109  0000032878  \n",
       "4  FLTWQ  339099103  0000314132  "
      ]
     },
     "execution_count": 4,
     "metadata": {},
     "output_type": "execute_result"
    }
   ],
   "source": [
    "# set the path to csv files\n",
    "# path = 'D:\\\\studyproject\\\\bankruptcy\\\\data\\\\Compustat\\\\' # for win\n",
    "path = '/Users/user/Documents/Bankruptcy/bankruptcy/data/Compustat/' # for mac\n",
    "\n",
    "# read the csv files\n",
    "bankrupt_compustat = pd.read_csv(path + 'list_bankrupt.csv', dtype=object, index_col=0)\n",
    "healthy = pd.read_csv(path + 'list_healthy.csv', dtype=object, index_col=0)\n",
    "\n",
    "bankrupt_compustat.head()"
   ]
  },
  {
   "cell_type": "code",
   "execution_count": 5,
   "metadata": {},
   "outputs": [
    {
     "data": {
      "text/html": [
       "<div>\n",
       "<style scoped>\n",
       "    .dataframe tbody tr th:only-of-type {\n",
       "        vertical-align: middle;\n",
       "    }\n",
       "\n",
       "    .dataframe tbody tr th {\n",
       "        vertical-align: top;\n",
       "    }\n",
       "\n",
       "    .dataframe thead th {\n",
       "        text-align: right;\n",
       "    }\n",
       "</style>\n",
       "<table border=\"1\" class=\"dataframe\">\n",
       "  <thead>\n",
       "    <tr style=\"text-align: right;\">\n",
       "      <th></th>\n",
       "      <th>Identifier</th>\n",
       "      <th>Company</th>\n",
       "      <th>Data Deletion Date</th>\n",
       "      <th>Deletion Reason</th>\n",
       "      <th>Ticker</th>\n",
       "      <th>CUSIP</th>\n",
       "      <th>CIK</th>\n",
       "    </tr>\n",
       "  </thead>\n",
       "  <tbody>\n",
       "    <tr>\n",
       "      <th>0</th>\n",
       "      <td>001004</td>\n",
       "      <td>AAR Corp</td>\n",
       "      <td>.</td>\n",
       "      <td>NaN</td>\n",
       "      <td>AIR</td>\n",
       "      <td>000361105</td>\n",
       "      <td>0000001750</td>\n",
       "    </tr>\n",
       "    <tr>\n",
       "      <th>1</th>\n",
       "      <td>001013</td>\n",
       "      <td>ADC Telecommunications Inc.</td>\n",
       "      <td>12/10/2010</td>\n",
       "      <td>1.0</td>\n",
       "      <td>ADCT</td>\n",
       "      <td>000886309</td>\n",
       "      <td>0000061478</td>\n",
       "    </tr>\n",
       "    <tr>\n",
       "      <th>2</th>\n",
       "      <td>001021</td>\n",
       "      <td>AFP Imaging Corp</td>\n",
       "      <td>09/15/2014</td>\n",
       "      <td>7.0</td>\n",
       "      <td>IWKS</td>\n",
       "      <td>001058205</td>\n",
       "      <td>0000319126</td>\n",
       "    </tr>\n",
       "    <tr>\n",
       "      <th>3</th>\n",
       "      <td>001034</td>\n",
       "      <td>Alpharma Inc.</td>\n",
       "      <td>12/31/2008</td>\n",
       "      <td>1.0</td>\n",
       "      <td>ALO.2</td>\n",
       "      <td>020813101</td>\n",
       "      <td>0000730469</td>\n",
       "    </tr>\n",
       "    <tr>\n",
       "      <th>4</th>\n",
       "      <td>001045</td>\n",
       "      <td>American Airlines Group Inc</td>\n",
       "      <td>.</td>\n",
       "      <td>NaN</td>\n",
       "      <td>AAL</td>\n",
       "      <td>02376R102</td>\n",
       "      <td>0000006201</td>\n",
       "    </tr>\n",
       "  </tbody>\n",
       "</table>\n",
       "</div>"
      ],
      "text/plain": [
       "  Identifier                      Company Data Deletion Date Deletion Reason  \\\n",
       "0     001004                     AAR Corp                  .             NaN   \n",
       "1     001013  ADC Telecommunications Inc.         12/10/2010             1.0   \n",
       "2     001021             AFP Imaging Corp         09/15/2014             7.0   \n",
       "3     001034                Alpharma Inc.         12/31/2008             1.0   \n",
       "4     001045  American Airlines Group Inc                  .             NaN   \n",
       "\n",
       "  Ticker      CUSIP         CIK  \n",
       "0    AIR  000361105  0000001750  \n",
       "1   ADCT  000886309  0000061478  \n",
       "2   IWKS  001058205  0000319126  \n",
       "3  ALO.2  020813101  0000730469  \n",
       "4    AAL  02376R102  0000006201  "
      ]
     },
     "execution_count": 5,
     "metadata": {},
     "output_type": "execute_result"
    }
   ],
   "source": [
    "healthy.head()"
   ]
  },
  {
   "cell_type": "code",
   "execution_count": 6,
   "metadata": {},
   "outputs": [
    {
     "name": "stdout",
     "output_type": "stream",
     "text": [
      "100 CIKs available for Compustat bankrupt companies, and\n",
      "14761 CIKs available for healthy companies.\n"
     ]
    }
   ],
   "source": [
    "bankrupt_compustat_CIK = bankrupt_compustat.CIK.dropna().to_list()\n",
    "healthy_CIK = healthy.CIK.dropna().to_list()\n",
    "\n",
    "print(len(bankrupt_compustat_CIK), 'CIKs available for Compustat bankrupt companies, and')\n",
    "print(len(healthy_CIK), 'CIKs available for healthy companies.')\n"
   ]
  },
  {
   "cell_type": "markdown",
   "metadata": {},
   "source": [
    "### From Edgar\n",
    "#### For Bankrupt Companies"
   ]
  },
  {
   "cell_type": "code",
   "execution_count": 7,
   "metadata": {},
   "outputs": [
    {
     "data": {
      "text/html": [
       "<div>\n",
       "<style scoped>\n",
       "    .dataframe tbody tr th:only-of-type {\n",
       "        vertical-align: middle;\n",
       "    }\n",
       "\n",
       "    .dataframe tbody tr th {\n",
       "        vertical-align: top;\n",
       "    }\n",
       "\n",
       "    .dataframe thead th {\n",
       "        text-align: right;\n",
       "    }\n",
       "</style>\n",
       "<table border=\"1\" class=\"dataframe\">\n",
       "  <thead>\n",
       "    <tr style=\"text-align: right;\">\n",
       "      <th></th>\n",
       "      <th>CIK</th>\n",
       "      <th>Company name</th>\n",
       "      <th>Bankruptcy chapter</th>\n",
       "      <th>Form type</th>\n",
       "      <th>Date</th>\n",
       "      <th>URL</th>\n",
       "    </tr>\n",
       "  </thead>\n",
       "  <tbody>\n",
       "    <tr>\n",
       "      <th>0</th>\n",
       "      <td>0000002034</td>\n",
       "      <td>ACETO CORP</td>\n",
       "      <td>11</td>\n",
       "      <td>8-K</td>\n",
       "      <td>09/20/2019</td>\n",
       "      <td>https://www.sec.gov/Archives/edgar/data/2034/0...</td>\n",
       "    </tr>\n",
       "    <tr>\n",
       "      <th>1</th>\n",
       "      <td>0000002178</td>\n",
       "      <td>ADAMS RESOURCES &amp; ENERGY, INC.</td>\n",
       "      <td>11</td>\n",
       "      <td>8-K</td>\n",
       "      <td>04/24/2017</td>\n",
       "      <td>https://www.sec.gov/Archives/edgar/data/2178/0...</td>\n",
       "    </tr>\n",
       "    <tr>\n",
       "      <th>2</th>\n",
       "      <td>0000004515</td>\n",
       "      <td>AMERICAN AIRLINES INC</td>\n",
       "      <td>11</td>\n",
       "      <td>8-K</td>\n",
       "      <td>11/29/2011</td>\n",
       "      <td>https://www.sec.gov/Archives/edgar/data/4515/0...</td>\n",
       "    </tr>\n",
       "    <tr>\n",
       "      <th>3</th>\n",
       "      <td>0000004707</td>\n",
       "      <td>AMERICA CAPITAL CORP</td>\n",
       "      <td>11</td>\n",
       "      <td>8-K</td>\n",
       "      <td>02/09/2009</td>\n",
       "      <td>https://www.sec.gov/Archives/edgar/data/4707/0...</td>\n",
       "    </tr>\n",
       "    <tr>\n",
       "      <th>4</th>\n",
       "      <td>0000006201</td>\n",
       "      <td>AMR CORP</td>\n",
       "      <td>11</td>\n",
       "      <td>8-K</td>\n",
       "      <td>10/23/2013</td>\n",
       "      <td>https://www.sec.gov/Archives/edgar/data/6201/0...</td>\n",
       "    </tr>\n",
       "  </tbody>\n",
       "</table>\n",
       "</div>"
      ],
      "text/plain": [
       "          CIK                    Company name Bankruptcy chapter Form type  \\\n",
       "0  0000002034                      ACETO CORP                 11       8-K   \n",
       "1  0000002178  ADAMS RESOURCES & ENERGY, INC.                 11       8-K   \n",
       "2  0000004515           AMERICAN AIRLINES INC                 11       8-K   \n",
       "3  0000004707            AMERICA CAPITAL CORP                 11       8-K   \n",
       "4  0000006201                        AMR CORP                 11       8-K   \n",
       "\n",
       "         Date                                                URL  \n",
       "0  09/20/2019  https://www.sec.gov/Archives/edgar/data/2034/0...  \n",
       "1  04/24/2017  https://www.sec.gov/Archives/edgar/data/2178/0...  \n",
       "2  11/29/2011  https://www.sec.gov/Archives/edgar/data/4515/0...  \n",
       "3  02/09/2009  https://www.sec.gov/Archives/edgar/data/4707/0...  \n",
       "4  10/23/2013  https://www.sec.gov/Archives/edgar/data/6201/0...  "
      ]
     },
     "execution_count": 7,
     "metadata": {},
     "output_type": "execute_result"
    }
   ],
   "source": [
    "# set the path to csv file\n",
    "# path = 'D:\\\\studyproject\\\\bankruptcy\\\\data\\\\Edgar\\\\' # for win\n",
    "path = '/Users/user/Documents/Bankruptcy/bankruptcy/data/Edgar/' # for mac\n",
    "\n",
    "# read the csv files\n",
    "bankrupt_edgar = pd.read_csv(path + 'edgar_bankrupt_companies.csv', dtype=object)\n",
    "\n",
    "bankrupt_edgar.head()"
   ]
  },
  {
   "cell_type": "code",
   "execution_count": 8,
   "metadata": {},
   "outputs": [
    {
     "name": "stdout",
     "output_type": "stream",
     "text": [
      "1075 CIKs available for Edgar bankrupt companies.\n"
     ]
    }
   ],
   "source": [
    "bankrupt_edgar_CIK = bankrupt_edgar.CIK.dropna().to_list()\n",
    "\n",
    "print(len(bankrupt_edgar_CIK), 'CIKs available for Edgar bankrupt companies.')"
   ]
  },
  {
   "cell_type": "markdown",
   "metadata": {},
   "source": [
    "## Merging Bankrupt Lists"
   ]
  },
  {
   "cell_type": "code",
   "execution_count": 9,
   "metadata": {},
   "outputs": [
    {
     "data": {
      "text/plain": [
       "1103"
      ]
     },
     "execution_count": 9,
     "metadata": {},
     "output_type": "execute_result"
    }
   ],
   "source": [
    "# add two lists and remove the duplicates\n",
    "bankrupt_CIK = list(set(bankrupt_compustat_CIK + bankrupt_edgar_CIK))\n",
    "\n",
    "len(bankrupt_CIK)"
   ]
  },
  {
   "cell_type": "markdown",
   "metadata": {},
   "source": [
    "****"
   ]
  },
  {
   "cell_type": "markdown",
   "metadata": {},
   "source": [
    "## Download the Data"
   ]
  },
  {
   "cell_type": "code",
   "execution_count": 10,
   "metadata": {},
   "outputs": [],
   "source": [
    "# create folders for saving data\n",
    "if not os.path.exists('data_bankrupt_CIK'):\n",
    "    os.makedirs('data_bankrupt_CIK')\n",
    "    \n",
    "if not os.path.exists('data_healthy_CIK'):\n",
    "    os.makedirs('data_healthy_CIK')"
   ]
  },
  {
   "cell_type": "code",
   "execution_count": 11,
   "metadata": {},
   "outputs": [
    {
     "name": "stdout",
     "output_type": "stream",
     "text": [
      "3\n"
     ]
    },
    {
     "data": {
      "text/plain": [
       "30"
      ]
     },
     "execution_count": 11,
     "metadata": {},
     "output_type": "execute_result"
    }
   ],
   "source": [
    "# Eikon does not work with large lists, so we\n",
    "# need to break the healthy_CIK list\n",
    "# and also bankrupt_CIK\n",
    "\n",
    "bankrupt_CIK_list = [bankrupt_CIK[i:i + 500] for i in range(0, len(bankrupt_CIK), 500)]\n",
    "healthy_CIK_list = [healthy_CIK[i:i + 500] for i in range(0, len(healthy_CIK), 500)]\n",
    "\n",
    "print(len(bankrupt_CIK_list))\n",
    "len(healthy_CIK_list)\n"
   ]
  },
  {
   "cell_type": "markdown",
   "metadata": {},
   "source": [
    "### Financial Factors\n"
   ]
  },
  {
   "cell_type": "code",
   "execution_count": 12,
   "metadata": {},
   "outputs": [
    {
     "name": "stdout",
     "output_type": "stream",
     "text": [
      "65\n",
      "37\n"
     ]
    }
   ],
   "source": [
    "# add all financial factors we need to replicate *the paper*\n",
    "\n",
    "fields = ['TR.CommonName',\n",
    "          'TR.CIKNUMBER',\n",
    "          'TR.TotalCurrentAssets', # Current Assets\n",
    "          'TR.TotalCurrLiabilities', # Current Liabilities\n",
    "          'TR.AccountsPayableCFStmt', # Accounts Payable\n",
    "          'TR.CashAndSTInvestments',\n",
    "          'TR.TotalAssetsReported',\n",
    "          'TR.CashAndSTInvestments',\n",
    "          'TR.MarketCapDS',\n",
    "          'TR.TotalCurrLiabilities',\n",
    "          'TR.TotalAssetsReported',\n",
    "          'TR.TotalCurrLiabilities',\n",
    "          'TR.PCEBIT',\n",
    "          'TR.DepreciationAmort',\n",
    "          'TR.TotalAssetsReported',\n",
    "          'TR.BGS.BusEarningsBeforeInterestandTaxesEbit',\n",
    "          'TR.BGS.GeoEarningsBeforeInterestandTaxesEbit',\n",
    "          'TR.TotalAssetsReported',\n",
    "          'TR.BGS.BusEarningsBeforeInterestandTaxesEbit',\n",
    "          'TR.BGS.GeoEarningsBeforeInterestandTaxesEbit',\n",
    "          'TR.TotalDebtOutstanding',\n",
    "          'TR.NetDebt',\n",
    "          'TR.TotalAssetsReported',\n",
    "          'TR.PCTotInvt5YrCompAnnGrowthRate',\n",
    "          'TR.Inventories',\n",
    "          'TR.NetSales',\n",
    "          'TR.TotalCurrLiabilities',\n",
    "          'TR.TotalAssetsReported',\n",
    "          'TR.TotalCurrLiabilities',\n",
    "          'TR.TotalAssetsReported',\n",
    "          'TR.TotalCurrLiabilities',\n",
    "          'TR.TotalLiabilities',\n",
    "          'TR.TotalCurrLiabilities',\n",
    "          'TR.NetSales',\n",
    "          'TR.TotalLiabilities',\n",
    "          'TR.TotalAssetsReported',\n",
    "          'TR.TotalLiabilities',\n",
    "          'TR.TotalLiabilities',\n",
    "          'TR.TangibleBookValueRptd',\n",
    "          'TR.TangibleBookValueBnk',\n",
    "          'TR.TangibleBookValueIns',\n",
    "          'TR.TangibleBookValueUtil',\n",
    "          'TR.TangibleBVPS',\n",
    "          'TR.NetIncomeStartingLine',\n",
    "          'TR.TotalAssetsReported',\n",
    "          'TR.NetIncomeStartingLine',\n",
    "          'TR.NetIncomeStartingLine',\n",
    "          'TR.NetSales',\n",
    "          'TR.OperatingIncome',\n",
    "          'TR.TotalAssetsReported',\n",
    "          'TR.STOCKPRICE',\n",
    "          'TR.FiPrice',\n",
    "          'TR.TotalCurrLiabilities',\n",
    "          'TR.RetainedEarnings',\n",
    "          'TR.TotalAssetsReported',\n",
    "          'TR.MARKETCAPITALISATION',\n",
    "          'TR.TotalEquity',\n",
    "          'TR.TotalAssetsReported',\n",
    "          'TR.Cash',\n",
    "          'TR.FiPricingVolatility',\n",
    "          'TR.PCWrkgCapPrdOverPrdAvg(Period=FY0)',\n",
    "          'TR.PCWrkgCapPrdOverPrdPctChg(Period=FY0)',\n",
    "          'TR.InstrumentIsActive', # bankruptcy check (not reliable)\n",
    "          'TR.IsDelistedQuote',\n",
    "          'TR.NAICSIndustryGroup']  # bankruptcy check (not reliable)\n",
    "\n",
    "\n",
    "print(len(fields))\n",
    "\n",
    "# remove duplicates\n",
    "fields = list(set(fields))\n",
    "\n",
    "print(len(fields))"
   ]
  },
  {
   "cell_type": "markdown",
   "metadata": {},
   "source": [
    "# Download Data"
   ]
  },
  {
   "cell_type": "markdown",
   "metadata": {},
   "source": [
    "## Bankrupt Companies"
   ]
  },
  {
   "cell_type": "markdown",
   "metadata": {},
   "source": [
    "### 2000"
   ]
  },
  {
   "cell_type": "code",
   "execution_count": 14,
   "metadata": {},
   "outputs": [],
   "source": [
    "# first chuck of bankrupt data\n",
    "bankrupt_data, err = ek.get_data(bankrupt_CIK_list[0], fields=fields,\n",
    "                                 parameters={'Frq':'Y',\n",
    "                                             'SDate':'2000-01-01',\n",
    "                                             'EDate':'2001-01-01'})\n",
    "# and save the dataframe as a csv file\n",
    "bankrupt_data.to_csv('data_bankrupt_CIK/bankrupt_data1_2000.csv', index=False)\n"
   ]
  },
  {
   "cell_type": "code",
   "execution_count": 15,
   "metadata": {},
   "outputs": [],
   "source": [
    "# second chuck of bankrupt data\n",
    "bankrupt_data, err = ek.get_data(bankrupt_CIK_list[1], fields=fields,\n",
    "                                 parameters={'Frq':'Y',\n",
    "                                             'SDate':'2000-01-01',\n",
    "                                             'EDate':'2001-01-01'})\n",
    "# and save the dataframe as a csv file\n",
    "bankrupt_data.to_csv('data_bankrupt_CIK/bankrupt_data2_2000.csv', index=False)"
   ]
  },
  {
   "cell_type": "code",
   "execution_count": 16,
   "metadata": {},
   "outputs": [],
   "source": [
    "# third chuck of bankrupt data\n",
    "bankrupt_data, err = ek.get_data(bankrupt_CIK_list[2], fields=fields,\n",
    "                                 parameters={'Frq':'Y',\n",
    "                                             'SDate':'2000-01-01',\n",
    "                                             'EDate':'2001-01-01'})\n",
    "# and save the dataframe as a csv file\n",
    "bankrupt_data.to_csv('data_bankrupt_CIK/bankrupt_data3_2000.csv', index=False)"
   ]
  },
  {
   "cell_type": "markdown",
   "metadata": {},
   "source": [
    "### 2001"
   ]
  },
  {
   "cell_type": "code",
   "execution_count": 17,
   "metadata": {},
   "outputs": [],
   "source": [
    "# first chuck of bankrupt data\n",
    "bankrupt_data, err = ek.get_data(bankrupt_CIK_list[0], fields=fields,\n",
    "                                 parameters={'Frq':'Y',\n",
    "                                             'SDate':'2001-01-01',\n",
    "                                             'EDate':'2002-01-01'})\n",
    "# and save the dataframe as a csv file\n",
    "bankrupt_data.to_csv('data_bankrupt_CIK/bankrupt_data1_2001.csv', index=False)\n"
   ]
  },
  {
   "cell_type": "code",
   "execution_count": 18,
   "metadata": {},
   "outputs": [],
   "source": [
    "# second chuck of bankrupt data\n",
    "bankrupt_data, err = ek.get_data(bankrupt_CIK_list[1], fields=fields,\n",
    "                                 parameters={'Frq':'Y',\n",
    "                                             'SDate':'2001-01-01',\n",
    "                                             'EDate':'2002-01-01'})\n",
    "# and save the dataframe as a csv file\n",
    "bankrupt_data.to_csv('data_bankrupt_CIK/bankrupt_data2_2001.csv', index=False)"
   ]
  },
  {
   "cell_type": "code",
   "execution_count": 19,
   "metadata": {},
   "outputs": [],
   "source": [
    "# third chuck of bankrupt data\n",
    "bankrupt_data, err = ek.get_data(bankrupt_CIK_list[2], fields=fields,\n",
    "                                 parameters={'Frq':'Y',\n",
    "                                             'SDate':'2001-01-01',\n",
    "                                             'EDate':'2002-01-01'})\n",
    "# and save the dataframe as a csv file\n",
    "bankrupt_data.to_csv('data_bankrupt_CIK/bankrupt_data3_2001.csv', index=False)"
   ]
  },
  {
   "cell_type": "markdown",
   "metadata": {},
   "source": [
    "### 2002"
   ]
  },
  {
   "cell_type": "code",
   "execution_count": 20,
   "metadata": {},
   "outputs": [],
   "source": [
    "# first chuck of bankrupt data\n",
    "bankrupt_data, err = ek.get_data(bankrupt_CIK_list[0], fields=fields,\n",
    "                                 parameters={'Frq':'Y',\n",
    "                                             'SDate':'2002-01-01',\n",
    "                                             'EDate':'2003-01-01'})\n",
    "# and save the dataframe as a csv file\n",
    "bankrupt_data.to_csv('data_bankrupt_CIK/bankrupt_data1_2002.csv', index=False)\n"
   ]
  },
  {
   "cell_type": "code",
   "execution_count": 21,
   "metadata": {},
   "outputs": [],
   "source": [
    "# second chuck of bankrupt data\n",
    "bankrupt_data, err = ek.get_data(bankrupt_CIK_list[1], fields=fields,\n",
    "                                 parameters={'Frq':'Y',\n",
    "                                             'SDate':'2002-01-01',\n",
    "                                             'EDate':'2003-01-01'})\n",
    "# and save the dataframe as a csv file\n",
    "bankrupt_data.to_csv('data_bankrupt_CIK/bankrupt_data2_2002.csv', index=False)"
   ]
  },
  {
   "cell_type": "code",
   "execution_count": 22,
   "metadata": {},
   "outputs": [],
   "source": [
    "# third chuck of bankrupt data\n",
    "bankrupt_data, err = ek.get_data(bankrupt_CIK_list[2], fields=fields,\n",
    "                                 parameters={'Frq':'Y',\n",
    "                                             'SDate':'2002-01-01',\n",
    "                                             'EDate':'2003-01-01'})\n",
    "# and save the dataframe as a csv file\n",
    "bankrupt_data.to_csv('data_bankrupt_CIK/bankrupt_data3_2002.csv', index=False)"
   ]
  },
  {
   "cell_type": "markdown",
   "metadata": {},
   "source": [
    "### 2003"
   ]
  },
  {
   "cell_type": "code",
   "execution_count": 23,
   "metadata": {},
   "outputs": [],
   "source": [
    "# first chuck of bankrupt data\n",
    "bankrupt_data, err = ek.get_data(bankrupt_CIK_list[0], fields=fields,\n",
    "                                 parameters={'Frq':'Y',\n",
    "                                             'SDate':'2003-01-01',\n",
    "                                             'EDate':'2004-01-01'})\n",
    "# and save the dataframe as a csv file\n",
    "bankrupt_data.to_csv('data_bankrupt_CIK/bankrupt_data1_2003.csv', index=False)\n"
   ]
  },
  {
   "cell_type": "code",
   "execution_count": 24,
   "metadata": {},
   "outputs": [],
   "source": [
    "# second chuck of bankrupt data\n",
    "bankrupt_data, err = ek.get_data(bankrupt_CIK_list[1], fields=fields,\n",
    "                                 parameters={'Frq':'Y',\n",
    "                                             'SDate':'2003-01-01',\n",
    "                                             'EDate':'2004-01-01'})\n",
    "# and save the dataframe as a csv file\n",
    "bankrupt_data.to_csv('data_bankrupt_CIK/bankrupt_data2_2003.csv', index=False)"
   ]
  },
  {
   "cell_type": "code",
   "execution_count": 25,
   "metadata": {},
   "outputs": [],
   "source": [
    "# third chuck of bankrupt data\n",
    "bankrupt_data, err = ek.get_data(bankrupt_CIK_list[2], fields=fields,\n",
    "                                 parameters={'Frq':'Y',\n",
    "                                             'SDate':'2003-01-01',\n",
    "                                             'EDate':'2004-01-01'})\n",
    "# and save the dataframe as a csv file\n",
    "bankrupt_data.to_csv('data_bankrupt_CIK/bankrupt_data3_2003.csv', index=False)"
   ]
  },
  {
   "cell_type": "markdown",
   "metadata": {},
   "source": [
    "### 2004"
   ]
  },
  {
   "cell_type": "code",
   "execution_count": 26,
   "metadata": {},
   "outputs": [],
   "source": [
    "# first chuck of bankrupt data\n",
    "bankrupt_data, err = ek.get_data(bankrupt_CIK_list[0], fields=fields,\n",
    "                                 parameters={'Frq':'Y',\n",
    "                                             'SDate':'2004-01-01',\n",
    "                                             'EDate':'2005-01-01'})\n",
    "# and save the dataframe as a csv file\n",
    "bankrupt_data.to_csv('data_bankrupt_CIK/bankrupt_data1_2004.csv', index=False)\n"
   ]
  },
  {
   "cell_type": "code",
   "execution_count": 27,
   "metadata": {},
   "outputs": [],
   "source": [
    "# second chuck of bankrupt data\n",
    "bankrupt_data, err = ek.get_data(bankrupt_CIK_list[1], fields=fields,\n",
    "                                 parameters={'Frq':'Y',\n",
    "                                             'SDate':'2004-01-01',\n",
    "                                             'EDate':'2005-01-01'})\n",
    "# and save the dataframe as a csv file\n",
    "bankrupt_data.to_csv('data_bankrupt_CIK/bankrupt_data2_2004.csv', index=False)"
   ]
  },
  {
   "cell_type": "code",
   "execution_count": 28,
   "metadata": {},
   "outputs": [],
   "source": [
    "# third chuck of bankrupt data\n",
    "bankrupt_data, err = ek.get_data(bankrupt_CIK_list[2], fields=fields,\n",
    "                                 parameters={'Frq':'Y',\n",
    "                                             'SDate':'2004-01-01',\n",
    "                                             'EDate':'2005-01-01'})\n",
    "# and save the dataframe as a csv file\n",
    "bankrupt_data.to_csv('data_bankrupt_CIK/bankrupt_data3_2004.csv', index=False)"
   ]
  },
  {
   "cell_type": "markdown",
   "metadata": {},
   "source": [
    "### 2005"
   ]
  },
  {
   "cell_type": "code",
   "execution_count": 29,
   "metadata": {},
   "outputs": [],
   "source": [
    "# first chuck of bankrupt data\n",
    "bankrupt_data, err = ek.get_data(bankrupt_CIK_list[0], fields=fields,\n",
    "                                 parameters={'Frq':'Y',\n",
    "                                             'SDate':'2005-01-01',\n",
    "                                             'EDate':'2006-01-01'})\n",
    "# and save the dataframe as a csv file\n",
    "bankrupt_data.to_csv('data_bankrupt_CIK/bankrupt_data1_2005.csv', index=False)\n"
   ]
  },
  {
   "cell_type": "code",
   "execution_count": 30,
   "metadata": {},
   "outputs": [],
   "source": [
    "# second chuck of bankrupt data\n",
    "bankrupt_data, err = ek.get_data(bankrupt_CIK_list[1], fields=fields,\n",
    "                                 parameters={'Frq':'Y',\n",
    "                                             'SDate':'2005-01-01',\n",
    "                                             'EDate':'2006-01-01'})\n",
    "# and save the dataframe as a csv file\n",
    "bankrupt_data.to_csv('data_bankrupt_CIK/bankrupt_data2_2005.csv', index=False)"
   ]
  },
  {
   "cell_type": "code",
   "execution_count": 31,
   "metadata": {},
   "outputs": [],
   "source": [
    "# third chuck of bankrupt data\n",
    "bankrupt_data, err = ek.get_data(bankrupt_CIK_list[2], fields=fields,\n",
    "                                 parameters={'Frq':'Y',\n",
    "                                             'SDate':'2005-01-01',\n",
    "                                             'EDate':'2006-01-01'})\n",
    "# and save the dataframe as a csv file\n",
    "bankrupt_data.to_csv('data_bankrupt_CIK/bankrupt_data3_2005.csv', index=False)"
   ]
  },
  {
   "cell_type": "markdown",
   "metadata": {},
   "source": [
    "### 2006"
   ]
  },
  {
   "cell_type": "code",
   "execution_count": 32,
   "metadata": {},
   "outputs": [],
   "source": [
    "# first chuck of bankrupt data\n",
    "bankrupt_data, err = ek.get_data(bankrupt_CIK_list[0], fields=fields,\n",
    "                                 parameters={'Frq':'Y',\n",
    "                                             'SDate':'2006-01-01',\n",
    "                                             'EDate':'2007-01-01'})\n",
    "# and save the dataframe as a csv file\n",
    "bankrupt_data.to_csv('data_bankrupt_CIK/bankrupt_data1_2006.csv', index=False)\n"
   ]
  },
  {
   "cell_type": "code",
   "execution_count": 33,
   "metadata": {},
   "outputs": [],
   "source": [
    "# second chuck of bankrupt data\n",
    "bankrupt_data, err = ek.get_data(bankrupt_CIK_list[1], fields=fields,\n",
    "                                 parameters={'Frq':'Y',\n",
    "                                             'SDate':'2006-01-01',\n",
    "                                             'EDate':'2007-01-01'})\n",
    "# and save the dataframe as a csv file\n",
    "bankrupt_data.to_csv('data_bankrupt_CIK/bankrupt_data2_2006.csv', index=False)"
   ]
  },
  {
   "cell_type": "code",
   "execution_count": 34,
   "metadata": {},
   "outputs": [],
   "source": [
    "# third chuck of bankrupt data\n",
    "bankrupt_data, err = ek.get_data(bankrupt_CIK_list[2], fields=fields,\n",
    "                                 parameters={'Frq':'Y',\n",
    "                                             'SDate':'2006-01-01',\n",
    "                                             'EDate':'2007-01-01'})\n",
    "# and save the dataframe as a csv file\n",
    "bankrupt_data.to_csv('data_bankrupt_CIK/bankrupt_data3_2006.csv', index=False)"
   ]
  },
  {
   "cell_type": "markdown",
   "metadata": {},
   "source": [
    "### 2007"
   ]
  },
  {
   "cell_type": "code",
   "execution_count": 35,
   "metadata": {},
   "outputs": [],
   "source": [
    "# first chuck of bankrupt data\n",
    "bankrupt_data, err = ek.get_data(bankrupt_CIK_list[0], fields=fields,\n",
    "                                 parameters={'Frq':'Y',\n",
    "                                             'SDate':'2007-01-01',\n",
    "                                             'EDate':'2008-01-01'})\n",
    "# and save the dataframe as a csv file\n",
    "bankrupt_data.to_csv('data_bankrupt_CIK/bankrupt_data1_2007.csv', index=False)\n"
   ]
  },
  {
   "cell_type": "code",
   "execution_count": 36,
   "metadata": {},
   "outputs": [],
   "source": [
    "# second chuck of bankrupt data\n",
    "bankrupt_data, err = ek.get_data(bankrupt_CIK_list[1], fields=fields,\n",
    "                                 parameters={'Frq':'Y',\n",
    "                                             'SDate':'2007-01-01',\n",
    "                                             'EDate':'2008-01-01'})\n",
    "# and save the dataframe as a csv file\n",
    "bankrupt_data.to_csv('data_bankrupt_CIK/bankrupt_data2_2007.csv', index=False)"
   ]
  },
  {
   "cell_type": "code",
   "execution_count": 37,
   "metadata": {},
   "outputs": [],
   "source": [
    "# third chuck of bankrupt data\n",
    "bankrupt_data, err = ek.get_data(bankrupt_CIK_list[2], fields=fields,\n",
    "                                 parameters={'Frq':'Y',\n",
    "                                             'SDate':'2007-01-01',\n",
    "                                             'EDate':'2008-01-01'})\n",
    "# and save the dataframe as a csv file\n",
    "bankrupt_data.to_csv('data_bankrupt_CIK/bankrupt_data3_2007.csv', index=False)"
   ]
  },
  {
   "cell_type": "markdown",
   "metadata": {},
   "source": [
    "### 2008"
   ]
  },
  {
   "cell_type": "code",
   "execution_count": 38,
   "metadata": {},
   "outputs": [],
   "source": [
    "# first chuck of bankrupt data\n",
    "bankrupt_data, err = ek.get_data(bankrupt_CIK_list[0], fields=fields,\n",
    "                                 parameters={'Frq':'Y',\n",
    "                                             'SDate':'2008-01-01',\n",
    "                                             'EDate':'2009-01-01'})\n",
    "# and save the dataframe as a csv file\n",
    "bankrupt_data.to_csv('data_bankrupt_CIK/bankrupt_data1_2008.csv', index=False)\n"
   ]
  },
  {
   "cell_type": "code",
   "execution_count": 39,
   "metadata": {},
   "outputs": [],
   "source": [
    "# second chuck of bankrupt data\n",
    "bankrupt_data, err = ek.get_data(bankrupt_CIK_list[1], fields=fields,\n",
    "                                 parameters={'Frq':'Y',\n",
    "                                             'SDate':'2008-01-01',\n",
    "                                             'EDate':'2009-01-01'})\n",
    "# and save the dataframe as a csv file\n",
    "bankrupt_data.to_csv('data_bankrupt_CIK/bankrupt_data2_2008.csv', index=False)"
   ]
  },
  {
   "cell_type": "code",
   "execution_count": 40,
   "metadata": {},
   "outputs": [],
   "source": [
    "# third chuck of bankrupt data\n",
    "bankrupt_data, err = ek.get_data(bankrupt_CIK_list[2], fields=fields,\n",
    "                                 parameters={'Frq':'Y',\n",
    "                                             'SDate':'2008-01-01',\n",
    "                                             'EDate':'2009-01-01'})\n",
    "# and save the dataframe as a csv file\n",
    "bankrupt_data.to_csv('data_bankrupt_CIK/bankrupt_data3_2008.csv', index=False)"
   ]
  },
  {
   "cell_type": "markdown",
   "metadata": {},
   "source": [
    "### 2009"
   ]
  },
  {
   "cell_type": "code",
   "execution_count": 41,
   "metadata": {},
   "outputs": [],
   "source": [
    "# first chuck of bankrupt data\n",
    "bankrupt_data, err = ek.get_data(bankrupt_CIK_list[0], fields=fields,\n",
    "                                 parameters={'Frq':'Y',\n",
    "                                             'SDate':'2009-01-01',\n",
    "                                             'EDate':'2010-01-01'})\n",
    "# and save the dataframe as a csv file\n",
    "bankrupt_data.to_csv('data_bankrupt_CIK/bankrupt_data1_2009.csv', index=False)\n"
   ]
  },
  {
   "cell_type": "code",
   "execution_count": 42,
   "metadata": {},
   "outputs": [],
   "source": [
    "# second chuck of bankrupt data\n",
    "bankrupt_data, err = ek.get_data(bankrupt_CIK_list[1], fields=fields,\n",
    "                                 parameters={'Frq':'Y',\n",
    "                                             'SDate':'2009-01-01',\n",
    "                                             'EDate':'2010-01-01'})\n",
    "# and save the dataframe as a csv file\n",
    "bankrupt_data.to_csv('data_bankrupt_CIK/bankrupt_data2_2009.csv', index=False)"
   ]
  },
  {
   "cell_type": "code",
   "execution_count": 43,
   "metadata": {},
   "outputs": [],
   "source": [
    "# third chuck of bankrupt data\n",
    "bankrupt_data, err = ek.get_data(bankrupt_CIK_list[2], fields=fields,\n",
    "                                 parameters={'Frq':'Y',\n",
    "                                             'SDate':'2009-01-01',\n",
    "                                             'EDate':'2010-01-01'})\n",
    "# and save the dataframe as a csv file\n",
    "bankrupt_data.to_csv('data_bankrupt_CIK/bankrupt_data3_2009.csv', index=False)"
   ]
  },
  {
   "cell_type": "markdown",
   "metadata": {},
   "source": [
    "### 2010"
   ]
  },
  {
   "cell_type": "code",
   "execution_count": 44,
   "metadata": {},
   "outputs": [],
   "source": [
    "# first chuck of bankrupt data\n",
    "bankrupt_data, err = ek.get_data(bankrupt_CIK_list[0], fields=fields,\n",
    "                                 parameters={'Frq':'Y',\n",
    "                                             'SDate':'2010-01-01',\n",
    "                                             'EDate':'2011-01-01'})\n",
    "# and save the dataframe as a csv file\n",
    "bankrupt_data.to_csv('data_bankrupt_CIK/bankrupt_data1_2010.csv', index=False)\n"
   ]
  },
  {
   "cell_type": "code",
   "execution_count": 45,
   "metadata": {},
   "outputs": [],
   "source": [
    "# second chuck of bankrupt data\n",
    "bankrupt_data, err = ek.get_data(bankrupt_CIK_list[1], fields=fields,\n",
    "                                 parameters={'Frq':'Y',\n",
    "                                             'SDate':'2010-01-01',\n",
    "                                             'EDate':'2011-01-01'})\n",
    "# and save the dataframe as a csv file\n",
    "bankrupt_data.to_csv('data_bankrupt_CIK/bankrupt_data2_2010.csv', index=False)"
   ]
  },
  {
   "cell_type": "code",
   "execution_count": 46,
   "metadata": {},
   "outputs": [],
   "source": [
    "# third chuck of bankrupt data\n",
    "bankrupt_data, err = ek.get_data(bankrupt_CIK_list[2], fields=fields,\n",
    "                                 parameters={'Frq':'Y',\n",
    "                                             'SDate':'2010-01-01',\n",
    "                                             'EDate':'2011-01-01'})\n",
    "# and save the dataframe as a csv file\n",
    "bankrupt_data.to_csv('data_bankrupt_CIK/bankrupt_data3_2010.csv', index=False)"
   ]
  },
  {
   "cell_type": "markdown",
   "metadata": {},
   "source": [
    "### 2011"
   ]
  },
  {
   "cell_type": "code",
   "execution_count": 47,
   "metadata": {},
   "outputs": [],
   "source": [
    "# first chuck of bankrupt data\n",
    "bankrupt_data, err = ek.get_data(bankrupt_CIK_list[0], fields=fields,\n",
    "                                 parameters={'Frq':'Y',\n",
    "                                             'SDate':'2011-01-01',\n",
    "                                             'EDate':'2012-01-01'})\n",
    "# and save the dataframe as a csv file\n",
    "bankrupt_data.to_csv('data_bankrupt_CIK/bankrupt_data1_2011.csv', index=False)\n"
   ]
  },
  {
   "cell_type": "code",
   "execution_count": 48,
   "metadata": {},
   "outputs": [],
   "source": [
    "# second chuck of bankrupt data\n",
    "bankrupt_data, err = ek.get_data(bankrupt_CIK_list[1], fields=fields,\n",
    "                                 parameters={'Frq':'Y',\n",
    "                                             'SDate':'2011-01-01',\n",
    "                                             'EDate':'2012-01-01'})\n",
    "# and save the dataframe as a csv file\n",
    "bankrupt_data.to_csv('data_bankrupt_CIK/bankrupt_data2_2011.csv', index=False)"
   ]
  },
  {
   "cell_type": "code",
   "execution_count": 49,
   "metadata": {},
   "outputs": [],
   "source": [
    "# third chuck of bankrupt data\n",
    "bankrupt_data, err = ek.get_data(bankrupt_CIK_list[2], fields=fields,\n",
    "                                 parameters={'Frq':'Y',\n",
    "                                             'SDate':'2011-01-01',\n",
    "                                             'EDate':'2012-01-01'})\n",
    "# and save the dataframe as a csv file\n",
    "bankrupt_data.to_csv('data_bankrupt_CIK/bankrupt_data3_2011.csv', index=False)"
   ]
  },
  {
   "cell_type": "markdown",
   "metadata": {},
   "source": [
    "### 2012"
   ]
  },
  {
   "cell_type": "code",
   "execution_count": 50,
   "metadata": {},
   "outputs": [],
   "source": [
    "# first chuck of bankrupt data\n",
    "bankrupt_data, err = ek.get_data(bankrupt_CIK_list[0], fields=fields,\n",
    "                                 parameters={'Frq':'Y',\n",
    "                                             'SDate':'2012-01-01',\n",
    "                                             'EDate':'2013-01-01'})\n",
    "# and save the dataframe as a csv file\n",
    "bankrupt_data.to_csv('data_bankrupt_CIK/bankrupt_data1_2012.csv', index=False)\n"
   ]
  },
  {
   "cell_type": "code",
   "execution_count": 51,
   "metadata": {},
   "outputs": [],
   "source": [
    "# second chuck of bankrupt data\n",
    "bankrupt_data, err = ek.get_data(bankrupt_CIK_list[1], fields=fields,\n",
    "                                 parameters={'Frq':'Y',\n",
    "                                             'SDate':'2012-01-01',\n",
    "                                             'EDate':'2013-01-01'})\n",
    "# and save the dataframe as a csv file\n",
    "bankrupt_data.to_csv('data_bankrupt_CIK/bankrupt_data2_2012.csv', index=False)"
   ]
  },
  {
   "cell_type": "code",
   "execution_count": 52,
   "metadata": {},
   "outputs": [],
   "source": [
    "# third chuck of bankrupt data\n",
    "bankrupt_data, err = ek.get_data(bankrupt_CIK_list[2], fields=fields,\n",
    "                                 parameters={'Frq':'Y',\n",
    "                                             'SDate':'2012-01-01',\n",
    "                                             'EDate':'2013-01-01'})\n",
    "# and save the dataframe as a csv file\n",
    "bankrupt_data.to_csv('data_bankrupt_CIK/bankrupt_data3_2012.csv', index=False)"
   ]
  },
  {
   "cell_type": "markdown",
   "metadata": {},
   "source": [
    "### 2013"
   ]
  },
  {
   "cell_type": "code",
   "execution_count": 53,
   "metadata": {},
   "outputs": [],
   "source": [
    "# first chuck of bankrupt data\n",
    "bankrupt_data, err = ek.get_data(bankrupt_CIK_list[0], fields=fields,\n",
    "                                 parameters={'Frq':'Y',\n",
    "                                             'SDate':'2013-01-01',\n",
    "                                             'EDate':'2014-01-01'})\n",
    "# and save the dataframe as a csv file\n",
    "bankrupt_data.to_csv('data_bankrupt_CIK/bankrupt_data1_2013.csv', index=False)\n"
   ]
  },
  {
   "cell_type": "code",
   "execution_count": 54,
   "metadata": {},
   "outputs": [],
   "source": [
    "# second chuck of bankrupt data\n",
    "bankrupt_data, err = ek.get_data(bankrupt_CIK_list[1], fields=fields,\n",
    "                                 parameters={'Frq':'Y',\n",
    "                                             'SDate':'2013-01-01',\n",
    "                                             'EDate':'2014-01-01'})\n",
    "# and save the dataframe as a csv file\n",
    "bankrupt_data.to_csv('data_bankrupt_CIK/bankrupt_data2_2013.csv', index=False)"
   ]
  },
  {
   "cell_type": "code",
   "execution_count": 55,
   "metadata": {},
   "outputs": [],
   "source": [
    "# third chuck of bankrupt data\n",
    "bankrupt_data, err = ek.get_data(bankrupt_CIK_list[2], fields=fields,\n",
    "                                 parameters={'Frq':'Y',\n",
    "                                             'SDate':'2013-01-01',\n",
    "                                             'EDate':'2014-01-01'})\n",
    "# and save the dataframe as a csv file\n",
    "bankrupt_data.to_csv('data_bankrupt_CIK/bankrupt_data3_2013.csv', index=False)"
   ]
  },
  {
   "cell_type": "markdown",
   "metadata": {},
   "source": [
    "### 2014"
   ]
  },
  {
   "cell_type": "code",
   "execution_count": 56,
   "metadata": {},
   "outputs": [],
   "source": [
    "# first chuck of bankrupt data\n",
    "bankrupt_data, err = ek.get_data(bankrupt_CIK_list[0], fields=fields,\n",
    "                                 parameters={'Frq':'Y',\n",
    "                                             'SDate':'2014-01-01',\n",
    "                                             'EDate':'2015-01-01'})\n",
    "# and save the dataframe as a csv file\n",
    "bankrupt_data.to_csv('data_bankrupt_CIK/bankrupt_data1_2014.csv', index=False)\n"
   ]
  },
  {
   "cell_type": "code",
   "execution_count": 57,
   "metadata": {},
   "outputs": [],
   "source": [
    "# second chuck of bankrupt data\n",
    "bankrupt_data, err = ek.get_data(bankrupt_CIK_list[1], fields=fields,\n",
    "                                 parameters={'Frq':'Y',\n",
    "                                             'SDate':'2014-01-01',\n",
    "                                             'EDate':'2015-01-01'})\n",
    "# and save the dataframe as a csv file\n",
    "bankrupt_data.to_csv('data_bankrupt_CIK/bankrupt_data2_2014.csv', index=False)"
   ]
  },
  {
   "cell_type": "code",
   "execution_count": 58,
   "metadata": {},
   "outputs": [],
   "source": [
    "# third chuck of bankrupt data\n",
    "bankrupt_data, err = ek.get_data(bankrupt_CIK_list[2], fields=fields,\n",
    "                                 parameters={'Frq':'Y',\n",
    "                                             'SDate':'2014-01-01',\n",
    "                                             'EDate':'2015-01-01'})\n",
    "# and save the dataframe as a csv file\n",
    "bankrupt_data.to_csv('data_bankrupt_CIK/bankrupt_data3_2014.csv', index=False)"
   ]
  },
  {
   "cell_type": "markdown",
   "metadata": {},
   "source": [
    "### 2015"
   ]
  },
  {
   "cell_type": "code",
   "execution_count": 59,
   "metadata": {},
   "outputs": [],
   "source": [
    "# first chuck of bankrupt data\n",
    "bankrupt_data, err = ek.get_data(bankrupt_CIK_list[0], fields=fields,\n",
    "                                 parameters={'Frq':'Y',\n",
    "                                             'SDate':'2015-01-01',\n",
    "                                             'EDate':'2016-01-01'})\n",
    "# and save the dataframe as a csv file\n",
    "bankrupt_data.to_csv('data_bankrupt_CIK/bankrupt_data1_2015.csv', index=False)\n"
   ]
  },
  {
   "cell_type": "code",
   "execution_count": 60,
   "metadata": {},
   "outputs": [],
   "source": [
    "# second chuck of bankrupt data\n",
    "bankrupt_data, err = ek.get_data(bankrupt_CIK_list[1], fields=fields,\n",
    "                                 parameters={'Frq':'Y',\n",
    "                                             'SDate':'2015-01-01',\n",
    "                                             'EDate':'2016-01-01'})\n",
    "# and save the dataframe as a csv file\n",
    "bankrupt_data.to_csv('data_bankrupt_CIK/bankrupt_data2_2015.csv', index=False)"
   ]
  },
  {
   "cell_type": "code",
   "execution_count": 61,
   "metadata": {},
   "outputs": [],
   "source": [
    "# third chuck of bankrupt data\n",
    "bankrupt_data, err = ek.get_data(bankrupt_CIK_list[2], fields=fields,\n",
    "                                 parameters={'Frq':'Y',\n",
    "                                             'SDate':'2015-01-01',\n",
    "                                             'EDate':'2016-01-01'})\n",
    "# and save the dataframe as a csv file\n",
    "bankrupt_data.to_csv('data_bankrupt_CIK/bankrupt_data3_2015.csv', index=False)"
   ]
  },
  {
   "cell_type": "markdown",
   "metadata": {},
   "source": [
    "### 2016"
   ]
  },
  {
   "cell_type": "code",
   "execution_count": 62,
   "metadata": {},
   "outputs": [],
   "source": [
    "# first chuck of bankrupt data\n",
    "bankrupt_data, err = ek.get_data(bankrupt_CIK_list[0], fields=fields,\n",
    "                                 parameters={'Frq':'Y',\n",
    "                                             'SDate':'2016-01-01',\n",
    "                                             'EDate':'2017-01-01'})\n",
    "# and save the dataframe as a csv file\n",
    "bankrupt_data.to_csv('data_bankrupt_CIK/bankrupt_data1_2016.csv', index=False)\n"
   ]
  },
  {
   "cell_type": "code",
   "execution_count": 63,
   "metadata": {},
   "outputs": [],
   "source": [
    "# second chuck of bankrupt data\n",
    "bankrupt_data, err = ek.get_data(bankrupt_CIK_list[1], fields=fields,\n",
    "                                 parameters={'Frq':'Y',\n",
    "                                             'SDate':'2016-01-01',\n",
    "                                             'EDate':'2017-01-01'})\n",
    "# and save the dataframe as a csv file\n",
    "bankrupt_data.to_csv('data_bankrupt_CIK/bankrupt_data2_2016.csv', index=False)"
   ]
  },
  {
   "cell_type": "code",
   "execution_count": 64,
   "metadata": {},
   "outputs": [],
   "source": [
    "# third chuck of bankrupt data\n",
    "bankrupt_data, err = ek.get_data(bankrupt_CIK_list[2], fields=fields,\n",
    "                                 parameters={'Frq':'Y',\n",
    "                                             'SDate':'2016-01-01',\n",
    "                                             'EDate':'2017-01-01'})\n",
    "# and save the dataframe as a csv file\n",
    "bankrupt_data.to_csv('data_bankrupt_CIK/bankrupt_data3_2016.csv', index=False)"
   ]
  },
  {
   "cell_type": "markdown",
   "metadata": {},
   "source": [
    "### 2017"
   ]
  },
  {
   "cell_type": "code",
   "execution_count": 65,
   "metadata": {},
   "outputs": [],
   "source": [
    "# first chuck of bankrupt data\n",
    "bankrupt_data, err = ek.get_data(bankrupt_CIK_list[0], fields=fields,\n",
    "                                 parameters={'Frq':'Y',\n",
    "                                             'SDate':'2017-01-01',\n",
    "                                             'EDate':'2018-01-01'})\n",
    "# and save the dataframe as a csv file\n",
    "bankrupt_data.to_csv('data_bankrupt_CIK/bankrupt_data1_2017.csv', index=False)\n"
   ]
  },
  {
   "cell_type": "code",
   "execution_count": 66,
   "metadata": {},
   "outputs": [],
   "source": [
    "# second chuck of bankrupt data\n",
    "bankrupt_data, err = ek.get_data(bankrupt_CIK_list[1], fields=fields,\n",
    "                                 parameters={'Frq':'Y',\n",
    "                                             'SDate':'2017-01-01',\n",
    "                                             'EDate':'2018-01-01'})\n",
    "# and save the dataframe as a csv file\n",
    "bankrupt_data.to_csv('data_bankrupt_CIK/bankrupt_data2_2017.csv', index=False)"
   ]
  },
  {
   "cell_type": "code",
   "execution_count": 67,
   "metadata": {},
   "outputs": [],
   "source": [
    "# third chuck of bankrupt data\n",
    "bankrupt_data, err = ek.get_data(bankrupt_CIK_list[2], fields=fields,\n",
    "                                 parameters={'Frq':'Y',\n",
    "                                             'SDate':'2017-01-01',\n",
    "                                             'EDate':'2018-01-01'})\n",
    "# and save the dataframe as a csv file\n",
    "bankrupt_data.to_csv('data_bankrupt_CIK/bankrupt_data3_2017.csv', index=False)"
   ]
  },
  {
   "cell_type": "markdown",
   "metadata": {},
   "source": [
    "### 2018"
   ]
  },
  {
   "cell_type": "code",
   "execution_count": 68,
   "metadata": {},
   "outputs": [],
   "source": [
    "# first chuck of bankrupt data\n",
    "bankrupt_data, err = ek.get_data(bankrupt_CIK_list[0], fields=fields,\n",
    "                                 parameters={'Frq':'Y',\n",
    "                                             'SDate':'2018-01-01',\n",
    "                                             'EDate':'2019-01-01'})\n",
    "# and save the dataframe as a csv file\n",
    "bankrupt_data.to_csv('data_bankrupt_CIK/bankrupt_data1_2018.csv', index=False)\n"
   ]
  },
  {
   "cell_type": "code",
   "execution_count": 69,
   "metadata": {},
   "outputs": [],
   "source": [
    "# second chuck of bankrupt data\n",
    "bankrupt_data, err = ek.get_data(bankrupt_CIK_list[1], fields=fields,\n",
    "                                 parameters={'Frq':'Y',\n",
    "                                             'SDate':'2018-01-01',\n",
    "                                             'EDate':'2019-01-01'})\n",
    "# and save the dataframe as a csv file\n",
    "bankrupt_data.to_csv('data_bankrupt_CIK/bankrupt_data2_2018.csv', index=False)"
   ]
  },
  {
   "cell_type": "code",
   "execution_count": 70,
   "metadata": {},
   "outputs": [],
   "source": [
    "# third chuck of bankrupt data\n",
    "bankrupt_data, err = ek.get_data(bankrupt_CIK_list[2], fields=fields,\n",
    "                                 parameters={'Frq':'Y',\n",
    "                                             'SDate':'2018-01-01',\n",
    "                                             'EDate':'2019-01-01'})\n",
    "# and save the dataframe as a csv file\n",
    "bankrupt_data.to_csv('data_bankrupt_CIK/bankrupt_data3_2018.csv', index=False)"
   ]
  },
  {
   "cell_type": "markdown",
   "metadata": {},
   "source": [
    "****"
   ]
  },
  {
   "cell_type": "markdown",
   "metadata": {},
   "source": [
    "## Healthy Companies"
   ]
  },
  {
   "cell_type": "markdown",
   "metadata": {},
   "source": [
    "### 2000"
   ]
  },
  {
   "cell_type": "code",
   "execution_count": 71,
   "metadata": {},
   "outputs": [],
   "source": [
    "# first chuck of the healthy data\n",
    "healthy_data, err = ek.get_data(healthy_CIK_list[0], fields=fields,\n",
    "                                 parameters={'Frq':'Y',\n",
    "                                             'SDate':'2000-01-01',\n",
    "                                             'EDate':'2001-01-01'})\n",
    "# and save the dataframe as a csv file\n",
    "healthy_data.to_csv('data_healthy_CIK/healthy_data01_2000.csv', index=False)\n"
   ]
  },
  {
   "cell_type": "code",
   "execution_count": 72,
   "metadata": {},
   "outputs": [],
   "source": [
    "# second chuck of the healthy data\n",
    "healthy_data, err = ek.get_data(healthy_CIK_list[1], fields=fields,\n",
    "                                 parameters={'Frq':'Y',\n",
    "                                             'SDate':'2000-01-01',\n",
    "                                             'EDate':'2001-01-01'})\n",
    "# and save the dataframe as a csv file\n",
    "healthy_data.to_csv('data_healthy_CIK/healthy_data02_2000.csv', index=False)\n"
   ]
  },
  {
   "cell_type": "code",
   "execution_count": 73,
   "metadata": {},
   "outputs": [],
   "source": [
    "# third chuck of the healthy data\n",
    "healthy_data, err = ek.get_data(healthy_CIK_list[2], fields=fields,\n",
    "                                 parameters={'Frq':'Y',\n",
    "                                             'SDate':'2000-01-01',\n",
    "                                             'EDate':'2001-01-01'})\n",
    "# and save the dataframe as a csv file\n",
    "healthy_data.to_csv('data_healthy_CIK/healthy_data03_2000.csv', index=False)\n"
   ]
  },
  {
   "cell_type": "code",
   "execution_count": 74,
   "metadata": {},
   "outputs": [],
   "source": [
    "# fourth chunck of the healthy data\n",
    "healthy_data, err = ek.get_data(healthy_CIK_list[3], fields=fields,\n",
    "                                 parameters={'Frq':'Y',\n",
    "                                             'SDate':'2000-01-01',\n",
    "                                             'EDate':'2001-01-01'})\n",
    "# and save the dataframe as a csv file\n",
    "healthy_data.to_csv('data_healthy_CIK/healthy_data04_2000.csv', index=False)\n"
   ]
  },
  {
   "cell_type": "code",
   "execution_count": 75,
   "metadata": {},
   "outputs": [],
   "source": [
    "# fifth chunck of the healthy data\n",
    "healthy_data, err = ek.get_data(healthy_CIK_list[4], fields=fields,\n",
    "                                 parameters={'Frq':'Y',\n",
    "                                             'SDate':'2000-01-01',\n",
    "                                             'EDate':'2001-01-01'})\n",
    "# and save the dataframe as a csv file\n",
    "healthy_data.to_csv('data_healthy_CIK/healthy_data05_2000.csv', index=False)\n"
   ]
  },
  {
   "cell_type": "code",
   "execution_count": 76,
   "metadata": {},
   "outputs": [],
   "source": [
    "# sixth chunck of the healthy data\n",
    "healthy_data, err = ek.get_data(healthy_CIK_list[5], fields=fields,\n",
    "                                 parameters={'Frq':'Y',\n",
    "                                             'SDate':'2000-01-01',\n",
    "                                             'EDate':'2001-01-01'})\n",
    "# and save the dataframe as a csv file\n",
    "healthy_data.to_csv('data_healthy_CIK/healthy_data06_2000.csv', index=False)\n"
   ]
  },
  {
   "cell_type": "code",
   "execution_count": 77,
   "metadata": {},
   "outputs": [],
   "source": [
    "# seventh chunck of the healthy data\n",
    "healthy_data, err = ek.get_data(healthy_CIK_list[6], fields=fields,\n",
    "                                 parameters={'Frq':'Y',\n",
    "                                             'SDate':'2000-01-01',\n",
    "                                             'EDate':'2001-01-01'})\n",
    "# and save the dataframe as a csv file\n",
    "healthy_data.to_csv('data_healthy_CIK/healthy_data07_2000.csv', index=False)\n"
   ]
  },
  {
   "cell_type": "code",
   "execution_count": 78,
   "metadata": {},
   "outputs": [],
   "source": [
    "# eighth chunck of the healthy data\n",
    "healthy_data, err = ek.get_data(healthy_CIK_list[7], fields=fields,\n",
    "                                 parameters={'Frq':'Y',\n",
    "                                             'SDate':'2000-01-01',\n",
    "                                             'EDate':'2001-01-01'})\n",
    "# and save the dataframe as a csv file\n",
    "healthy_data.to_csv('data_healthy_CIK/healthy_data08_2000.csv', index=False)\n"
   ]
  },
  {
   "cell_type": "code",
   "execution_count": 79,
   "metadata": {},
   "outputs": [],
   "source": [
    "# ninth chunck of the healthy data\n",
    "healthy_data, err = ek.get_data(healthy_CIK_list[8], fields=fields,\n",
    "                                 parameters={'Frq':'Y',\n",
    "                                             'SDate':'2000-01-01',\n",
    "                                             'EDate':'2001-01-01'})\n",
    "# and save the dataframe as a csv file\n",
    "healthy_data.to_csv('data_healthy_CIK/healthy_data09_2000.csv', index=False)\n"
   ]
  },
  {
   "cell_type": "code",
   "execution_count": 80,
   "metadata": {},
   "outputs": [],
   "source": [
    "# tenth chunck of the healthy data\n",
    "healthy_data, err = ek.get_data(healthy_CIK_list[9], fields=fields,\n",
    "                                 parameters={'Frq':'Y',\n",
    "                                             'SDate':'2000-01-01',\n",
    "                                             'EDate':'2001-01-01'})\n",
    "# and save the dataframe as a csv file\n",
    "healthy_data.to_csv('data_healthy_CIK/healthy_data10_2000.csv', index=False)\n"
   ]
  },
  {
   "cell_type": "code",
   "execution_count": 81,
   "metadata": {},
   "outputs": [],
   "source": [
    "# eleventh chunck of the healthy data\n",
    "healthy_data, err = ek.get_data(healthy_CIK_list[10], fields=fields,\n",
    "                                 parameters={'Frq':'Y',\n",
    "                                             'SDate':'2000-01-01',\n",
    "                                             'EDate':'2001-01-01'})\n",
    "# and save the dataframe as a csv file\n",
    "healthy_data.to_csv('data_healthy_CIK/healthy_data11_2000.csv', index=False)\n"
   ]
  },
  {
   "cell_type": "code",
   "execution_count": 82,
   "metadata": {},
   "outputs": [],
   "source": [
    "# twelfth chunck of the healthy data\n",
    "healthy_data, err = ek.get_data(healthy_CIK_list[11], fields=fields,\n",
    "                                 parameters={'Frq':'Y',\n",
    "                                             'SDate':'2000-01-01',\n",
    "                                             'EDate':'2001-01-01'})\n",
    "# and save the dataframe as a csv file\n",
    "healthy_data.to_csv('data_healthy_CIK/healthy_data12_2000.csv', index=False)\n"
   ]
  },
  {
   "cell_type": "code",
   "execution_count": 83,
   "metadata": {},
   "outputs": [],
   "source": [
    "# thirteenth chunck of the healthy data\n",
    "healthy_data, err = ek.get_data(healthy_CIK_list[12], fields=fields,\n",
    "                                 parameters={'Frq':'Y',\n",
    "                                             'SDate':'2000-01-01',\n",
    "                                             'EDate':'2001-01-01'})\n",
    "# and save the dataframe as a csv file\n",
    "healthy_data.to_csv('data_healthy_CIK/healthy_data13_2000.csv', index=False)\n"
   ]
  },
  {
   "cell_type": "code",
   "execution_count": 84,
   "metadata": {},
   "outputs": [],
   "source": [
    "# fourteenth chunck of the healthy data\n",
    "healthy_data, err = ek.get_data(healthy_CIK_list[13], fields=fields,\n",
    "                                 parameters={'Frq':'Y',\n",
    "                                             'SDate':'2000-01-01',\n",
    "                                             'EDate':'2001-01-01'})\n",
    "# and save the dataframe as a csv file\n",
    "healthy_data.to_csv('data_healthy_CIK/healthy_data14_2000.csv', index=False)\n"
   ]
  },
  {
   "cell_type": "code",
   "execution_count": 85,
   "metadata": {},
   "outputs": [],
   "source": [
    "# fifteenth chunck of the healthy data\n",
    "healthy_data, err = ek.get_data(healthy_CIK_list[14], fields=fields,\n",
    "                                 parameters={'Frq':'Y',\n",
    "                                             'SDate':'2000-01-01',\n",
    "                                             'EDate':'2001-01-01'})\n",
    "# and save the dataframe as a csv file\n",
    "healthy_data.to_csv('data_healthy_CIK/healthy_data15_2000.csv', index=False)\n"
   ]
  },
  {
   "cell_type": "code",
   "execution_count": 86,
   "metadata": {},
   "outputs": [],
   "source": [
    "# sixteenth chunck of the healthy data\n",
    "healthy_data, err = ek.get_data(healthy_CIK_list[15], fields=fields,\n",
    "                                 parameters={'Frq':'Y',\n",
    "                                             'SDate':'2000-01-01',\n",
    "                                             'EDate':'2001-01-01'})\n",
    "# and save the dataframe as a csv file\n",
    "healthy_data.to_csv('data_healthy_CIK/healthy_data16_2000.csv', index=False)\n"
   ]
  },
  {
   "cell_type": "code",
   "execution_count": 87,
   "metadata": {},
   "outputs": [],
   "source": [
    "# seventeenth chunck of the healthy data\n",
    "healthy_data, err = ek.get_data(healthy_CIK_list[16], fields=fields,\n",
    "                                 parameters={'Frq':'Y',\n",
    "                                             'SDate':'2000-01-01',\n",
    "                                             'EDate':'2001-01-01'})\n",
    "# and save the dataframe as a csv file\n",
    "healthy_data.to_csv('data_healthy_CIK/healthy_data17_2000.csv', index=False)\n"
   ]
  },
  {
   "cell_type": "code",
   "execution_count": 88,
   "metadata": {},
   "outputs": [],
   "source": [
    "# eighteenth chunck of the healthy data\n",
    "healthy_data, err = ek.get_data(healthy_CIK_list[17], fields=fields,\n",
    "                                 parameters={'Frq':'Y',\n",
    "                                             'SDate':'2000-01-01',\n",
    "                                             'EDate':'2001-01-01'})\n",
    "# and save the dataframe as a csv file\n",
    "healthy_data.to_csv('data_healthy_CIK/healthy_data18_2000.csv', index=False)\n"
   ]
  },
  {
   "cell_type": "code",
   "execution_count": 89,
   "metadata": {},
   "outputs": [],
   "source": [
    "# nineteenth chunck of the healthy data\n",
    "healthy_data, err = ek.get_data(healthy_CIK_list[18], fields=fields,\n",
    "                                 parameters={'Frq':'Y',\n",
    "                                             'SDate':'2000-01-01',\n",
    "                                             'EDate':'2001-01-01'})\n",
    "# and save the dataframe as a csv file\n",
    "healthy_data.to_csv('data_healthy_CIK/healthy_data19_2000.csv', index=False)\n"
   ]
  },
  {
   "cell_type": "code",
   "execution_count": 90,
   "metadata": {},
   "outputs": [],
   "source": [
    "# twentieth chunck of the healthy data\n",
    "healthy_data, err = ek.get_data(healthy_CIK_list[19], fields=fields,\n",
    "                                 parameters={'Frq':'Y',\n",
    "                                             'SDate':'2000-01-01',\n",
    "                                             'EDate':'2001-01-01'})\n",
    "# and save the dataframe as a csv file\n",
    "healthy_data.to_csv('data_healthy_CIK/healthy_data20_2000.csv', index=False)\n"
   ]
  },
  {
   "cell_type": "code",
   "execution_count": 91,
   "metadata": {},
   "outputs": [],
   "source": [
    "# twenty-first chunck of the healthy data\n",
    "healthy_data, err = ek.get_data(healthy_CIK_list[20], fields=fields,\n",
    "                                 parameters={'Frq':'Y',\n",
    "                                             'SDate':'2000-01-01',\n",
    "                                             'EDate':'2001-01-01'})\n",
    "# and save the dataframe as a csv file\n",
    "healthy_data.to_csv('data_healthy_CIK/healthy_data21_2000.csv', index=False)\n"
   ]
  },
  {
   "cell_type": "code",
   "execution_count": 92,
   "metadata": {},
   "outputs": [],
   "source": [
    "# twenty-second chunck of the healthy data\n",
    "healthy_data, err = ek.get_data(healthy_CIK_list[21], fields=fields,\n",
    "                                 parameters={'Frq':'Y',\n",
    "                                             'SDate':'2000-01-01',\n",
    "                                             'EDate':'2001-01-01'})\n",
    "# and save the dataframe as a csv file\n",
    "healthy_data.to_csv('data_healthy_CIK/healthy_data22_2000.csv', index=False)\n"
   ]
  },
  {
   "cell_type": "code",
   "execution_count": 93,
   "metadata": {},
   "outputs": [],
   "source": [
    "# twenty-third chunck of the healthy data\n",
    "healthy_data, err = ek.get_data(healthy_CIK_list[22], fields=fields,\n",
    "                                 parameters={'Frq':'Y',\n",
    "                                             'SDate':'2000-01-01',\n",
    "                                             'EDate':'2001-01-01'})\n",
    "# and save the dataframe as a csv file\n",
    "healthy_data.to_csv('data_healthy_CIK/healthy_data23_2000.csv', index=False)\n"
   ]
  },
  {
   "cell_type": "code",
   "execution_count": 94,
   "metadata": {},
   "outputs": [],
   "source": [
    "# twenty-fourth chunck of the healthy data\n",
    "healthy_data, err = ek.get_data(healthy_CIK_list[23], fields=fields,\n",
    "                                 parameters={'Frq':'Y',\n",
    "                                             'SDate':'2000-01-01',\n",
    "                                             'EDate':'2001-01-01'})\n",
    "# and save the dataframe as a csv file\n",
    "healthy_data.to_csv('data_healthy_CIK/healthy_data24_2000.csv', index=False)\n"
   ]
  },
  {
   "cell_type": "code",
   "execution_count": 95,
   "metadata": {},
   "outputs": [],
   "source": [
    "# twenty-fifth chunck of the healthy data\n",
    "healthy_data, err = ek.get_data(healthy_CIK_list[24], fields=fields,\n",
    "                                 parameters={'Frq':'Y',\n",
    "                                             'SDate':'2000-01-01',\n",
    "                                             'EDate':'2001-01-01'})\n",
    "# and save the dataframe as a csv file\n",
    "healthy_data.to_csv('data_healthy_CIK/healthy_data25_2000.csv', index=False)\n"
   ]
  },
  {
   "cell_type": "code",
   "execution_count": 96,
   "metadata": {},
   "outputs": [],
   "source": [
    "# twenty-sixth chunck of the healthy data\n",
    "healthy_data, err = ek.get_data(healthy_CIK_list[25], fields=fields,\n",
    "                                 parameters={'Frq':'Y',\n",
    "                                             'SDate':'2000-01-01',\n",
    "                                             'EDate':'2001-01-01'})\n",
    "# and save the dataframe as a csv file\n",
    "healthy_data.to_csv('data_healthy_CIK/healthy_data26_2000.csv', index=False)\n"
   ]
  },
  {
   "cell_type": "code",
   "execution_count": 97,
   "metadata": {},
   "outputs": [],
   "source": [
    "# twenty-seventh chunck of the healthy data\n",
    "healthy_data, err = ek.get_data(healthy_CIK_list[26], fields=fields,\n",
    "                                 parameters={'Frq':'Y',\n",
    "                                             'SDate':'2000-01-01',\n",
    "                                             'EDate':'2001-01-01'})\n",
    "# and save the dataframe as a csv file\n",
    "healthy_data.to_csv('data_healthy_CIK/healthy_data27_2000.csv', index=False)\n"
   ]
  },
  {
   "cell_type": "code",
   "execution_count": 98,
   "metadata": {},
   "outputs": [],
   "source": [
    "# twenty-eighth chunck of the healthy data\n",
    "healthy_data, err = ek.get_data(healthy_CIK_list[27], fields=fields,\n",
    "                                 parameters={'Frq':'Y',\n",
    "                                             'SDate':'2000-01-01',\n",
    "                                             'EDate':'2001-01-01'})\n",
    "# and save the dataframe as a csv file\n",
    "healthy_data.to_csv('data_healthy_CIK/healthy_data28_2000.csv', index=False)\n"
   ]
  },
  {
   "cell_type": "code",
   "execution_count": 99,
   "metadata": {},
   "outputs": [],
   "source": [
    "# twenty-ninth chunck of the healthy data\n",
    "healthy_data, err = ek.get_data(healthy_CIK_list[28], fields=fields,\n",
    "                                 parameters={'Frq':'Y',\n",
    "                                             'SDate':'2000-01-01',\n",
    "                                             'EDate':'2001-01-01'})\n",
    "# and save the dataframe as a csv file\n",
    "healthy_data.to_csv('data_healthy_CIK/healthy_data29_2000.csv', index=False)\n"
   ]
  },
  {
   "cell_type": "code",
   "execution_count": 100,
   "metadata": {},
   "outputs": [],
   "source": [
    "# thirtieth chunck of the healthy data\n",
    "healthy_data, err = ek.get_data(healthy_CIK_list[29], fields=fields,\n",
    "                                 parameters={'Frq':'Y',\n",
    "                                             'SDate':'2000-01-01',\n",
    "                                             'EDate':'2001-01-01'})\n",
    "# and save the dataframe as a csv file\n",
    "healthy_data.to_csv('data_healthy_CIK/healthy_data30_2000.csv', index=False)\n"
   ]
  },
  {
   "cell_type": "markdown",
   "metadata": {},
   "source": [
    "### 2001"
   ]
  },
  {
   "cell_type": "code",
   "execution_count": 101,
   "metadata": {},
   "outputs": [],
   "source": [
    "# first chuck of the healthy data\n",
    "healthy_data, err = ek.get_data(healthy_CIK_list[0], fields=fields,\n",
    "                                 parameters={'Frq':'Y',\n",
    "                                             'SDate':'2001-01-01',\n",
    "                                             'EDate':'2002-01-01'})\n",
    "# and save the dataframe as a csv file\n",
    "healthy_data.to_csv('data_healthy_CIK/healthy_data01_2001.csv', index=False)\n"
   ]
  },
  {
   "cell_type": "code",
   "execution_count": 102,
   "metadata": {},
   "outputs": [],
   "source": [
    "# second chuck of the healthy data\n",
    "healthy_data, err = ek.get_data(healthy_CIK_list[1], fields=fields,\n",
    "                                 parameters={'Frq':'Y',\n",
    "                                             'SDate':'2001-01-01',\n",
    "                                             'EDate':'2002-01-01'})\n",
    "# and save the dataframe as a csv file\n",
    "healthy_data.to_csv('data_healthy_CIK/healthy_data02_2001.csv', index=False)\n"
   ]
  },
  {
   "cell_type": "code",
   "execution_count": 103,
   "metadata": {},
   "outputs": [],
   "source": [
    "# third chuck of the healthy data\n",
    "healthy_data, err = ek.get_data(healthy_CIK_list[2], fields=fields,\n",
    "                                 parameters={'Frq':'Y',\n",
    "                                             'SDate':'2001-01-01',\n",
    "                                             'EDate':'2002-01-01'})\n",
    "# and save the dataframe as a csv file\n",
    "healthy_data.to_csv('data_healthy_CIK/healthy_data03_2001.csv', index=False)\n"
   ]
  },
  {
   "cell_type": "code",
   "execution_count": 104,
   "metadata": {},
   "outputs": [],
   "source": [
    "# fourth chunck of the healthy data\n",
    "healthy_data, err = ek.get_data(healthy_CIK_list[3], fields=fields,\n",
    "                                 parameters={'Frq':'Y',\n",
    "                                             'SDate':'2001-01-01',\n",
    "                                             'EDate':'2002-01-01'})\n",
    "# and save the dataframe as a csv file\n",
    "healthy_data.to_csv('data_healthy_CIK/healthy_data04_2001.csv', index=False)\n"
   ]
  },
  {
   "cell_type": "code",
   "execution_count": 105,
   "metadata": {},
   "outputs": [],
   "source": [
    "# fifth chunck of the healthy data\n",
    "healthy_data, err = ek.get_data(healthy_CIK_list[4], fields=fields,\n",
    "                                 parameters={'Frq':'Y',\n",
    "                                             'SDate':'2001-01-01',\n",
    "                                             'EDate':'2002-01-01'})\n",
    "# and save the dataframe as a csv file\n",
    "healthy_data.to_csv('data_healthy_CIK/healthy_data05_2001.csv', index=False)\n"
   ]
  },
  {
   "cell_type": "code",
   "execution_count": 106,
   "metadata": {},
   "outputs": [],
   "source": [
    "# sixth chunck of the healthy data\n",
    "healthy_data, err = ek.get_data(healthy_CIK_list[5], fields=fields,\n",
    "                                 parameters={'Frq':'Y',\n",
    "                                             'SDate':'2001-01-01',\n",
    "                                             'EDate':'2002-01-01'})\n",
    "# and save the dataframe as a csv file\n",
    "healthy_data.to_csv('data_healthy_CIK/healthy_data06_2001.csv', index=False)\n"
   ]
  },
  {
   "cell_type": "code",
   "execution_count": 107,
   "metadata": {},
   "outputs": [],
   "source": [
    "# seventh chunck of the healthy data\n",
    "healthy_data, err = ek.get_data(healthy_CIK_list[6], fields=fields,\n",
    "                                 parameters={'Frq':'Y',\n",
    "                                             'SDate':'2001-01-01',\n",
    "                                             'EDate':'2002-01-01'})\n",
    "# and save the dataframe as a csv file\n",
    "healthy_data.to_csv('data_healthy_CIK/healthy_data07_2001.csv', index=False)\n"
   ]
  },
  {
   "cell_type": "code",
   "execution_count": 108,
   "metadata": {},
   "outputs": [],
   "source": [
    "# eighth chunck of the healthy data\n",
    "healthy_data, err = ek.get_data(healthy_CIK_list[7], fields=fields,\n",
    "                                 parameters={'Frq':'Y',\n",
    "                                             'SDate':'2001-01-01',\n",
    "                                             'EDate':'2002-01-01'})\n",
    "# and save the dataframe as a csv file\n",
    "healthy_data.to_csv('data_healthy_CIK/healthy_data08_2001.csv', index=False)\n"
   ]
  },
  {
   "cell_type": "code",
   "execution_count": 109,
   "metadata": {},
   "outputs": [],
   "source": [
    "# ninth chunck of the healthy data\n",
    "healthy_data, err = ek.get_data(healthy_CIK_list[8], fields=fields,\n",
    "                                 parameters={'Frq':'Y',\n",
    "                                             'SDate':'2001-01-01',\n",
    "                                             'EDate':'2002-01-01'})\n",
    "# and save the dataframe as a csv file\n",
    "healthy_data.to_csv('data_healthy_CIK/healthy_data09_2001.csv', index=False)\n"
   ]
  },
  {
   "cell_type": "code",
   "execution_count": 110,
   "metadata": {},
   "outputs": [],
   "source": [
    "# tenth chunck of the healthy data\n",
    "healthy_data, err = ek.get_data(healthy_CIK_list[9], fields=fields,\n",
    "                                 parameters={'Frq':'Y',\n",
    "                                             'SDate':'2001-01-01',\n",
    "                                             'EDate':'2002-01-01'})\n",
    "# and save the dataframe as a csv file\n",
    "healthy_data.to_csv('data_healthy_CIK/healthy_data10_2001.csv', index=False)\n"
   ]
  },
  {
   "cell_type": "code",
   "execution_count": 111,
   "metadata": {},
   "outputs": [],
   "source": [
    "# eleventh chunck of the healthy data\n",
    "healthy_data, err = ek.get_data(healthy_CIK_list[10], fields=fields,\n",
    "                                 parameters={'Frq':'Y',\n",
    "                                             'SDate':'2001-01-01',\n",
    "                                             'EDate':'2002-01-01'})\n",
    "# and save the dataframe as a csv file\n",
    "healthy_data.to_csv('data_healthy_CIK/healthy_data11_2001.csv', index=False)\n"
   ]
  },
  {
   "cell_type": "code",
   "execution_count": 112,
   "metadata": {},
   "outputs": [],
   "source": [
    "# twelfth chunck of the healthy data\n",
    "healthy_data, err = ek.get_data(healthy_CIK_list[11], fields=fields,\n",
    "                                 parameters={'Frq':'Y',\n",
    "                                             'SDate':'2001-01-01',\n",
    "                                             'EDate':'2002-01-01'})\n",
    "# and save the dataframe as a csv file\n",
    "healthy_data.to_csv('data_healthy_CIK/healthy_data12_2001.csv', index=False)\n"
   ]
  },
  {
   "cell_type": "code",
   "execution_count": 113,
   "metadata": {},
   "outputs": [],
   "source": [
    "# thirteenth chunck of the healthy data\n",
    "healthy_data, err = ek.get_data(healthy_CIK_list[12], fields=fields,\n",
    "                                 parameters={'Frq':'Y',\n",
    "                                             'SDate':'2001-01-01',\n",
    "                                             'EDate':'2002-01-01'})\n",
    "# and save the dataframe as a csv file\n",
    "healthy_data.to_csv('data_healthy_CIK/healthy_data13_2001.csv', index=False)\n"
   ]
  },
  {
   "cell_type": "code",
   "execution_count": 114,
   "metadata": {},
   "outputs": [],
   "source": [
    "# fourteenth chunck of the healthy data\n",
    "healthy_data, err = ek.get_data(healthy_CIK_list[13], fields=fields,\n",
    "                                 parameters={'Frq':'Y',\n",
    "                                             'SDate':'2001-01-01',\n",
    "                                             'EDate':'2002-01-01'})\n",
    "# and save the dataframe as a csv file\n",
    "healthy_data.to_csv('data_healthy_CIK/healthy_data14_2001.csv', index=False)\n"
   ]
  },
  {
   "cell_type": "code",
   "execution_count": 115,
   "metadata": {},
   "outputs": [],
   "source": [
    "# fifteenth chunck of the healthy data\n",
    "healthy_data, err = ek.get_data(healthy_CIK_list[14], fields=fields,\n",
    "                                 parameters={'Frq':'Y',\n",
    "                                             'SDate':'2001-01-01',\n",
    "                                             'EDate':'2002-01-01'})\n",
    "# and save the dataframe as a csv file\n",
    "healthy_data.to_csv('data_healthy_CIK/healthy_data15_2001.csv', index=False)\n"
   ]
  },
  {
   "cell_type": "code",
   "execution_count": 116,
   "metadata": {},
   "outputs": [],
   "source": [
    "# sixteenth chunck of the healthy data\n",
    "healthy_data, err = ek.get_data(healthy_CIK_list[15], fields=fields,\n",
    "                                 parameters={'Frq':'Y',\n",
    "                                             'SDate':'2001-01-01',\n",
    "                                             'EDate':'2002-01-01'})\n",
    "# and save the dataframe as a csv file\n",
    "healthy_data.to_csv('data_healthy_CIK/healthy_data16_2001.csv', index=False)\n"
   ]
  },
  {
   "cell_type": "code",
   "execution_count": 117,
   "metadata": {},
   "outputs": [],
   "source": [
    "# seventeenth chunck of the healthy data\n",
    "healthy_data, err = ek.get_data(healthy_CIK_list[16], fields=fields,\n",
    "                                 parameters={'Frq':'Y',\n",
    "                                             'SDate':'2001-01-01',\n",
    "                                             'EDate':'2002-01-01'})\n",
    "# and save the dataframe as a csv file\n",
    "healthy_data.to_csv('data_healthy_CIK/healthy_data17_2001.csv', index=False)\n"
   ]
  },
  {
   "cell_type": "code",
   "execution_count": 118,
   "metadata": {},
   "outputs": [],
   "source": [
    "# eighteenth chunck of the healthy data\n",
    "healthy_data, err = ek.get_data(healthy_CIK_list[17], fields=fields,\n",
    "                                 parameters={'Frq':'Y',\n",
    "                                             'SDate':'2001-01-01',\n",
    "                                             'EDate':'2002-01-01'})\n",
    "# and save the dataframe as a csv file\n",
    "healthy_data.to_csv('data_healthy_CIK/healthy_data18_2001.csv', index=False)\n"
   ]
  },
  {
   "cell_type": "code",
   "execution_count": 119,
   "metadata": {},
   "outputs": [],
   "source": [
    "# nineteenth chunck of the healthy data\n",
    "healthy_data, err = ek.get_data(healthy_CIK_list[18], fields=fields,\n",
    "                                 parameters={'Frq':'Y',\n",
    "                                             'SDate':'2001-01-01',\n",
    "                                             'EDate':'2002-01-01'})\n",
    "# and save the dataframe as a csv file\n",
    "healthy_data.to_csv('data_healthy_CIK/healthy_data19_2001.csv', index=False)\n"
   ]
  },
  {
   "cell_type": "code",
   "execution_count": 120,
   "metadata": {},
   "outputs": [],
   "source": [
    "# twentieth chunck of the healthy data\n",
    "healthy_data, err = ek.get_data(healthy_CIK_list[19], fields=fields,\n",
    "                                 parameters={'Frq':'Y',\n",
    "                                             'SDate':'2001-01-01',\n",
    "                                             'EDate':'2002-01-01'})\n",
    "# and save the dataframe as a csv file\n",
    "healthy_data.to_csv('data_healthy_CIK/healthy_data20_2001.csv', index=False)\n"
   ]
  },
  {
   "cell_type": "code",
   "execution_count": 121,
   "metadata": {},
   "outputs": [],
   "source": [
    "# twenty-first chunck of the healthy data\n",
    "healthy_data, err = ek.get_data(healthy_CIK_list[20], fields=fields,\n",
    "                                 parameters={'Frq':'Y',\n",
    "                                             'SDate':'2001-01-01',\n",
    "                                             'EDate':'2002-01-01'})\n",
    "# and save the dataframe as a csv file\n",
    "healthy_data.to_csv('data_healthy_CIK/healthy_data21_2001.csv', index=False)\n"
   ]
  },
  {
   "cell_type": "code",
   "execution_count": 122,
   "metadata": {},
   "outputs": [],
   "source": [
    "# twenty-second chunck of the healthy data\n",
    "healthy_data, err = ek.get_data(healthy_CIK_list[21], fields=fields,\n",
    "                                 parameters={'Frq':'Y',\n",
    "                                             'SDate':'2001-01-01',\n",
    "                                             'EDate':'2002-01-01'})\n",
    "# and save the dataframe as a csv file\n",
    "healthy_data.to_csv('data_healthy_CIK/healthy_data22_2001.csv', index=False)\n"
   ]
  },
  {
   "cell_type": "code",
   "execution_count": 123,
   "metadata": {},
   "outputs": [],
   "source": [
    "# twenty-third chunck of the healthy data\n",
    "healthy_data, err = ek.get_data(healthy_CIK_list[22], fields=fields,\n",
    "                                 parameters={'Frq':'Y',\n",
    "                                             'SDate':'2001-01-01',\n",
    "                                             'EDate':'2002-01-01'})\n",
    "# and save the dataframe as a csv file\n",
    "healthy_data.to_csv('data_healthy_CIK/healthy_data23_2001.csv', index=False)\n"
   ]
  },
  {
   "cell_type": "code",
   "execution_count": 124,
   "metadata": {},
   "outputs": [],
   "source": [
    "# twenty-fourth chunck of the healthy data\n",
    "healthy_data, err = ek.get_data(healthy_CIK_list[23], fields=fields,\n",
    "                                 parameters={'Frq':'Y',\n",
    "                                             'SDate':'2001-01-01',\n",
    "                                             'EDate':'2002-01-01'})\n",
    "# and save the dataframe as a csv file\n",
    "healthy_data.to_csv('data_healthy_CIK/healthy_data24_2001.csv', index=False)\n"
   ]
  },
  {
   "cell_type": "code",
   "execution_count": 125,
   "metadata": {},
   "outputs": [],
   "source": [
    "# twenty-fifth chunck of the healthy data\n",
    "healthy_data, err = ek.get_data(healthy_CIK_list[24], fields=fields,\n",
    "                                 parameters={'Frq':'Y',\n",
    "                                             'SDate':'2001-01-01',\n",
    "                                             'EDate':'2002-01-01'})\n",
    "# and save the dataframe as a csv file\n",
    "healthy_data.to_csv('data_healthy_CIK/healthy_data25_2001.csv', index=False)\n"
   ]
  },
  {
   "cell_type": "code",
   "execution_count": 126,
   "metadata": {},
   "outputs": [],
   "source": [
    "# twenty-sixth chunck of the healthy data\n",
    "healthy_data, err = ek.get_data(healthy_CIK_list[25], fields=fields,\n",
    "                                 parameters={'Frq':'Y',\n",
    "                                             'SDate':'2001-01-01',\n",
    "                                             'EDate':'2002-01-01'})\n",
    "# and save the dataframe as a csv file\n",
    "healthy_data.to_csv('data_healthy_CIK/healthy_data26_2001.csv', index=False)\n"
   ]
  },
  {
   "cell_type": "code",
   "execution_count": 127,
   "metadata": {},
   "outputs": [],
   "source": [
    "# twenty-seventh chunck of the healthy data\n",
    "healthy_data, err = ek.get_data(healthy_CIK_list[26], fields=fields,\n",
    "                                 parameters={'Frq':'Y',\n",
    "                                             'SDate':'2001-01-01',\n",
    "                                             'EDate':'2002-01-01'})\n",
    "# and save the dataframe as a csv file\n",
    "healthy_data.to_csv('data_healthy_CIK/healthy_data27_2001.csv', index=False)\n"
   ]
  },
  {
   "cell_type": "code",
   "execution_count": 128,
   "metadata": {},
   "outputs": [],
   "source": [
    "# twenty-eighth chunck of the healthy data\n",
    "healthy_data, err = ek.get_data(healthy_CIK_list[27], fields=fields,\n",
    "                                 parameters={'Frq':'Y',\n",
    "                                             'SDate':'2001-01-01',\n",
    "                                             'EDate':'2002-01-01'})\n",
    "# and save the dataframe as a csv file\n",
    "healthy_data.to_csv('data_healthy_CIK/healthy_data28_2001.csv', index=False)\n"
   ]
  },
  {
   "cell_type": "code",
   "execution_count": 129,
   "metadata": {},
   "outputs": [],
   "source": [
    "# twenty-ninth chunck of the healthy data\n",
    "healthy_data, err = ek.get_data(healthy_CIK_list[28], fields=fields,\n",
    "                                 parameters={'Frq':'Y',\n",
    "                                             'SDate':'2001-01-01',\n",
    "                                             'EDate':'2002-01-01'})\n",
    "# and save the dataframe as a csv file\n",
    "healthy_data.to_csv('data_healthy_CIK/healthy_data29_2001.csv', index=False)\n"
   ]
  },
  {
   "cell_type": "code",
   "execution_count": 130,
   "metadata": {},
   "outputs": [],
   "source": [
    "# thirtieth chunck of the healthy data\n",
    "healthy_data, err = ek.get_data(healthy_CIK_list[29], fields=fields,\n",
    "                                 parameters={'Frq':'Y',\n",
    "                                             'SDate':'2001-01-01',\n",
    "                                             'EDate':'2002-01-01'})\n",
    "# and save the dataframe as a csv file\n",
    "healthy_data.to_csv('data_healthy_CIK/healthy_data30_2001.csv', index=False)\n"
   ]
  },
  {
   "cell_type": "markdown",
   "metadata": {},
   "source": [
    "### 2002"
   ]
  },
  {
   "cell_type": "code",
   "execution_count": 131,
   "metadata": {},
   "outputs": [],
   "source": [
    "# first chuck of the healthy data\n",
    "healthy_data, err = ek.get_data(healthy_CIK_list[0], fields=fields,\n",
    "                                 parameters={'Frq':'Y',\n",
    "                                             'SDate':'2002-01-01',\n",
    "                                             'EDate':'2003-01-01'})\n",
    "# and save the dataframe as a csv file\n",
    "healthy_data.to_csv('data_healthy_CIK/healthy_data01_2002.csv', index=False)\n"
   ]
  },
  {
   "cell_type": "code",
   "execution_count": 132,
   "metadata": {},
   "outputs": [],
   "source": [
    "# second chuck of the healthy data\n",
    "healthy_data, err = ek.get_data(healthy_CIK_list[1], fields=fields,\n",
    "                                 parameters={'Frq':'Y',\n",
    "                                             'SDate':'2002-01-01',\n",
    "                                             'EDate':'2003-01-01'})\n",
    "# and save the dataframe as a csv file\n",
    "healthy_data.to_csv('data_healthy_CIK/healthy_data02_2002.csv', index=False)\n"
   ]
  },
  {
   "cell_type": "code",
   "execution_count": 133,
   "metadata": {},
   "outputs": [],
   "source": [
    "# third chuck of the healthy data\n",
    "healthy_data, err = ek.get_data(healthy_CIK_list[2], fields=fields,\n",
    "                                 parameters={'Frq':'Y',\n",
    "                                             'SDate':'2002-01-01',\n",
    "                                             'EDate':'2003-01-01'})\n",
    "# and save the dataframe as a csv file\n",
    "healthy_data.to_csv('data_healthy_CIK/healthy_data03_2002.csv', index=False)\n"
   ]
  },
  {
   "cell_type": "code",
   "execution_count": 134,
   "metadata": {},
   "outputs": [],
   "source": [
    "# fourth chunck of the healthy data\n",
    "healthy_data, err = ek.get_data(healthy_CIK_list[3], fields=fields,\n",
    "                                 parameters={'Frq':'Y',\n",
    "                                             'SDate':'2002-01-01',\n",
    "                                             'EDate':'2003-01-01'})\n",
    "# and save the dataframe as a csv file\n",
    "healthy_data.to_csv('data_healthy_CIK/healthy_data04_2002.csv', index=False)\n"
   ]
  },
  {
   "cell_type": "code",
   "execution_count": 135,
   "metadata": {},
   "outputs": [],
   "source": [
    "# fifth chunck of the healthy data\n",
    "healthy_data, err = ek.get_data(healthy_CIK_list[4], fields=fields,\n",
    "                                 parameters={'Frq':'Y',\n",
    "                                             'SDate':'2002-01-01',\n",
    "                                             'EDate':'2003-01-01'})\n",
    "# and save the dataframe as a csv file\n",
    "healthy_data.to_csv('data_healthy_CIK/healthy_data05_2002.csv', index=False)\n"
   ]
  },
  {
   "cell_type": "code",
   "execution_count": 136,
   "metadata": {},
   "outputs": [],
   "source": [
    "# sixth chunck of the healthy data\n",
    "healthy_data, err = ek.get_data(healthy_CIK_list[5], fields=fields,\n",
    "                                 parameters={'Frq':'Y',\n",
    "                                             'SDate':'2002-01-01',\n",
    "                                             'EDate':'2003-01-01'})\n",
    "# and save the dataframe as a csv file\n",
    "healthy_data.to_csv('data_healthy_CIK/healthy_data06_2002.csv', index=False)\n"
   ]
  },
  {
   "cell_type": "code",
   "execution_count": 137,
   "metadata": {},
   "outputs": [],
   "source": [
    "# seventh chunck of the healthy data\n",
    "healthy_data, err = ek.get_data(healthy_CIK_list[6], fields=fields,\n",
    "                                 parameters={'Frq':'Y',\n",
    "                                             'SDate':'2002-01-01',\n",
    "                                             'EDate':'2003-01-01'})\n",
    "# and save the dataframe as a csv file\n",
    "healthy_data.to_csv('data_healthy_CIK/healthy_data07_2002.csv', index=False)\n"
   ]
  },
  {
   "cell_type": "code",
   "execution_count": 138,
   "metadata": {},
   "outputs": [],
   "source": [
    "# eighth chunck of the healthy data\n",
    "healthy_data, err = ek.get_data(healthy_CIK_list[7], fields=fields,\n",
    "                                 parameters={'Frq':'Y',\n",
    "                                             'SDate':'2002-01-01',\n",
    "                                             'EDate':'2003-01-01'})\n",
    "# and save the dataframe as a csv file\n",
    "healthy_data.to_csv('data_healthy_CIK/healthy_data08_2002.csv', index=False)\n"
   ]
  },
  {
   "cell_type": "code",
   "execution_count": 139,
   "metadata": {},
   "outputs": [],
   "source": [
    "# ninth chunck of the healthy data\n",
    "healthy_data, err = ek.get_data(healthy_CIK_list[8], fields=fields,\n",
    "                                 parameters={'Frq':'Y',\n",
    "                                             'SDate':'2002-01-01',\n",
    "                                             'EDate':'2003-01-01'})\n",
    "# and save the dataframe as a csv file\n",
    "healthy_data.to_csv('data_healthy_CIK/healthy_data09_2002.csv', index=False)\n"
   ]
  },
  {
   "cell_type": "code",
   "execution_count": 140,
   "metadata": {},
   "outputs": [],
   "source": [
    "# tenth chunck of the healthy data\n",
    "healthy_data, err = ek.get_data(healthy_CIK_list[9], fields=fields,\n",
    "                                 parameters={'Frq':'Y',\n",
    "                                             'SDate':'2002-01-01',\n",
    "                                             'EDate':'2003-01-01'})\n",
    "# and save the dataframe as a csv file\n",
    "healthy_data.to_csv('data_healthy_CIK/healthy_data10_2002.csv', index=False)\n"
   ]
  },
  {
   "cell_type": "code",
   "execution_count": 141,
   "metadata": {},
   "outputs": [],
   "source": [
    "# eleventh chunck of the healthy data\n",
    "healthy_data, err = ek.get_data(healthy_CIK_list[10], fields=fields,\n",
    "                                 parameters={'Frq':'Y',\n",
    "                                             'SDate':'2002-01-01',\n",
    "                                             'EDate':'2003-01-01'})\n",
    "# and save the dataframe as a csv file\n",
    "healthy_data.to_csv('data_healthy_CIK/healthy_data11_2002.csv', index=False)\n"
   ]
  },
  {
   "cell_type": "code",
   "execution_count": 142,
   "metadata": {},
   "outputs": [],
   "source": [
    "# twelfth chunck of the healthy data\n",
    "healthy_data, err = ek.get_data(healthy_CIK_list[11], fields=fields,\n",
    "                                 parameters={'Frq':'Y',\n",
    "                                             'SDate':'2002-01-01',\n",
    "                                             'EDate':'2003-01-01'})\n",
    "# and save the dataframe as a csv file\n",
    "healthy_data.to_csv('data_healthy_CIK/healthy_data12_2002.csv', index=False)\n"
   ]
  },
  {
   "cell_type": "code",
   "execution_count": 143,
   "metadata": {},
   "outputs": [],
   "source": [
    "# thirteenth chunck of the healthy data\n",
    "healthy_data, err = ek.get_data(healthy_CIK_list[12], fields=fields,\n",
    "                                 parameters={'Frq':'Y',\n",
    "                                             'SDate':'2002-01-01',\n",
    "                                             'EDate':'2003-01-01'})\n",
    "# and save the dataframe as a csv file\n",
    "healthy_data.to_csv('data_healthy_CIK/healthy_data13_2002.csv', index=False)\n"
   ]
  },
  {
   "cell_type": "code",
   "execution_count": 144,
   "metadata": {},
   "outputs": [],
   "source": [
    "# fourteenth chunck of the healthy data\n",
    "healthy_data, err = ek.get_data(healthy_CIK_list[13], fields=fields,\n",
    "                                 parameters={'Frq':'Y',\n",
    "                                             'SDate':'2002-01-01',\n",
    "                                             'EDate':'2003-01-01'})\n",
    "# and save the dataframe as a csv file\n",
    "healthy_data.to_csv('data_healthy_CIK/healthy_data14_2002.csv', index=False)\n"
   ]
  },
  {
   "cell_type": "code",
   "execution_count": 145,
   "metadata": {},
   "outputs": [],
   "source": [
    "# fifteenth chunck of the healthy data\n",
    "healthy_data, err = ek.get_data(healthy_CIK_list[14], fields=fields,\n",
    "                                 parameters={'Frq':'Y',\n",
    "                                             'SDate':'2002-01-01',\n",
    "                                             'EDate':'2003-01-01'})\n",
    "# and save the dataframe as a csv file\n",
    "healthy_data.to_csv('data_healthy_CIK/healthy_data15_2002.csv', index=False)\n"
   ]
  },
  {
   "cell_type": "code",
   "execution_count": 146,
   "metadata": {},
   "outputs": [],
   "source": [
    "# sixteenth chunck of the healthy data\n",
    "healthy_data, err = ek.get_data(healthy_CIK_list[15], fields=fields,\n",
    "                                 parameters={'Frq':'Y',\n",
    "                                             'SDate':'2002-01-01',\n",
    "                                             'EDate':'2003-01-01'})\n",
    "# and save the dataframe as a csv file\n",
    "healthy_data.to_csv('data_healthy_CIK/healthy_data16_2002.csv', index=False)\n"
   ]
  },
  {
   "cell_type": "code",
   "execution_count": 147,
   "metadata": {},
   "outputs": [],
   "source": [
    "# seventeenth chunck of the healthy data\n",
    "healthy_data, err = ek.get_data(healthy_CIK_list[16], fields=fields,\n",
    "                                 parameters={'Frq':'Y',\n",
    "                                             'SDate':'2002-01-01',\n",
    "                                             'EDate':'2003-01-01'})\n",
    "# and save the dataframe as a csv file\n",
    "healthy_data.to_csv('data_healthy_CIK/healthy_data17_2002.csv', index=False)\n"
   ]
  },
  {
   "cell_type": "code",
   "execution_count": 148,
   "metadata": {},
   "outputs": [],
   "source": [
    "# eighteenth chunck of the healthy data\n",
    "healthy_data, err = ek.get_data(healthy_CIK_list[17], fields=fields,\n",
    "                                 parameters={'Frq':'Y',\n",
    "                                             'SDate':'2002-01-01',\n",
    "                                             'EDate':'2003-01-01'})\n",
    "# and save the dataframe as a csv file\n",
    "healthy_data.to_csv('data_healthy_CIK/healthy_data18_2002.csv', index=False)\n"
   ]
  },
  {
   "cell_type": "code",
   "execution_count": 149,
   "metadata": {},
   "outputs": [],
   "source": [
    "# nineteenth chunck of the healthy data\n",
    "healthy_data, err = ek.get_data(healthy_CIK_list[18], fields=fields,\n",
    "                                 parameters={'Frq':'Y',\n",
    "                                             'SDate':'2002-01-01',\n",
    "                                             'EDate':'2003-01-01'})\n",
    "# and save the dataframe as a csv file\n",
    "healthy_data.to_csv('data_healthy_CIK/healthy_data19_2002.csv', index=False)\n"
   ]
  },
  {
   "cell_type": "code",
   "execution_count": 150,
   "metadata": {},
   "outputs": [],
   "source": [
    "# twentieth chunck of the healthy data\n",
    "healthy_data, err = ek.get_data(healthy_CIK_list[19], fields=fields,\n",
    "                                 parameters={'Frq':'Y',\n",
    "                                             'SDate':'2002-01-01',\n",
    "                                             'EDate':'2003-01-01'})\n",
    "# and save the dataframe as a csv file\n",
    "healthy_data.to_csv('data_healthy_CIK/healthy_data20_2002.csv', index=False)\n"
   ]
  },
  {
   "cell_type": "code",
   "execution_count": 151,
   "metadata": {},
   "outputs": [],
   "source": [
    "# twenty-first chunck of the healthy data\n",
    "healthy_data, err = ek.get_data(healthy_CIK_list[20], fields=fields,\n",
    "                                 parameters={'Frq':'Y',\n",
    "                                             'SDate':'2002-01-01',\n",
    "                                             'EDate':'2003-01-01'})\n",
    "# and save the dataframe as a csv file\n",
    "healthy_data.to_csv('data_healthy_CIK/healthy_data21_2002.csv', index=False)\n"
   ]
  },
  {
   "cell_type": "code",
   "execution_count": 152,
   "metadata": {},
   "outputs": [],
   "source": [
    "# twenty-second chunck of the healthy data\n",
    "healthy_data, err = ek.get_data(healthy_CIK_list[21], fields=fields,\n",
    "                                 parameters={'Frq':'Y',\n",
    "                                             'SDate':'2002-01-01',\n",
    "                                             'EDate':'2003-01-01'})\n",
    "# and save the dataframe as a csv file\n",
    "healthy_data.to_csv('data_healthy_CIK/healthy_data22_2002.csv', index=False)\n"
   ]
  },
  {
   "cell_type": "code",
   "execution_count": 153,
   "metadata": {},
   "outputs": [],
   "source": [
    "# twenty-third chunck of the healthy data\n",
    "healthy_data, err = ek.get_data(healthy_CIK_list[22], fields=fields,\n",
    "                                 parameters={'Frq':'Y',\n",
    "                                             'SDate':'2002-01-01',\n",
    "                                             'EDate':'2003-01-01'})\n",
    "# and save the dataframe as a csv file\n",
    "healthy_data.to_csv('data_healthy_CIK/healthy_data23_2002.csv', index=False)\n"
   ]
  },
  {
   "cell_type": "code",
   "execution_count": 154,
   "metadata": {},
   "outputs": [],
   "source": [
    "# twenty-fourth chunck of the healthy data\n",
    "healthy_data, err = ek.get_data(healthy_CIK_list[23], fields=fields,\n",
    "                                 parameters={'Frq':'Y',\n",
    "                                             'SDate':'2002-01-01',\n",
    "                                             'EDate':'2003-01-01'})\n",
    "# and save the dataframe as a csv file\n",
    "healthy_data.to_csv('data_healthy_CIK/healthy_data24_2002.csv', index=False)\n"
   ]
  },
  {
   "cell_type": "code",
   "execution_count": 155,
   "metadata": {},
   "outputs": [],
   "source": [
    "# twenty-fifth chunck of the healthy data\n",
    "healthy_data, err = ek.get_data(healthy_CIK_list[24], fields=fields,\n",
    "                                 parameters={'Frq':'Y',\n",
    "                                             'SDate':'2002-01-01',\n",
    "                                             'EDate':'2003-01-01'})\n",
    "# and save the dataframe as a csv file\n",
    "healthy_data.to_csv('data_healthy_CIK/healthy_data25_2002.csv', index=False)\n"
   ]
  },
  {
   "cell_type": "code",
   "execution_count": 156,
   "metadata": {},
   "outputs": [],
   "source": [
    "# twenty-sixth chunck of the healthy data\n",
    "healthy_data, err = ek.get_data(healthy_CIK_list[25], fields=fields,\n",
    "                                 parameters={'Frq':'Y',\n",
    "                                             'SDate':'2002-01-01',\n",
    "                                             'EDate':'2003-01-01'})\n",
    "# and save the dataframe as a csv file\n",
    "healthy_data.to_csv('data_healthy_CIK/healthy_data26_2002.csv', index=False)\n"
   ]
  },
  {
   "cell_type": "code",
   "execution_count": 157,
   "metadata": {},
   "outputs": [],
   "source": [
    "# twenty-seventh chunck of the healthy data\n",
    "healthy_data, err = ek.get_data(healthy_CIK_list[26], fields=fields,\n",
    "                                 parameters={'Frq':'Y',\n",
    "                                             'SDate':'2002-01-01',\n",
    "                                             'EDate':'2003-01-01'})\n",
    "# and save the dataframe as a csv file\n",
    "healthy_data.to_csv('data_healthy_CIK/healthy_data27_2002.csv', index=False)\n"
   ]
  },
  {
   "cell_type": "code",
   "execution_count": 158,
   "metadata": {},
   "outputs": [],
   "source": [
    "# twenty-eighth chunck of the healthy data\n",
    "healthy_data, err = ek.get_data(healthy_CIK_list[27], fields=fields,\n",
    "                                 parameters={'Frq':'Y',\n",
    "                                             'SDate':'2002-01-01',\n",
    "                                             'EDate':'2003-01-01'})\n",
    "# and save the dataframe as a csv file\n",
    "healthy_data.to_csv('data_healthy_CIK/healthy_data28_2002.csv', index=False)\n"
   ]
  },
  {
   "cell_type": "code",
   "execution_count": 159,
   "metadata": {},
   "outputs": [],
   "source": [
    "# twenty-ninth chunck of the healthy data\n",
    "healthy_data, err = ek.get_data(healthy_CIK_list[28], fields=fields,\n",
    "                                 parameters={'Frq':'Y',\n",
    "                                             'SDate':'2002-01-01',\n",
    "                                             'EDate':'2003-01-01'})\n",
    "# and save the dataframe as a csv file\n",
    "healthy_data.to_csv('data_healthy_CIK/healthy_data29_2002.csv', index=False)\n"
   ]
  },
  {
   "cell_type": "code",
   "execution_count": 160,
   "metadata": {},
   "outputs": [],
   "source": [
    "# thirtieth chunck of the healthy data\n",
    "healthy_data, err = ek.get_data(healthy_CIK_list[29], fields=fields,\n",
    "                                 parameters={'Frq':'Y',\n",
    "                                             'SDate':'2002-01-01',\n",
    "                                             'EDate':'2003-01-01'})\n",
    "# and save the dataframe as a csv file\n",
    "healthy_data.to_csv('data_healthy_CIK/healthy_data30_2002.csv', index=False)\n"
   ]
  },
  {
   "cell_type": "markdown",
   "metadata": {},
   "source": [
    "### 2003"
   ]
  },
  {
   "cell_type": "code",
   "execution_count": 161,
   "metadata": {},
   "outputs": [],
   "source": [
    "# first chuck of the healthy data\n",
    "healthy_data, err = ek.get_data(healthy_CIK_list[0], fields=fields,\n",
    "                                 parameters={'Frq':'Y',\n",
    "                                             'SDate':'2003-01-01',\n",
    "                                             'EDate':'2004-01-01'})\n",
    "# and save the dataframe as a csv file\n",
    "healthy_data.to_csv('data_healthy_CIK/healthy_data01_2003.csv', index=False)\n"
   ]
  },
  {
   "cell_type": "code",
   "execution_count": 162,
   "metadata": {},
   "outputs": [],
   "source": [
    "# second chuck of the healthy data\n",
    "healthy_data, err = ek.get_data(healthy_CIK_list[1], fields=fields,\n",
    "                                 parameters={'Frq':'Y',\n",
    "                                             'SDate':'2003-01-01',\n",
    "                                             'EDate':'2004-01-01'})\n",
    "# and save the dataframe as a csv file\n",
    "healthy_data.to_csv('data_healthy_CIK/healthy_data02_2003.csv', index=False)\n"
   ]
  },
  {
   "cell_type": "code",
   "execution_count": 163,
   "metadata": {},
   "outputs": [],
   "source": [
    "# third chuck of the healthy data\n",
    "healthy_data, err = ek.get_data(healthy_CIK_list[2], fields=fields,\n",
    "                                 parameters={'Frq':'Y',\n",
    "                                             'SDate':'2003-01-01',\n",
    "                                             'EDate':'2004-01-01'})\n",
    "# and save the dataframe as a csv file\n",
    "healthy_data.to_csv('data_healthy_CIK/healthy_data03_2003.csv', index=False)\n"
   ]
  },
  {
   "cell_type": "code",
   "execution_count": 164,
   "metadata": {},
   "outputs": [],
   "source": [
    "# fourth chunck of the healthy data\n",
    "healthy_data, err = ek.get_data(healthy_CIK_list[3], fields=fields,\n",
    "                                 parameters={'Frq':'Y',\n",
    "                                             'SDate':'2003-01-01',\n",
    "                                             'EDate':'2004-01-01'})\n",
    "# and save the dataframe as a csv file\n",
    "healthy_data.to_csv('data_healthy_CIK/healthy_data04_2003.csv', index=False)\n"
   ]
  },
  {
   "cell_type": "code",
   "execution_count": 165,
   "metadata": {},
   "outputs": [],
   "source": [
    "# fifth chunck of the healthy data\n",
    "healthy_data, err = ek.get_data(healthy_CIK_list[4], fields=fields,\n",
    "                                 parameters={'Frq':'Y',\n",
    "                                             'SDate':'2003-01-01',\n",
    "                                             'EDate':'2004-01-01'})\n",
    "# and save the dataframe as a csv file\n",
    "healthy_data.to_csv('data_healthy_CIK/healthy_data05_2003.csv', index=False)\n"
   ]
  },
  {
   "cell_type": "code",
   "execution_count": 166,
   "metadata": {},
   "outputs": [],
   "source": [
    "# sixth chunck of the healthy data\n",
    "healthy_data, err = ek.get_data(healthy_CIK_list[5], fields=fields,\n",
    "                                 parameters={'Frq':'Y',\n",
    "                                             'SDate':'2003-01-01',\n",
    "                                             'EDate':'2004-01-01'})\n",
    "# and save the dataframe as a csv file\n",
    "healthy_data.to_csv('data_healthy_CIK/healthy_data06_2003.csv', index=False)\n"
   ]
  },
  {
   "cell_type": "code",
   "execution_count": 167,
   "metadata": {},
   "outputs": [],
   "source": [
    "# seventh chunck of the healthy data\n",
    "healthy_data, err = ek.get_data(healthy_CIK_list[6], fields=fields,\n",
    "                                 parameters={'Frq':'Y',\n",
    "                                             'SDate':'2003-01-01',\n",
    "                                             'EDate':'2004-01-01'})\n",
    "# and save the dataframe as a csv file\n",
    "healthy_data.to_csv('data_healthy_CIK/healthy_data07_2003.csv', index=False)\n"
   ]
  },
  {
   "cell_type": "code",
   "execution_count": 168,
   "metadata": {},
   "outputs": [],
   "source": [
    "# eighth chunck of the healthy data\n",
    "healthy_data, err = ek.get_data(healthy_CIK_list[7], fields=fields,\n",
    "                                 parameters={'Frq':'Y',\n",
    "                                             'SDate':'2003-01-01',\n",
    "                                             'EDate':'2004-01-01'})\n",
    "# and save the dataframe as a csv file\n",
    "healthy_data.to_csv('data_healthy_CIK/healthy_data08_2003.csv', index=False)\n"
   ]
  },
  {
   "cell_type": "code",
   "execution_count": 169,
   "metadata": {},
   "outputs": [],
   "source": [
    "# ninth chunck of the healthy data\n",
    "healthy_data, err = ek.get_data(healthy_CIK_list[8], fields=fields,\n",
    "                                 parameters={'Frq':'Y',\n",
    "                                             'SDate':'2003-01-01',\n",
    "                                             'EDate':'2004-01-01'})\n",
    "# and save the dataframe as a csv file\n",
    "healthy_data.to_csv('data_healthy_CIK/healthy_data09_2003.csv', index=False)\n"
   ]
  },
  {
   "cell_type": "code",
   "execution_count": 170,
   "metadata": {},
   "outputs": [],
   "source": [
    "# tenth chunck of the healthy data\n",
    "healthy_data, err = ek.get_data(healthy_CIK_list[9], fields=fields,\n",
    "                                 parameters={'Frq':'Y',\n",
    "                                             'SDate':'2003-01-01',\n",
    "                                             'EDate':'2004-01-01'})\n",
    "# and save the dataframe as a csv file\n",
    "healthy_data.to_csv('data_healthy_CIK/healthy_data10_2003.csv', index=False)\n"
   ]
  },
  {
   "cell_type": "code",
   "execution_count": 171,
   "metadata": {},
   "outputs": [],
   "source": [
    "# eleventh chunck of the healthy data\n",
    "healthy_data, err = ek.get_data(healthy_CIK_list[10], fields=fields,\n",
    "                                 parameters={'Frq':'Y',\n",
    "                                             'SDate':'2003-01-01',\n",
    "                                             'EDate':'2004-01-01'})\n",
    "# and save the dataframe as a csv file\n",
    "healthy_data.to_csv('data_healthy_CIK/healthy_data11_2003.csv', index=False)\n"
   ]
  },
  {
   "cell_type": "code",
   "execution_count": 172,
   "metadata": {},
   "outputs": [],
   "source": [
    "# twelfth chunck of the healthy data\n",
    "healthy_data, err = ek.get_data(healthy_CIK_list[11], fields=fields,\n",
    "                                 parameters={'Frq':'Y',\n",
    "                                             'SDate':'2003-01-01',\n",
    "                                             'EDate':'2004-01-01'})\n",
    "# and save the dataframe as a csv file\n",
    "healthy_data.to_csv('data_healthy_CIK/healthy_data12_2003.csv', index=False)\n"
   ]
  },
  {
   "cell_type": "code",
   "execution_count": 173,
   "metadata": {},
   "outputs": [],
   "source": [
    "# thirteenth chunck of the healthy data\n",
    "healthy_data, err = ek.get_data(healthy_CIK_list[12], fields=fields,\n",
    "                                 parameters={'Frq':'Y',\n",
    "                                             'SDate':'2003-01-01',\n",
    "                                             'EDate':'2004-01-01'})\n",
    "# and save the dataframe as a csv file\n",
    "healthy_data.to_csv('data_healthy_CIK/healthy_data13_2003.csv', index=False)\n"
   ]
  },
  {
   "cell_type": "code",
   "execution_count": 174,
   "metadata": {},
   "outputs": [],
   "source": [
    "# fourteenth chunck of the healthy data\n",
    "healthy_data, err = ek.get_data(healthy_CIK_list[13], fields=fields,\n",
    "                                 parameters={'Frq':'Y',\n",
    "                                             'SDate':'2003-01-01',\n",
    "                                             'EDate':'2004-01-01'})\n",
    "# and save the dataframe as a csv file\n",
    "healthy_data.to_csv('data_healthy_CIK/healthy_data14_2003.csv', index=False)\n"
   ]
  },
  {
   "cell_type": "code",
   "execution_count": 175,
   "metadata": {},
   "outputs": [],
   "source": [
    "# fifteenth chunck of the healthy data\n",
    "healthy_data, err = ek.get_data(healthy_CIK_list[14], fields=fields,\n",
    "                                 parameters={'Frq':'Y',\n",
    "                                             'SDate':'2003-01-01',\n",
    "                                             'EDate':'2004-01-01'})\n",
    "# and save the dataframe as a csv file\n",
    "healthy_data.to_csv('data_healthy_CIK/healthy_data15_2003.csv', index=False)\n"
   ]
  },
  {
   "cell_type": "code",
   "execution_count": 176,
   "metadata": {},
   "outputs": [],
   "source": [
    "# sixteenth chunck of the healthy data\n",
    "healthy_data, err = ek.get_data(healthy_CIK_list[15], fields=fields,\n",
    "                                 parameters={'Frq':'Y',\n",
    "                                             'SDate':'2003-01-01',\n",
    "                                             'EDate':'2004-01-01'})\n",
    "# and save the dataframe as a csv file\n",
    "healthy_data.to_csv('data_healthy_CIK/healthy_data16_2003.csv', index=False)\n"
   ]
  },
  {
   "cell_type": "code",
   "execution_count": 177,
   "metadata": {},
   "outputs": [],
   "source": [
    "# seventeenth chunck of the healthy data\n",
    "healthy_data, err = ek.get_data(healthy_CIK_list[16], fields=fields,\n",
    "                                 parameters={'Frq':'Y',\n",
    "                                             'SDate':'2003-01-01',\n",
    "                                             'EDate':'2004-01-01'})\n",
    "# and save the dataframe as a csv file\n",
    "healthy_data.to_csv('data_healthy_CIK/healthy_data17_2003.csv', index=False)\n"
   ]
  },
  {
   "cell_type": "code",
   "execution_count": 178,
   "metadata": {},
   "outputs": [],
   "source": [
    "# eighteenth chunck of the healthy data\n",
    "healthy_data, err = ek.get_data(healthy_CIK_list[17], fields=fields,\n",
    "                                 parameters={'Frq':'Y',\n",
    "                                             'SDate':'2003-01-01',\n",
    "                                             'EDate':'2004-01-01'})\n",
    "# and save the dataframe as a csv file\n",
    "healthy_data.to_csv('data_healthy_CIK/healthy_data18_2003.csv', index=False)\n"
   ]
  },
  {
   "cell_type": "code",
   "execution_count": 179,
   "metadata": {},
   "outputs": [],
   "source": [
    "# nineteenth chunck of the healthy data\n",
    "healthy_data, err = ek.get_data(healthy_CIK_list[18], fields=fields,\n",
    "                                 parameters={'Frq':'Y',\n",
    "                                             'SDate':'2003-01-01',\n",
    "                                             'EDate':'2004-01-01'})\n",
    "# and save the dataframe as a csv file\n",
    "healthy_data.to_csv('data_healthy_CIK/healthy_data19_2003.csv', index=False)\n"
   ]
  },
  {
   "cell_type": "code",
   "execution_count": 180,
   "metadata": {},
   "outputs": [],
   "source": [
    "# twentieth chunck of the healthy data\n",
    "healthy_data, err = ek.get_data(healthy_CIK_list[19], fields=fields,\n",
    "                                 parameters={'Frq':'Y',\n",
    "                                             'SDate':'2003-01-01',\n",
    "                                             'EDate':'2004-01-01'})\n",
    "# and save the dataframe as a csv file\n",
    "healthy_data.to_csv('data_healthy_CIK/healthy_data20_2003.csv', index=False)\n"
   ]
  },
  {
   "cell_type": "code",
   "execution_count": 181,
   "metadata": {},
   "outputs": [],
   "source": [
    "# twenty-first chunck of the healthy data\n",
    "healthy_data, err = ek.get_data(healthy_CIK_list[20], fields=fields,\n",
    "                                 parameters={'Frq':'Y',\n",
    "                                             'SDate':'2003-01-01',\n",
    "                                             'EDate':'2004-01-01'})\n",
    "# and save the dataframe as a csv file\n",
    "healthy_data.to_csv('data_healthy_CIK/healthy_data21_2003.csv', index=False)\n"
   ]
  },
  {
   "cell_type": "code",
   "execution_count": 182,
   "metadata": {},
   "outputs": [],
   "source": [
    "# twenty-second chunck of the healthy data\n",
    "healthy_data, err = ek.get_data(healthy_CIK_list[21], fields=fields,\n",
    "                                 parameters={'Frq':'Y',\n",
    "                                             'SDate':'2003-01-01',\n",
    "                                             'EDate':'2004-01-01'})\n",
    "# and save the dataframe as a csv file\n",
    "healthy_data.to_csv('data_healthy_CIK/healthy_data22_2003.csv', index=False)\n"
   ]
  },
  {
   "cell_type": "code",
   "execution_count": 183,
   "metadata": {},
   "outputs": [],
   "source": [
    "# twenty-third chunck of the healthy data\n",
    "healthy_data, err = ek.get_data(healthy_CIK_list[22], fields=fields,\n",
    "                                 parameters={'Frq':'Y',\n",
    "                                             'SDate':'2003-01-01',\n",
    "                                             'EDate':'2004-01-01'})\n",
    "# and save the dataframe as a csv file\n",
    "healthy_data.to_csv('data_healthy_CIK/healthy_data23_2003.csv', index=False)\n"
   ]
  },
  {
   "cell_type": "code",
   "execution_count": 184,
   "metadata": {},
   "outputs": [],
   "source": [
    "# twenty-fourth chunck of the healthy data\n",
    "healthy_data, err = ek.get_data(healthy_CIK_list[23], fields=fields,\n",
    "                                 parameters={'Frq':'Y',\n",
    "                                             'SDate':'2003-01-01',\n",
    "                                             'EDate':'2004-01-01'})\n",
    "# and save the dataframe as a csv file\n",
    "healthy_data.to_csv('data_healthy_CIK/healthy_data24_2003.csv', index=False)\n"
   ]
  },
  {
   "cell_type": "code",
   "execution_count": 185,
   "metadata": {},
   "outputs": [],
   "source": [
    "# twenty-fifth chunck of the healthy data\n",
    "healthy_data, err = ek.get_data(healthy_CIK_list[24], fields=fields,\n",
    "                                 parameters={'Frq':'Y',\n",
    "                                             'SDate':'2003-01-01',\n",
    "                                             'EDate':'2004-01-01'})\n",
    "# and save the dataframe as a csv file\n",
    "healthy_data.to_csv('data_healthy_CIK/healthy_data25_2003.csv', index=False)\n"
   ]
  },
  {
   "cell_type": "code",
   "execution_count": 186,
   "metadata": {},
   "outputs": [],
   "source": [
    "# twenty-sixth chunck of the healthy data\n",
    "healthy_data, err = ek.get_data(healthy_CIK_list[25], fields=fields,\n",
    "                                 parameters={'Frq':'Y',\n",
    "                                             'SDate':'2003-01-01',\n",
    "                                             'EDate':'2004-01-01'})\n",
    "# and save the dataframe as a csv file\n",
    "healthy_data.to_csv('data_healthy_CIK/healthy_data26_2003.csv', index=False)\n"
   ]
  },
  {
   "cell_type": "code",
   "execution_count": 187,
   "metadata": {},
   "outputs": [],
   "source": [
    "# twenty-seventh chunck of the healthy data\n",
    "healthy_data, err = ek.get_data(healthy_CIK_list[26], fields=fields,\n",
    "                                 parameters={'Frq':'Y',\n",
    "                                             'SDate':'2003-01-01',\n",
    "                                             'EDate':'2004-01-01'})\n",
    "# and save the dataframe as a csv file\n",
    "healthy_data.to_csv('data_healthy_CIK/healthy_data27_2003.csv', index=False)\n"
   ]
  },
  {
   "cell_type": "code",
   "execution_count": 188,
   "metadata": {},
   "outputs": [],
   "source": [
    "# twenty-eighth chunck of the healthy data\n",
    "healthy_data, err = ek.get_data(healthy_CIK_list[27], fields=fields,\n",
    "                                 parameters={'Frq':'Y',\n",
    "                                             'SDate':'2003-01-01',\n",
    "                                             'EDate':'2004-01-01'})\n",
    "# and save the dataframe as a csv file\n",
    "healthy_data.to_csv('data_healthy_CIK/healthy_data28_2003.csv', index=False)\n"
   ]
  },
  {
   "cell_type": "code",
   "execution_count": 189,
   "metadata": {},
   "outputs": [],
   "source": [
    "# twenty-ninth chunck of the healthy data\n",
    "healthy_data, err = ek.get_data(healthy_CIK_list[28], fields=fields,\n",
    "                                 parameters={'Frq':'Y',\n",
    "                                             'SDate':'2003-01-01',\n",
    "                                             'EDate':'2004-01-01'})\n",
    "# and save the dataframe as a csv file\n",
    "healthy_data.to_csv('data_healthy_CIK/healthy_data29_2003.csv', index=False)\n"
   ]
  },
  {
   "cell_type": "markdown",
   "metadata": {},
   "source": [
    "# RUN THE FOLLOWING CELL"
   ]
  },
  {
   "cell_type": "code",
   "execution_count": null,
   "metadata": {},
   "outputs": [],
   "source": [
    "# thirtieth chunck of the healthy data\n",
    "healthy_data, err = ek.get_data(healthy_CIK_list[29], fields=fields,\n",
    "                                 parameters={'Frq':'Y',\n",
    "                                             'SDate':'2003-01-01',\n",
    "                                             'EDate':'2004-01-01'})\n",
    "# and save the dataframe as a csv file\n",
    "healthy_data.to_csv('data_healthy_CIK/healthy_data30_2003.csv', index=False)\n"
   ]
  },
  {
   "cell_type": "markdown",
   "metadata": {},
   "source": [
    "# RUN THE CELL ABOVE"
   ]
  },
  {
   "cell_type": "markdown",
   "metadata": {},
   "source": [
    "### 2004"
   ]
  },
  {
   "cell_type": "code",
   "execution_count": null,
   "metadata": {},
   "outputs": [],
   "source": [
    "# first chuck of the healthy data\n",
    "healthy_data, err = ek.get_data(healthy_CIK_list[0], fields=fields,\n",
    "                                 parameters={'Frq':'Y',\n",
    "                                             'SDate':'2004-01-01',\n",
    "                                             'EDate':'2005-01-01'})\n",
    "# and save the dataframe as a csv file\n",
    "healthy_data.to_csv('data_healthy_CIK/healthy_data01_2004.csv', index=False)\n"
   ]
  },
  {
   "cell_type": "code",
   "execution_count": null,
   "metadata": {},
   "outputs": [],
   "source": [
    "# second chuck of the healthy data\n",
    "healthy_data, err = ek.get_data(healthy_CIK_list[1], fields=fields,\n",
    "                                 parameters={'Frq':'Y',\n",
    "                                             'SDate':'2004-01-01',\n",
    "                                             'EDate':'2005-01-01'})\n",
    "# and save the dataframe as a csv file\n",
    "healthy_data.to_csv('data_healthy_CIK/healthy_data02_2004.csv', index=False)\n"
   ]
  },
  {
   "cell_type": "code",
   "execution_count": null,
   "metadata": {},
   "outputs": [],
   "source": [
    "# third chuck of the healthy data\n",
    "healthy_data, err = ek.get_data(healthy_CIK_list[2], fields=fields,\n",
    "                                 parameters={'Frq':'Y',\n",
    "                                             'SDate':'2004-01-01',\n",
    "                                             'EDate':'2005-01-01'})\n",
    "# and save the dataframe as a csv file\n",
    "healthy_data.to_csv('data_healthy_CIK/healthy_data03_2004.csv', index=False)\n"
   ]
  },
  {
   "cell_type": "code",
   "execution_count": null,
   "metadata": {},
   "outputs": [],
   "source": [
    "# fourth chunck of the healthy data\n",
    "healthy_data, err = ek.get_data(healthy_CIK_list[3], fields=fields,\n",
    "                                 parameters={'Frq':'Y',\n",
    "                                             'SDate':'2004-01-01',\n",
    "                                             'EDate':'2005-01-01'})\n",
    "# and save the dataframe as a csv file\n",
    "healthy_data.to_csv('data_healthy_CIK/healthy_data04_2004.csv', index=False)\n"
   ]
  },
  {
   "cell_type": "code",
   "execution_count": null,
   "metadata": {},
   "outputs": [],
   "source": [
    "# fifth chunck of the healthy data\n",
    "healthy_data, err = ek.get_data(healthy_CIK_list[4], fields=fields,\n",
    "                                 parameters={'Frq':'Y',\n",
    "                                             'SDate':'2004-01-01',\n",
    "                                             'EDate':'2005-01-01'})\n",
    "# and save the dataframe as a csv file\n",
    "healthy_data.to_csv('data_healthy_CIK/healthy_data05_2004.csv', index=False)\n"
   ]
  },
  {
   "cell_type": "code",
   "execution_count": null,
   "metadata": {},
   "outputs": [],
   "source": [
    "# sixth chunck of the healthy data\n",
    "healthy_data, err = ek.get_data(healthy_CIK_list[5], fields=fields,\n",
    "                                 parameters={'Frq':'Y',\n",
    "                                             'SDate':'2004-01-01',\n",
    "                                             'EDate':'2005-01-01'})\n",
    "# and save the dataframe as a csv file\n",
    "healthy_data.to_csv('data_healthy_CIK/healthy_data06_2004.csv', index=False)\n"
   ]
  },
  {
   "cell_type": "code",
   "execution_count": null,
   "metadata": {},
   "outputs": [],
   "source": [
    "# seventh chunck of the healthy data\n",
    "healthy_data, err = ek.get_data(healthy_CIK_list[6], fields=fields,\n",
    "                                 parameters={'Frq':'Y',\n",
    "                                             'SDate':'2004-01-01',\n",
    "                                             'EDate':'2005-01-01'})\n",
    "# and save the dataframe as a csv file\n",
    "healthy_data.to_csv('data_healthy_CIK/healthy_data07_2004.csv', index=False)\n"
   ]
  },
  {
   "cell_type": "code",
   "execution_count": null,
   "metadata": {},
   "outputs": [],
   "source": [
    "# eighth chunck of the healthy data\n",
    "healthy_data, err = ek.get_data(healthy_CIK_list[7], fields=fields,\n",
    "                                 parameters={'Frq':'Y',\n",
    "                                             'SDate':'2004-01-01',\n",
    "                                             'EDate':'2005-01-01'})\n",
    "# and save the dataframe as a csv file\n",
    "healthy_data.to_csv('data_healthy_CIK/healthy_data08_2004.csv', index=False)\n"
   ]
  },
  {
   "cell_type": "code",
   "execution_count": null,
   "metadata": {},
   "outputs": [],
   "source": [
    "# ninth chunck of the healthy data\n",
    "healthy_data, err = ek.get_data(healthy_CIK_list[8], fields=fields,\n",
    "                                 parameters={'Frq':'Y',\n",
    "                                             'SDate':'2004-01-01',\n",
    "                                             'EDate':'2005-01-01'})\n",
    "# and save the dataframe as a csv file\n",
    "healthy_data.to_csv('data_healthy_CIK/healthy_data09_2004.csv', index=False)\n"
   ]
  },
  {
   "cell_type": "code",
   "execution_count": null,
   "metadata": {},
   "outputs": [],
   "source": [
    "# tenth chunck of the healthy data\n",
    "healthy_data, err = ek.get_data(healthy_CIK_list[9], fields=fields,\n",
    "                                 parameters={'Frq':'Y',\n",
    "                                             'SDate':'2004-01-01',\n",
    "                                             'EDate':'2005-01-01'})\n",
    "# and save the dataframe as a csv file\n",
    "healthy_data.to_csv('data_healthy_CIK/healthy_data10_2004.csv', index=False)\n"
   ]
  },
  {
   "cell_type": "code",
   "execution_count": null,
   "metadata": {},
   "outputs": [],
   "source": [
    "# eleventh chunck of the healthy data\n",
    "healthy_data, err = ek.get_data(healthy_CIK_list[10], fields=fields,\n",
    "                                 parameters={'Frq':'Y',\n",
    "                                             'SDate':'2004-01-01',\n",
    "                                             'EDate':'2005-01-01'})\n",
    "# and save the dataframe as a csv file\n",
    "healthy_data.to_csv('data_healthy_CIK/healthy_data11_2004.csv', index=False)\n"
   ]
  },
  {
   "cell_type": "code",
   "execution_count": null,
   "metadata": {},
   "outputs": [],
   "source": [
    "# twelfth chunck of the healthy data\n",
    "healthy_data, err = ek.get_data(healthy_CIK_list[11], fields=fields,\n",
    "                                 parameters={'Frq':'Y',\n",
    "                                             'SDate':'2004-01-01',\n",
    "                                             'EDate':'2005-01-01'})\n",
    "# and save the dataframe as a csv file\n",
    "healthy_data.to_csv('data_healthy_CIK/healthy_data12_2004.csv', index=False)\n"
   ]
  },
  {
   "cell_type": "code",
   "execution_count": null,
   "metadata": {},
   "outputs": [],
   "source": [
    "# thirteenth chunck of the healthy data\n",
    "healthy_data, err = ek.get_data(healthy_CIK_list[12], fields=fields,\n",
    "                                 parameters={'Frq':'Y',\n",
    "                                             'SDate':'2004-01-01',\n",
    "                                             'EDate':'2005-01-01'})\n",
    "# and save the dataframe as a csv file\n",
    "healthy_data.to_csv('data_healthy_CIK/healthy_data13_2004.csv', index=False)\n"
   ]
  },
  {
   "cell_type": "code",
   "execution_count": null,
   "metadata": {},
   "outputs": [],
   "source": [
    "# fourteenth chunck of the healthy data\n",
    "healthy_data, err = ek.get_data(healthy_CIK_list[13], fields=fields,\n",
    "                                 parameters={'Frq':'Y',\n",
    "                                             'SDate':'2004-01-01',\n",
    "                                             'EDate':'2005-01-01'})\n",
    "# and save the dataframe as a csv file\n",
    "healthy_data.to_csv('data_healthy_CIK/healthy_data14_2004.csv', index=False)\n"
   ]
  },
  {
   "cell_type": "code",
   "execution_count": null,
   "metadata": {},
   "outputs": [],
   "source": [
    "# fifteenth chunck of the healthy data\n",
    "healthy_data, err = ek.get_data(healthy_CIK_list[14], fields=fields,\n",
    "                                 parameters={'Frq':'Y',\n",
    "                                             'SDate':'2004-01-01',\n",
    "                                             'EDate':'2005-01-01'})\n",
    "# and save the dataframe as a csv file\n",
    "healthy_data.to_csv('data_healthy_CIK/healthy_data15_2004.csv', index=False)\n"
   ]
  },
  {
   "cell_type": "code",
   "execution_count": null,
   "metadata": {},
   "outputs": [],
   "source": [
    "# sixteenth chunck of the healthy data\n",
    "healthy_data, err = ek.get_data(healthy_CIK_list[15], fields=fields,\n",
    "                                 parameters={'Frq':'Y',\n",
    "                                             'SDate':'2004-01-01',\n",
    "                                             'EDate':'2005-01-01'})\n",
    "# and save the dataframe as a csv file\n",
    "healthy_data.to_csv('data_healthy_CIK/healthy_data16_2004.csv', index=False)\n"
   ]
  },
  {
   "cell_type": "code",
   "execution_count": null,
   "metadata": {},
   "outputs": [],
   "source": [
    "# seventeenth chunck of the healthy data\n",
    "healthy_data, err = ek.get_data(healthy_CIK_list[16], fields=fields,\n",
    "                                 parameters={'Frq':'Y',\n",
    "                                             'SDate':'2004-01-01',\n",
    "                                             'EDate':'2005-01-01'})\n",
    "# and save the dataframe as a csv file\n",
    "healthy_data.to_csv('data_healthy_CIK/healthy_data17_2004.csv', index=False)\n"
   ]
  },
  {
   "cell_type": "code",
   "execution_count": null,
   "metadata": {},
   "outputs": [],
   "source": [
    "# eighteenth chunck of the healthy data\n",
    "healthy_data, err = ek.get_data(healthy_CIK_list[17], fields=fields,\n",
    "                                 parameters={'Frq':'Y',\n",
    "                                             'SDate':'2004-01-01',\n",
    "                                             'EDate':'2005-01-01'})\n",
    "# and save the dataframe as a csv file\n",
    "healthy_data.to_csv('data_healthy_CIK/healthy_data18_2004.csv', index=False)\n"
   ]
  },
  {
   "cell_type": "code",
   "execution_count": null,
   "metadata": {},
   "outputs": [],
   "source": [
    "# nineteenth chunck of the healthy data\n",
    "healthy_data, err = ek.get_data(healthy_CIK_list[18], fields=fields,\n",
    "                                 parameters={'Frq':'Y',\n",
    "                                             'SDate':'2004-01-01',\n",
    "                                             'EDate':'2005-01-01'})\n",
    "# and save the dataframe as a csv file\n",
    "healthy_data.to_csv('data_healthy_CIK/healthy_data19_2004.csv', index=False)\n"
   ]
  },
  {
   "cell_type": "code",
   "execution_count": null,
   "metadata": {},
   "outputs": [],
   "source": [
    "# twentieth chunck of the healthy data\n",
    "healthy_data, err = ek.get_data(healthy_CIK_list[19], fields=fields,\n",
    "                                 parameters={'Frq':'Y',\n",
    "                                             'SDate':'2004-01-01',\n",
    "                                             'EDate':'2005-01-01'})\n",
    "# and save the dataframe as a csv file\n",
    "healthy_data.to_csv('data_healthy_CIK/healthy_data20_2004.csv', index=False)\n"
   ]
  },
  {
   "cell_type": "code",
   "execution_count": null,
   "metadata": {},
   "outputs": [],
   "source": [
    "# twenty-first chunck of the healthy data\n",
    "healthy_data, err = ek.get_data(healthy_CIK_list[20], fields=fields,\n",
    "                                 parameters={'Frq':'Y',\n",
    "                                             'SDate':'2004-01-01',\n",
    "                                             'EDate':'2005-01-01'})\n",
    "# and save the dataframe as a csv file\n",
    "healthy_data.to_csv('data_healthy_CIK/healthy_data21_2004.csv', index=False)\n"
   ]
  },
  {
   "cell_type": "code",
   "execution_count": null,
   "metadata": {},
   "outputs": [],
   "source": [
    "# twenty-second chunck of the healthy data\n",
    "healthy_data, err = ek.get_data(healthy_CIK_list[21], fields=fields,\n",
    "                                 parameters={'Frq':'Y',\n",
    "                                             'SDate':'2004-01-01',\n",
    "                                             'EDate':'2005-01-01'})\n",
    "# and save the dataframe as a csv file\n",
    "healthy_data.to_csv('data_healthy_CIK/healthy_data22_2004.csv', index=False)\n"
   ]
  },
  {
   "cell_type": "code",
   "execution_count": null,
   "metadata": {},
   "outputs": [],
   "source": [
    "# twenty-third chunck of the healthy data\n",
    "healthy_data, err = ek.get_data(healthy_CIK_list[22], fields=fields,\n",
    "                                 parameters={'Frq':'Y',\n",
    "                                             'SDate':'2004-01-01',\n",
    "                                             'EDate':'2005-01-01'})\n",
    "# and save the dataframe as a csv file\n",
    "healthy_data.to_csv('data_healthy_CIK/healthy_data23_2004.csv', index=False)\n"
   ]
  },
  {
   "cell_type": "code",
   "execution_count": null,
   "metadata": {},
   "outputs": [],
   "source": [
    "# twenty-fourth chunck of the healthy data\n",
    "healthy_data, err = ek.get_data(healthy_CIK_list[23], fields=fields,\n",
    "                                 parameters={'Frq':'Y',\n",
    "                                             'SDate':'2004-01-01',\n",
    "                                             'EDate':'2005-01-01'})\n",
    "# and save the dataframe as a csv file\n",
    "healthy_data.to_csv('data_healthy_CIK/healthy_data24_2004.csv', index=False)\n"
   ]
  },
  {
   "cell_type": "code",
   "execution_count": null,
   "metadata": {},
   "outputs": [],
   "source": [
    "# twenty-fifth chunck of the healthy data\n",
    "healthy_data, err = ek.get_data(healthy_CIK_list[24], fields=fields,\n",
    "                                 parameters={'Frq':'Y',\n",
    "                                             'SDate':'2004-01-01',\n",
    "                                             'EDate':'2005-01-01'})\n",
    "# and save the dataframe as a csv file\n",
    "healthy_data.to_csv('data_healthy_CIK/healthy_data25_2004.csv', index=False)\n"
   ]
  },
  {
   "cell_type": "code",
   "execution_count": null,
   "metadata": {},
   "outputs": [],
   "source": [
    "# twenty-sixth chunck of the healthy data\n",
    "healthy_data, err = ek.get_data(healthy_CIK_list[25], fields=fields,\n",
    "                                 parameters={'Frq':'Y',\n",
    "                                             'SDate':'2004-01-01',\n",
    "                                             'EDate':'2005-01-01'})\n",
    "# and save the dataframe as a csv file\n",
    "healthy_data.to_csv('data_healthy_CIK/healthy_data26_2004.csv', index=False)\n"
   ]
  },
  {
   "cell_type": "code",
   "execution_count": null,
   "metadata": {},
   "outputs": [],
   "source": [
    "# twenty-seventh chunck of the healthy data\n",
    "healthy_data, err = ek.get_data(healthy_CIK_list[26], fields=fields,\n",
    "                                 parameters={'Frq':'Y',\n",
    "                                             'SDate':'2004-01-01',\n",
    "                                             'EDate':'2005-01-01'})\n",
    "# and save the dataframe as a csv file\n",
    "healthy_data.to_csv('data_healthy_CIK/healthy_data27_2004.csv', index=False)\n"
   ]
  },
  {
   "cell_type": "code",
   "execution_count": null,
   "metadata": {},
   "outputs": [],
   "source": [
    "# twenty-eighth chunck of the healthy data\n",
    "healthy_data, err = ek.get_data(healthy_CIK_list[27], fields=fields,\n",
    "                                 parameters={'Frq':'Y',\n",
    "                                             'SDate':'2004-01-01',\n",
    "                                             'EDate':'2005-01-01'})\n",
    "# and save the dataframe as a csv file\n",
    "healthy_data.to_csv('data_healthy_CIK/healthy_data28_2004.csv', index=False)\n"
   ]
  },
  {
   "cell_type": "code",
   "execution_count": null,
   "metadata": {},
   "outputs": [],
   "source": [
    "# twenty-ninth chunck of the healthy data\n",
    "healthy_data, err = ek.get_data(healthy_CIK_list[28], fields=fields,\n",
    "                                 parameters={'Frq':'Y',\n",
    "                                             'SDate':'2004-01-01',\n",
    "                                             'EDate':'2005-01-01'})\n",
    "# and save the dataframe as a csv file\n",
    "healthy_data.to_csv('data_healthy_CIK/healthy_data29_2004.csv', index=False)\n"
   ]
  },
  {
   "cell_type": "code",
   "execution_count": null,
   "metadata": {},
   "outputs": [],
   "source": [
    "# thirtieth chunck of the healthy data\n",
    "healthy_data, err = ek.get_data(healthy_CIK_list[29], fields=fields,\n",
    "                                 parameters={'Frq':'Y',\n",
    "                                             'SDate':'2004-01-01',\n",
    "                                             'EDate':'2005-01-01'})\n",
    "# and save the dataframe as a csv file\n",
    "healthy_data.to_csv('data_healthy_CIK/healthy_data30_2004.csv', index=False)\n"
   ]
  },
  {
   "cell_type": "code",
   "execution_count": null,
   "metadata": {},
   "outputs": [],
   "source": [
    "# thirtieth chunck of the healthy data\n",
    "healthy_data, err = ek.get_data(healthy_CIK_list[29], fields=fields,\n",
    "                                 parameters={'Frq':'Y',\n",
    "                                             'SDate':'2004-01-01',\n",
    "                                             'EDate':'2005-01-01'})\n",
    "# and save the dataframe as a csv file\n",
    "healthy_data.to_csv('data_healthy_CIK/healthy_data30_2004.csv', index=False)\n"
   ]
  },
  {
   "cell_type": "markdown",
   "metadata": {},
   "source": [
    "### 2005"
   ]
  },
  {
   "cell_type": "code",
   "execution_count": null,
   "metadata": {},
   "outputs": [],
   "source": [
    "# first chuck of the healthy data\n",
    "healthy_data, err = ek.get_data(healthy_CIK_list[0], fields=fields,\n",
    "                                 parameters={'Frq':'Y',\n",
    "                                             'SDate':'2005-01-01',\n",
    "                                             'EDate':'2006-01-01'})\n",
    "# and save the dataframe as a csv file\n",
    "healthy_data.to_csv('data_healthy_CIK/healthy_data01_2005.csv', index=False)\n"
   ]
  },
  {
   "cell_type": "code",
   "execution_count": null,
   "metadata": {},
   "outputs": [],
   "source": [
    "# second chuck of the healthy data\n",
    "healthy_data, err = ek.get_data(healthy_CIK_list[1], fields=fields,\n",
    "                                 parameters={'Frq':'Y',\n",
    "                                             'SDate':'2005-01-01',\n",
    "                                             'EDate':'2006-01-01'})\n",
    "# and save the dataframe as a csv file\n",
    "healthy_data.to_csv('data_healthy_CIK/healthy_data02_2005.csv', index=False)\n"
   ]
  },
  {
   "cell_type": "code",
   "execution_count": null,
   "metadata": {},
   "outputs": [],
   "source": [
    "# third chuck of the healthy data\n",
    "healthy_data, err = ek.get_data(healthy_CIK_list[2], fields=fields,\n",
    "                                 parameters={'Frq':'Y',\n",
    "                                             'SDate':'2005-01-01',\n",
    "                                             'EDate':'2006-01-01'})\n",
    "# and save the dataframe as a csv file\n",
    "healthy_data.to_csv('data_healthy_CIK/healthy_data03_2005.csv', index=False)\n"
   ]
  },
  {
   "cell_type": "code",
   "execution_count": null,
   "metadata": {},
   "outputs": [],
   "source": [
    "# fourth chunck of the healthy data\n",
    "healthy_data, err = ek.get_data(healthy_CIK_list[3], fields=fields,\n",
    "                                 parameters={'Frq':'Y',\n",
    "                                             'SDate':'2005-01-01',\n",
    "                                             'EDate':'2006-01-01'})\n",
    "# and save the dataframe as a csv file\n",
    "healthy_data.to_csv('data_healthy_CIK/healthy_data04_2005.csv', index=False)\n"
   ]
  },
  {
   "cell_type": "code",
   "execution_count": null,
   "metadata": {},
   "outputs": [],
   "source": [
    "# fifth chunck of the healthy data\n",
    "healthy_data, err = ek.get_data(healthy_CIK_list[4], fields=fields,\n",
    "                                 parameters={'Frq':'Y',\n",
    "                                             'SDate':'2005-01-01',\n",
    "                                             'EDate':'2006-01-01'})\n",
    "# and save the dataframe as a csv file\n",
    "healthy_data.to_csv('data_healthy_CIK/healthy_data05_2005.csv', index=False)\n"
   ]
  },
  {
   "cell_type": "code",
   "execution_count": null,
   "metadata": {},
   "outputs": [],
   "source": [
    "# sixth chunck of the healthy data\n",
    "healthy_data, err = ek.get_data(healthy_CIK_list[5], fields=fields,\n",
    "                                 parameters={'Frq':'Y',\n",
    "                                             'SDate':'2005-01-01',\n",
    "                                             'EDate':'2006-01-01'})\n",
    "# and save the dataframe as a csv file\n",
    "healthy_data.to_csv('data_healthy_CIK/healthy_data06_2005.csv', index=False)\n"
   ]
  },
  {
   "cell_type": "code",
   "execution_count": null,
   "metadata": {},
   "outputs": [],
   "source": [
    "# seventh chunck of the healthy data\n",
    "healthy_data, err = ek.get_data(healthy_CIK_list[6], fields=fields,\n",
    "                                 parameters={'Frq':'Y',\n",
    "                                             'SDate':'2005-01-01',\n",
    "                                             'EDate':'2006-01-01'})\n",
    "# and save the dataframe as a csv file\n",
    "healthy_data.to_csv('data_healthy_CIK/healthy_data07_2005.csv', index=False)\n"
   ]
  },
  {
   "cell_type": "code",
   "execution_count": null,
   "metadata": {},
   "outputs": [],
   "source": [
    "# eighth chunck of the healthy data\n",
    "healthy_data, err = ek.get_data(healthy_CIK_list[7], fields=fields,\n",
    "                                 parameters={'Frq':'Y',\n",
    "                                             'SDate':'2005-01-01',\n",
    "                                             'EDate':'2006-01-01'})\n",
    "# and save the dataframe as a csv file\n",
    "healthy_data.to_csv('data_healthy_CIK/healthy_data08_2005.csv', index=False)\n"
   ]
  },
  {
   "cell_type": "code",
   "execution_count": null,
   "metadata": {},
   "outputs": [],
   "source": [
    "# ninth chunck of the healthy data\n",
    "healthy_data, err = ek.get_data(healthy_CIK_list[8], fields=fields,\n",
    "                                 parameters={'Frq':'Y',\n",
    "                                             'SDate':'2005-01-01',\n",
    "                                             'EDate':'2006-01-01'})\n",
    "# and save the dataframe as a csv file\n",
    "healthy_data.to_csv('data_healthy_CIK/healthy_data09_2005.csv', index=False)\n"
   ]
  },
  {
   "cell_type": "code",
   "execution_count": null,
   "metadata": {},
   "outputs": [],
   "source": [
    "# tenth chunck of the healthy data\n",
    "healthy_data, err = ek.get_data(healthy_CIK_list[9], fields=fields,\n",
    "                                 parameters={'Frq':'Y',\n",
    "                                             'SDate':'2005-01-01',\n",
    "                                             'EDate':'2006-01-01'})\n",
    "# and save the dataframe as a csv file\n",
    "healthy_data.to_csv('data_healthy_CIK/healthy_data10_2005.csv', index=False)\n"
   ]
  },
  {
   "cell_type": "code",
   "execution_count": null,
   "metadata": {},
   "outputs": [],
   "source": [
    "# eleventh chunck of the healthy data\n",
    "healthy_data, err = ek.get_data(healthy_CIK_list[10], fields=fields,\n",
    "                                 parameters={'Frq':'Y',\n",
    "                                             'SDate':'2005-01-01',\n",
    "                                             'EDate':'2006-01-01'})\n",
    "# and save the dataframe as a csv file\n",
    "healthy_data.to_csv('data_healthy_CIK/healthy_data11_2005.csv', index=False)\n"
   ]
  },
  {
   "cell_type": "code",
   "execution_count": null,
   "metadata": {},
   "outputs": [],
   "source": [
    "# twelfth chunck of the healthy data\n",
    "healthy_data, err = ek.get_data(healthy_CIK_list[11], fields=fields,\n",
    "                                 parameters={'Frq':'Y',\n",
    "                                             'SDate':'2005-01-01',\n",
    "                                             'EDate':'2006-01-01'})\n",
    "# and save the dataframe as a csv file\n",
    "healthy_data.to_csv('data_healthy_CIK/healthy_data12_2005.csv', index=False)\n"
   ]
  },
  {
   "cell_type": "code",
   "execution_count": null,
   "metadata": {},
   "outputs": [],
   "source": [
    "# thirteenth chunck of the healthy data\n",
    "healthy_data, err = ek.get_data(healthy_CIK_list[12], fields=fields,\n",
    "                                 parameters={'Frq':'Y',\n",
    "                                             'SDate':'2005-01-01',\n",
    "                                             'EDate':'2006-01-01'})\n",
    "# and save the dataframe as a csv file\n",
    "healthy_data.to_csv('data_healthy_CIK/healthy_data13_2005.csv', index=False)\n"
   ]
  },
  {
   "cell_type": "code",
   "execution_count": null,
   "metadata": {},
   "outputs": [],
   "source": [
    "# fourteenth chunck of the healthy data\n",
    "healthy_data, err = ek.get_data(healthy_CIK_list[13], fields=fields,\n",
    "                                 parameters={'Frq':'Y',\n",
    "                                             'SDate':'2005-01-01',\n",
    "                                             'EDate':'2006-01-01'})\n",
    "# and save the dataframe as a csv file\n",
    "healthy_data.to_csv('data_healthy_CIK/healthy_data14_2005.csv', index=False)\n"
   ]
  },
  {
   "cell_type": "code",
   "execution_count": null,
   "metadata": {},
   "outputs": [],
   "source": [
    "# fifteenth chunck of the healthy data\n",
    "healthy_data, err = ek.get_data(healthy_CIK_list[14], fields=fields,\n",
    "                                 parameters={'Frq':'Y',\n",
    "                                             'SDate':'2005-01-01',\n",
    "                                             'EDate':'2006-01-01'})\n",
    "# and save the dataframe as a csv file\n",
    "healthy_data.to_csv('data_healthy_CIK/healthy_data15_2005.csv', index=False)\n"
   ]
  },
  {
   "cell_type": "code",
   "execution_count": null,
   "metadata": {},
   "outputs": [],
   "source": [
    "# sixteenth chunck of the healthy data\n",
    "healthy_data, err = ek.get_data(healthy_CIK_list[15], fields=fields,\n",
    "                                 parameters={'Frq':'Y',\n",
    "                                             'SDate':'2005-01-01',\n",
    "                                             'EDate':'2006-01-01'})\n",
    "# and save the dataframe as a csv file\n",
    "healthy_data.to_csv('data_healthy_CIK/healthy_data16_2005.csv', index=False)\n"
   ]
  },
  {
   "cell_type": "code",
   "execution_count": null,
   "metadata": {},
   "outputs": [],
   "source": [
    "# seventeenth chunck of the healthy data\n",
    "healthy_data, err = ek.get_data(healthy_CIK_list[16], fields=fields,\n",
    "                                 parameters={'Frq':'Y',\n",
    "                                             'SDate':'2005-01-01',\n",
    "                                             'EDate':'2006-01-01'})\n",
    "# and save the dataframe as a csv file\n",
    "healthy_data.to_csv('data_healthy_CIK/healthy_data17_2005.csv', index=False)\n"
   ]
  },
  {
   "cell_type": "code",
   "execution_count": null,
   "metadata": {},
   "outputs": [],
   "source": [
    "# eighteenth chunck of the healthy data\n",
    "healthy_data, err = ek.get_data(healthy_CIK_list[17], fields=fields,\n",
    "                                 parameters={'Frq':'Y',\n",
    "                                             'SDate':'2005-01-01',\n",
    "                                             'EDate':'2006-01-01'})\n",
    "# and save the dataframe as a csv file\n",
    "healthy_data.to_csv('data_healthy_CIK/healthy_data18_2005.csv', index=False)\n"
   ]
  },
  {
   "cell_type": "code",
   "execution_count": null,
   "metadata": {},
   "outputs": [],
   "source": [
    "# nineteenth chunck of the healthy data\n",
    "healthy_data, err = ek.get_data(healthy_CIK_list[18], fields=fields,\n",
    "                                 parameters={'Frq':'Y',\n",
    "                                             'SDate':'2005-01-01',\n",
    "                                             'EDate':'2006-01-01'})\n",
    "# and save the dataframe as a csv file\n",
    "healthy_data.to_csv('data_healthy_CIK/healthy_data19_2005.csv', index=False)\n"
   ]
  },
  {
   "cell_type": "code",
   "execution_count": null,
   "metadata": {},
   "outputs": [],
   "source": [
    "# twentieth chunck of the healthy data\n",
    "healthy_data, err = ek.get_data(healthy_CIK_list[19], fields=fields,\n",
    "                                 parameters={'Frq':'Y',\n",
    "                                             'SDate':'2005-01-01',\n",
    "                                             'EDate':'2006-01-01'})\n",
    "# and save the dataframe as a csv file\n",
    "healthy_data.to_csv('data_healthy_CIK/healthy_data20_2005.csv', index=False)\n"
   ]
  },
  {
   "cell_type": "code",
   "execution_count": null,
   "metadata": {},
   "outputs": [],
   "source": [
    "# twenty-first chunck of the healthy data\n",
    "healthy_data, err = ek.get_data(healthy_CIK_list[20], fields=fields,\n",
    "                                 parameters={'Frq':'Y',\n",
    "                                             'SDate':'2005-01-01',\n",
    "                                             'EDate':'2006-01-01'})\n",
    "# and save the dataframe as a csv file\n",
    "healthy_data.to_csv('data_healthy_CIK/healthy_data21_2005.csv', index=False)\n"
   ]
  },
  {
   "cell_type": "code",
   "execution_count": null,
   "metadata": {},
   "outputs": [],
   "source": [
    "# twenty-second chunck of the healthy data\n",
    "healthy_data, err = ek.get_data(healthy_CIK_list[21], fields=fields,\n",
    "                                 parameters={'Frq':'Y',\n",
    "                                             'SDate':'2005-01-01',\n",
    "                                             'EDate':'2006-01-01'})\n",
    "# and save the dataframe as a csv file\n",
    "healthy_data.to_csv('data_healthy_CIK/healthy_data22_2005.csv', index=False)\n"
   ]
  },
  {
   "cell_type": "code",
   "execution_count": null,
   "metadata": {},
   "outputs": [],
   "source": [
    "# twenty-third chunck of the healthy data\n",
    "healthy_data, err = ek.get_data(healthy_CIK_list[22], fields=fields,\n",
    "                                 parameters={'Frq':'Y',\n",
    "                                             'SDate':'2005-01-01',\n",
    "                                             'EDate':'2006-01-01'})\n",
    "# and save the dataframe as a csv file\n",
    "healthy_data.to_csv('data_healthy_CIK/healthy_data23_2005.csv', index=False)\n"
   ]
  },
  {
   "cell_type": "code",
   "execution_count": null,
   "metadata": {},
   "outputs": [],
   "source": [
    "# twenty-fourth chunck of the healthy data\n",
    "healthy_data, err = ek.get_data(healthy_CIK_list[23], fields=fields,\n",
    "                                 parameters={'Frq':'Y',\n",
    "                                             'SDate':'2005-01-01',\n",
    "                                             'EDate':'2006-01-01'})\n",
    "# and save the dataframe as a csv file\n",
    "healthy_data.to_csv('data_healthy_CIK/healthy_data24_2005.csv', index=False)\n"
   ]
  },
  {
   "cell_type": "code",
   "execution_count": null,
   "metadata": {},
   "outputs": [],
   "source": [
    "# twenty-fifth chunck of the healthy data\n",
    "healthy_data, err = ek.get_data(healthy_CIK_list[24], fields=fields,\n",
    "                                 parameters={'Frq':'Y',\n",
    "                                             'SDate':'2005-01-01',\n",
    "                                             'EDate':'2006-01-01'})\n",
    "# and save the dataframe as a csv file\n",
    "healthy_data.to_csv('data_healthy_CIK/healthy_data25_2005.csv', index=False)\n"
   ]
  },
  {
   "cell_type": "code",
   "execution_count": null,
   "metadata": {},
   "outputs": [],
   "source": [
    "# twenty-sixth chunck of the healthy data\n",
    "healthy_data, err = ek.get_data(healthy_CIK_list[25], fields=fields,\n",
    "                                 parameters={'Frq':'Y',\n",
    "                                             'SDate':'2005-01-01',\n",
    "                                             'EDate':'2006-01-01'})\n",
    "# and save the dataframe as a csv file\n",
    "healthy_data.to_csv('data_healthy_CIK/healthy_data26_2005.csv', index=False)\n"
   ]
  },
  {
   "cell_type": "code",
   "execution_count": null,
   "metadata": {},
   "outputs": [],
   "source": [
    "# twenty-seventh chunck of the healthy data\n",
    "healthy_data, err = ek.get_data(healthy_CIK_list[26], fields=fields,\n",
    "                                 parameters={'Frq':'Y',\n",
    "                                             'SDate':'2005-01-01',\n",
    "                                             'EDate':'2006-01-01'})\n",
    "# and save the dataframe as a csv file\n",
    "healthy_data.to_csv('data_healthy_CIK/healthy_data27_2005.csv', index=False)\n"
   ]
  },
  {
   "cell_type": "code",
   "execution_count": null,
   "metadata": {},
   "outputs": [],
   "source": [
    "# twenty-eighth chunck of the healthy data\n",
    "healthy_data, err = ek.get_data(healthy_CIK_list[27], fields=fields,\n",
    "                                 parameters={'Frq':'Y',\n",
    "                                             'SDate':'2005-01-01',\n",
    "                                             'EDate':'2006-01-01'})\n",
    "# and save the dataframe as a csv file\n",
    "healthy_data.to_csv('data_healthy_CIK/healthy_data28_2005.csv', index=False)\n"
   ]
  },
  {
   "cell_type": "code",
   "execution_count": null,
   "metadata": {},
   "outputs": [],
   "source": [
    "# twenty-ninth chunck of the healthy data\n",
    "healthy_data, err = ek.get_data(healthy_CIK_list[28], fields=fields,\n",
    "                                 parameters={'Frq':'Y',\n",
    "                                             'SDate':'2005-01-01',\n",
    "                                             'EDate':'2006-01-01'})\n",
    "# and save the dataframe as a csv file\n",
    "healthy_data.to_csv('data_healthy_CIK/healthy_data29_2005.csv', index=False)\n"
   ]
  },
  {
   "cell_type": "code",
   "execution_count": null,
   "metadata": {},
   "outputs": [],
   "source": [
    "# thirtieth chunck of the healthy data\n",
    "healthy_data, err = ek.get_data(healthy_CIK_list[29], fields=fields,\n",
    "                                 parameters={'Frq':'Y',\n",
    "                                             'SDate':'2005-01-01',\n",
    "                                             'EDate':'2006-01-01'})\n",
    "# and save the dataframe as a csv file\n",
    "healthy_data.to_csv('data_healthy_CIK/healthy_data30_2005.csv', index=False)\n"
   ]
  },
  {
   "cell_type": "markdown",
   "metadata": {},
   "source": [
    "### 2006"
   ]
  },
  {
   "cell_type": "code",
   "execution_count": null,
   "metadata": {},
   "outputs": [],
   "source": [
    "# first chuck of the healthy data\n",
    "healthy_data, err = ek.get_data(healthy_CIK_list[0], fields=fields,\n",
    "                                 parameters={'Frq':'Y',\n",
    "                                             'SDate':'2006-01-01',\n",
    "                                             'EDate':'2007-01-01'})\n",
    "# and save the dataframe as a csv file\n",
    "healthy_data.to_csv('data_healthy_CIK/healthy_data01_2006.csv', index=False)\n"
   ]
  },
  {
   "cell_type": "code",
   "execution_count": null,
   "metadata": {},
   "outputs": [],
   "source": [
    "# second chuck of the healthy data\n",
    "healthy_data, err = ek.get_data(healthy_CIK_list[1], fields=fields,\n",
    "                                 parameters={'Frq':'Y',\n",
    "                                             'SDate':'2006-01-01',\n",
    "                                             'EDate':'2007-01-01'})\n",
    "# and save the dataframe as a csv file\n",
    "healthy_data.to_csv('data_healthy_CIK/healthy_data02_2006.csv', index=False)\n"
   ]
  },
  {
   "cell_type": "code",
   "execution_count": null,
   "metadata": {},
   "outputs": [],
   "source": [
    "# third chuck of the healthy data\n",
    "healthy_data, err = ek.get_data(healthy_CIK_list[2], fields=fields,\n",
    "                                 parameters={'Frq':'Y',\n",
    "                                             'SDate':'2006-01-01',\n",
    "                                             'EDate':'2007-01-01'})\n",
    "# and save the dataframe as a csv file\n",
    "healthy_data.to_csv('data_healthy_CIK/healthy_data03_2006.csv', index=False)\n"
   ]
  },
  {
   "cell_type": "code",
   "execution_count": null,
   "metadata": {},
   "outputs": [],
   "source": [
    "# fourth chunck of the healthy data\n",
    "healthy_data, err = ek.get_data(healthy_CIK_list[3], fields=fields,\n",
    "                                 parameters={'Frq':'Y',\n",
    "                                             'SDate':'2006-01-01',\n",
    "                                             'EDate':'2007-01-01'})\n",
    "# and save the dataframe as a csv file\n",
    "healthy_data.to_csv('data_healthy_CIK/healthy_data04_2006.csv', index=False)\n"
   ]
  },
  {
   "cell_type": "code",
   "execution_count": null,
   "metadata": {},
   "outputs": [],
   "source": [
    "# fifth chunck of the healthy data\n",
    "healthy_data, err = ek.get_data(healthy_CIK_list[4], fields=fields,\n",
    "                                 parameters={'Frq':'Y',\n",
    "                                             'SDate':'2006-01-01',\n",
    "                                             'EDate':'2007-01-01'})\n",
    "# and save the dataframe as a csv file\n",
    "healthy_data.to_csv('data_healthy_CIK/healthy_data05_2006.csv', index=False)\n"
   ]
  },
  {
   "cell_type": "code",
   "execution_count": null,
   "metadata": {},
   "outputs": [],
   "source": [
    "# sixth chunck of the healthy data\n",
    "healthy_data, err = ek.get_data(healthy_CIK_list[5], fields=fields,\n",
    "                                 parameters={'Frq':'Y',\n",
    "                                             'SDate':'2006-01-01',\n",
    "                                             'EDate':'2007-01-01'})\n",
    "# and save the dataframe as a csv file\n",
    "healthy_data.to_csv('data_healthy_CIK/healthy_data06_2006.csv', index=False)\n"
   ]
  },
  {
   "cell_type": "code",
   "execution_count": null,
   "metadata": {},
   "outputs": [],
   "source": [
    "# seventh chunck of the healthy data\n",
    "healthy_data, err = ek.get_data(healthy_CIK_list[6], fields=fields,\n",
    "                                 parameters={'Frq':'Y',\n",
    "                                             'SDate':'2006-01-01',\n",
    "                                             'EDate':'2007-01-01'})\n",
    "# and save the dataframe as a csv file\n",
    "healthy_data.to_csv('data_healthy_CIK/healthy_data07_2006.csv', index=False)\n"
   ]
  },
  {
   "cell_type": "code",
   "execution_count": null,
   "metadata": {},
   "outputs": [],
   "source": [
    "# eighth chunck of the healthy data\n",
    "healthy_data, err = ek.get_data(healthy_CIK_list[7], fields=fields,\n",
    "                                 parameters={'Frq':'Y',\n",
    "                                             'SDate':'2006-01-01',\n",
    "                                             'EDate':'2007-01-01'})\n",
    "# and save the dataframe as a csv file\n",
    "healthy_data.to_csv('data_healthy_CIK/healthy_data08_2006.csv', index=False)\n"
   ]
  },
  {
   "cell_type": "code",
   "execution_count": null,
   "metadata": {},
   "outputs": [],
   "source": [
    "# ninth chunck of the healthy data\n",
    "healthy_data, err = ek.get_data(healthy_CIK_list[8], fields=fields,\n",
    "                                 parameters={'Frq':'Y',\n",
    "                                             'SDate':'2006-01-01',\n",
    "                                             'EDate':'2007-01-01'})\n",
    "# and save the dataframe as a csv file\n",
    "healthy_data.to_csv('data_healthy_CIK/healthy_data09_2006.csv', index=False)\n"
   ]
  },
  {
   "cell_type": "code",
   "execution_count": null,
   "metadata": {},
   "outputs": [],
   "source": [
    "# tenth chunck of the healthy data\n",
    "healthy_data, err = ek.get_data(healthy_CIK_list[9], fields=fields,\n",
    "                                 parameters={'Frq':'Y',\n",
    "                                             'SDate':'2006-01-01',\n",
    "                                             'EDate':'2007-01-01'})\n",
    "# and save the dataframe as a csv file\n",
    "healthy_data.to_csv('data_healthy_CIK/healthy_data10_2006.csv', index=False)\n"
   ]
  },
  {
   "cell_type": "code",
   "execution_count": null,
   "metadata": {},
   "outputs": [],
   "source": [
    "# eleventh chunck of the healthy data\n",
    "healthy_data, err = ek.get_data(healthy_CIK_list[10], fields=fields,\n",
    "                                 parameters={'Frq':'Y',\n",
    "                                             'SDate':'2006-01-01',\n",
    "                                             'EDate':'2007-01-01'})\n",
    "# and save the dataframe as a csv file\n",
    "healthy_data.to_csv('data_healthy_CIK/healthy_data11_2006.csv', index=False)\n"
   ]
  },
  {
   "cell_type": "code",
   "execution_count": null,
   "metadata": {},
   "outputs": [],
   "source": [
    "# twelfth chunck of the healthy data\n",
    "healthy_data, err = ek.get_data(healthy_CIK_list[11], fields=fields,\n",
    "                                 parameters={'Frq':'Y',\n",
    "                                             'SDate':'2006-01-01',\n",
    "                                             'EDate':'2007-01-01'})\n",
    "# and save the dataframe as a csv file\n",
    "healthy_data.to_csv('data_healthy_CIK/healthy_data12_2006.csv', index=False)\n"
   ]
  },
  {
   "cell_type": "code",
   "execution_count": null,
   "metadata": {},
   "outputs": [],
   "source": [
    "# thirteenth chunck of the healthy data\n",
    "healthy_data, err = ek.get_data(healthy_CIK_list[12], fields=fields,\n",
    "                                 parameters={'Frq':'Y',\n",
    "                                             'SDate':'2006-01-01',\n",
    "                                             'EDate':'2007-01-01'})\n",
    "# and save the dataframe as a csv file\n",
    "healthy_data.to_csv('data_healthy_CIK/healthy_data13_2006.csv', index=False)\n"
   ]
  },
  {
   "cell_type": "code",
   "execution_count": null,
   "metadata": {},
   "outputs": [],
   "source": [
    "# fourteenth chunck of the healthy data\n",
    "healthy_data, err = ek.get_data(healthy_CIK_list[13], fields=fields,\n",
    "                                 parameters={'Frq':'Y',\n",
    "                                             'SDate':'2006-01-01',\n",
    "                                             'EDate':'2007-01-01'})\n",
    "# and save the dataframe as a csv file\n",
    "healthy_data.to_csv('data_healthy_CIK/healthy_data14_2006.csv', index=False)\n"
   ]
  },
  {
   "cell_type": "code",
   "execution_count": null,
   "metadata": {},
   "outputs": [],
   "source": [
    "# fifteenth chunck of the healthy data\n",
    "healthy_data, err = ek.get_data(healthy_CIK_list[14], fields=fields,\n",
    "                                 parameters={'Frq':'Y',\n",
    "                                             'SDate':'2006-01-01',\n",
    "                                             'EDate':'2007-01-01'})\n",
    "# and save the dataframe as a csv file\n",
    "healthy_data.to_csv('data_healthy_CIK/healthy_data15_2006.csv', index=False)\n"
   ]
  },
  {
   "cell_type": "code",
   "execution_count": null,
   "metadata": {},
   "outputs": [],
   "source": [
    "# sixteenth chunck of the healthy data\n",
    "healthy_data, err = ek.get_data(healthy_CIK_list[15], fields=fields,\n",
    "                                 parameters={'Frq':'Y',\n",
    "                                             'SDate':'2006-01-01',\n",
    "                                             'EDate':'2007-01-01'})\n",
    "# and save the dataframe as a csv file\n",
    "healthy_data.to_csv('data_healthy_CIK/healthy_data16_2006.csv', index=False)\n"
   ]
  },
  {
   "cell_type": "code",
   "execution_count": null,
   "metadata": {},
   "outputs": [],
   "source": [
    "# seventeenth chunck of the healthy data\n",
    "healthy_data, err = ek.get_data(healthy_CIK_list[16], fields=fields,\n",
    "                                 parameters={'Frq':'Y',\n",
    "                                             'SDate':'2006-01-01',\n",
    "                                             'EDate':'2007-01-01'})\n",
    "# and save the dataframe as a csv file\n",
    "healthy_data.to_csv('data_healthy_CIK/healthy_data17_2006.csv', index=False)\n"
   ]
  },
  {
   "cell_type": "code",
   "execution_count": null,
   "metadata": {},
   "outputs": [],
   "source": [
    "# eighteenth chunck of the healthy data\n",
    "healthy_data, err = ek.get_data(healthy_CIK_list[17], fields=fields,\n",
    "                                 parameters={'Frq':'Y',\n",
    "                                             'SDate':'2006-01-01',\n",
    "                                             'EDate':'2007-01-01'})\n",
    "# and save the dataframe as a csv file\n",
    "healthy_data.to_csv('data_healthy_CIK/healthy_data18_2006.csv', index=False)\n"
   ]
  },
  {
   "cell_type": "code",
   "execution_count": null,
   "metadata": {},
   "outputs": [],
   "source": [
    "# nineteenth chunck of the healthy data\n",
    "healthy_data, err = ek.get_data(healthy_CIK_list[18], fields=fields,\n",
    "                                 parameters={'Frq':'Y',\n",
    "                                             'SDate':'2006-01-01',\n",
    "                                             'EDate':'2007-01-01'})\n",
    "# and save the dataframe as a csv file\n",
    "healthy_data.to_csv('data_healthy_CIK/healthy_data19_2006.csv', index=False)\n"
   ]
  },
  {
   "cell_type": "code",
   "execution_count": null,
   "metadata": {},
   "outputs": [],
   "source": [
    "# twentieth chunck of the healthy data\n",
    "healthy_data, err = ek.get_data(healthy_CIK_list[19], fields=fields,\n",
    "                                 parameters={'Frq':'Y',\n",
    "                                             'SDate':'2006-01-01',\n",
    "                                             'EDate':'2007-01-01'})\n",
    "# and save the dataframe as a csv file\n",
    "healthy_data.to_csv('data_healthy_CIK/healthy_data20_2006.csv', index=False)\n"
   ]
  },
  {
   "cell_type": "code",
   "execution_count": null,
   "metadata": {},
   "outputs": [],
   "source": [
    "# twenty-first chunck of the healthy data\n",
    "healthy_data, err = ek.get_data(healthy_CIK_list[20], fields=fields,\n",
    "                                 parameters={'Frq':'Y',\n",
    "                                             'SDate':'2006-01-01',\n",
    "                                             'EDate':'2007-01-01'})\n",
    "# and save the dataframe as a csv file\n",
    "healthy_data.to_csv('data_healthy_CIK/healthy_data21_2006.csv', index=False)\n"
   ]
  },
  {
   "cell_type": "code",
   "execution_count": null,
   "metadata": {},
   "outputs": [],
   "source": [
    "# twenty-second chunck of the healthy data\n",
    "healthy_data, err = ek.get_data(healthy_CIK_list[21], fields=fields,\n",
    "                                 parameters={'Frq':'Y',\n",
    "                                             'SDate':'2006-01-01',\n",
    "                                             'EDate':'2007-01-01'})\n",
    "# and save the dataframe as a csv file\n",
    "healthy_data.to_csv('data_healthy_CIK/healthy_data22_2006.csv', index=False)\n"
   ]
  },
  {
   "cell_type": "code",
   "execution_count": null,
   "metadata": {},
   "outputs": [],
   "source": [
    "# twenty-third chunck of the healthy data\n",
    "healthy_data, err = ek.get_data(healthy_CIK_list[22], fields=fields,\n",
    "                                 parameters={'Frq':'Y',\n",
    "                                             'SDate':'2006-01-01',\n",
    "                                             'EDate':'2007-01-01'})\n",
    "# and save the dataframe as a csv file\n",
    "healthy_data.to_csv('data_healthy_CIK/healthy_data23_2006.csv', index=False)\n"
   ]
  },
  {
   "cell_type": "code",
   "execution_count": null,
   "metadata": {},
   "outputs": [],
   "source": [
    "# twenty-fourth chunck of the healthy data\n",
    "healthy_data, err = ek.get_data(healthy_CIK_list[23], fields=fields,\n",
    "                                 parameters={'Frq':'Y',\n",
    "                                             'SDate':'2006-01-01',\n",
    "                                             'EDate':'2007-01-01'})\n",
    "# and save the dataframe as a csv file\n",
    "healthy_data.to_csv('data_healthy_CIK/healthy_data24_2006.csv', index=False)\n"
   ]
  },
  {
   "cell_type": "code",
   "execution_count": null,
   "metadata": {},
   "outputs": [],
   "source": [
    "# twenty-fifth chunck of the healthy data\n",
    "healthy_data, err = ek.get_data(healthy_CIK_list[24], fields=fields,\n",
    "                                 parameters={'Frq':'Y',\n",
    "                                             'SDate':'2006-01-01',\n",
    "                                             'EDate':'2007-01-01'})\n",
    "# and save the dataframe as a csv file\n",
    "healthy_data.to_csv('data_healthy_CIK/healthy_data25_2006.csv', index=False)\n"
   ]
  },
  {
   "cell_type": "code",
   "execution_count": null,
   "metadata": {},
   "outputs": [],
   "source": [
    "# twenty-sixth chunck of the healthy data\n",
    "healthy_data, err = ek.get_data(healthy_CIK_list[25], fields=fields,\n",
    "                                 parameters={'Frq':'Y',\n",
    "                                             'SDate':'2006-01-01',\n",
    "                                             'EDate':'2007-01-01'})\n",
    "# and save the dataframe as a csv file\n",
    "healthy_data.to_csv('data_healthy_CIK/healthy_data26_2006.csv', index=False)\n"
   ]
  },
  {
   "cell_type": "code",
   "execution_count": null,
   "metadata": {},
   "outputs": [],
   "source": [
    "# twenty-seventh chunck of the healthy data\n",
    "healthy_data, err = ek.get_data(healthy_CIK_list[26], fields=fields,\n",
    "                                 parameters={'Frq':'Y',\n",
    "                                             'SDate':'2006-01-01',\n",
    "                                             'EDate':'2007-01-01'})\n",
    "# and save the dataframe as a csv file\n",
    "healthy_data.to_csv('data_healthy_CIK/healthy_data27_2006.csv', index=False)\n"
   ]
  },
  {
   "cell_type": "code",
   "execution_count": null,
   "metadata": {},
   "outputs": [],
   "source": [
    "# twenty-eighth chunck of the healthy data\n",
    "healthy_data, err = ek.get_data(healthy_CIK_list[27], fields=fields,\n",
    "                                 parameters={'Frq':'Y',\n",
    "                                             'SDate':'2006-01-01',\n",
    "                                             'EDate':'2007-01-01'})\n",
    "# and save the dataframe as a csv file\n",
    "healthy_data.to_csv('data_healthy_CIK/healthy_data28_2006.csv', index=False)\n"
   ]
  },
  {
   "cell_type": "code",
   "execution_count": null,
   "metadata": {},
   "outputs": [],
   "source": [
    "# twenty-ninth chunck of the healthy data\n",
    "healthy_data, err = ek.get_data(healthy_CIK_list[28], fields=fields,\n",
    "                                 parameters={'Frq':'Y',\n",
    "                                             'SDate':'2006-01-01',\n",
    "                                             'EDate':'2007-01-01'})\n",
    "# and save the dataframe as a csv file\n",
    "healthy_data.to_csv('data_healthy_CIK/healthy_data29_2006.csv', index=False)\n"
   ]
  },
  {
   "cell_type": "code",
   "execution_count": null,
   "metadata": {},
   "outputs": [],
   "source": [
    "# thirtieth chunck of the healthy data\n",
    "healthy_data, err = ek.get_data(healthy_CIK_list[29], fields=fields,\n",
    "                                 parameters={'Frq':'Y',\n",
    "                                             'SDate':'2006-01-01',\n",
    "                                             'EDate':'2007-01-01'})\n",
    "# and save the dataframe as a csv file\n",
    "healthy_data.to_csv('data_healthy_CIK/healthy_data30_2006.csv', index=False)\n"
   ]
  },
  {
   "cell_type": "markdown",
   "metadata": {},
   "source": [
    "### 2007"
   ]
  },
  {
   "cell_type": "code",
   "execution_count": null,
   "metadata": {},
   "outputs": [],
   "source": [
    "# first chuck of the healthy data\n",
    "healthy_data, err = ek.get_data(healthy_CIK_list[0], fields=fields,\n",
    "                                 parameters={'Frq':'Y',\n",
    "                                             'SDate':'2007-01-01',\n",
    "                                             'EDate':'2008-01-01'})\n",
    "# and save the dataframe as a csv file\n",
    "healthy_data.to_csv('data_healthy_CIK/healthy_data01_2007.csv', index=False)\n"
   ]
  },
  {
   "cell_type": "code",
   "execution_count": null,
   "metadata": {},
   "outputs": [],
   "source": [
    "# second chuck of the healthy data\n",
    "healthy_data, err = ek.get_data(healthy_CIK_list[1], fields=fields,\n",
    "                                 parameters={'Frq':'Y',\n",
    "                                             'SDate':'2007-01-01',\n",
    "                                             'EDate':'2008-01-01'})\n",
    "# and save the dataframe as a csv file\n",
    "healthy_data.to_csv('data_healthy_CIK/healthy_data02_2007.csv', index=False)\n"
   ]
  },
  {
   "cell_type": "code",
   "execution_count": null,
   "metadata": {},
   "outputs": [],
   "source": [
    "# third chuck of the healthy data\n",
    "healthy_data, err = ek.get_data(healthy_CIK_list[2], fields=fields,\n",
    "                                 parameters={'Frq':'Y',\n",
    "                                             'SDate':'2007-01-01',\n",
    "                                             'EDate':'2008-01-01'})\n",
    "# and save the dataframe as a csv file\n",
    "healthy_data.to_csv('data_healthy_CIK/healthy_data03_2007.csv', index=False)\n"
   ]
  },
  {
   "cell_type": "code",
   "execution_count": null,
   "metadata": {},
   "outputs": [],
   "source": [
    "# fourth chunck of the healthy data\n",
    "healthy_data, err = ek.get_data(healthy_CIK_list[3], fields=fields,\n",
    "                                 parameters={'Frq':'Y',\n",
    "                                             'SDate':'2007-01-01',\n",
    "                                             'EDate':'2008-01-01'})\n",
    "# and save the dataframe as a csv file\n",
    "healthy_data.to_csv('data_healthy_CIK/healthy_data04_2007.csv', index=False)\n"
   ]
  },
  {
   "cell_type": "code",
   "execution_count": null,
   "metadata": {},
   "outputs": [],
   "source": [
    "# fifth chunck of the healthy data\n",
    "healthy_data, err = ek.get_data(healthy_CIK_list[4], fields=fields,\n",
    "                                 parameters={'Frq':'Y',\n",
    "                                             'SDate':'2007-01-01',\n",
    "                                             'EDate':'2008-01-01'})\n",
    "# and save the dataframe as a csv file\n",
    "healthy_data.to_csv('data_healthy_CIK/healthy_data05_2007.csv', index=False)\n"
   ]
  },
  {
   "cell_type": "code",
   "execution_count": null,
   "metadata": {},
   "outputs": [],
   "source": [
    "# sixth chunck of the healthy data\n",
    "healthy_data, err = ek.get_data(healthy_CIK_list[5], fields=fields,\n",
    "                                 parameters={'Frq':'Y',\n",
    "                                             'SDate':'2007-01-01',\n",
    "                                             'EDate':'2008-01-01'})\n",
    "# and save the dataframe as a csv file\n",
    "healthy_data.to_csv('data_healthy_CIK/healthy_data06_2007.csv', index=False)\n"
   ]
  },
  {
   "cell_type": "code",
   "execution_count": null,
   "metadata": {},
   "outputs": [],
   "source": [
    "# seventh chunck of the healthy data\n",
    "healthy_data, err = ek.get_data(healthy_CIK_list[6], fields=fields,\n",
    "                                 parameters={'Frq':'Y',\n",
    "                                             'SDate':'2007-01-01',\n",
    "                                             'EDate':'2008-01-01'})\n",
    "# and save the dataframe as a csv file\n",
    "healthy_data.to_csv('data_healthy_CIK/healthy_data07_2007.csv', index=False)\n"
   ]
  },
  {
   "cell_type": "code",
   "execution_count": null,
   "metadata": {},
   "outputs": [],
   "source": [
    "# eighth chunck of the healthy data\n",
    "healthy_data, err = ek.get_data(healthy_CIK_list[7], fields=fields,\n",
    "                                 parameters={'Frq':'Y',\n",
    "                                             'SDate':'2007-01-01',\n",
    "                                             'EDate':'2008-01-01'})\n",
    "# and save the dataframe as a csv file\n",
    "healthy_data.to_csv('data_healthy_CIK/healthy_data08_2007.csv', index=False)\n"
   ]
  },
  {
   "cell_type": "code",
   "execution_count": null,
   "metadata": {},
   "outputs": [],
   "source": [
    "# ninth chunck of the healthy data\n",
    "healthy_data, err = ek.get_data(healthy_CIK_list[8], fields=fields,\n",
    "                                 parameters={'Frq':'Y',\n",
    "                                             'SDate':'2007-01-01',\n",
    "                                             'EDate':'2008-01-01'})\n",
    "# and save the dataframe as a csv file\n",
    "healthy_data.to_csv('data_healthy_CIK/healthy_data09_2007.csv', index=False)\n"
   ]
  },
  {
   "cell_type": "code",
   "execution_count": null,
   "metadata": {},
   "outputs": [],
   "source": [
    "# tenth chunck of the healthy data\n",
    "healthy_data, err = ek.get_data(healthy_CIK_list[9], fields=fields,\n",
    "                                 parameters={'Frq':'Y',\n",
    "                                             'SDate':'2007-01-01',\n",
    "                                             'EDate':'2008-01-01'})\n",
    "# and save the dataframe as a csv file\n",
    "healthy_data.to_csv('data_healthy_CIK/healthy_data10_2007.csv', index=False)\n"
   ]
  },
  {
   "cell_type": "code",
   "execution_count": null,
   "metadata": {},
   "outputs": [],
   "source": [
    "# eleventh chunck of the healthy data\n",
    "healthy_data, err = ek.get_data(healthy_CIK_list[10], fields=fields,\n",
    "                                 parameters={'Frq':'Y',\n",
    "                                             'SDate':'2007-01-01',\n",
    "                                             'EDate':'2008-01-01'})\n",
    "# and save the dataframe as a csv file\n",
    "healthy_data.to_csv('data_healthy_CIK/healthy_data11_2007.csv', index=False)\n"
   ]
  },
  {
   "cell_type": "code",
   "execution_count": null,
   "metadata": {},
   "outputs": [],
   "source": [
    "# twelfth chunck of the healthy data\n",
    "healthy_data, err = ek.get_data(healthy_CIK_list[11], fields=fields,\n",
    "                                 parameters={'Frq':'Y',\n",
    "                                             'SDate':'2007-01-01',\n",
    "                                             'EDate':'2008-01-01'})\n",
    "# and save the dataframe as a csv file\n",
    "healthy_data.to_csv('data_healthy_CIK/healthy_data12_2007.csv', index=False)\n"
   ]
  },
  {
   "cell_type": "code",
   "execution_count": null,
   "metadata": {},
   "outputs": [],
   "source": [
    "# thirteenth chunck of the healthy data\n",
    "healthy_data, err = ek.get_data(healthy_CIK_list[12], fields=fields,\n",
    "                                 parameters={'Frq':'Y',\n",
    "                                             'SDate':'2007-01-01',\n",
    "                                             'EDate':'2008-01-01'})\n",
    "# and save the dataframe as a csv file\n",
    "healthy_data.to_csv('data_healthy_CIK/healthy_data13_2007.csv', index=False)\n"
   ]
  },
  {
   "cell_type": "code",
   "execution_count": null,
   "metadata": {},
   "outputs": [],
   "source": [
    "# fourteenth chunck of the healthy data\n",
    "healthy_data, err = ek.get_data(healthy_CIK_list[13], fields=fields,\n",
    "                                 parameters={'Frq':'Y',\n",
    "                                             'SDate':'2007-01-01',\n",
    "                                             'EDate':'2008-01-01'})\n",
    "# and save the dataframe as a csv file\n",
    "healthy_data.to_csv('data_healthy_CIK/healthy_data14_2007.csv', index=False)\n"
   ]
  },
  {
   "cell_type": "code",
   "execution_count": null,
   "metadata": {},
   "outputs": [],
   "source": [
    "# fifteenth chunck of the healthy data\n",
    "healthy_data, err = ek.get_data(healthy_CIK_list[14], fields=fields,\n",
    "                                 parameters={'Frq':'Y',\n",
    "                                             'SDate':'2007-01-01',\n",
    "                                             'EDate':'2008-01-01'})\n",
    "# and save the dataframe as a csv file\n",
    "healthy_data.to_csv('data_healthy_CIK/healthy_data15_2007.csv', index=False)\n"
   ]
  },
  {
   "cell_type": "code",
   "execution_count": null,
   "metadata": {},
   "outputs": [],
   "source": [
    "# sixteenth chunck of the healthy data\n",
    "healthy_data, err = ek.get_data(healthy_CIK_list[15], fields=fields,\n",
    "                                 parameters={'Frq':'Y',\n",
    "                                             'SDate':'2007-01-01',\n",
    "                                             'EDate':'2008-01-01'})\n",
    "# and save the dataframe as a csv file\n",
    "healthy_data.to_csv('data_healthy_CIK/healthy_data16_2007.csv', index=False)\n"
   ]
  },
  {
   "cell_type": "code",
   "execution_count": null,
   "metadata": {},
   "outputs": [],
   "source": [
    "# seventeenth chunck of the healthy data\n",
    "healthy_data, err = ek.get_data(healthy_CIK_list[16], fields=fields,\n",
    "                                 parameters={'Frq':'Y',\n",
    "                                             'SDate':'2007-01-01',\n",
    "                                             'EDate':'2008-01-01'})\n",
    "# and save the dataframe as a csv file\n",
    "healthy_data.to_csv('data_healthy_CIK/healthy_data17_2007.csv', index=False)\n"
   ]
  },
  {
   "cell_type": "code",
   "execution_count": null,
   "metadata": {},
   "outputs": [],
   "source": [
    "# eighteenth chunck of the healthy data\n",
    "healthy_data, err = ek.get_data(healthy_CIK_list[17], fields=fields,\n",
    "                                 parameters={'Frq':'Y',\n",
    "                                             'SDate':'2007-01-01',\n",
    "                                             'EDate':'2008-01-01'})\n",
    "# and save the dataframe as a csv file\n",
    "healthy_data.to_csv('data_healthy_CIK/healthy_data18_2007.csv', index=False)\n"
   ]
  },
  {
   "cell_type": "code",
   "execution_count": null,
   "metadata": {},
   "outputs": [],
   "source": [
    "# nineteenth chunck of the healthy data\n",
    "healthy_data, err = ek.get_data(healthy_CIK_list[18], fields=fields,\n",
    "                                 parameters={'Frq':'Y',\n",
    "                                             'SDate':'2007-01-01',\n",
    "                                             'EDate':'2008-01-01'})\n",
    "# and save the dataframe as a csv file\n",
    "healthy_data.to_csv('data_healthy_CIK/healthy_data19_2007.csv', index=False)\n"
   ]
  },
  {
   "cell_type": "code",
   "execution_count": null,
   "metadata": {},
   "outputs": [],
   "source": [
    "# twentieth chunck of the healthy data\n",
    "healthy_data, err = ek.get_data(healthy_CIK_list[19], fields=fields,\n",
    "                                 parameters={'Frq':'Y',\n",
    "                                             'SDate':'2007-01-01',\n",
    "                                             'EDate':'2008-01-01'})\n",
    "# and save the dataframe as a csv file\n",
    "healthy_data.to_csv('data_healthy_CIK/healthy_data20_2007.csv', index=False)\n"
   ]
  },
  {
   "cell_type": "code",
   "execution_count": null,
   "metadata": {},
   "outputs": [],
   "source": [
    "# twenty-first chunck of the healthy data\n",
    "healthy_data, err = ek.get_data(healthy_CIK_list[20], fields=fields,\n",
    "                                 parameters={'Frq':'Y',\n",
    "                                             'SDate':'2007-01-01',\n",
    "                                             'EDate':'2008-01-01'})\n",
    "# and save the dataframe as a csv file\n",
    "healthy_data.to_csv('data_healthy_CIK/healthy_data21_2007.csv', index=False)\n"
   ]
  },
  {
   "cell_type": "code",
   "execution_count": null,
   "metadata": {},
   "outputs": [],
   "source": [
    "# twenty-second chunck of the healthy data\n",
    "healthy_data, err = ek.get_data(healthy_CIK_list[21], fields=fields,\n",
    "                                 parameters={'Frq':'Y',\n",
    "                                             'SDate':'2007-01-01',\n",
    "                                             'EDate':'2008-01-01'})\n",
    "# and save the dataframe as a csv file\n",
    "healthy_data.to_csv('data_healthy_CIK/healthy_data22_2007.csv', index=False)\n"
   ]
  },
  {
   "cell_type": "code",
   "execution_count": null,
   "metadata": {},
   "outputs": [],
   "source": [
    "# twenty-third chunck of the healthy data\n",
    "healthy_data, err = ek.get_data(healthy_CIK_list[22], fields=fields,\n",
    "                                 parameters={'Frq':'Y',\n",
    "                                             'SDate':'2007-01-01',\n",
    "                                             'EDate':'2008-01-01'})\n",
    "# and save the dataframe as a csv file\n",
    "healthy_data.to_csv('data_healthy_CIK/healthy_data23_2007.csv', index=False)\n"
   ]
  },
  {
   "cell_type": "code",
   "execution_count": null,
   "metadata": {},
   "outputs": [],
   "source": [
    "# twenty-fourth chunck of the healthy data\n",
    "healthy_data, err = ek.get_data(healthy_CIK_list[23], fields=fields,\n",
    "                                 parameters={'Frq':'Y',\n",
    "                                             'SDate':'2007-01-01',\n",
    "                                             'EDate':'2008-01-01'})\n",
    "# and save the dataframe as a csv file\n",
    "healthy_data.to_csv('data_healthy_CIK/healthy_data24_2007.csv', index=False)\n"
   ]
  },
  {
   "cell_type": "code",
   "execution_count": null,
   "metadata": {},
   "outputs": [],
   "source": [
    "# twenty-fifth chunck of the healthy data\n",
    "healthy_data, err = ek.get_data(healthy_CIK_list[24], fields=fields,\n",
    "                                 parameters={'Frq':'Y',\n",
    "                                             'SDate':'2007-01-01',\n",
    "                                             'EDate':'2008-01-01'})\n",
    "# and save the dataframe as a csv file\n",
    "healthy_data.to_csv('data_healthy_CIK/healthy_data25_2007.csv', index=False)\n"
   ]
  },
  {
   "cell_type": "code",
   "execution_count": null,
   "metadata": {},
   "outputs": [],
   "source": [
    "# twenty-sixth chunck of the healthy data\n",
    "healthy_data, err = ek.get_data(healthy_CIK_list[25], fields=fields,\n",
    "                                 parameters={'Frq':'Y',\n",
    "                                             'SDate':'2007-01-01',\n",
    "                                             'EDate':'2008-01-01'})\n",
    "# and save the dataframe as a csv file\n",
    "healthy_data.to_csv('data_healthy_CIK/healthy_data26_2007.csv', index=False)\n"
   ]
  },
  {
   "cell_type": "code",
   "execution_count": null,
   "metadata": {},
   "outputs": [],
   "source": [
    "# twenty-seventh chunck of the healthy data\n",
    "healthy_data, err = ek.get_data(healthy_CIK_list[26], fields=fields,\n",
    "                                 parameters={'Frq':'Y',\n",
    "                                             'SDate':'2007-01-01',\n",
    "                                             'EDate':'2008-01-01'})\n",
    "# and save the dataframe as a csv file\n",
    "healthy_data.to_csv('data_healthy_CIK/healthy_data27_2007.csv', index=False)\n"
   ]
  },
  {
   "cell_type": "code",
   "execution_count": null,
   "metadata": {},
   "outputs": [],
   "source": [
    "# twenty-eighth chunck of the healthy data\n",
    "healthy_data, err = ek.get_data(healthy_CIK_list[27], fields=fields,\n",
    "                                 parameters={'Frq':'Y',\n",
    "                                             'SDate':'2007-01-01',\n",
    "                                             'EDate':'2008-01-01'})\n",
    "# and save the dataframe as a csv file\n",
    "healthy_data.to_csv('data_healthy_CIK/healthy_data28_2007.csv', index=False)\n"
   ]
  },
  {
   "cell_type": "code",
   "execution_count": null,
   "metadata": {},
   "outputs": [],
   "source": [
    "# twenty-ninth chunck of the healthy data\n",
    "healthy_data, err = ek.get_data(healthy_CIK_list[28], fields=fields,\n",
    "                                 parameters={'Frq':'Y',\n",
    "                                             'SDate':'2007-01-01',\n",
    "                                             'EDate':'2008-01-01'})\n",
    "# and save the dataframe as a csv file\n",
    "healthy_data.to_csv('data_healthy_CIK/healthy_data29_2007.csv', index=False)\n"
   ]
  },
  {
   "cell_type": "code",
   "execution_count": null,
   "metadata": {},
   "outputs": [],
   "source": [
    "# thirtieth chunck of the healthy data\n",
    "healthy_data, err = ek.get_data(healthy_CIK_list[29], fields=fields,\n",
    "                                 parameters={'Frq':'Y',\n",
    "                                             'SDate':'2007-01-01',\n",
    "                                             'EDate':'2008-01-01'})\n",
    "# and save the dataframe as a csv file\n",
    "healthy_data.to_csv('data_healthy_CIK/healthy_data30_2007.csv', index=False)\n"
   ]
  },
  {
   "cell_type": "markdown",
   "metadata": {},
   "source": [
    "### 2008"
   ]
  },
  {
   "cell_type": "code",
   "execution_count": null,
   "metadata": {},
   "outputs": [],
   "source": [
    "# first chuck of the healthy data\n",
    "healthy_data, err = ek.get_data(healthy_CIK_list[0], fields=fields,\n",
    "                                 parameters={'Frq':'Y',\n",
    "                                             'SDate':'2008-01-01',\n",
    "                                             'EDate':'2009-01-01'})\n",
    "# and save the dataframe as a csv file\n",
    "healthy_data.to_csv('data_healthy_CIK/healthy_data01_2008.csv', index=False)\n"
   ]
  },
  {
   "cell_type": "code",
   "execution_count": null,
   "metadata": {},
   "outputs": [],
   "source": [
    "# second chuck of the healthy data\n",
    "healthy_data, err = ek.get_data(healthy_CIK_list[1], fields=fields,\n",
    "                                 parameters={'Frq':'Y',\n",
    "                                             'SDate':'2008-01-01',\n",
    "                                             'EDate':'2009-01-01'})\n",
    "# and save the dataframe as a csv file\n",
    "healthy_data.to_csv('data_healthy_CIK/healthy_data02_2008.csv', index=False)\n"
   ]
  },
  {
   "cell_type": "code",
   "execution_count": null,
   "metadata": {},
   "outputs": [],
   "source": [
    "# third chuck of the healthy data\n",
    "healthy_data, err = ek.get_data(healthy_CIK_list[2], fields=fields,\n",
    "                                 parameters={'Frq':'Y',\n",
    "                                             'SDate':'2008-01-01',\n",
    "                                             'EDate':'2009-01-01'})\n",
    "# and save the dataframe as a csv file\n",
    "healthy_data.to_csv('data_healthy_CIK/healthy_data03_2008.csv', index=False)\n"
   ]
  },
  {
   "cell_type": "code",
   "execution_count": null,
   "metadata": {},
   "outputs": [],
   "source": [
    "# fourth chunck of the healthy data\n",
    "healthy_data, err = ek.get_data(healthy_CIK_list[3], fields=fields,\n",
    "                                 parameters={'Frq':'Y',\n",
    "                                             'SDate':'2008-01-01',\n",
    "                                             'EDate':'2009-01-01'})\n",
    "# and save the dataframe as a csv file\n",
    "healthy_data.to_csv('data_healthy_CIK/healthy_data04_2008.csv', index=False)\n"
   ]
  },
  {
   "cell_type": "code",
   "execution_count": null,
   "metadata": {},
   "outputs": [],
   "source": [
    "# fifth chunck of the healthy data\n",
    "healthy_data, err = ek.get_data(healthy_CIK_list[4], fields=fields,\n",
    "                                 parameters={'Frq':'Y',\n",
    "                                             'SDate':'2008-01-01',\n",
    "                                             'EDate':'2009-01-01'})\n",
    "# and save the dataframe as a csv file\n",
    "healthy_data.to_csv('data_healthy_CIK/healthy_data05_2008.csv', index=False)\n"
   ]
  },
  {
   "cell_type": "code",
   "execution_count": null,
   "metadata": {},
   "outputs": [],
   "source": [
    "# sixth chunck of the healthy data\n",
    "healthy_data, err = ek.get_data(healthy_CIK_list[5], fields=fields,\n",
    "                                 parameters={'Frq':'Y',\n",
    "                                             'SDate':'2008-01-01',\n",
    "                                             'EDate':'2009-01-01'})\n",
    "# and save the dataframe as a csv file\n",
    "healthy_data.to_csv('data_healthy_CIK/healthy_data06_2008.csv', index=False)\n"
   ]
  },
  {
   "cell_type": "code",
   "execution_count": null,
   "metadata": {},
   "outputs": [],
   "source": [
    "# seventh chunck of the healthy data\n",
    "healthy_data, err = ek.get_data(healthy_CIK_list[6], fields=fields,\n",
    "                                 parameters={'Frq':'Y',\n",
    "                                             'SDate':'2008-01-01',\n",
    "                                             'EDate':'2009-01-01'})\n",
    "# and save the dataframe as a csv file\n",
    "healthy_data.to_csv('data_healthy_CIK/healthy_data07_2008.csv', index=False)\n"
   ]
  },
  {
   "cell_type": "code",
   "execution_count": null,
   "metadata": {},
   "outputs": [],
   "source": [
    "# eighth chunck of the healthy data\n",
    "healthy_data, err = ek.get_data(healthy_CIK_list[7], fields=fields,\n",
    "                                 parameters={'Frq':'Y',\n",
    "                                             'SDate':'2008-01-01',\n",
    "                                             'EDate':'2009-01-01'})\n",
    "# and save the dataframe as a csv file\n",
    "healthy_data.to_csv('data_healthy_CIK/healthy_data08_2008.csv', index=False)\n"
   ]
  },
  {
   "cell_type": "code",
   "execution_count": null,
   "metadata": {},
   "outputs": [],
   "source": [
    "# ninth chunck of the healthy data\n",
    "healthy_data, err = ek.get_data(healthy_CIK_list[8], fields=fields,\n",
    "                                 parameters={'Frq':'Y',\n",
    "                                             'SDate':'2008-01-01',\n",
    "                                             'EDate':'2009-01-01'})\n",
    "# and save the dataframe as a csv file\n",
    "healthy_data.to_csv('data_healthy_CIK/healthy_data09_2008.csv', index=False)\n"
   ]
  },
  {
   "cell_type": "code",
   "execution_count": null,
   "metadata": {},
   "outputs": [],
   "source": [
    "# tenth chunck of the healthy data\n",
    "healthy_data, err = ek.get_data(healthy_CIK_list[9], fields=fields,\n",
    "                                 parameters={'Frq':'Y',\n",
    "                                             'SDate':'2008-01-01',\n",
    "                                             'EDate':'2009-01-01'})\n",
    "# and save the dataframe as a csv file\n",
    "healthy_data.to_csv('data_healthy_CIK/healthy_data10_2008.csv', index=False)\n"
   ]
  },
  {
   "cell_type": "code",
   "execution_count": null,
   "metadata": {},
   "outputs": [],
   "source": [
    "# eleventh chunck of the healthy data\n",
    "healthy_data, err = ek.get_data(healthy_CIK_list[10], fields=fields,\n",
    "                                 parameters={'Frq':'Y',\n",
    "                                             'SDate':'2008-01-01',\n",
    "                                             'EDate':'2009-01-01'})\n",
    "# and save the dataframe as a csv file\n",
    "healthy_data.to_csv('data_healthy_CIK/healthy_data11_2008.csv', index=False)\n"
   ]
  },
  {
   "cell_type": "code",
   "execution_count": null,
   "metadata": {},
   "outputs": [],
   "source": [
    "# twelfth chunck of the healthy data\n",
    "healthy_data, err = ek.get_data(healthy_CIK_list[11], fields=fields,\n",
    "                                 parameters={'Frq':'Y',\n",
    "                                             'SDate':'2008-01-01',\n",
    "                                             'EDate':'2009-01-01'})\n",
    "# and save the dataframe as a csv file\n",
    "healthy_data.to_csv('data_healthy_CIK/healthy_data12_2008.csv', index=False)\n"
   ]
  },
  {
   "cell_type": "code",
   "execution_count": null,
   "metadata": {},
   "outputs": [],
   "source": [
    "# thirteenth chunck of the healthy data\n",
    "healthy_data, err = ek.get_data(healthy_CIK_list[12], fields=fields,\n",
    "                                 parameters={'Frq':'Y',\n",
    "                                             'SDate':'2008-01-01',\n",
    "                                             'EDate':'2009-01-01'})\n",
    "# and save the dataframe as a csv file\n",
    "healthy_data.to_csv('data_healthy_CIK/healthy_data13_2008.csv', index=False)\n"
   ]
  },
  {
   "cell_type": "code",
   "execution_count": null,
   "metadata": {},
   "outputs": [],
   "source": [
    "# fourteenth chunck of the healthy data\n",
    "healthy_data, err = ek.get_data(healthy_CIK_list[13], fields=fields,\n",
    "                                 parameters={'Frq':'Y',\n",
    "                                             'SDate':'2008-01-01',\n",
    "                                             'EDate':'2009-01-01'})\n",
    "# and save the dataframe as a csv file\n",
    "healthy_data.to_csv('data_healthy_CIK/healthy_data14_2008.csv', index=False)\n"
   ]
  },
  {
   "cell_type": "code",
   "execution_count": null,
   "metadata": {},
   "outputs": [],
   "source": [
    "# fifteenth chunck of the healthy data\n",
    "healthy_data, err = ek.get_data(healthy_CIK_list[14], fields=fields,\n",
    "                                 parameters={'Frq':'Y',\n",
    "                                             'SDate':'2008-01-01',\n",
    "                                             'EDate':'2009-01-01'})\n",
    "# and save the dataframe as a csv file\n",
    "healthy_data.to_csv('data_healthy_CIK/healthy_data15_2008.csv', index=False)\n"
   ]
  },
  {
   "cell_type": "code",
   "execution_count": null,
   "metadata": {},
   "outputs": [],
   "source": [
    "# sixteenth chunck of the healthy data\n",
    "healthy_data, err = ek.get_data(healthy_CIK_list[15], fields=fields,\n",
    "                                 parameters={'Frq':'Y',\n",
    "                                             'SDate':'2008-01-01',\n",
    "                                             'EDate':'2009-01-01'})\n",
    "# and save the dataframe as a csv file\n",
    "healthy_data.to_csv('data_healthy_CIK/healthy_data16_2008.csv', index=False)\n"
   ]
  },
  {
   "cell_type": "code",
   "execution_count": null,
   "metadata": {},
   "outputs": [],
   "source": [
    "# seventeenth chunck of the healthy data\n",
    "healthy_data, err = ek.get_data(healthy_CIK_list[16], fields=fields,\n",
    "                                 parameters={'Frq':'Y',\n",
    "                                             'SDate':'2008-01-01',\n",
    "                                             'EDate':'2009-01-01'})\n",
    "# and save the dataframe as a csv file\n",
    "healthy_data.to_csv('data_healthy_CIK/healthy_data17_2008.csv', index=False)\n"
   ]
  },
  {
   "cell_type": "code",
   "execution_count": null,
   "metadata": {},
   "outputs": [],
   "source": [
    "# eighteenth chunck of the healthy data\n",
    "healthy_data, err = ek.get_data(healthy_CIK_list[17], fields=fields,\n",
    "                                 parameters={'Frq':'Y',\n",
    "                                             'SDate':'2008-01-01',\n",
    "                                             'EDate':'2009-01-01'})\n",
    "# and save the dataframe as a csv file\n",
    "healthy_data.to_csv('data_healthy_CIK/healthy_data18_2008.csv', index=False)\n"
   ]
  },
  {
   "cell_type": "code",
   "execution_count": null,
   "metadata": {},
   "outputs": [],
   "source": [
    "# nineteenth chunck of the healthy data\n",
    "healthy_data, err = ek.get_data(healthy_CIK_list[18], fields=fields,\n",
    "                                 parameters={'Frq':'Y',\n",
    "                                             'SDate':'2008-01-01',\n",
    "                                             'EDate':'2009-01-01'})\n",
    "# and save the dataframe as a csv file\n",
    "healthy_data.to_csv('data_healthy_CIK/healthy_data19_2008.csv', index=False)\n"
   ]
  },
  {
   "cell_type": "code",
   "execution_count": null,
   "metadata": {},
   "outputs": [],
   "source": [
    "# twentieth chunck of the healthy data\n",
    "healthy_data, err = ek.get_data(healthy_CIK_list[19], fields=fields,\n",
    "                                 parameters={'Frq':'Y',\n",
    "                                             'SDate':'2008-01-01',\n",
    "                                             'EDate':'2009-01-01'})\n",
    "# and save the dataframe as a csv file\n",
    "healthy_data.to_csv('data_healthy_CIK/healthy_data20_2008.csv', index=False)\n"
   ]
  },
  {
   "cell_type": "code",
   "execution_count": null,
   "metadata": {},
   "outputs": [],
   "source": [
    "# twenty-first chunck of the healthy data\n",
    "healthy_data, err = ek.get_data(healthy_CIK_list[20], fields=fields,\n",
    "                                 parameters={'Frq':'Y',\n",
    "                                             'SDate':'2008-01-01',\n",
    "                                             'EDate':'2009-01-01'})\n",
    "# and save the dataframe as a csv file\n",
    "healthy_data.to_csv('data_healthy_CIK/healthy_data21_2008.csv', index=False)\n"
   ]
  },
  {
   "cell_type": "code",
   "execution_count": null,
   "metadata": {},
   "outputs": [],
   "source": [
    "# twenty-second chunck of the healthy data\n",
    "healthy_data, err = ek.get_data(healthy_CIK_list[21], fields=fields,\n",
    "                                 parameters={'Frq':'Y',\n",
    "                                             'SDate':'2008-01-01',\n",
    "                                             'EDate':'2009-01-01'})\n",
    "# and save the dataframe as a csv file\n",
    "healthy_data.to_csv('data_healthy_CIK/healthy_data22_2008.csv', index=False)\n"
   ]
  },
  {
   "cell_type": "code",
   "execution_count": null,
   "metadata": {},
   "outputs": [],
   "source": [
    "# twenty-third chunck of the healthy data\n",
    "healthy_data, err = ek.get_data(healthy_CIK_list[22], fields=fields,\n",
    "                                 parameters={'Frq':'Y',\n",
    "                                             'SDate':'2008-01-01',\n",
    "                                             'EDate':'2009-01-01'})\n",
    "# and save the dataframe as a csv file\n",
    "healthy_data.to_csv('data_healthy_CIK/healthy_data23_2008.csv', index=False)\n"
   ]
  },
  {
   "cell_type": "code",
   "execution_count": null,
   "metadata": {},
   "outputs": [],
   "source": [
    "# twenty-fourth chunck of the healthy data\n",
    "healthy_data, err = ek.get_data(healthy_CIK_list[23], fields=fields,\n",
    "                                 parameters={'Frq':'Y',\n",
    "                                             'SDate':'2008-01-01',\n",
    "                                             'EDate':'2009-01-01'})\n",
    "# and save the dataframe as a csv file\n",
    "healthy_data.to_csv('data_healthy_CIK/healthy_data24_2008.csv', index=False)\n"
   ]
  },
  {
   "cell_type": "code",
   "execution_count": null,
   "metadata": {},
   "outputs": [],
   "source": [
    "# twenty-fifth chunck of the healthy data\n",
    "healthy_data, err = ek.get_data(healthy_CIK_list[24], fields=fields,\n",
    "                                 parameters={'Frq':'Y',\n",
    "                                             'SDate':'2008-01-01',\n",
    "                                             'EDate':'2009-01-01'})\n",
    "# and save the dataframe as a csv file\n",
    "healthy_data.to_csv('data_healthy_CIK/healthy_data25_2008.csv', index=False)\n"
   ]
  },
  {
   "cell_type": "code",
   "execution_count": null,
   "metadata": {},
   "outputs": [],
   "source": [
    "# twenty-sixth chunck of the healthy data\n",
    "healthy_data, err = ek.get_data(healthy_CIK_list[25], fields=fields,\n",
    "                                 parameters={'Frq':'Y',\n",
    "                                             'SDate':'2008-01-01',\n",
    "                                             'EDate':'2009-01-01'})\n",
    "# and save the dataframe as a csv file\n",
    "healthy_data.to_csv('data_healthy_CIK/healthy_data26_2008.csv', index=False)\n"
   ]
  },
  {
   "cell_type": "code",
   "execution_count": null,
   "metadata": {},
   "outputs": [],
   "source": [
    "# twenty-seventh chunck of the healthy data\n",
    "healthy_data, err = ek.get_data(healthy_CIK_list[26], fields=fields,\n",
    "                                 parameters={'Frq':'Y',\n",
    "                                             'SDate':'2008-01-01',\n",
    "                                             'EDate':'2009-01-01'})\n",
    "# and save the dataframe as a csv file\n",
    "healthy_data.to_csv('data_healthy_CIK/healthy_data27_2008.csv', index=False)\n"
   ]
  },
  {
   "cell_type": "code",
   "execution_count": null,
   "metadata": {},
   "outputs": [],
   "source": [
    "# twenty-eighth chunck of the healthy data\n",
    "healthy_data, err = ek.get_data(healthy_CIK_list[27], fields=fields,\n",
    "                                 parameters={'Frq':'Y',\n",
    "                                             'SDate':'2008-01-01',\n",
    "                                             'EDate':'2009-01-01'})\n",
    "# and save the dataframe as a csv file\n",
    "healthy_data.to_csv('data_healthy_CIK/healthy_data28_2008.csv', index=False)\n"
   ]
  },
  {
   "cell_type": "code",
   "execution_count": null,
   "metadata": {},
   "outputs": [],
   "source": [
    "# twenty-ninth chunck of the healthy data\n",
    "healthy_data, err = ek.get_data(healthy_CIK_list[28], fields=fields,\n",
    "                                 parameters={'Frq':'Y',\n",
    "                                             'SDate':'2008-01-01',\n",
    "                                             'EDate':'2009-01-01'})\n",
    "# and save the dataframe as a csv file\n",
    "healthy_data.to_csv('data_healthy_CIK/healthy_data29_2008.csv', index=False)\n"
   ]
  },
  {
   "cell_type": "code",
   "execution_count": null,
   "metadata": {},
   "outputs": [],
   "source": [
    "# thirtieth chunck of the healthy data\n",
    "healthy_data, err = ek.get_data(healthy_CIK_list[29], fields=fields,\n",
    "                                 parameters={'Frq':'Y',\n",
    "                                             'SDate':'2008-01-01',\n",
    "                                             'EDate':'2009-01-01'})\n",
    "# and save the dataframe as a csv file\n",
    "healthy_data.to_csv('data_healthy_CIK/healthy_data30_2008.csv', index=False)\n"
   ]
  },
  {
   "cell_type": "markdown",
   "metadata": {},
   "source": [
    "### 2009"
   ]
  },
  {
   "cell_type": "code",
   "execution_count": null,
   "metadata": {},
   "outputs": [],
   "source": [
    "# first chuck of the healthy data\n",
    "healthy_data, err = ek.get_data(healthy_CIK_list[0], fields=fields,\n",
    "                                 parameters={'Frq':'Y',\n",
    "                                             'SDate':'2009-01-01',\n",
    "                                             'EDate':'2010-01-01'})\n",
    "# and save the dataframe as a csv file\n",
    "healthy_data.to_csv('data_healthy_CIK/healthy_data01_2009.csv', index=False)\n"
   ]
  },
  {
   "cell_type": "code",
   "execution_count": null,
   "metadata": {},
   "outputs": [],
   "source": [
    "# second chuck of the healthy data\n",
    "healthy_data, err = ek.get_data(healthy_CIK_list[1], fields=fields,\n",
    "                                 parameters={'Frq':'Y',\n",
    "                                             'SDate':'2009-01-01',\n",
    "                                             'EDate':'2010-01-01'})\n",
    "# and save the dataframe as a csv file\n",
    "healthy_data.to_csv('data_healthy_CIK/healthy_data02_2009.csv', index=False)\n"
   ]
  },
  {
   "cell_type": "code",
   "execution_count": null,
   "metadata": {},
   "outputs": [],
   "source": [
    "# third chuck of the healthy data\n",
    "healthy_data, err = ek.get_data(healthy_CIK_list[2], fields=fields,\n",
    "                                 parameters={'Frq':'Y',\n",
    "                                             'SDate':'2009-01-01',\n",
    "                                             'EDate':'2010-01-01'})\n",
    "# and save the dataframe as a csv file\n",
    "healthy_data.to_csv('data_healthy_CIK/healthy_data03_2009.csv', index=False)\n"
   ]
  },
  {
   "cell_type": "code",
   "execution_count": null,
   "metadata": {},
   "outputs": [],
   "source": [
    "# fourth chunck of the healthy data\n",
    "healthy_data, err = ek.get_data(healthy_CIK_list[3], fields=fields,\n",
    "                                 parameters={'Frq':'Y',\n",
    "                                             'SDate':'2009-01-01',\n",
    "                                             'EDate':'2010-01-01'})\n",
    "# and save the dataframe as a csv file\n",
    "healthy_data.to_csv('data_healthy_CIK/healthy_data04_2009.csv', index=False)\n"
   ]
  },
  {
   "cell_type": "code",
   "execution_count": null,
   "metadata": {},
   "outputs": [],
   "source": [
    "# fifth chunck of the healthy data\n",
    "healthy_data, err = ek.get_data(healthy_CIK_list[4], fields=fields,\n",
    "                                 parameters={'Frq':'Y',\n",
    "                                             'SDate':'2009-01-01',\n",
    "                                             'EDate':'2010-01-01'})\n",
    "# and save the dataframe as a csv file\n",
    "healthy_data.to_csv('data_healthy_CIK/healthy_data05_2009.csv', index=False)\n"
   ]
  },
  {
   "cell_type": "code",
   "execution_count": null,
   "metadata": {},
   "outputs": [],
   "source": [
    "# sixth chunck of the healthy data\n",
    "healthy_data, err = ek.get_data(healthy_CIK_list[5], fields=fields,\n",
    "                                 parameters={'Frq':'Y',\n",
    "                                             'SDate':'2009-01-01',\n",
    "                                             'EDate':'2010-01-01'})\n",
    "# and save the dataframe as a csv file\n",
    "healthy_data.to_csv('data_healthy_CIK/healthy_data06_2009.csv', index=False)\n"
   ]
  },
  {
   "cell_type": "code",
   "execution_count": null,
   "metadata": {},
   "outputs": [],
   "source": [
    "# seventh chunck of the healthy data\n",
    "healthy_data, err = ek.get_data(healthy_CIK_list[6], fields=fields,\n",
    "                                 parameters={'Frq':'Y',\n",
    "                                             'SDate':'2009-01-01',\n",
    "                                             'EDate':'2010-01-01'})\n",
    "# and save the dataframe as a csv file\n",
    "healthy_data.to_csv('data_healthy_CIK/healthy_data07_2009.csv', index=False)\n"
   ]
  },
  {
   "cell_type": "code",
   "execution_count": null,
   "metadata": {},
   "outputs": [],
   "source": [
    "# eighth chunck of the healthy data\n",
    "healthy_data, err = ek.get_data(healthy_CIK_list[7], fields=fields,\n",
    "                                 parameters={'Frq':'Y',\n",
    "                                             'SDate':'2009-01-01',\n",
    "                                             'EDate':'2010-01-01'})\n",
    "# and save the dataframe as a csv file\n",
    "healthy_data.to_csv('data_healthy_CIK/healthy_data08_2009.csv', index=False)\n"
   ]
  },
  {
   "cell_type": "code",
   "execution_count": null,
   "metadata": {},
   "outputs": [],
   "source": [
    "# ninth chunck of the healthy data\n",
    "healthy_data, err = ek.get_data(healthy_CIK_list[8], fields=fields,\n",
    "                                 parameters={'Frq':'Y',\n",
    "                                             'SDate':'2009-01-01',\n",
    "                                             'EDate':'2010-01-01'})\n",
    "# and save the dataframe as a csv file\n",
    "healthy_data.to_csv('data_healthy_CIK/healthy_data09_2009.csv', index=False)\n"
   ]
  },
  {
   "cell_type": "code",
   "execution_count": null,
   "metadata": {},
   "outputs": [],
   "source": [
    "# tenth chunck of the healthy data\n",
    "healthy_data, err = ek.get_data(healthy_CIK_list[9], fields=fields,\n",
    "                                 parameters={'Frq':'Y',\n",
    "                                             'SDate':'2009-01-01',\n",
    "                                             'EDate':'2010-01-01'})\n",
    "# and save the dataframe as a csv file\n",
    "healthy_data.to_csv('data_healthy_CIK/healthy_data10_2009.csv', index=False)\n"
   ]
  },
  {
   "cell_type": "code",
   "execution_count": null,
   "metadata": {},
   "outputs": [],
   "source": [
    "# eleventh chunck of the healthy data\n",
    "healthy_data, err = ek.get_data(healthy_CIK_list[10], fields=fields,\n",
    "                                 parameters={'Frq':'Y',\n",
    "                                             'SDate':'2009-01-01',\n",
    "                                             'EDate':'2010-01-01'})\n",
    "# and save the dataframe as a csv file\n",
    "healthy_data.to_csv('data_healthy_CIK/healthy_data11_2009.csv', index=False)\n"
   ]
  },
  {
   "cell_type": "code",
   "execution_count": null,
   "metadata": {},
   "outputs": [],
   "source": [
    "# twelfth chunck of the healthy data\n",
    "healthy_data, err = ek.get_data(healthy_CIK_list[11], fields=fields,\n",
    "                                 parameters={'Frq':'Y',\n",
    "                                             'SDate':'2009-01-01',\n",
    "                                             'EDate':'2010-01-01'})\n",
    "# and save the dataframe as a csv file\n",
    "healthy_data.to_csv('data_healthy_CIK/healthy_data12_2009.csv', index=False)\n"
   ]
  },
  {
   "cell_type": "code",
   "execution_count": null,
   "metadata": {},
   "outputs": [],
   "source": [
    "# thirteenth chunck of the healthy data\n",
    "healthy_data, err = ek.get_data(healthy_CIK_list[12], fields=fields,\n",
    "                                 parameters={'Frq':'Y',\n",
    "                                             'SDate':'2009-01-01',\n",
    "                                             'EDate':'2010-01-01'})\n",
    "# and save the dataframe as a csv file\n",
    "healthy_data.to_csv('data_healthy_CIK/healthy_data13_2009.csv', index=False)\n"
   ]
  },
  {
   "cell_type": "code",
   "execution_count": null,
   "metadata": {},
   "outputs": [],
   "source": [
    "# fourteenth chunck of the healthy data\n",
    "healthy_data, err = ek.get_data(healthy_CIK_list[13], fields=fields,\n",
    "                                 parameters={'Frq':'Y',\n",
    "                                             'SDate':'2009-01-01',\n",
    "                                             'EDate':'2010-01-01'})\n",
    "# and save the dataframe as a csv file\n",
    "healthy_data.to_csv('data_healthy_CIK/healthy_data14_2009.csv', index=False)\n"
   ]
  },
  {
   "cell_type": "code",
   "execution_count": null,
   "metadata": {},
   "outputs": [],
   "source": [
    "# fifteenth chunck of the healthy data\n",
    "healthy_data, err = ek.get_data(healthy_CIK_list[14], fields=fields,\n",
    "                                 parameters={'Frq':'Y',\n",
    "                                             'SDate':'2009-01-01',\n",
    "                                             'EDate':'2010-01-01'})\n",
    "# and save the dataframe as a csv file\n",
    "healthy_data.to_csv('data_healthy_CIK/healthy_data15_2009.csv', index=False)\n"
   ]
  },
  {
   "cell_type": "code",
   "execution_count": null,
   "metadata": {},
   "outputs": [],
   "source": [
    "# sixteenth chunck of the healthy data\n",
    "healthy_data, err = ek.get_data(healthy_CIK_list[15], fields=fields,\n",
    "                                 parameters={'Frq':'Y',\n",
    "                                             'SDate':'2009-01-01',\n",
    "                                             'EDate':'2010-01-01'})\n",
    "# and save the dataframe as a csv file\n",
    "healthy_data.to_csv('data_healthy_CIK/healthy_data16_2009.csv', index=False)\n"
   ]
  },
  {
   "cell_type": "code",
   "execution_count": null,
   "metadata": {},
   "outputs": [],
   "source": [
    "# seventeenth chunck of the healthy data\n",
    "healthy_data, err = ek.get_data(healthy_CIK_list[16], fields=fields,\n",
    "                                 parameters={'Frq':'Y',\n",
    "                                             'SDate':'2009-01-01',\n",
    "                                             'EDate':'2010-01-01'})\n",
    "# and save the dataframe as a csv file\n",
    "healthy_data.to_csv('data_healthy_CIK/healthy_data17_2009.csv', index=False)\n"
   ]
  },
  {
   "cell_type": "code",
   "execution_count": null,
   "metadata": {},
   "outputs": [],
   "source": [
    "# eighteenth chunck of the healthy data\n",
    "healthy_data, err = ek.get_data(healthy_CIK_list[17], fields=fields,\n",
    "                                 parameters={'Frq':'Y',\n",
    "                                             'SDate':'2009-01-01',\n",
    "                                             'EDate':'2010-01-01'})\n",
    "# and save the dataframe as a csv file\n",
    "healthy_data.to_csv('data_healthy_CIK/healthy_data18_2009.csv', index=False)\n"
   ]
  },
  {
   "cell_type": "code",
   "execution_count": null,
   "metadata": {},
   "outputs": [],
   "source": [
    "# nineteenth chunck of the healthy data\n",
    "healthy_data, err = ek.get_data(healthy_CIK_list[18], fields=fields,\n",
    "                                 parameters={'Frq':'Y',\n",
    "                                             'SDate':'2009-01-01',\n",
    "                                             'EDate':'2010-01-01'})\n",
    "# and save the dataframe as a csv file\n",
    "healthy_data.to_csv('data_healthy_CIK/healthy_data19_2009.csv', index=False)\n"
   ]
  },
  {
   "cell_type": "code",
   "execution_count": null,
   "metadata": {},
   "outputs": [],
   "source": [
    "# twentieth chunck of the healthy data\n",
    "healthy_data, err = ek.get_data(healthy_CIK_list[19], fields=fields,\n",
    "                                 parameters={'Frq':'Y',\n",
    "                                             'SDate':'2009-01-01',\n",
    "                                             'EDate':'2010-01-01'})\n",
    "# and save the dataframe as a csv file\n",
    "healthy_data.to_csv('data_healthy_CIK/healthy_data20_2009.csv', index=False)\n"
   ]
  },
  {
   "cell_type": "code",
   "execution_count": null,
   "metadata": {},
   "outputs": [],
   "source": [
    "# twenty-first chunck of the healthy data\n",
    "healthy_data, err = ek.get_data(healthy_CIK_list[20], fields=fields,\n",
    "                                 parameters={'Frq':'Y',\n",
    "                                             'SDate':'2009-01-01',\n",
    "                                             'EDate':'2010-01-01'})\n",
    "# and save the dataframe as a csv file\n",
    "healthy_data.to_csv('data_healthy_CIK/healthy_data21_2009.csv', index=False)\n"
   ]
  },
  {
   "cell_type": "code",
   "execution_count": null,
   "metadata": {},
   "outputs": [],
   "source": [
    "# twenty-second chunck of the healthy data\n",
    "healthy_data, err = ek.get_data(healthy_CIK_list[21], fields=fields,\n",
    "                                 parameters={'Frq':'Y',\n",
    "                                             'SDate':'2009-01-01',\n",
    "                                             'EDate':'2010-01-01'})\n",
    "# and save the dataframe as a csv file\n",
    "healthy_data.to_csv('data_healthy_CIK/healthy_data22_2009.csv', index=False)\n"
   ]
  },
  {
   "cell_type": "code",
   "execution_count": null,
   "metadata": {},
   "outputs": [],
   "source": [
    "# twenty-third chunck of the healthy data\n",
    "healthy_data, err = ek.get_data(healthy_CIK_list[22], fields=fields,\n",
    "                                 parameters={'Frq':'Y',\n",
    "                                             'SDate':'2009-01-01',\n",
    "                                             'EDate':'2010-01-01'})\n",
    "# and save the dataframe as a csv file\n",
    "healthy_data.to_csv('data_healthy_CIK/healthy_data23_2009.csv', index=False)\n"
   ]
  },
  {
   "cell_type": "code",
   "execution_count": null,
   "metadata": {},
   "outputs": [],
   "source": [
    "# twenty-fourth chunck of the healthy data\n",
    "healthy_data, err = ek.get_data(healthy_CIK_list[23], fields=fields,\n",
    "                                 parameters={'Frq':'Y',\n",
    "                                             'SDate':'2009-01-01',\n",
    "                                             'EDate':'2010-01-01'})\n",
    "# and save the dataframe as a csv file\n",
    "healthy_data.to_csv('data_healthy_CIK/healthy_data24_2009.csv', index=False)\n"
   ]
  },
  {
   "cell_type": "code",
   "execution_count": null,
   "metadata": {},
   "outputs": [],
   "source": [
    "# twenty-fifth chunck of the healthy data\n",
    "healthy_data, err = ek.get_data(healthy_CIK_list[24], fields=fields,\n",
    "                                 parameters={'Frq':'Y',\n",
    "                                             'SDate':'2009-01-01',\n",
    "                                             'EDate':'2010-01-01'})\n",
    "# and save the dataframe as a csv file\n",
    "healthy_data.to_csv('data_healthy_CIK/healthy_data25_2009.csv', index=False)\n"
   ]
  },
  {
   "cell_type": "code",
   "execution_count": null,
   "metadata": {},
   "outputs": [],
   "source": [
    "# twenty-sixth chunck of the healthy data\n",
    "healthy_data, err = ek.get_data(healthy_CIK_list[25], fields=fields,\n",
    "                                 parameters={'Frq':'Y',\n",
    "                                             'SDate':'2009-01-01',\n",
    "                                             'EDate':'2010-01-01'})\n",
    "# and save the dataframe as a csv file\n",
    "healthy_data.to_csv('data_healthy_CIK/healthy_data26_2009.csv', index=False)\n"
   ]
  },
  {
   "cell_type": "code",
   "execution_count": null,
   "metadata": {},
   "outputs": [],
   "source": [
    "# twenty-seventh chunck of the healthy data\n",
    "healthy_data, err = ek.get_data(healthy_CIK_list[26], fields=fields,\n",
    "                                 parameters={'Frq':'Y',\n",
    "                                             'SDate':'2009-01-01',\n",
    "                                             'EDate':'2010-01-01'})\n",
    "# and save the dataframe as a csv file\n",
    "healthy_data.to_csv('data_healthy_CIK/healthy_data27_2009.csv', index=False)\n"
   ]
  },
  {
   "cell_type": "code",
   "execution_count": null,
   "metadata": {},
   "outputs": [],
   "source": [
    "# twenty-eighth chunck of the healthy data\n",
    "healthy_data, err = ek.get_data(healthy_CIK_list[27], fields=fields,\n",
    "                                 parameters={'Frq':'Y',\n",
    "                                             'SDate':'2009-01-01',\n",
    "                                             'EDate':'2010-01-01'})\n",
    "# and save the dataframe as a csv file\n",
    "healthy_data.to_csv('data_healthy_CIK/healthy_data28_2009.csv', index=False)\n"
   ]
  },
  {
   "cell_type": "code",
   "execution_count": null,
   "metadata": {},
   "outputs": [],
   "source": [
    "# twenty-ninth chunck of the healthy data\n",
    "healthy_data, err = ek.get_data(healthy_CIK_list[28], fields=fields,\n",
    "                                 parameters={'Frq':'Y',\n",
    "                                             'SDate':'2009-01-01',\n",
    "                                             'EDate':'2010-01-01'})\n",
    "# and save the dataframe as a csv file\n",
    "healthy_data.to_csv('data_healthy_CIK/healthy_data29_2009.csv', index=False)\n"
   ]
  },
  {
   "cell_type": "code",
   "execution_count": null,
   "metadata": {},
   "outputs": [],
   "source": [
    "# thirtieth chunck of the healthy data\n",
    "healthy_data, err = ek.get_data(healthy_CIK_list[29], fields=fields,\n",
    "                                 parameters={'Frq':'Y',\n",
    "                                             'SDate':'2009-01-01',\n",
    "                                             'EDate':'2010-01-01'})\n",
    "# and save the dataframe as a csv file\n",
    "healthy_data.to_csv('data_healthy_CIK/healthy_data30_2009.csv', index=False)\n"
   ]
  },
  {
   "cell_type": "markdown",
   "metadata": {},
   "source": [
    "### 2010"
   ]
  },
  {
   "cell_type": "code",
   "execution_count": null,
   "metadata": {},
   "outputs": [],
   "source": [
    "# first chuck of the healthy data\n",
    "healthy_data, err = ek.get_data(healthy_CIK_list[0], fields=fields,\n",
    "                                 parameters={'Frq':'Y',\n",
    "                                             'SDate':'2010-01-01',\n",
    "                                             'EDate':'2011-01-01'})\n",
    "# and save the dataframe as a csv file\n",
    "healthy_data.to_csv('data_healthy_CIK/healthy_data01_2010.csv', index=False)\n"
   ]
  },
  {
   "cell_type": "code",
   "execution_count": null,
   "metadata": {},
   "outputs": [],
   "source": [
    "# second chuck of the healthy data\n",
    "healthy_data, err = ek.get_data(healthy_CIK_list[1], fields=fields,\n",
    "                                 parameters={'Frq':'Y',\n",
    "                                             'SDate':'2010-01-01',\n",
    "                                             'EDate':'2011-01-01'})\n",
    "# and save the dataframe as a csv file\n",
    "healthy_data.to_csv('data_healthy_CIK/healthy_data02_2010.csv', index=False)\n"
   ]
  },
  {
   "cell_type": "code",
   "execution_count": null,
   "metadata": {},
   "outputs": [],
   "source": [
    "# third chuck of the healthy data\n",
    "healthy_data, err = ek.get_data(healthy_CIK_list[2], fields=fields,\n",
    "                                 parameters={'Frq':'Y',\n",
    "                                             'SDate':'2010-01-01',\n",
    "                                             'EDate':'2011-01-01'})\n",
    "# and save the dataframe as a csv file\n",
    "healthy_data.to_csv('data_healthy_CIK/healthy_data03_2010.csv', index=False)\n"
   ]
  },
  {
   "cell_type": "code",
   "execution_count": null,
   "metadata": {},
   "outputs": [],
   "source": [
    "# fourth chunck of the healthy data\n",
    "healthy_data, err = ek.get_data(healthy_CIK_list[3], fields=fields,\n",
    "                                 parameters={'Frq':'Y',\n",
    "                                             'SDate':'2010-01-01',\n",
    "                                             'EDate':'2011-01-01'})\n",
    "# and save the dataframe as a csv file\n",
    "healthy_data.to_csv('data_healthy_CIK/healthy_data04_2010.csv', index=False)\n"
   ]
  },
  {
   "cell_type": "code",
   "execution_count": null,
   "metadata": {},
   "outputs": [],
   "source": [
    "# fifth chunck of the healthy data\n",
    "healthy_data, err = ek.get_data(healthy_CIK_list[4], fields=fields,\n",
    "                                 parameters={'Frq':'Y',\n",
    "                                             'SDate':'2010-01-01',\n",
    "                                             'EDate':'2011-01-01'})\n",
    "# and save the dataframe as a csv file\n",
    "healthy_data.to_csv('data_healthy_CIK/healthy_data05_2010.csv', index=False)\n"
   ]
  },
  {
   "cell_type": "code",
   "execution_count": null,
   "metadata": {},
   "outputs": [],
   "source": [
    "# sixth chunck of the healthy data\n",
    "healthy_data, err = ek.get_data(healthy_CIK_list[5], fields=fields,\n",
    "                                 parameters={'Frq':'Y',\n",
    "                                             'SDate':'2010-01-01',\n",
    "                                             'EDate':'2011-01-01'})\n",
    "# and save the dataframe as a csv file\n",
    "healthy_data.to_csv('data_healthy_CIK/healthy_data06_2010.csv', index=False)\n"
   ]
  },
  {
   "cell_type": "code",
   "execution_count": null,
   "metadata": {},
   "outputs": [],
   "source": [
    "# seventh chunck of the healthy data\n",
    "healthy_data, err = ek.get_data(healthy_CIK_list[6], fields=fields,\n",
    "                                 parameters={'Frq':'Y',\n",
    "                                             'SDate':'2010-01-01',\n",
    "                                             'EDate':'2011-01-01'})\n",
    "# and save the dataframe as a csv file\n",
    "healthy_data.to_csv('data_healthy_CIK/healthy_data07_2010.csv', index=False)\n"
   ]
  },
  {
   "cell_type": "code",
   "execution_count": null,
   "metadata": {},
   "outputs": [],
   "source": [
    "# eighth chunck of the healthy data\n",
    "healthy_data, err = ek.get_data(healthy_CIK_list[7], fields=fields,\n",
    "                                 parameters={'Frq':'Y',\n",
    "                                             'SDate':'2010-01-01',\n",
    "                                             'EDate':'2011-01-01'})\n",
    "# and save the dataframe as a csv file\n",
    "healthy_data.to_csv('data_healthy_CIK/healthy_data08_2010.csv', index=False)\n"
   ]
  },
  {
   "cell_type": "code",
   "execution_count": null,
   "metadata": {},
   "outputs": [],
   "source": [
    "# ninth chunck of the healthy data\n",
    "healthy_data, err = ek.get_data(healthy_CIK_list[8], fields=fields,\n",
    "                                 parameters={'Frq':'Y',\n",
    "                                             'SDate':'2010-01-01',\n",
    "                                             'EDate':'2011-01-01'})\n",
    "# and save the dataframe as a csv file\n",
    "healthy_data.to_csv('data_healthy_CIK/healthy_data09_2010.csv', index=False)\n"
   ]
  },
  {
   "cell_type": "code",
   "execution_count": null,
   "metadata": {},
   "outputs": [],
   "source": [
    "# tenth chunck of the healthy data\n",
    "healthy_data, err = ek.get_data(healthy_CIK_list[9], fields=fields,\n",
    "                                 parameters={'Frq':'Y',\n",
    "                                             'SDate':'2010-01-01',\n",
    "                                             'EDate':'2011-01-01'})\n",
    "# and save the dataframe as a csv file\n",
    "healthy_data.to_csv('data_healthy_CIK/healthy_data10_2010.csv', index=False)\n"
   ]
  },
  {
   "cell_type": "code",
   "execution_count": null,
   "metadata": {},
   "outputs": [],
   "source": [
    "# eleventh chunck of the healthy data\n",
    "healthy_data, err = ek.get_data(healthy_CIK_list[10], fields=fields,\n",
    "                                 parameters={'Frq':'Y',\n",
    "                                             'SDate':'2010-01-01',\n",
    "                                             'EDate':'2011-01-01'})\n",
    "# and save the dataframe as a csv file\n",
    "healthy_data.to_csv('data_healthy_CIK/healthy_data11_2010.csv', index=False)\n"
   ]
  },
  {
   "cell_type": "code",
   "execution_count": null,
   "metadata": {},
   "outputs": [],
   "source": [
    "# twelfth chunck of the healthy data\n",
    "healthy_data, err = ek.get_data(healthy_CIK_list[11], fields=fields,\n",
    "                                 parameters={'Frq':'Y',\n",
    "                                             'SDate':'2010-01-01',\n",
    "                                             'EDate':'2011-01-01'})\n",
    "# and save the dataframe as a csv file\n",
    "healthy_data.to_csv('data_healthy_CIK/healthy_data12_2010.csv', index=False)\n"
   ]
  },
  {
   "cell_type": "code",
   "execution_count": null,
   "metadata": {},
   "outputs": [],
   "source": [
    "# thirteenth chunck of the healthy data\n",
    "healthy_data, err = ek.get_data(healthy_CIK_list[12], fields=fields,\n",
    "                                 parameters={'Frq':'Y',\n",
    "                                             'SDate':'2010-01-01',\n",
    "                                             'EDate':'2011-01-01'})\n",
    "# and save the dataframe as a csv file\n",
    "healthy_data.to_csv('data_healthy_CIK/healthy_data13_2010.csv', index=False)\n"
   ]
  },
  {
   "cell_type": "code",
   "execution_count": null,
   "metadata": {},
   "outputs": [],
   "source": [
    "# fourteenth chunck of the healthy data\n",
    "healthy_data, err = ek.get_data(healthy_CIK_list[13], fields=fields,\n",
    "                                 parameters={'Frq':'Y',\n",
    "                                             'SDate':'2010-01-01',\n",
    "                                             'EDate':'2011-01-01'})\n",
    "# and save the dataframe as a csv file\n",
    "healthy_data.to_csv('data_healthy_CIK/healthy_data14_2010.csv', index=False)\n"
   ]
  },
  {
   "cell_type": "code",
   "execution_count": null,
   "metadata": {},
   "outputs": [],
   "source": [
    "# fifteenth chunck of the healthy data\n",
    "healthy_data, err = ek.get_data(healthy_CIK_list[14], fields=fields,\n",
    "                                 parameters={'Frq':'Y',\n",
    "                                             'SDate':'2010-01-01',\n",
    "                                             'EDate':'2011-01-01'})\n",
    "# and save the dataframe as a csv file\n",
    "healthy_data.to_csv('data_healthy_CIK/healthy_data15_2010.csv', index=False)\n"
   ]
  },
  {
   "cell_type": "code",
   "execution_count": null,
   "metadata": {},
   "outputs": [],
   "source": [
    "# sixteenth chunck of the healthy data\n",
    "healthy_data, err = ek.get_data(healthy_CIK_list[15], fields=fields,\n",
    "                                 parameters={'Frq':'Y',\n",
    "                                             'SDate':'2010-01-01',\n",
    "                                             'EDate':'2011-01-01'})\n",
    "# and save the dataframe as a csv file\n",
    "healthy_data.to_csv('data_healthy_CIK/healthy_data16_2010.csv', index=False)\n"
   ]
  },
  {
   "cell_type": "code",
   "execution_count": null,
   "metadata": {},
   "outputs": [],
   "source": [
    "# seventeenth chunck of the healthy data\n",
    "healthy_data, err = ek.get_data(healthy_CIK_list[16], fields=fields,\n",
    "                                 parameters={'Frq':'Y',\n",
    "                                             'SDate':'2010-01-01',\n",
    "                                             'EDate':'2011-01-01'})\n",
    "# and save the dataframe as a csv file\n",
    "healthy_data.to_csv('data_healthy_CIK/healthy_data17_2010.csv', index=False)\n"
   ]
  },
  {
   "cell_type": "code",
   "execution_count": null,
   "metadata": {},
   "outputs": [],
   "source": [
    "# eighteenth chunck of the healthy data\n",
    "healthy_data, err = ek.get_data(healthy_CIK_list[17], fields=fields,\n",
    "                                 parameters={'Frq':'Y',\n",
    "                                             'SDate':'2010-01-01',\n",
    "                                             'EDate':'2011-01-01'})\n",
    "# and save the dataframe as a csv file\n",
    "healthy_data.to_csv('data_healthy_CIK/healthy_data18_2010.csv', index=False)\n"
   ]
  },
  {
   "cell_type": "code",
   "execution_count": null,
   "metadata": {},
   "outputs": [],
   "source": [
    "# nineteenth chunck of the healthy data\n",
    "healthy_data, err = ek.get_data(healthy_CIK_list[18], fields=fields,\n",
    "                                 parameters={'Frq':'Y',\n",
    "                                             'SDate':'2010-01-01',\n",
    "                                             'EDate':'2011-01-01'})\n",
    "# and save the dataframe as a csv file\n",
    "healthy_data.to_csv('data_healthy_CIK/healthy_data19_2010.csv', index=False)\n"
   ]
  },
  {
   "cell_type": "code",
   "execution_count": null,
   "metadata": {},
   "outputs": [],
   "source": [
    "# twentieth chunck of the healthy data\n",
    "healthy_data, err = ek.get_data(healthy_CIK_list[19], fields=fields,\n",
    "                                 parameters={'Frq':'Y',\n",
    "                                             'SDate':'2010-01-01',\n",
    "                                             'EDate':'2011-01-01'})\n",
    "# and save the dataframe as a csv file\n",
    "healthy_data.to_csv('data_healthy_CIK/healthy_data20_2010.csv', index=False)\n"
   ]
  },
  {
   "cell_type": "code",
   "execution_count": null,
   "metadata": {},
   "outputs": [],
   "source": [
    "# twenty-first chunck of the healthy data\n",
    "healthy_data, err = ek.get_data(healthy_CIK_list[20], fields=fields,\n",
    "                                 parameters={'Frq':'Y',\n",
    "                                             'SDate':'2010-01-01',\n",
    "                                             'EDate':'2011-01-01'})\n",
    "# and save the dataframe as a csv file\n",
    "healthy_data.to_csv('data_healthy_CIK/healthy_data21_2010.csv', index=False)\n"
   ]
  },
  {
   "cell_type": "code",
   "execution_count": null,
   "metadata": {},
   "outputs": [],
   "source": [
    "# twenty-second chunck of the healthy data\n",
    "healthy_data, err = ek.get_data(healthy_CIK_list[21], fields=fields,\n",
    "                                 parameters={'Frq':'Y',\n",
    "                                             'SDate':'2010-01-01',\n",
    "                                             'EDate':'2011-01-01'})\n",
    "# and save the dataframe as a csv file\n",
    "healthy_data.to_csv('data_healthy_CIK/healthy_data22_2010.csv', index=False)\n"
   ]
  },
  {
   "cell_type": "code",
   "execution_count": null,
   "metadata": {},
   "outputs": [],
   "source": [
    "# twenty-third chunck of the healthy data\n",
    "healthy_data, err = ek.get_data(healthy_CIK_list[22], fields=fields,\n",
    "                                 parameters={'Frq':'Y',\n",
    "                                             'SDate':'2010-01-01',\n",
    "                                             'EDate':'2011-01-01'})\n",
    "# and save the dataframe as a csv file\n",
    "healthy_data.to_csv('data_healthy_CIK/healthy_data23_2010.csv', index=False)\n"
   ]
  },
  {
   "cell_type": "code",
   "execution_count": null,
   "metadata": {},
   "outputs": [],
   "source": [
    "# twenty-fourth chunck of the healthy data\n",
    "healthy_data, err = ek.get_data(healthy_CIK_list[23], fields=fields,\n",
    "                                 parameters={'Frq':'Y',\n",
    "                                             'SDate':'2010-01-01',\n",
    "                                             'EDate':'2011-01-01'})\n",
    "# and save the dataframe as a csv file\n",
    "healthy_data.to_csv('data_healthy_CIK/healthy_data24_2010.csv', index=False)\n"
   ]
  },
  {
   "cell_type": "code",
   "execution_count": null,
   "metadata": {},
   "outputs": [],
   "source": [
    "# twenty-fifth chunck of the healthy data\n",
    "healthy_data, err = ek.get_data(healthy_CIK_list[24], fields=fields,\n",
    "                                 parameters={'Frq':'Y',\n",
    "                                             'SDate':'2010-01-01',\n",
    "                                             'EDate':'2011-01-01'})\n",
    "# and save the dataframe as a csv file\n",
    "healthy_data.to_csv('data_healthy_CIK/healthy_data25_2010.csv', index=False)\n"
   ]
  },
  {
   "cell_type": "code",
   "execution_count": null,
   "metadata": {},
   "outputs": [],
   "source": [
    "# twenty-sixth chunck of the healthy data\n",
    "healthy_data, err = ek.get_data(healthy_CIK_list[25], fields=fields,\n",
    "                                 parameters={'Frq':'Y',\n",
    "                                             'SDate':'2010-01-01',\n",
    "                                             'EDate':'2011-01-01'})\n",
    "# and save the dataframe as a csv file\n",
    "healthy_data.to_csv('data_healthy_CIK/healthy_data26_2010.csv', index=False)\n"
   ]
  },
  {
   "cell_type": "code",
   "execution_count": null,
   "metadata": {},
   "outputs": [],
   "source": [
    "# twenty-seventh chunck of the healthy data\n",
    "healthy_data, err = ek.get_data(healthy_CIK_list[26], fields=fields,\n",
    "                                 parameters={'Frq':'Y',\n",
    "                                             'SDate':'2010-01-01',\n",
    "                                             'EDate':'2011-01-01'})\n",
    "# and save the dataframe as a csv file\n",
    "healthy_data.to_csv('data_healthy_CIK/healthy_data27_2010.csv', index=False)\n"
   ]
  },
  {
   "cell_type": "code",
   "execution_count": null,
   "metadata": {},
   "outputs": [],
   "source": [
    "# twenty-eighth chunck of the healthy data\n",
    "healthy_data, err = ek.get_data(healthy_CIK_list[27], fields=fields,\n",
    "                                 parameters={'Frq':'Y',\n",
    "                                             'SDate':'2010-01-01',\n",
    "                                             'EDate':'2011-01-01'})\n",
    "# and save the dataframe as a csv file\n",
    "healthy_data.to_csv('data_healthy_CIK/healthy_data28_2010.csv', index=False)\n"
   ]
  },
  {
   "cell_type": "code",
   "execution_count": null,
   "metadata": {},
   "outputs": [],
   "source": [
    "# twenty-ninth chunck of the healthy data\n",
    "healthy_data, err = ek.get_data(healthy_CIK_list[28], fields=fields,\n",
    "                                 parameters={'Frq':'Y',\n",
    "                                             'SDate':'2010-01-01',\n",
    "                                             'EDate':'2011-01-01'})\n",
    "# and save the dataframe as a csv file\n",
    "healthy_data.to_csv('data_healthy_CIK/healthy_data29_2010.csv', index=False)\n"
   ]
  },
  {
   "cell_type": "code",
   "execution_count": null,
   "metadata": {},
   "outputs": [],
   "source": [
    "# thirtieth chunck of the healthy data\n",
    "healthy_data, err = ek.get_data(healthy_CIK_list[29], fields=fields,\n",
    "                                 parameters={'Frq':'Y',\n",
    "                                             'SDate':'2010-01-01',\n",
    "                                             'EDate':'2011-01-01'})\n",
    "# and save the dataframe as a csv file\n",
    "healthy_data.to_csv('data_healthy_CIK/healthy_data30_2010.csv', index=False)\n"
   ]
  },
  {
   "cell_type": "markdown",
   "metadata": {},
   "source": [
    "### 2011"
   ]
  },
  {
   "cell_type": "code",
   "execution_count": null,
   "metadata": {},
   "outputs": [],
   "source": [
    "# first chuck of the healthy data\n",
    "healthy_data, err = ek.get_data(healthy_CIK_list[0], fields=fields,\n",
    "                                 parameters={'Frq':'Y',\n",
    "                                             'SDate':'2011-01-01',\n",
    "                                             'EDate':'2012-01-01'})\n",
    "# and save the dataframe as a csv file\n",
    "healthy_data.to_csv('data_healthy_CIK/healthy_data01_2011.csv', index=False)\n"
   ]
  },
  {
   "cell_type": "code",
   "execution_count": null,
   "metadata": {},
   "outputs": [],
   "source": [
    "# second chuck of the healthy data\n",
    "healthy_data, err = ek.get_data(healthy_CIK_list[1], fields=fields,\n",
    "                                 parameters={'Frq':'Y',\n",
    "                                             'SDate':'2011-01-01',\n",
    "                                             'EDate':'2012-01-01'})\n",
    "# and save the dataframe as a csv file\n",
    "healthy_data.to_csv('data_healthy_CIK/healthy_data02_2011.csv', index=False)\n"
   ]
  },
  {
   "cell_type": "code",
   "execution_count": null,
   "metadata": {},
   "outputs": [],
   "source": [
    "# third chuck of the healthy data\n",
    "healthy_data, err = ek.get_data(healthy_CIK_list[2], fields=fields,\n",
    "                                 parameters={'Frq':'Y',\n",
    "                                             'SDate':'2011-01-01',\n",
    "                                             'EDate':'2012-01-01'})\n",
    "# and save the dataframe as a csv file\n",
    "healthy_data.to_csv('data_healthy_CIK/healthy_data03_2011.csv', index=False)\n"
   ]
  },
  {
   "cell_type": "code",
   "execution_count": null,
   "metadata": {},
   "outputs": [],
   "source": [
    "# fourth chunck of the healthy data\n",
    "healthy_data, err = ek.get_data(healthy_CIK_list[3], fields=fields,\n",
    "                                 parameters={'Frq':'Y',\n",
    "                                             'SDate':'2011-01-01',\n",
    "                                             'EDate':'2012-01-01'})\n",
    "# and save the dataframe as a csv file\n",
    "healthy_data.to_csv('data_healthy_CIK/healthy_data04_2011.csv', index=False)\n"
   ]
  },
  {
   "cell_type": "code",
   "execution_count": null,
   "metadata": {},
   "outputs": [],
   "source": [
    "# fifth chunck of the healthy data\n",
    "healthy_data, err = ek.get_data(healthy_CIK_list[4], fields=fields,\n",
    "                                 parameters={'Frq':'Y',\n",
    "                                             'SDate':'2011-01-01',\n",
    "                                             'EDate':'2012-01-01'})\n",
    "# and save the dataframe as a csv file\n",
    "healthy_data.to_csv('data_healthy_CIK/healthy_data05_2011.csv', index=False)\n"
   ]
  },
  {
   "cell_type": "code",
   "execution_count": null,
   "metadata": {},
   "outputs": [],
   "source": [
    "# sixth chunck of the healthy data\n",
    "healthy_data, err = ek.get_data(healthy_CIK_list[5], fields=fields,\n",
    "                                 parameters={'Frq':'Y',\n",
    "                                             'SDate':'2011-01-01',\n",
    "                                             'EDate':'2012-01-01'})\n",
    "# and save the dataframe as a csv file\n",
    "healthy_data.to_csv('data_healthy_CIK/healthy_data06_2011.csv', index=False)\n"
   ]
  },
  {
   "cell_type": "code",
   "execution_count": null,
   "metadata": {},
   "outputs": [],
   "source": [
    "# seventh chunck of the healthy data\n",
    "healthy_data, err = ek.get_data(healthy_CIK_list[6], fields=fields,\n",
    "                                 parameters={'Frq':'Y',\n",
    "                                             'SDate':'2011-01-01',\n",
    "                                             'EDate':'2012-01-01'})\n",
    "# and save the dataframe as a csv file\n",
    "healthy_data.to_csv('data_healthy_CIK/healthy_data07_2011.csv', index=False)\n"
   ]
  },
  {
   "cell_type": "code",
   "execution_count": null,
   "metadata": {},
   "outputs": [],
   "source": [
    "# eighth chunck of the healthy data\n",
    "healthy_data, err = ek.get_data(healthy_CIK_list[7], fields=fields,\n",
    "                                 parameters={'Frq':'Y',\n",
    "                                             'SDate':'2011-01-01',\n",
    "                                             'EDate':'2012-01-01'})\n",
    "# and save the dataframe as a csv file\n",
    "healthy_data.to_csv('data_healthy_CIK/healthy_data08_2011.csv', index=False)\n"
   ]
  },
  {
   "cell_type": "code",
   "execution_count": null,
   "metadata": {},
   "outputs": [],
   "source": [
    "# ninth chunck of the healthy data\n",
    "healthy_data, err = ek.get_data(healthy_CIK_list[8], fields=fields,\n",
    "                                 parameters={'Frq':'Y',\n",
    "                                             'SDate':'2011-01-01',\n",
    "                                             'EDate':'2012-01-01'})\n",
    "# and save the dataframe as a csv file\n",
    "healthy_data.to_csv('data_healthy_CIK/healthy_data09_2011.csv', index=False)\n"
   ]
  },
  {
   "cell_type": "code",
   "execution_count": null,
   "metadata": {},
   "outputs": [],
   "source": [
    "# tenth chunck of the healthy data\n",
    "healthy_data, err = ek.get_data(healthy_CIK_list[9], fields=fields,\n",
    "                                 parameters={'Frq':'Y',\n",
    "                                             'SDate':'2011-01-01',\n",
    "                                             'EDate':'2012-01-01'})\n",
    "# and save the dataframe as a csv file\n",
    "healthy_data.to_csv('data_healthy_CIK/healthy_data10_2011.csv', index=False)\n"
   ]
  },
  {
   "cell_type": "code",
   "execution_count": null,
   "metadata": {},
   "outputs": [],
   "source": [
    "# eleventh chunck of the healthy data\n",
    "healthy_data, err = ek.get_data(healthy_CIK_list[10], fields=fields,\n",
    "                                 parameters={'Frq':'Y',\n",
    "                                             'SDate':'2011-01-01',\n",
    "                                             'EDate':'2012-01-01'})\n",
    "# and save the dataframe as a csv file\n",
    "healthy_data.to_csv('data_healthy_CIK/healthy_data11_2011.csv', index=False)\n"
   ]
  },
  {
   "cell_type": "code",
   "execution_count": null,
   "metadata": {},
   "outputs": [],
   "source": [
    "# twelfth chunck of the healthy data\n",
    "healthy_data, err = ek.get_data(healthy_CIK_list[11], fields=fields,\n",
    "                                 parameters={'Frq':'Y',\n",
    "                                             'SDate':'2011-01-01',\n",
    "                                             'EDate':'2012-01-01'})\n",
    "# and save the dataframe as a csv file\n",
    "healthy_data.to_csv('data_healthy_CIK/healthy_data12_2011.csv', index=False)\n"
   ]
  },
  {
   "cell_type": "code",
   "execution_count": null,
   "metadata": {},
   "outputs": [],
   "source": [
    "# thirteenth chunck of the healthy data\n",
    "healthy_data, err = ek.get_data(healthy_CIK_list[12], fields=fields,\n",
    "                                 parameters={'Frq':'Y',\n",
    "                                             'SDate':'2011-01-01',\n",
    "                                             'EDate':'2012-01-01'})\n",
    "# and save the dataframe as a csv file\n",
    "healthy_data.to_csv('data_healthy_CIK/healthy_data13_2011.csv', index=False)\n"
   ]
  },
  {
   "cell_type": "code",
   "execution_count": null,
   "metadata": {},
   "outputs": [],
   "source": [
    "# fourteenth chunck of the healthy data\n",
    "healthy_data, err = ek.get_data(healthy_CIK_list[13], fields=fields,\n",
    "                                 parameters={'Frq':'Y',\n",
    "                                             'SDate':'2011-01-01',\n",
    "                                             'EDate':'2012-01-01'})\n",
    "# and save the dataframe as a csv file\n",
    "healthy_data.to_csv('data_healthy_CIK/healthy_data14_2011.csv', index=False)\n"
   ]
  },
  {
   "cell_type": "code",
   "execution_count": null,
   "metadata": {},
   "outputs": [],
   "source": [
    "# fifteenth chunck of the healthy data\n",
    "healthy_data, err = ek.get_data(healthy_CIK_list[14], fields=fields,\n",
    "                                 parameters={'Frq':'Y',\n",
    "                                             'SDate':'2011-01-01',\n",
    "                                             'EDate':'2012-01-01'})\n",
    "# and save the dataframe as a csv file\n",
    "healthy_data.to_csv('data_healthy_CIK/healthy_data15_2011.csv', index=False)\n"
   ]
  },
  {
   "cell_type": "code",
   "execution_count": null,
   "metadata": {},
   "outputs": [],
   "source": [
    "# sixteenth chunck of the healthy data\n",
    "healthy_data, err = ek.get_data(healthy_CIK_list[15], fields=fields,\n",
    "                                 parameters={'Frq':'Y',\n",
    "                                             'SDate':'2011-01-01',\n",
    "                                             'EDate':'2012-01-01'})\n",
    "# and save the dataframe as a csv file\n",
    "healthy_data.to_csv('data_healthy_CIK/healthy_data16_2011.csv', index=False)\n"
   ]
  },
  {
   "cell_type": "code",
   "execution_count": null,
   "metadata": {},
   "outputs": [],
   "source": [
    "# seventeenth chunck of the healthy data\n",
    "healthy_data, err = ek.get_data(healthy_CIK_list[16], fields=fields,\n",
    "                                 parameters={'Frq':'Y',\n",
    "                                             'SDate':'2011-01-01',\n",
    "                                             'EDate':'2012-01-01'})\n",
    "# and save the dataframe as a csv file\n",
    "healthy_data.to_csv('data_healthy_CIK/healthy_data17_2011.csv', index=False)\n"
   ]
  },
  {
   "cell_type": "code",
   "execution_count": null,
   "metadata": {},
   "outputs": [],
   "source": [
    "# eighteenth chunck of the healthy data\n",
    "healthy_data, err = ek.get_data(healthy_CIK_list[17], fields=fields,\n",
    "                                 parameters={'Frq':'Y',\n",
    "                                             'SDate':'2011-01-01',\n",
    "                                             'EDate':'2012-01-01'})\n",
    "# and save the dataframe as a csv file\n",
    "healthy_data.to_csv('data_healthy_CIK/healthy_data18_2011.csv', index=False)\n"
   ]
  },
  {
   "cell_type": "code",
   "execution_count": null,
   "metadata": {},
   "outputs": [],
   "source": [
    "# nineteenth chunck of the healthy data\n",
    "healthy_data, err = ek.get_data(healthy_CIK_list[18], fields=fields,\n",
    "                                 parameters={'Frq':'Y',\n",
    "                                             'SDate':'2011-01-01',\n",
    "                                             'EDate':'2012-01-01'})\n",
    "# and save the dataframe as a csv file\n",
    "healthy_data.to_csv('data_healthy_CIK/healthy_data19_2011.csv', index=False)\n"
   ]
  },
  {
   "cell_type": "code",
   "execution_count": null,
   "metadata": {},
   "outputs": [],
   "source": [
    "# twentieth chunck of the healthy data\n",
    "healthy_data, err = ek.get_data(healthy_CIK_list[19], fields=fields,\n",
    "                                 parameters={'Frq':'Y',\n",
    "                                             'SDate':'2011-01-01',\n",
    "                                             'EDate':'2012-01-01'})\n",
    "# and save the dataframe as a csv file\n",
    "healthy_data.to_csv('data_healthy_CIK/healthy_data20_2011.csv', index=False)\n"
   ]
  },
  {
   "cell_type": "code",
   "execution_count": null,
   "metadata": {},
   "outputs": [],
   "source": [
    "# twenty-first chunck of the healthy data\n",
    "healthy_data, err = ek.get_data(healthy_CIK_list[20], fields=fields,\n",
    "                                 parameters={'Frq':'Y',\n",
    "                                             'SDate':'2011-01-01',\n",
    "                                             'EDate':'2012-01-01'})\n",
    "# and save the dataframe as a csv file\n",
    "healthy_data.to_csv('data_healthy_CIK/healthy_data21_2011.csv', index=False)\n"
   ]
  },
  {
   "cell_type": "code",
   "execution_count": null,
   "metadata": {},
   "outputs": [],
   "source": [
    "# twenty-second chunck of the healthy data\n",
    "healthy_data, err = ek.get_data(healthy_CIK_list[21], fields=fields,\n",
    "                                 parameters={'Frq':'Y',\n",
    "                                             'SDate':'2011-01-01',\n",
    "                                             'EDate':'2012-01-01'})\n",
    "# and save the dataframe as a csv file\n",
    "healthy_data.to_csv('data_healthy_CIK/healthy_data22_2011.csv', index=False)\n"
   ]
  },
  {
   "cell_type": "code",
   "execution_count": null,
   "metadata": {},
   "outputs": [],
   "source": [
    "# twenty-third chunck of the healthy data\n",
    "healthy_data, err = ek.get_data(healthy_CIK_list[22], fields=fields,\n",
    "                                 parameters={'Frq':'Y',\n",
    "                                             'SDate':'2011-01-01',\n",
    "                                             'EDate':'2012-01-01'})\n",
    "# and save the dataframe as a csv file\n",
    "healthy_data.to_csv('data_healthy_CIK/healthy_data23_2011.csv', index=False)\n"
   ]
  },
  {
   "cell_type": "code",
   "execution_count": null,
   "metadata": {},
   "outputs": [],
   "source": [
    "# twenty-fourth chunck of the healthy data\n",
    "healthy_data, err = ek.get_data(healthy_CIK_list[23], fields=fields,\n",
    "                                 parameters={'Frq':'Y',\n",
    "                                             'SDate':'2011-01-01',\n",
    "                                             'EDate':'2012-01-01'})\n",
    "# and save the dataframe as a csv file\n",
    "healthy_data.to_csv('data_healthy_CIK/healthy_data24_2011.csv', index=False)\n"
   ]
  },
  {
   "cell_type": "code",
   "execution_count": null,
   "metadata": {},
   "outputs": [],
   "source": [
    "# twenty-fifth chunck of the healthy data\n",
    "healthy_data, err = ek.get_data(healthy_CIK_list[24], fields=fields,\n",
    "                                 parameters={'Frq':'Y',\n",
    "                                             'SDate':'2011-01-01',\n",
    "                                             'EDate':'2012-01-01'})\n",
    "# and save the dataframe as a csv file\n",
    "healthy_data.to_csv('data_healthy_CIK/healthy_data25_2011.csv', index=False)\n"
   ]
  },
  {
   "cell_type": "code",
   "execution_count": null,
   "metadata": {},
   "outputs": [],
   "source": [
    "# twenty-sixth chunck of the healthy data\n",
    "healthy_data, err = ek.get_data(healthy_CIK_list[25], fields=fields,\n",
    "                                 parameters={'Frq':'Y',\n",
    "                                             'SDate':'2011-01-01',\n",
    "                                             'EDate':'2012-01-01'})\n",
    "# and save the dataframe as a csv file\n",
    "healthy_data.to_csv('data_healthy_CIK/healthy_data26_2011.csv', index=False)\n"
   ]
  },
  {
   "cell_type": "code",
   "execution_count": null,
   "metadata": {},
   "outputs": [],
   "source": [
    "# twenty-seventh chunck of the healthy data\n",
    "healthy_data, err = ek.get_data(healthy_CIK_list[26], fields=fields,\n",
    "                                 parameters={'Frq':'Y',\n",
    "                                             'SDate':'2011-01-01',\n",
    "                                             'EDate':'2012-01-01'})\n",
    "# and save the dataframe as a csv file\n",
    "healthy_data.to_csv('data_healthy_CIK/healthy_data27_2011.csv', index=False)\n"
   ]
  },
  {
   "cell_type": "code",
   "execution_count": null,
   "metadata": {},
   "outputs": [],
   "source": [
    "# twenty-eighth chunck of the healthy data\n",
    "healthy_data, err = ek.get_data(healthy_CIK_list[27], fields=fields,\n",
    "                                 parameters={'Frq':'Y',\n",
    "                                             'SDate':'2011-01-01',\n",
    "                                             'EDate':'2012-01-01'})\n",
    "# and save the dataframe as a csv file\n",
    "healthy_data.to_csv('data_healthy_CIK/healthy_data28_2011.csv', index=False)\n"
   ]
  },
  {
   "cell_type": "code",
   "execution_count": null,
   "metadata": {},
   "outputs": [],
   "source": [
    "# twenty-ninth chunck of the healthy data\n",
    "healthy_data, err = ek.get_data(healthy_CIK_list[28], fields=fields,\n",
    "                                 parameters={'Frq':'Y',\n",
    "                                             'SDate':'2011-01-01',\n",
    "                                             'EDate':'2012-01-01'})\n",
    "# and save the dataframe as a csv file\n",
    "healthy_data.to_csv('data_healthy_CIK/healthy_data29_2011.csv', index=False)\n"
   ]
  },
  {
   "cell_type": "code",
   "execution_count": null,
   "metadata": {},
   "outputs": [],
   "source": [
    "# thirtieth chunck of the healthy data\n",
    "healthy_data, err = ek.get_data(healthy_CIK_list[29], fields=fields,\n",
    "                                 parameters={'Frq':'Y',\n",
    "                                             'SDate':'2011-01-01',\n",
    "                                             'EDate':'2012-01-01'})\n",
    "# and save the dataframe as a csv file\n",
    "healthy_data.to_csv('data_healthy_CIK/healthy_data30_2011.csv', index=False)\n"
   ]
  },
  {
   "cell_type": "markdown",
   "metadata": {},
   "source": [
    "### 2012"
   ]
  },
  {
   "cell_type": "code",
   "execution_count": null,
   "metadata": {},
   "outputs": [],
   "source": [
    "# first chuck of the healthy data\n",
    "healthy_data, err = ek.get_data(healthy_CIK_list[0], fields=fields,\n",
    "                                 parameters={'Frq':'Y',\n",
    "                                             'SDate':'2012-01-01',\n",
    "                                             'EDate':'2013-01-01'})\n",
    "# and save the dataframe as a csv file\n",
    "healthy_data.to_csv('data_healthy_CIK/healthy_data01_2012.csv', index=False)\n"
   ]
  },
  {
   "cell_type": "code",
   "execution_count": null,
   "metadata": {},
   "outputs": [],
   "source": [
    "# second chuck of the healthy data\n",
    "healthy_data, err = ek.get_data(healthy_CIK_list[1], fields=fields,\n",
    "                                 parameters={'Frq':'Y',\n",
    "                                             'SDate':'2012-01-01',\n",
    "                                             'EDate':'2013-01-01'})\n",
    "# and save the dataframe as a csv file\n",
    "healthy_data.to_csv('data_healthy_CIK/healthy_data02_2012.csv', index=False)\n"
   ]
  },
  {
   "cell_type": "code",
   "execution_count": null,
   "metadata": {},
   "outputs": [],
   "source": [
    "# third chuck of the healthy data\n",
    "healthy_data, err = ek.get_data(healthy_CIK_list[2], fields=fields,\n",
    "                                 parameters={'Frq':'Y',\n",
    "                                             'SDate':'2012-01-01',\n",
    "                                             'EDate':'2013-01-01'})\n",
    "# and save the dataframe as a csv file\n",
    "healthy_data.to_csv('data_healthy_CIK/healthy_data03_2012.csv', index=False)\n"
   ]
  },
  {
   "cell_type": "code",
   "execution_count": null,
   "metadata": {},
   "outputs": [],
   "source": [
    "# fourth chunck of the healthy data\n",
    "healthy_data, err = ek.get_data(healthy_CIK_list[3], fields=fields,\n",
    "                                 parameters={'Frq':'Y',\n",
    "                                             'SDate':'2012-01-01',\n",
    "                                             'EDate':'2013-01-01'})\n",
    "# and save the dataframe as a csv file\n",
    "healthy_data.to_csv('data_healthy_CIK/healthy_data04_2012.csv', index=False)\n"
   ]
  },
  {
   "cell_type": "code",
   "execution_count": null,
   "metadata": {},
   "outputs": [],
   "source": [
    "# fifth chunck of the healthy data\n",
    "healthy_data, err = ek.get_data(healthy_CIK_list[4], fields=fields,\n",
    "                                 parameters={'Frq':'Y',\n",
    "                                             'SDate':'2012-01-01',\n",
    "                                             'EDate':'2013-01-01'})\n",
    "# and save the dataframe as a csv file\n",
    "healthy_data.to_csv('data_healthy_CIK/healthy_data05_2012.csv', index=False)\n"
   ]
  },
  {
   "cell_type": "code",
   "execution_count": null,
   "metadata": {},
   "outputs": [],
   "source": [
    "# sixth chunck of the healthy data\n",
    "healthy_data, err = ek.get_data(healthy_CIK_list[5], fields=fields,\n",
    "                                 parameters={'Frq':'Y',\n",
    "                                             'SDate':'2012-01-01',\n",
    "                                             'EDate':'2013-01-01'})\n",
    "# and save the dataframe as a csv file\n",
    "healthy_data.to_csv('data_healthy_CIK/healthy_data06_2012.csv', index=False)\n"
   ]
  },
  {
   "cell_type": "code",
   "execution_count": null,
   "metadata": {},
   "outputs": [],
   "source": [
    "# seventh chunck of the healthy data\n",
    "healthy_data, err = ek.get_data(healthy_CIK_list[6], fields=fields,\n",
    "                                 parameters={'Frq':'Y',\n",
    "                                             'SDate':'2012-01-01',\n",
    "                                             'EDate':'2013-01-01'})\n",
    "# and save the dataframe as a csv file\n",
    "healthy_data.to_csv('data_healthy_CIK/healthy_data07_2012.csv', index=False)\n"
   ]
  },
  {
   "cell_type": "code",
   "execution_count": null,
   "metadata": {},
   "outputs": [],
   "source": [
    "# eighth chunck of the healthy data\n",
    "healthy_data, err = ek.get_data(healthy_CIK_list[7], fields=fields,\n",
    "                                 parameters={'Frq':'Y',\n",
    "                                             'SDate':'2012-01-01',\n",
    "                                             'EDate':'2013-01-01'})\n",
    "# and save the dataframe as a csv file\n",
    "healthy_data.to_csv('data_healthy_CIK/healthy_data08_2012.csv', index=False)\n"
   ]
  },
  {
   "cell_type": "code",
   "execution_count": null,
   "metadata": {},
   "outputs": [],
   "source": [
    "# ninth chunck of the healthy data\n",
    "healthy_data, err = ek.get_data(healthy_CIK_list[8], fields=fields,\n",
    "                                 parameters={'Frq':'Y',\n",
    "                                             'SDate':'2012-01-01',\n",
    "                                             'EDate':'2013-01-01'})\n",
    "# and save the dataframe as a csv file\n",
    "healthy_data.to_csv('data_healthy_CIK/healthy_data09_2012.csv', index=False)\n"
   ]
  },
  {
   "cell_type": "code",
   "execution_count": null,
   "metadata": {},
   "outputs": [],
   "source": [
    "# tenth chunck of the healthy data\n",
    "healthy_data, err = ek.get_data(healthy_CIK_list[9], fields=fields,\n",
    "                                 parameters={'Frq':'Y',\n",
    "                                             'SDate':'2012-01-01',\n",
    "                                             'EDate':'2013-01-01'})\n",
    "# and save the dataframe as a csv file\n",
    "healthy_data.to_csv('data_healthy_CIK/healthy_data10_2012.csv', index=False)\n"
   ]
  },
  {
   "cell_type": "code",
   "execution_count": null,
   "metadata": {},
   "outputs": [],
   "source": [
    "# eleventh chunck of the healthy data\n",
    "healthy_data, err = ek.get_data(healthy_CIK_list[10], fields=fields,\n",
    "                                 parameters={'Frq':'Y',\n",
    "                                             'SDate':'2012-01-01',\n",
    "                                             'EDate':'2013-01-01'})\n",
    "# and save the dataframe as a csv file\n",
    "healthy_data.to_csv('data_healthy_CIK/healthy_data11_2012.csv', index=False)\n"
   ]
  },
  {
   "cell_type": "code",
   "execution_count": null,
   "metadata": {},
   "outputs": [],
   "source": [
    "# twelfth chunck of the healthy data\n",
    "healthy_data, err = ek.get_data(healthy_CIK_list[11], fields=fields,\n",
    "                                 parameters={'Frq':'Y',\n",
    "                                             'SDate':'2012-01-01',\n",
    "                                             'EDate':'2013-01-01'})\n",
    "# and save the dataframe as a csv file\n",
    "healthy_data.to_csv('data_healthy_CIK/healthy_data12_2012.csv', index=False)\n"
   ]
  },
  {
   "cell_type": "code",
   "execution_count": null,
   "metadata": {},
   "outputs": [],
   "source": [
    "# thirteenth chunck of the healthy data\n",
    "healthy_data, err = ek.get_data(healthy_CIK_list[12], fields=fields,\n",
    "                                 parameters={'Frq':'Y',\n",
    "                                             'SDate':'2012-01-01',\n",
    "                                             'EDate':'2013-01-01'})\n",
    "# and save the dataframe as a csv file\n",
    "healthy_data.to_csv('data_healthy_CIK/healthy_data13_2012.csv', index=False)\n"
   ]
  },
  {
   "cell_type": "code",
   "execution_count": null,
   "metadata": {},
   "outputs": [],
   "source": [
    "# fourteenth chunck of the healthy data\n",
    "healthy_data, err = ek.get_data(healthy_CIK_list[13], fields=fields,\n",
    "                                 parameters={'Frq':'Y',\n",
    "                                             'SDate':'2012-01-01',\n",
    "                                             'EDate':'2013-01-01'})\n",
    "# and save the dataframe as a csv file\n",
    "healthy_data.to_csv('data_healthy_CIK/healthy_data14_2012.csv', index=False)\n"
   ]
  },
  {
   "cell_type": "code",
   "execution_count": null,
   "metadata": {},
   "outputs": [],
   "source": [
    "# fifteenth chunck of the healthy data\n",
    "healthy_data, err = ek.get_data(healthy_CIK_list[14], fields=fields,\n",
    "                                 parameters={'Frq':'Y',\n",
    "                                             'SDate':'2012-01-01',\n",
    "                                             'EDate':'2013-01-01'})\n",
    "# and save the dataframe as a csv file\n",
    "healthy_data.to_csv('data_healthy_CIK/healthy_data15_2012.csv', index=False)\n"
   ]
  },
  {
   "cell_type": "code",
   "execution_count": null,
   "metadata": {},
   "outputs": [],
   "source": [
    "# sixteenth chunck of the healthy data\n",
    "healthy_data, err = ek.get_data(healthy_CIK_list[15], fields=fields,\n",
    "                                 parameters={'Frq':'Y',\n",
    "                                             'SDate':'2012-01-01',\n",
    "                                             'EDate':'2013-01-01'})\n",
    "# and save the dataframe as a csv file\n",
    "healthy_data.to_csv('data_healthy_CIK/healthy_data16_2012.csv', index=False)\n"
   ]
  },
  {
   "cell_type": "code",
   "execution_count": null,
   "metadata": {},
   "outputs": [],
   "source": [
    "# seventeenth chunck of the healthy data\n",
    "healthy_data, err = ek.get_data(healthy_CIK_list[16], fields=fields,\n",
    "                                 parameters={'Frq':'Y',\n",
    "                                             'SDate':'2012-01-01',\n",
    "                                             'EDate':'2013-01-01'})\n",
    "# and save the dataframe as a csv file\n",
    "healthy_data.to_csv('data_healthy_CIK/healthy_data17_2012.csv', index=False)\n"
   ]
  },
  {
   "cell_type": "code",
   "execution_count": null,
   "metadata": {},
   "outputs": [],
   "source": [
    "# eighteenth chunck of the healthy data\n",
    "healthy_data, err = ek.get_data(healthy_CIK_list[17], fields=fields,\n",
    "                                 parameters={'Frq':'Y',\n",
    "                                             'SDate':'2012-01-01',\n",
    "                                             'EDate':'2013-01-01'})\n",
    "# and save the dataframe as a csv file\n",
    "healthy_data.to_csv('data_healthy_CIK/healthy_data18_2012.csv', index=False)\n"
   ]
  },
  {
   "cell_type": "code",
   "execution_count": null,
   "metadata": {},
   "outputs": [],
   "source": [
    "# nineteenth chunck of the healthy data\n",
    "healthy_data, err = ek.get_data(healthy_CIK_list[18], fields=fields,\n",
    "                                 parameters={'Frq':'Y',\n",
    "                                             'SDate':'2012-01-01',\n",
    "                                             'EDate':'2013-01-01'})\n",
    "# and save the dataframe as a csv file\n",
    "healthy_data.to_csv('data_healthy_CIK/healthy_data19_2012.csv', index=False)\n"
   ]
  },
  {
   "cell_type": "code",
   "execution_count": null,
   "metadata": {},
   "outputs": [],
   "source": [
    "# twentieth chunck of the healthy data\n",
    "healthy_data, err = ek.get_data(healthy_CIK_list[19], fields=fields,\n",
    "                                 parameters={'Frq':'Y',\n",
    "                                             'SDate':'2012-01-01',\n",
    "                                             'EDate':'2013-01-01'})\n",
    "# and save the dataframe as a csv file\n",
    "healthy_data.to_csv('data_healthy_CIK/healthy_data20_2012.csv', index=False)\n"
   ]
  },
  {
   "cell_type": "code",
   "execution_count": null,
   "metadata": {},
   "outputs": [],
   "source": [
    "# twenty-first chunck of the healthy data\n",
    "healthy_data, err = ek.get_data(healthy_CIK_list[20], fields=fields,\n",
    "                                 parameters={'Frq':'Y',\n",
    "                                             'SDate':'2012-01-01',\n",
    "                                             'EDate':'2013-01-01'})\n",
    "# and save the dataframe as a csv file\n",
    "healthy_data.to_csv('data_healthy_CIK/healthy_data21_2012.csv', index=False)\n"
   ]
  },
  {
   "cell_type": "code",
   "execution_count": null,
   "metadata": {},
   "outputs": [],
   "source": [
    "# twenty-second chunck of the healthy data\n",
    "healthy_data, err = ek.get_data(healthy_CIK_list[21], fields=fields,\n",
    "                                 parameters={'Frq':'Y',\n",
    "                                             'SDate':'2012-01-01',\n",
    "                                             'EDate':'2013-01-01'})\n",
    "# and save the dataframe as a csv file\n",
    "healthy_data.to_csv('data_healthy_CIK/healthy_data22_2012.csv', index=False)\n"
   ]
  },
  {
   "cell_type": "code",
   "execution_count": null,
   "metadata": {},
   "outputs": [],
   "source": [
    "# twenty-third chunck of the healthy data\n",
    "healthy_data, err = ek.get_data(healthy_CIK_list[22], fields=fields,\n",
    "                                 parameters={'Frq':'Y',\n",
    "                                             'SDate':'2012-01-01',\n",
    "                                             'EDate':'2013-01-01'})\n",
    "# and save the dataframe as a csv file\n",
    "healthy_data.to_csv('data_healthy_CIK/healthy_data23_2012.csv', index=False)\n"
   ]
  },
  {
   "cell_type": "code",
   "execution_count": null,
   "metadata": {},
   "outputs": [],
   "source": [
    "# twenty-fourth chunck of the healthy data\n",
    "healthy_data, err = ek.get_data(healthy_CIK_list[23], fields=fields,\n",
    "                                 parameters={'Frq':'Y',\n",
    "                                             'SDate':'2012-01-01',\n",
    "                                             'EDate':'2013-01-01'})\n",
    "# and save the dataframe as a csv file\n",
    "healthy_data.to_csv('data_healthy_CIK/healthy_data24_2012.csv', index=False)\n"
   ]
  },
  {
   "cell_type": "code",
   "execution_count": null,
   "metadata": {},
   "outputs": [],
   "source": [
    "# twenty-fifth chunck of the healthy data\n",
    "healthy_data, err = ek.get_data(healthy_CIK_list[24], fields=fields,\n",
    "                                 parameters={'Frq':'Y',\n",
    "                                             'SDate':'2012-01-01',\n",
    "                                             'EDate':'2013-01-01'})\n",
    "# and save the dataframe as a csv file\n",
    "healthy_data.to_csv('data_healthy_CIK/healthy_data25_2012.csv', index=False)\n"
   ]
  },
  {
   "cell_type": "code",
   "execution_count": null,
   "metadata": {},
   "outputs": [],
   "source": [
    "# twenty-sixth chunck of the healthy data\n",
    "healthy_data, err = ek.get_data(healthy_CIK_list[25], fields=fields,\n",
    "                                 parameters={'Frq':'Y',\n",
    "                                             'SDate':'2012-01-01',\n",
    "                                             'EDate':'2013-01-01'})\n",
    "# and save the dataframe as a csv file\n",
    "healthy_data.to_csv('data_healthy_CIK/healthy_data26_2012.csv', index=False)\n"
   ]
  },
  {
   "cell_type": "code",
   "execution_count": null,
   "metadata": {},
   "outputs": [],
   "source": [
    "# twenty-seventh chunck of the healthy data\n",
    "healthy_data, err = ek.get_data(healthy_CIK_list[26], fields=fields,\n",
    "                                 parameters={'Frq':'Y',\n",
    "                                             'SDate':'2012-01-01',\n",
    "                                             'EDate':'2013-01-01'})\n",
    "# and save the dataframe as a csv file\n",
    "healthy_data.to_csv('data_healthy_CIK/healthy_data27_2012.csv', index=False)\n"
   ]
  },
  {
   "cell_type": "code",
   "execution_count": null,
   "metadata": {},
   "outputs": [],
   "source": [
    "# twenty-eighth chunck of the healthy data\n",
    "healthy_data, err = ek.get_data(healthy_CIK_list[27], fields=fields,\n",
    "                                 parameters={'Frq':'Y',\n",
    "                                             'SDate':'2012-01-01',\n",
    "                                             'EDate':'2013-01-01'})\n",
    "# and save the dataframe as a csv file\n",
    "healthy_data.to_csv('data_healthy_CIK/healthy_data28_2012.csv', index=False)\n"
   ]
  },
  {
   "cell_type": "code",
   "execution_count": null,
   "metadata": {},
   "outputs": [],
   "source": [
    "# twenty-ninth chunck of the healthy data\n",
    "healthy_data, err = ek.get_data(healthy_CIK_list[28], fields=fields,\n",
    "                                 parameters={'Frq':'Y',\n",
    "                                             'SDate':'2012-01-01',\n",
    "                                             'EDate':'2013-01-01'})\n",
    "# and save the dataframe as a csv file\n",
    "healthy_data.to_csv('data_healthy_CIK/healthy_data29_2012.csv', index=False)\n"
   ]
  },
  {
   "cell_type": "code",
   "execution_count": null,
   "metadata": {},
   "outputs": [],
   "source": [
    "# thirtieth chunck of the healthy data\n",
    "healthy_data, err = ek.get_data(healthy_CIK_list[29], fields=fields,\n",
    "                                 parameters={'Frq':'Y',\n",
    "                                             'SDate':'2012-01-01',\n",
    "                                             'EDate':'2013-01-01'})\n",
    "# and save the dataframe as a csv file\n",
    "healthy_data.to_csv('data_healthy_CIK/healthy_data30_2012.csv', index=False)\n"
   ]
  },
  {
   "cell_type": "markdown",
   "metadata": {},
   "source": [
    "### 2013"
   ]
  },
  {
   "cell_type": "code",
   "execution_count": null,
   "metadata": {},
   "outputs": [],
   "source": [
    "# first chuck of the healthy data\n",
    "healthy_data, err = ek.get_data(healthy_CIK_list[0], fields=fields,\n",
    "                                 parameters={'Frq':'Y',\n",
    "                                             'SDate':'2013-01-01',\n",
    "                                             'EDate':'2014-01-01'})\n",
    "# and save the dataframe as a csv file\n",
    "healthy_data.to_csv('data_healthy_CIK/healthy_data01_2013.csv', index=False)\n"
   ]
  },
  {
   "cell_type": "code",
   "execution_count": null,
   "metadata": {},
   "outputs": [],
   "source": [
    "# second chuck of the healthy data\n",
    "healthy_data, err = ek.get_data(healthy_CIK_list[1], fields=fields,\n",
    "                                 parameters={'Frq':'Y',\n",
    "                                             'SDate':'2013-01-01',\n",
    "                                             'EDate':'2014-01-01'})\n",
    "# and save the dataframe as a csv file\n",
    "healthy_data.to_csv('data_healthy_CIK/healthy_data02_2013.csv', index=False)\n"
   ]
  },
  {
   "cell_type": "code",
   "execution_count": null,
   "metadata": {},
   "outputs": [],
   "source": [
    "# third chuck of the healthy data\n",
    "healthy_data, err = ek.get_data(healthy_CIK_list[2], fields=fields,\n",
    "                                 parameters={'Frq':'Y',\n",
    "                                             'SDate':'2013-01-01',\n",
    "                                             'EDate':'2014-01-01'})\n",
    "# and save the dataframe as a csv file\n",
    "healthy_data.to_csv('data_healthy_CIK/healthy_data03_2013.csv', index=False)\n"
   ]
  },
  {
   "cell_type": "code",
   "execution_count": null,
   "metadata": {},
   "outputs": [],
   "source": [
    "# fourth chunck of the healthy data\n",
    "healthy_data, err = ek.get_data(healthy_CIK_list[3], fields=fields,\n",
    "                                 parameters={'Frq':'Y',\n",
    "                                             'SDate':'2013-01-01',\n",
    "                                             'EDate':'2014-01-01'})\n",
    "# and save the dataframe as a csv file\n",
    "healthy_data.to_csv('data_healthy_CIK/healthy_data04_2013.csv', index=False)\n"
   ]
  },
  {
   "cell_type": "code",
   "execution_count": null,
   "metadata": {},
   "outputs": [],
   "source": [
    "# fifth chunck of the healthy data\n",
    "healthy_data, err = ek.get_data(healthy_CIK_list[4], fields=fields,\n",
    "                                 parameters={'Frq':'Y',\n",
    "                                             'SDate':'2013-01-01',\n",
    "                                             'EDate':'2014-01-01'})\n",
    "# and save the dataframe as a csv file\n",
    "healthy_data.to_csv('data_healthy_CIK/healthy_data05_2013.csv', index=False)\n"
   ]
  },
  {
   "cell_type": "code",
   "execution_count": null,
   "metadata": {},
   "outputs": [],
   "source": [
    "# sixth chunck of the healthy data\n",
    "healthy_data, err = ek.get_data(healthy_CIK_list[5], fields=fields,\n",
    "                                 parameters={'Frq':'Y',\n",
    "                                             'SDate':'2013-01-01',\n",
    "                                             'EDate':'2014-01-01'})\n",
    "# and save the dataframe as a csv file\n",
    "healthy_data.to_csv('data_healthy_CIK/healthy_data06_2013.csv', index=False)\n"
   ]
  },
  {
   "cell_type": "code",
   "execution_count": null,
   "metadata": {},
   "outputs": [],
   "source": [
    "# seventh chunck of the healthy data\n",
    "healthy_data, err = ek.get_data(healthy_CIK_list[6], fields=fields,\n",
    "                                 parameters={'Frq':'Y',\n",
    "                                             'SDate':'2013-01-01',\n",
    "                                             'EDate':'2014-01-01'})\n",
    "# and save the dataframe as a csv file\n",
    "healthy_data.to_csv('data_healthy_CIK/healthy_data07_2013.csv', index=False)\n"
   ]
  },
  {
   "cell_type": "code",
   "execution_count": null,
   "metadata": {},
   "outputs": [],
   "source": [
    "# eighth chunck of the healthy data\n",
    "healthy_data, err = ek.get_data(healthy_CIK_list[7], fields=fields,\n",
    "                                 parameters={'Frq':'Y',\n",
    "                                             'SDate':'2013-01-01',\n",
    "                                             'EDate':'2014-01-01'})\n",
    "# and save the dataframe as a csv file\n",
    "healthy_data.to_csv('data_healthy_CIK/healthy_data08_2013.csv', index=False)\n"
   ]
  },
  {
   "cell_type": "code",
   "execution_count": null,
   "metadata": {},
   "outputs": [],
   "source": [
    "# ninth chunck of the healthy data\n",
    "healthy_data, err = ek.get_data(healthy_CIK_list[8], fields=fields,\n",
    "                                 parameters={'Frq':'Y',\n",
    "                                             'SDate':'2013-01-01',\n",
    "                                             'EDate':'2014-01-01'})\n",
    "# and save the dataframe as a csv file\n",
    "healthy_data.to_csv('data_healthy_CIK/healthy_data09_2013.csv', index=False)\n"
   ]
  },
  {
   "cell_type": "code",
   "execution_count": null,
   "metadata": {},
   "outputs": [],
   "source": [
    "# tenth chunck of the healthy data\n",
    "healthy_data, err = ek.get_data(healthy_CIK_list[9], fields=fields,\n",
    "                                 parameters={'Frq':'Y',\n",
    "                                             'SDate':'2013-01-01',\n",
    "                                             'EDate':'2014-01-01'})\n",
    "# and save the dataframe as a csv file\n",
    "healthy_data.to_csv('data_healthy_CIK/healthy_data10_2013.csv', index=False)\n"
   ]
  },
  {
   "cell_type": "code",
   "execution_count": null,
   "metadata": {},
   "outputs": [],
   "source": [
    "# eleventh chunck of the healthy data\n",
    "healthy_data, err = ek.get_data(healthy_CIK_list[10], fields=fields,\n",
    "                                 parameters={'Frq':'Y',\n",
    "                                             'SDate':'2013-01-01',\n",
    "                                             'EDate':'2014-01-01'})\n",
    "# and save the dataframe as a csv file\n",
    "healthy_data.to_csv('data_healthy_CIK/healthy_data11_2013.csv', index=False)\n"
   ]
  },
  {
   "cell_type": "code",
   "execution_count": null,
   "metadata": {},
   "outputs": [],
   "source": [
    "# twelfth chunck of the healthy data\n",
    "healthy_data, err = ek.get_data(healthy_CIK_list[11], fields=fields,\n",
    "                                 parameters={'Frq':'Y',\n",
    "                                             'SDate':'2013-01-01',\n",
    "                                             'EDate':'2014-01-01'})\n",
    "# and save the dataframe as a csv file\n",
    "healthy_data.to_csv('data_healthy_CIK/healthy_data12_2013.csv', index=False)\n"
   ]
  },
  {
   "cell_type": "code",
   "execution_count": null,
   "metadata": {},
   "outputs": [],
   "source": [
    "# thirteenth chunck of the healthy data\n",
    "healthy_data, err = ek.get_data(healthy_CIK_list[12], fields=fields,\n",
    "                                 parameters={'Frq':'Y',\n",
    "                                             'SDate':'2013-01-01',\n",
    "                                             'EDate':'2014-01-01'})\n",
    "# and save the dataframe as a csv file\n",
    "healthy_data.to_csv('data_healthy_CIK/healthy_data13_2013.csv', index=False)\n"
   ]
  },
  {
   "cell_type": "code",
   "execution_count": null,
   "metadata": {},
   "outputs": [],
   "source": [
    "# fourteenth chunck of the healthy data\n",
    "healthy_data, err = ek.get_data(healthy_CIK_list[13], fields=fields,\n",
    "                                 parameters={'Frq':'Y',\n",
    "                                             'SDate':'2013-01-01',\n",
    "                                             'EDate':'2014-01-01'})\n",
    "# and save the dataframe as a csv file\n",
    "healthy_data.to_csv('data_healthy_CIK/healthy_data14_2013.csv', index=False)\n"
   ]
  },
  {
   "cell_type": "code",
   "execution_count": null,
   "metadata": {},
   "outputs": [],
   "source": [
    "# fifteenth chunck of the healthy data\n",
    "healthy_data, err = ek.get_data(healthy_CIK_list[14], fields=fields,\n",
    "                                 parameters={'Frq':'Y',\n",
    "                                             'SDate':'2013-01-01',\n",
    "                                             'EDate':'2014-01-01'})\n",
    "# and save the dataframe as a csv file\n",
    "healthy_data.to_csv('data_healthy_CIK/healthy_data15_2013.csv', index=False)\n"
   ]
  },
  {
   "cell_type": "code",
   "execution_count": null,
   "metadata": {},
   "outputs": [],
   "source": [
    "# sixteenth chunck of the healthy data\n",
    "healthy_data, err = ek.get_data(healthy_CIK_list[15], fields=fields,\n",
    "                                 parameters={'Frq':'Y',\n",
    "                                             'SDate':'2013-01-01',\n",
    "                                             'EDate':'2014-01-01'})\n",
    "# and save the dataframe as a csv file\n",
    "healthy_data.to_csv('data_healthy_CIK/healthy_data16_2013.csv', index=False)\n"
   ]
  },
  {
   "cell_type": "code",
   "execution_count": null,
   "metadata": {},
   "outputs": [],
   "source": [
    "# seventeenth chunck of the healthy data\n",
    "healthy_data, err = ek.get_data(healthy_CIK_list[16], fields=fields,\n",
    "                                 parameters={'Frq':'Y',\n",
    "                                             'SDate':'2013-01-01',\n",
    "                                             'EDate':'2014-01-01'})\n",
    "# and save the dataframe as a csv file\n",
    "healthy_data.to_csv('data_healthy_CIK/healthy_data17_2013.csv', index=False)\n"
   ]
  },
  {
   "cell_type": "code",
   "execution_count": null,
   "metadata": {},
   "outputs": [],
   "source": [
    "# eighteenth chunck of the healthy data\n",
    "healthy_data, err = ek.get_data(healthy_CIK_list[17], fields=fields,\n",
    "                                 parameters={'Frq':'Y',\n",
    "                                             'SDate':'2013-01-01',\n",
    "                                             'EDate':'2014-01-01'})\n",
    "# and save the dataframe as a csv file\n",
    "healthy_data.to_csv('data_healthy_CIK/healthy_data18_2013.csv', index=False)\n"
   ]
  },
  {
   "cell_type": "code",
   "execution_count": null,
   "metadata": {},
   "outputs": [],
   "source": [
    "# nineteenth chunck of the healthy data\n",
    "healthy_data, err = ek.get_data(healthy_CIK_list[18], fields=fields,\n",
    "                                 parameters={'Frq':'Y',\n",
    "                                             'SDate':'2013-01-01',\n",
    "                                             'EDate':'2014-01-01'})\n",
    "# and save the dataframe as a csv file\n",
    "healthy_data.to_csv('data_healthy_CIK/healthy_data19_2013.csv', index=False)\n"
   ]
  },
  {
   "cell_type": "code",
   "execution_count": null,
   "metadata": {},
   "outputs": [],
   "source": [
    "# twentieth chunck of the healthy data\n",
    "healthy_data, err = ek.get_data(healthy_CIK_list[19], fields=fields,\n",
    "                                 parameters={'Frq':'Y',\n",
    "                                             'SDate':'2013-01-01',\n",
    "                                             'EDate':'2014-01-01'})\n",
    "# and save the dataframe as a csv file\n",
    "healthy_data.to_csv('data_healthy_CIK/healthy_data20_2013.csv', index=False)\n"
   ]
  },
  {
   "cell_type": "code",
   "execution_count": null,
   "metadata": {},
   "outputs": [],
   "source": [
    "# twenty-first chunck of the healthy data\n",
    "healthy_data, err = ek.get_data(healthy_CIK_list[20], fields=fields,\n",
    "                                 parameters={'Frq':'Y',\n",
    "                                             'SDate':'2013-01-01',\n",
    "                                             'EDate':'2014-01-01'})\n",
    "# and save the dataframe as a csv file\n",
    "healthy_data.to_csv('data_healthy_CIK/healthy_data21_2013.csv', index=False)\n"
   ]
  },
  {
   "cell_type": "code",
   "execution_count": null,
   "metadata": {},
   "outputs": [],
   "source": [
    "# twenty-second chunck of the healthy data\n",
    "healthy_data, err = ek.get_data(healthy_CIK_list[21], fields=fields,\n",
    "                                 parameters={'Frq':'Y',\n",
    "                                             'SDate':'2013-01-01',\n",
    "                                             'EDate':'2014-01-01'})\n",
    "# and save the dataframe as a csv file\n",
    "healthy_data.to_csv('data_healthy_CIK/healthy_data22_2013.csv', index=False)\n"
   ]
  },
  {
   "cell_type": "code",
   "execution_count": null,
   "metadata": {},
   "outputs": [],
   "source": [
    "# twenty-third chunck of the healthy data\n",
    "healthy_data, err = ek.get_data(healthy_CIK_list[22], fields=fields,\n",
    "                                 parameters={'Frq':'Y',\n",
    "                                             'SDate':'2013-01-01',\n",
    "                                             'EDate':'2014-01-01'})\n",
    "# and save the dataframe as a csv file\n",
    "healthy_data.to_csv('data_healthy_CIK/healthy_data23_2013.csv', index=False)\n"
   ]
  },
  {
   "cell_type": "code",
   "execution_count": null,
   "metadata": {},
   "outputs": [],
   "source": [
    "# twenty-fourth chunck of the healthy data\n",
    "healthy_data, err = ek.get_data(healthy_CIK_list[23], fields=fields,\n",
    "                                 parameters={'Frq':'Y',\n",
    "                                             'SDate':'2013-01-01',\n",
    "                                             'EDate':'2014-01-01'})\n",
    "# and save the dataframe as a csv file\n",
    "healthy_data.to_csv('data_healthy_CIK/healthy_data24_2013.csv', index=False)\n"
   ]
  },
  {
   "cell_type": "code",
   "execution_count": null,
   "metadata": {},
   "outputs": [],
   "source": [
    "# twenty-fifth chunck of the healthy data\n",
    "healthy_data, err = ek.get_data(healthy_CIK_list[24], fields=fields,\n",
    "                                 parameters={'Frq':'Y',\n",
    "                                             'SDate':'2013-01-01',\n",
    "                                             'EDate':'2014-01-01'})\n",
    "# and save the dataframe as a csv file\n",
    "healthy_data.to_csv('data_healthy_CIK/healthy_data25_2013.csv', index=False)\n"
   ]
  },
  {
   "cell_type": "code",
   "execution_count": null,
   "metadata": {},
   "outputs": [],
   "source": [
    "# twenty-sixth chunck of the healthy data\n",
    "healthy_data, err = ek.get_data(healthy_CIK_list[25], fields=fields,\n",
    "                                 parameters={'Frq':'Y',\n",
    "                                             'SDate':'2013-01-01',\n",
    "                                             'EDate':'2014-01-01'})\n",
    "# and save the dataframe as a csv file\n",
    "healthy_data.to_csv('data_healthy_CIK/healthy_data26_2013.csv', index=False)\n"
   ]
  },
  {
   "cell_type": "code",
   "execution_count": null,
   "metadata": {},
   "outputs": [],
   "source": [
    "# twenty-seventh chunck of the healthy data\n",
    "healthy_data, err = ek.get_data(healthy_CIK_list[26], fields=fields,\n",
    "                                 parameters={'Frq':'Y',\n",
    "                                             'SDate':'2013-01-01',\n",
    "                                             'EDate':'2014-01-01'})\n",
    "# and save the dataframe as a csv file\n",
    "healthy_data.to_csv('data_healthy_CIK/healthy_data27_2013.csv', index=False)\n"
   ]
  },
  {
   "cell_type": "code",
   "execution_count": null,
   "metadata": {},
   "outputs": [],
   "source": [
    "# twenty-eighth chunck of the healthy data\n",
    "healthy_data, err = ek.get_data(healthy_CIK_list[27], fields=fields,\n",
    "                                 parameters={'Frq':'Y',\n",
    "                                             'SDate':'2013-01-01',\n",
    "                                             'EDate':'2014-01-01'})\n",
    "# and save the dataframe as a csv file\n",
    "healthy_data.to_csv('data_healthy_CIK/healthy_data28_2013.csv', index=False)\n"
   ]
  },
  {
   "cell_type": "code",
   "execution_count": null,
   "metadata": {},
   "outputs": [],
   "source": [
    "# twenty-ninth chunck of the healthy data\n",
    "healthy_data, err = ek.get_data(healthy_CIK_list[28], fields=fields,\n",
    "                                 parameters={'Frq':'Y',\n",
    "                                             'SDate':'2013-01-01',\n",
    "                                             'EDate':'2014-01-01'})\n",
    "# and save the dataframe as a csv file\n",
    "healthy_data.to_csv('data_healthy_CIK/healthy_data29_2013.csv', index=False)\n"
   ]
  },
  {
   "cell_type": "code",
   "execution_count": null,
   "metadata": {},
   "outputs": [],
   "source": [
    "# thirtieth chunck of the healthy data\n",
    "healthy_data, err = ek.get_data(healthy_CIK_list[29], fields=fields,\n",
    "                                 parameters={'Frq':'Y',\n",
    "                                             'SDate':'2013-01-01',\n",
    "                                             'EDate':'2014-01-01'})\n",
    "# and save the dataframe as a csv file\n",
    "healthy_data.to_csv('data_healthy_CIK/healthy_data30_2013.csv', index=False)\n"
   ]
  },
  {
   "cell_type": "markdown",
   "metadata": {},
   "source": [
    "### 2014"
   ]
  },
  {
   "cell_type": "code",
   "execution_count": null,
   "metadata": {},
   "outputs": [],
   "source": [
    "# first chuck of the healthy data\n",
    "healthy_data, err = ek.get_data(healthy_CIK_list[0], fields=fields,\n",
    "                                 parameters={'Frq':'Y',\n",
    "                                             'SDate':'2014-01-01',\n",
    "                                             'EDate':'2015-01-01'})\n",
    "# and save the dataframe as a csv file\n",
    "healthy_data.to_csv('data_healthy_CIK/healthy_data01_2014.csv', index=False)\n"
   ]
  },
  {
   "cell_type": "code",
   "execution_count": null,
   "metadata": {},
   "outputs": [],
   "source": [
    "# second chuck of the healthy data\n",
    "healthy_data, err = ek.get_data(healthy_CIK_list[1], fields=fields,\n",
    "                                 parameters={'Frq':'Y',\n",
    "                                             'SDate':'2014-01-01',\n",
    "                                             'EDate':'2015-01-01'})\n",
    "# and save the dataframe as a csv file\n",
    "healthy_data.to_csv('data_healthy_CIK/healthy_data02_2014.csv', index=False)\n"
   ]
  },
  {
   "cell_type": "code",
   "execution_count": null,
   "metadata": {},
   "outputs": [],
   "source": [
    "# third chuck of the healthy data\n",
    "healthy_data, err = ek.get_data(healthy_CIK_list[2], fields=fields,\n",
    "                                 parameters={'Frq':'Y',\n",
    "                                             'SDate':'2014-01-01',\n",
    "                                             'EDate':'2015-01-01'})\n",
    "# and save the dataframe as a csv file\n",
    "healthy_data.to_csv('data_healthy_CIK/healthy_data03_2014.csv', index=False)\n"
   ]
  },
  {
   "cell_type": "code",
   "execution_count": null,
   "metadata": {},
   "outputs": [],
   "source": [
    "# fourth chunck of the healthy data\n",
    "healthy_data, err = ek.get_data(healthy_CIK_list[3], fields=fields,\n",
    "                                 parameters={'Frq':'Y',\n",
    "                                             'SDate':'2014-01-01',\n",
    "                                             'EDate':'2015-01-01'})\n",
    "# and save the dataframe as a csv file\n",
    "healthy_data.to_csv('data_healthy_CIK/healthy_data04_2014.csv', index=False)\n"
   ]
  },
  {
   "cell_type": "code",
   "execution_count": null,
   "metadata": {},
   "outputs": [],
   "source": [
    "# fifth chunck of the healthy data\n",
    "healthy_data, err = ek.get_data(healthy_CIK_list[4], fields=fields,\n",
    "                                 parameters={'Frq':'Y',\n",
    "                                             'SDate':'2014-01-01',\n",
    "                                             'EDate':'2015-01-01'})\n",
    "# and save the dataframe as a csv file\n",
    "healthy_data.to_csv('data_healthy_CIK/healthy_data05_2014.csv', index=False)\n"
   ]
  },
  {
   "cell_type": "code",
   "execution_count": null,
   "metadata": {},
   "outputs": [],
   "source": [
    "# sixth chunck of the healthy data\n",
    "healthy_data, err = ek.get_data(healthy_CIK_list[5], fields=fields,\n",
    "                                 parameters={'Frq':'Y',\n",
    "                                             'SDate':'2014-01-01',\n",
    "                                             'EDate':'2015-01-01'})\n",
    "# and save the dataframe as a csv file\n",
    "healthy_data.to_csv('data_healthy_CIK/healthy_data06_2014.csv', index=False)\n"
   ]
  },
  {
   "cell_type": "code",
   "execution_count": null,
   "metadata": {},
   "outputs": [],
   "source": [
    "# seventh chunck of the healthy data\n",
    "healthy_data, err = ek.get_data(healthy_CIK_list[6], fields=fields,\n",
    "                                 parameters={'Frq':'Y',\n",
    "                                             'SDate':'2014-01-01',\n",
    "                                             'EDate':'2015-01-01'})\n",
    "# and save the dataframe as a csv file\n",
    "healthy_data.to_csv('data_healthy_CIK/healthy_data07_2014.csv', index=False)\n"
   ]
  },
  {
   "cell_type": "code",
   "execution_count": null,
   "metadata": {},
   "outputs": [],
   "source": [
    "# eighth chunck of the healthy data\n",
    "healthy_data, err = ek.get_data(healthy_CIK_list[7], fields=fields,\n",
    "                                 parameters={'Frq':'Y',\n",
    "                                             'SDate':'2014-01-01',\n",
    "                                             'EDate':'2015-01-01'})\n",
    "# and save the dataframe as a csv file\n",
    "healthy_data.to_csv('data_healthy_CIK/healthy_data08_2014.csv', index=False)\n"
   ]
  },
  {
   "cell_type": "code",
   "execution_count": null,
   "metadata": {},
   "outputs": [],
   "source": [
    "# ninth chunck of the healthy data\n",
    "healthy_data, err = ek.get_data(healthy_CIK_list[8], fields=fields,\n",
    "                                 parameters={'Frq':'Y',\n",
    "                                             'SDate':'2014-01-01',\n",
    "                                             'EDate':'2015-01-01'})\n",
    "# and save the dataframe as a csv file\n",
    "healthy_data.to_csv('data_healthy_CIK/healthy_data09_2014.csv', index=False)\n"
   ]
  },
  {
   "cell_type": "code",
   "execution_count": null,
   "metadata": {},
   "outputs": [],
   "source": [
    "# tenth chunck of the healthy data\n",
    "healthy_data, err = ek.get_data(healthy_CIK_list[9], fields=fields,\n",
    "                                 parameters={'Frq':'Y',\n",
    "                                             'SDate':'2014-01-01',\n",
    "                                             'EDate':'2015-01-01'})\n",
    "# and save the dataframe as a csv file\n",
    "healthy_data.to_csv('data_healthy_CIK/healthy_data10_2014.csv', index=False)\n"
   ]
  },
  {
   "cell_type": "code",
   "execution_count": null,
   "metadata": {},
   "outputs": [],
   "source": [
    "# eleventh chunck of the healthy data\n",
    "healthy_data, err = ek.get_data(healthy_CIK_list[10], fields=fields,\n",
    "                                 parameters={'Frq':'Y',\n",
    "                                             'SDate':'2014-01-01',\n",
    "                                             'EDate':'2015-01-01'})\n",
    "# and save the dataframe as a csv file\n",
    "healthy_data.to_csv('data_healthy_CIK/healthy_data11_2014.csv', index=False)\n"
   ]
  },
  {
   "cell_type": "code",
   "execution_count": null,
   "metadata": {},
   "outputs": [],
   "source": [
    "# twelfth chunck of the healthy data\n",
    "healthy_data, err = ek.get_data(healthy_CIK_list[11], fields=fields,\n",
    "                                 parameters={'Frq':'Y',\n",
    "                                             'SDate':'2014-01-01',\n",
    "                                             'EDate':'2015-01-01'})\n",
    "# and save the dataframe as a csv file\n",
    "healthy_data.to_csv('data_healthy_CIK/healthy_data12_2014.csv', index=False)\n"
   ]
  },
  {
   "cell_type": "code",
   "execution_count": null,
   "metadata": {},
   "outputs": [],
   "source": [
    "# thirteenth chunck of the healthy data\n",
    "healthy_data, err = ek.get_data(healthy_CIK_list[12], fields=fields,\n",
    "                                 parameters={'Frq':'Y',\n",
    "                                             'SDate':'2014-01-01',\n",
    "                                             'EDate':'2015-01-01'})\n",
    "# and save the dataframe as a csv file\n",
    "healthy_data.to_csv('data_healthy_CIK/healthy_data13_2014.csv', index=False)\n"
   ]
  },
  {
   "cell_type": "code",
   "execution_count": null,
   "metadata": {},
   "outputs": [],
   "source": [
    "# fourteenth chunck of the healthy data\n",
    "healthy_data, err = ek.get_data(healthy_CIK_list[13], fields=fields,\n",
    "                                 parameters={'Frq':'Y',\n",
    "                                             'SDate':'2014-01-01',\n",
    "                                             'EDate':'2015-01-01'})\n",
    "# and save the dataframe as a csv file\n",
    "healthy_data.to_csv('data_healthy_CIK/healthy_data14_2014.csv', index=False)\n"
   ]
  },
  {
   "cell_type": "code",
   "execution_count": null,
   "metadata": {},
   "outputs": [],
   "source": [
    "# fifteenth chunck of the healthy data\n",
    "healthy_data, err = ek.get_data(healthy_CIK_list[14], fields=fields,\n",
    "                                 parameters={'Frq':'Y',\n",
    "                                             'SDate':'2014-01-01',\n",
    "                                             'EDate':'2015-01-01'})\n",
    "# and save the dataframe as a csv file\n",
    "healthy_data.to_csv('data_healthy_CIK/healthy_data15_2014.csv', index=False)\n"
   ]
  },
  {
   "cell_type": "code",
   "execution_count": null,
   "metadata": {},
   "outputs": [],
   "source": [
    "# sixteenth chunck of the healthy data\n",
    "healthy_data, err = ek.get_data(healthy_CIK_list[15], fields=fields,\n",
    "                                 parameters={'Frq':'Y',\n",
    "                                             'SDate':'2014-01-01',\n",
    "                                             'EDate':'2015-01-01'})\n",
    "# and save the dataframe as a csv file\n",
    "healthy_data.to_csv('data_healthy_CIK/healthy_data16_2014.csv', index=False)\n"
   ]
  },
  {
   "cell_type": "code",
   "execution_count": null,
   "metadata": {},
   "outputs": [],
   "source": [
    "# seventeenth chunck of the healthy data\n",
    "healthy_data, err = ek.get_data(healthy_CIK_list[16], fields=fields,\n",
    "                                 parameters={'Frq':'Y',\n",
    "                                             'SDate':'2014-01-01',\n",
    "                                             'EDate':'2015-01-01'})\n",
    "# and save the dataframe as a csv file\n",
    "healthy_data.to_csv('data_healthy_CIK/healthy_data17_2014.csv', index=False)\n"
   ]
  },
  {
   "cell_type": "code",
   "execution_count": null,
   "metadata": {},
   "outputs": [],
   "source": [
    "# eighteenth chunck of the healthy data\n",
    "healthy_data, err = ek.get_data(healthy_CIK_list[17], fields=fields,\n",
    "                                 parameters={'Frq':'Y',\n",
    "                                             'SDate':'2014-01-01',\n",
    "                                             'EDate':'2015-01-01'})\n",
    "# and save the dataframe as a csv file\n",
    "healthy_data.to_csv('data_healthy_CIK/healthy_data18_2014.csv', index=False)\n"
   ]
  },
  {
   "cell_type": "code",
   "execution_count": null,
   "metadata": {},
   "outputs": [],
   "source": [
    "# nineteenth chunck of the healthy data\n",
    "healthy_data, err = ek.get_data(healthy_CIK_list[18], fields=fields,\n",
    "                                 parameters={'Frq':'Y',\n",
    "                                             'SDate':'2014-01-01',\n",
    "                                             'EDate':'2015-01-01'})\n",
    "# and save the dataframe as a csv file\n",
    "healthy_data.to_csv('data_healthy_CIK/healthy_data19_2014.csv', index=False)\n"
   ]
  },
  {
   "cell_type": "code",
   "execution_count": null,
   "metadata": {},
   "outputs": [],
   "source": [
    "# twentieth chunck of the healthy data\n",
    "healthy_data, err = ek.get_data(healthy_CIK_list[19], fields=fields,\n",
    "                                 parameters={'Frq':'Y',\n",
    "                                             'SDate':'2014-01-01',\n",
    "                                             'EDate':'2015-01-01'})\n",
    "# and save the dataframe as a csv file\n",
    "healthy_data.to_csv('data_healthy_CIK/healthy_data20_2014.csv', index=False)\n"
   ]
  },
  {
   "cell_type": "code",
   "execution_count": null,
   "metadata": {},
   "outputs": [],
   "source": [
    "# twenty-first chunck of the healthy data\n",
    "healthy_data, err = ek.get_data(healthy_CIK_list[20], fields=fields,\n",
    "                                 parameters={'Frq':'Y',\n",
    "                                             'SDate':'2014-01-01',\n",
    "                                             'EDate':'2015-01-01'})\n",
    "# and save the dataframe as a csv file\n",
    "healthy_data.to_csv('data_healthy_CIK/healthy_data21_2014.csv', index=False)\n"
   ]
  },
  {
   "cell_type": "code",
   "execution_count": null,
   "metadata": {},
   "outputs": [],
   "source": [
    "# twenty-second chunck of the healthy data\n",
    "healthy_data, err = ek.get_data(healthy_CIK_list[21], fields=fields,\n",
    "                                 parameters={'Frq':'Y',\n",
    "                                             'SDate':'2014-01-01',\n",
    "                                             'EDate':'2015-01-01'})\n",
    "# and save the dataframe as a csv file\n",
    "healthy_data.to_csv('data_healthy_CIK/healthy_data22_2014.csv', index=False)\n"
   ]
  },
  {
   "cell_type": "code",
   "execution_count": null,
   "metadata": {},
   "outputs": [],
   "source": [
    "# twenty-third chunck of the healthy data\n",
    "healthy_data, err = ek.get_data(healthy_CIK_list[22], fields=fields,\n",
    "                                 parameters={'Frq':'Y',\n",
    "                                             'SDate':'2014-01-01',\n",
    "                                             'EDate':'2015-01-01'})\n",
    "# and save the dataframe as a csv file\n",
    "healthy_data.to_csv('data_healthy_CIK/healthy_data23_2014.csv', index=False)\n"
   ]
  },
  {
   "cell_type": "code",
   "execution_count": null,
   "metadata": {},
   "outputs": [],
   "source": [
    "# twenty-fourth chunck of the healthy data\n",
    "healthy_data, err = ek.get_data(healthy_CIK_list[23], fields=fields,\n",
    "                                 parameters={'Frq':'Y',\n",
    "                                             'SDate':'2014-01-01',\n",
    "                                             'EDate':'2015-01-01'})\n",
    "# and save the dataframe as a csv file\n",
    "healthy_data.to_csv('data_healthy_CIK/healthy_data24_2014.csv', index=False)\n"
   ]
  },
  {
   "cell_type": "code",
   "execution_count": null,
   "metadata": {},
   "outputs": [],
   "source": [
    "# twenty-fifth chunck of the healthy data\n",
    "healthy_data, err = ek.get_data(healthy_CIK_list[24], fields=fields,\n",
    "                                 parameters={'Frq':'Y',\n",
    "                                             'SDate':'2014-01-01',\n",
    "                                             'EDate':'2015-01-01'})\n",
    "# and save the dataframe as a csv file\n",
    "healthy_data.to_csv('data_healthy_CIK/healthy_data25_2014.csv', index=False)\n"
   ]
  },
  {
   "cell_type": "code",
   "execution_count": null,
   "metadata": {},
   "outputs": [],
   "source": [
    "# twenty-sixth chunck of the healthy data\n",
    "healthy_data, err = ek.get_data(healthy_CIK_list[25], fields=fields,\n",
    "                                 parameters={'Frq':'Y',\n",
    "                                             'SDate':'2014-01-01',\n",
    "                                             'EDate':'2015-01-01'})\n",
    "# and save the dataframe as a csv file\n",
    "healthy_data.to_csv('data_healthy_CIK/healthy_data26_2014.csv', index=False)\n"
   ]
  },
  {
   "cell_type": "code",
   "execution_count": null,
   "metadata": {},
   "outputs": [],
   "source": [
    "# twenty-seventh chunck of the healthy data\n",
    "healthy_data, err = ek.get_data(healthy_CIK_list[26], fields=fields,\n",
    "                                 parameters={'Frq':'Y',\n",
    "                                             'SDate':'2014-01-01',\n",
    "                                             'EDate':'2015-01-01'})\n",
    "# and save the dataframe as a csv file\n",
    "healthy_data.to_csv('data_healthy_CIK/healthy_data27_2014.csv', index=False)\n"
   ]
  },
  {
   "cell_type": "code",
   "execution_count": null,
   "metadata": {},
   "outputs": [],
   "source": [
    "# twenty-eighth chunck of the healthy data\n",
    "healthy_data, err = ek.get_data(healthy_CIK_list[27], fields=fields,\n",
    "                                 parameters={'Frq':'Y',\n",
    "                                             'SDate':'2014-01-01',\n",
    "                                             'EDate':'2015-01-01'})\n",
    "# and save the dataframe as a csv file\n",
    "healthy_data.to_csv('data_healthy_CIK/healthy_data28_2014.csv', index=False)\n"
   ]
  },
  {
   "cell_type": "code",
   "execution_count": null,
   "metadata": {},
   "outputs": [],
   "source": [
    "# twenty-ninth chunck of the healthy data\n",
    "healthy_data, err = ek.get_data(healthy_CIK_list[28], fields=fields,\n",
    "                                 parameters={'Frq':'Y',\n",
    "                                             'SDate':'2014-01-01',\n",
    "                                             'EDate':'2015-01-01'})\n",
    "# and save the dataframe as a csv file\n",
    "healthy_data.to_csv('data_healthy_CIK/healthy_data29_2014.csv', index=False)\n"
   ]
  },
  {
   "cell_type": "code",
   "execution_count": null,
   "metadata": {},
   "outputs": [],
   "source": [
    "# thirtieth chunck of the healthy data\n",
    "healthy_data, err = ek.get_data(healthy_CIK_list[29], fields=fields,\n",
    "                                 parameters={'Frq':'Y',\n",
    "                                             'SDate':'2014-01-01',\n",
    "                                             'EDate':'2015-01-01'})\n",
    "# and save the dataframe as a csv file\n",
    "healthy_data.to_csv('data_healthy_CIK/healthy_data30_2014.csv', index=False)\n"
   ]
  },
  {
   "cell_type": "markdown",
   "metadata": {},
   "source": [
    "### 2015"
   ]
  },
  {
   "cell_type": "code",
   "execution_count": null,
   "metadata": {},
   "outputs": [],
   "source": [
    "# first chuck of the healthy data\n",
    "healthy_data, err = ek.get_data(healthy_CIK_list[0], fields=fields,\n",
    "                                 parameters={'Frq':'Y',\n",
    "                                             'SDate':'2015-01-01',\n",
    "                                             'EDate':'2016-01-01'})\n",
    "# and save the dataframe as a csv file\n",
    "healthy_data.to_csv('data_healthy_CIK/healthy_data01_2015.csv', index=False)\n"
   ]
  },
  {
   "cell_type": "code",
   "execution_count": null,
   "metadata": {},
   "outputs": [],
   "source": [
    "# second chuck of the healthy data\n",
    "healthy_data, err = ek.get_data(healthy_CIK_list[1], fields=fields,\n",
    "                                 parameters={'Frq':'Y',\n",
    "                                             'SDate':'2015-01-01',\n",
    "                                             'EDate':'2016-01-01'})\n",
    "# and save the dataframe as a csv file\n",
    "healthy_data.to_csv('data_healthy_CIK/healthy_data02_2015.csv', index=False)\n"
   ]
  },
  {
   "cell_type": "code",
   "execution_count": null,
   "metadata": {},
   "outputs": [],
   "source": [
    "# third chuck of the healthy data\n",
    "healthy_data, err = ek.get_data(healthy_CIK_list[2], fields=fields,\n",
    "                                 parameters={'Frq':'Y',\n",
    "                                             'SDate':'2015-01-01',\n",
    "                                             'EDate':'2016-01-01'})\n",
    "# and save the dataframe as a csv file\n",
    "healthy_data.to_csv('data_healthy_CIK/healthy_data03_2015.csv', index=False)\n"
   ]
  },
  {
   "cell_type": "code",
   "execution_count": null,
   "metadata": {},
   "outputs": [],
   "source": [
    "# fourth chunck of the healthy data\n",
    "healthy_data, err = ek.get_data(healthy_CIK_list[3], fields=fields,\n",
    "                                 parameters={'Frq':'Y',\n",
    "                                             'SDate':'2015-01-01',\n",
    "                                             'EDate':'2016-01-01'})\n",
    "# and save the dataframe as a csv file\n",
    "healthy_data.to_csv('data_healthy_CIK/healthy_data04_2015.csv', index=False)\n"
   ]
  },
  {
   "cell_type": "code",
   "execution_count": null,
   "metadata": {},
   "outputs": [],
   "source": [
    "# fifth chunck of the healthy data\n",
    "healthy_data, err = ek.get_data(healthy_CIK_list[4], fields=fields,\n",
    "                                 parameters={'Frq':'Y',\n",
    "                                             'SDate':'2015-01-01',\n",
    "                                             'EDate':'2016-01-01'})\n",
    "# and save the dataframe as a csv file\n",
    "healthy_data.to_csv('data_healthy_CIK/healthy_data05_2015.csv', index=False)\n"
   ]
  },
  {
   "cell_type": "code",
   "execution_count": null,
   "metadata": {},
   "outputs": [],
   "source": [
    "# sixth chunck of the healthy data\n",
    "healthy_data, err = ek.get_data(healthy_CIK_list[5], fields=fields,\n",
    "                                 parameters={'Frq':'Y',\n",
    "                                             'SDate':'2015-01-01',\n",
    "                                             'EDate':'2016-01-01'})\n",
    "# and save the dataframe as a csv file\n",
    "healthy_data.to_csv('data_healthy_CIK/healthy_data06_2015.csv', index=False)\n"
   ]
  },
  {
   "cell_type": "code",
   "execution_count": null,
   "metadata": {},
   "outputs": [],
   "source": [
    "# seventh chunck of the healthy data\n",
    "healthy_data, err = ek.get_data(healthy_CIK_list[6], fields=fields,\n",
    "                                 parameters={'Frq':'Y',\n",
    "                                             'SDate':'2015-01-01',\n",
    "                                             'EDate':'2016-01-01'})\n",
    "# and save the dataframe as a csv file\n",
    "healthy_data.to_csv('data_healthy_CIK/healthy_data07_2015.csv', index=False)\n"
   ]
  },
  {
   "cell_type": "code",
   "execution_count": null,
   "metadata": {},
   "outputs": [],
   "source": [
    "# eighth chunck of the healthy data\n",
    "healthy_data, err = ek.get_data(healthy_CIK_list[7], fields=fields,\n",
    "                                 parameters={'Frq':'Y',\n",
    "                                             'SDate':'2015-01-01',\n",
    "                                             'EDate':'2016-01-01'})\n",
    "# and save the dataframe as a csv file\n",
    "healthy_data.to_csv('data_healthy_CIK/healthy_data08_2015.csv', index=False)\n"
   ]
  },
  {
   "cell_type": "code",
   "execution_count": null,
   "metadata": {},
   "outputs": [],
   "source": [
    "# ninth chunck of the healthy data\n",
    "healthy_data, err = ek.get_data(healthy_CIK_list[8], fields=fields,\n",
    "                                 parameters={'Frq':'Y',\n",
    "                                             'SDate':'2015-01-01',\n",
    "                                             'EDate':'2016-01-01'})\n",
    "# and save the dataframe as a csv file\n",
    "healthy_data.to_csv('data_healthy_CIK/healthy_data09_2015.csv', index=False)\n"
   ]
  },
  {
   "cell_type": "code",
   "execution_count": null,
   "metadata": {},
   "outputs": [],
   "source": [
    "# tenth chunck of the healthy data\n",
    "healthy_data, err = ek.get_data(healthy_CIK_list[9], fields=fields,\n",
    "                                 parameters={'Frq':'Y',\n",
    "                                             'SDate':'2015-01-01',\n",
    "                                             'EDate':'2016-01-01'})\n",
    "# and save the dataframe as a csv file\n",
    "healthy_data.to_csv('data_healthy_CIK/healthy_data10_2015.csv', index=False)\n"
   ]
  },
  {
   "cell_type": "code",
   "execution_count": null,
   "metadata": {},
   "outputs": [],
   "source": [
    "# eleventh chunck of the healthy data\n",
    "healthy_data, err = ek.get_data(healthy_CIK_list[10], fields=fields,\n",
    "                                 parameters={'Frq':'Y',\n",
    "                                             'SDate':'2015-01-01',\n",
    "                                             'EDate':'2016-01-01'})\n",
    "# and save the dataframe as a csv file\n",
    "healthy_data.to_csv('data_healthy_CIK/healthy_data11_2015.csv', index=False)\n"
   ]
  },
  {
   "cell_type": "code",
   "execution_count": null,
   "metadata": {},
   "outputs": [],
   "source": [
    "# twelfth chunck of the healthy data\n",
    "healthy_data, err = ek.get_data(healthy_CIK_list[11], fields=fields,\n",
    "                                 parameters={'Frq':'Y',\n",
    "                                             'SDate':'2015-01-01',\n",
    "                                             'EDate':'2016-01-01'})\n",
    "# and save the dataframe as a csv file\n",
    "healthy_data.to_csv('data_healthy_CIK/healthy_data12_2015.csv', index=False)\n"
   ]
  },
  {
   "cell_type": "code",
   "execution_count": null,
   "metadata": {},
   "outputs": [],
   "source": [
    "# thirteenth chunck of the healthy data\n",
    "healthy_data, err = ek.get_data(healthy_CIK_list[12], fields=fields,\n",
    "                                 parameters={'Frq':'Y',\n",
    "                                             'SDate':'2015-01-01',\n",
    "                                             'EDate':'2016-01-01'})\n",
    "# and save the dataframe as a csv file\n",
    "healthy_data.to_csv('data_healthy_CIK/healthy_data13_2015.csv', index=False)\n"
   ]
  },
  {
   "cell_type": "code",
   "execution_count": null,
   "metadata": {},
   "outputs": [],
   "source": [
    "# fourteenth chunck of the healthy data\n",
    "healthy_data, err = ek.get_data(healthy_CIK_list[13], fields=fields,\n",
    "                                 parameters={'Frq':'Y',\n",
    "                                             'SDate':'2015-01-01',\n",
    "                                             'EDate':'2016-01-01'})\n",
    "# and save the dataframe as a csv file\n",
    "healthy_data.to_csv('data_healthy_CIK/healthy_data14_2015.csv', index=False)\n"
   ]
  },
  {
   "cell_type": "code",
   "execution_count": null,
   "metadata": {},
   "outputs": [],
   "source": [
    "# fifteenth chunck of the healthy data\n",
    "healthy_data, err = ek.get_data(healthy_CIK_list[14], fields=fields,\n",
    "                                 parameters={'Frq':'Y',\n",
    "                                             'SDate':'2015-01-01',\n",
    "                                             'EDate':'2016-01-01'})\n",
    "# and save the dataframe as a csv file\n",
    "healthy_data.to_csv('data_healthy_CIK/healthy_data15_2015.csv', index=False)\n"
   ]
  },
  {
   "cell_type": "code",
   "execution_count": null,
   "metadata": {},
   "outputs": [],
   "source": [
    "# sixteenth chunck of the healthy data\n",
    "healthy_data, err = ek.get_data(healthy_CIK_list[15], fields=fields,\n",
    "                                 parameters={'Frq':'Y',\n",
    "                                             'SDate':'2015-01-01',\n",
    "                                             'EDate':'2016-01-01'})\n",
    "# and save the dataframe as a csv file\n",
    "healthy_data.to_csv('data_healthy_CIK/healthy_data16_2015.csv', index=False)\n"
   ]
  },
  {
   "cell_type": "code",
   "execution_count": null,
   "metadata": {},
   "outputs": [],
   "source": [
    "# seventeenth chunck of the healthy data\n",
    "healthy_data, err = ek.get_data(healthy_CIK_list[16], fields=fields,\n",
    "                                 parameters={'Frq':'Y',\n",
    "                                             'SDate':'2015-01-01',\n",
    "                                             'EDate':'2016-01-01'})\n",
    "# and save the dataframe as a csv file\n",
    "healthy_data.to_csv('data_healthy_CIK/healthy_data17_2015.csv', index=False)\n"
   ]
  },
  {
   "cell_type": "code",
   "execution_count": null,
   "metadata": {},
   "outputs": [],
   "source": [
    "# eighteenth chunck of the healthy data\n",
    "healthy_data, err = ek.get_data(healthy_CIK_list[17], fields=fields,\n",
    "                                 parameters={'Frq':'Y',\n",
    "                                             'SDate':'2015-01-01',\n",
    "                                             'EDate':'2016-01-01'})\n",
    "# and save the dataframe as a csv file\n",
    "healthy_data.to_csv('data_healthy_CIK/healthy_data18_2015.csv', index=False)\n"
   ]
  },
  {
   "cell_type": "code",
   "execution_count": null,
   "metadata": {},
   "outputs": [],
   "source": [
    "# nineteenth chunck of the healthy data\n",
    "healthy_data, err = ek.get_data(healthy_CIK_list[18], fields=fields,\n",
    "                                 parameters={'Frq':'Y',\n",
    "                                             'SDate':'2015-01-01',\n",
    "                                             'EDate':'2016-01-01'})\n",
    "# and save the dataframe as a csv file\n",
    "healthy_data.to_csv('data_healthy_CIK/healthy_data19_2015.csv', index=False)\n"
   ]
  },
  {
   "cell_type": "code",
   "execution_count": null,
   "metadata": {},
   "outputs": [],
   "source": [
    "# twentieth chunck of the healthy data\n",
    "healthy_data, err = ek.get_data(healthy_CIK_list[19], fields=fields,\n",
    "                                 parameters={'Frq':'Y',\n",
    "                                             'SDate':'2015-01-01',\n",
    "                                             'EDate':'2016-01-01'})\n",
    "# and save the dataframe as a csv file\n",
    "healthy_data.to_csv('data_healthy_CIK/healthy_data20_2015.csv', index=False)\n"
   ]
  },
  {
   "cell_type": "code",
   "execution_count": null,
   "metadata": {},
   "outputs": [],
   "source": [
    "# twenty-first chunck of the healthy data\n",
    "healthy_data, err = ek.get_data(healthy_CIK_list[20], fields=fields,\n",
    "                                 parameters={'Frq':'Y',\n",
    "                                             'SDate':'2015-01-01',\n",
    "                                             'EDate':'2016-01-01'})\n",
    "# and save the dataframe as a csv file\n",
    "healthy_data.to_csv('data_healthy_CIK/healthy_data21_2015.csv', index=False)\n"
   ]
  },
  {
   "cell_type": "code",
   "execution_count": null,
   "metadata": {},
   "outputs": [],
   "source": [
    "# twenty-second chunck of the healthy data\n",
    "healthy_data, err = ek.get_data(healthy_CIK_list[21], fields=fields,\n",
    "                                 parameters={'Frq':'Y',\n",
    "                                             'SDate':'2015-01-01',\n",
    "                                             'EDate':'2016-01-01'})\n",
    "# and save the dataframe as a csv file\n",
    "healthy_data.to_csv('data_healthy_CIK/healthy_data22_2015.csv', index=False)\n"
   ]
  },
  {
   "cell_type": "code",
   "execution_count": null,
   "metadata": {},
   "outputs": [],
   "source": [
    "# twenty-third chunck of the healthy data\n",
    "healthy_data, err = ek.get_data(healthy_CIK_list[22], fields=fields,\n",
    "                                 parameters={'Frq':'Y',\n",
    "                                             'SDate':'2015-01-01',\n",
    "                                             'EDate':'2016-01-01'})\n",
    "# and save the dataframe as a csv file\n",
    "healthy_data.to_csv('data_healthy_CIK/healthy_data23_2015.csv', index=False)\n"
   ]
  },
  {
   "cell_type": "code",
   "execution_count": null,
   "metadata": {},
   "outputs": [],
   "source": [
    "# twenty-fourth chunck of the healthy data\n",
    "healthy_data, err = ek.get_data(healthy_CIK_list[23], fields=fields,\n",
    "                                 parameters={'Frq':'Y',\n",
    "                                             'SDate':'2015-01-01',\n",
    "                                             'EDate':'2016-01-01'})\n",
    "# and save the dataframe as a csv file\n",
    "healthy_data.to_csv('data_healthy_CIK/healthy_data24_2015.csv', index=False)\n"
   ]
  },
  {
   "cell_type": "code",
   "execution_count": null,
   "metadata": {},
   "outputs": [],
   "source": [
    "# twenty-fifth chunck of the healthy data\n",
    "healthy_data, err = ek.get_data(healthy_CIK_list[24], fields=fields,\n",
    "                                 parameters={'Frq':'Y',\n",
    "                                             'SDate':'2015-01-01',\n",
    "                                             'EDate':'2016-01-01'})\n",
    "# and save the dataframe as a csv file\n",
    "healthy_data.to_csv('data_healthy_CIK/healthy_data25_2015.csv', index=False)\n"
   ]
  },
  {
   "cell_type": "code",
   "execution_count": null,
   "metadata": {},
   "outputs": [],
   "source": [
    "# twenty-sixth chunck of the healthy data\n",
    "healthy_data, err = ek.get_data(healthy_CIK_list[25], fields=fields,\n",
    "                                 parameters={'Frq':'Y',\n",
    "                                             'SDate':'2015-01-01',\n",
    "                                             'EDate':'2016-01-01'})\n",
    "# and save the dataframe as a csv file\n",
    "healthy_data.to_csv('data_healthy_CIK/healthy_data26_2015.csv', index=False)\n"
   ]
  },
  {
   "cell_type": "code",
   "execution_count": null,
   "metadata": {},
   "outputs": [],
   "source": [
    "# twenty-seventh chunck of the healthy data\n",
    "healthy_data, err = ek.get_data(healthy_CIK_list[26], fields=fields,\n",
    "                                 parameters={'Frq':'Y',\n",
    "                                             'SDate':'2015-01-01',\n",
    "                                             'EDate':'2016-01-01'})\n",
    "# and save the dataframe as a csv file\n",
    "healthy_data.to_csv('data_healthy_CIK/healthy_data27_2015.csv', index=False)\n"
   ]
  },
  {
   "cell_type": "code",
   "execution_count": null,
   "metadata": {},
   "outputs": [],
   "source": [
    "# twenty-eighth chunck of the healthy data\n",
    "healthy_data, err = ek.get_data(healthy_CIK_list[27], fields=fields,\n",
    "                                 parameters={'Frq':'Y',\n",
    "                                             'SDate':'2015-01-01',\n",
    "                                             'EDate':'2016-01-01'})\n",
    "# and save the dataframe as a csv file\n",
    "healthy_data.to_csv('data_healthy_CIK/healthy_data28_2015.csv', index=False)\n"
   ]
  },
  {
   "cell_type": "code",
   "execution_count": null,
   "metadata": {},
   "outputs": [],
   "source": [
    "# twenty-ninth chunck of the healthy data\n",
    "healthy_data, err = ek.get_data(healthy_CIK_list[28], fields=fields,\n",
    "                                 parameters={'Frq':'Y',\n",
    "                                             'SDate':'2015-01-01',\n",
    "                                             'EDate':'2016-01-01'})\n",
    "# and save the dataframe as a csv file\n",
    "healthy_data.to_csv('data_healthy_CIK/healthy_data29_2015.csv', index=False)\n"
   ]
  },
  {
   "cell_type": "code",
   "execution_count": null,
   "metadata": {},
   "outputs": [],
   "source": [
    "# thirtieth chunck of the healthy data\n",
    "healthy_data, err = ek.get_data(healthy_CIK_list[29], fields=fields,\n",
    "                                 parameters={'Frq':'Y',\n",
    "                                             'SDate':'2015-01-01',\n",
    "                                             'EDate':'2016-01-01'})\n",
    "# and save the dataframe as a csv file\n",
    "healthy_data.to_csv('data_healthy_CIK/healthy_data30_2015.csv', index=False)\n"
   ]
  },
  {
   "cell_type": "markdown",
   "metadata": {},
   "source": [
    "### 2016"
   ]
  },
  {
   "cell_type": "code",
   "execution_count": null,
   "metadata": {},
   "outputs": [],
   "source": [
    "# first chuck of the healthy data\n",
    "healthy_data, err = ek.get_data(healthy_CIK_list[0], fields=fields,\n",
    "                                 parameters={'Frq':'Y',\n",
    "                                             'SDate':'2016-01-01',\n",
    "                                             'EDate':'2017-01-01'})\n",
    "# and save the dataframe as a csv file\n",
    "healthy_data.to_csv('data_healthy_CIK/healthy_data01_2016.csv', index=False)\n"
   ]
  },
  {
   "cell_type": "code",
   "execution_count": null,
   "metadata": {},
   "outputs": [],
   "source": [
    "# second chuck of the healthy data\n",
    "healthy_data, err = ek.get_data(healthy_CIK_list[1], fields=fields,\n",
    "                                 parameters={'Frq':'Y',\n",
    "                                             'SDate':'2016-01-01',\n",
    "                                             'EDate':'2017-01-01'})\n",
    "# and save the dataframe as a csv file\n",
    "healthy_data.to_csv('data_healthy_CIK/healthy_data02_2016.csv', index=False)\n"
   ]
  },
  {
   "cell_type": "code",
   "execution_count": null,
   "metadata": {},
   "outputs": [],
   "source": [
    "# third chuck of the healthy data\n",
    "healthy_data, err = ek.get_data(healthy_CIK_list[2], fields=fields,\n",
    "                                 parameters={'Frq':'Y',\n",
    "                                             'SDate':'2016-01-01',\n",
    "                                             'EDate':'2017-01-01'})\n",
    "# and save the dataframe as a csv file\n",
    "healthy_data.to_csv('data_healthy_CIK/healthy_data03_2016.csv', index=False)\n"
   ]
  },
  {
   "cell_type": "code",
   "execution_count": null,
   "metadata": {},
   "outputs": [],
   "source": [
    "# fourth chunck of the healthy data\n",
    "healthy_data, err = ek.get_data(healthy_CIK_list[3], fields=fields,\n",
    "                                 parameters={'Frq':'Y',\n",
    "                                             'SDate':'2016-01-01',\n",
    "                                             'EDate':'2017-01-01'})\n",
    "# and save the dataframe as a csv file\n",
    "healthy_data.to_csv('data_healthy_CIK/healthy_data04_2016.csv', index=False)\n"
   ]
  },
  {
   "cell_type": "code",
   "execution_count": null,
   "metadata": {},
   "outputs": [],
   "source": [
    "# fifth chunck of the healthy data\n",
    "healthy_data, err = ek.get_data(healthy_CIK_list[4], fields=fields,\n",
    "                                 parameters={'Frq':'Y',\n",
    "                                             'SDate':'2016-01-01',\n",
    "                                             'EDate':'2017-01-01'})\n",
    "# and save the dataframe as a csv file\n",
    "healthy_data.to_csv('data_healthy_CIK/healthy_data05_2016.csv', index=False)\n"
   ]
  },
  {
   "cell_type": "code",
   "execution_count": null,
   "metadata": {},
   "outputs": [],
   "source": [
    "# sixth chunck of the healthy data\n",
    "healthy_data, err = ek.get_data(healthy_CIK_list[5], fields=fields,\n",
    "                                 parameters={'Frq':'Y',\n",
    "                                             'SDate':'2016-01-01',\n",
    "                                             'EDate':'2017-01-01'})\n",
    "# and save the dataframe as a csv file\n",
    "healthy_data.to_csv('data_healthy_CIK/healthy_data06_2016.csv', index=False)\n"
   ]
  },
  {
   "cell_type": "code",
   "execution_count": null,
   "metadata": {},
   "outputs": [],
   "source": [
    "# seventh chunck of the healthy data\n",
    "healthy_data, err = ek.get_data(healthy_CIK_list[6], fields=fields,\n",
    "                                 parameters={'Frq':'Y',\n",
    "                                             'SDate':'2016-01-01',\n",
    "                                             'EDate':'2017-01-01'})\n",
    "# and save the dataframe as a csv file\n",
    "healthy_data.to_csv('data_healthy_CIK/healthy_data07_2016.csv', index=False)\n"
   ]
  },
  {
   "cell_type": "code",
   "execution_count": null,
   "metadata": {},
   "outputs": [],
   "source": [
    "# eighth chunck of the healthy data\n",
    "healthy_data, err = ek.get_data(healthy_CIK_list[7], fields=fields,\n",
    "                                 parameters={'Frq':'Y',\n",
    "                                             'SDate':'2016-01-01',\n",
    "                                             'EDate':'2017-01-01'})\n",
    "# and save the dataframe as a csv file\n",
    "healthy_data.to_csv('data_healthy_CIK/healthy_data08_2016.csv', index=False)\n"
   ]
  },
  {
   "cell_type": "code",
   "execution_count": null,
   "metadata": {},
   "outputs": [],
   "source": [
    "# ninth chunck of the healthy data\n",
    "healthy_data, err = ek.get_data(healthy_CIK_list[8], fields=fields,\n",
    "                                 parameters={'Frq':'Y',\n",
    "                                             'SDate':'2016-01-01',\n",
    "                                             'EDate':'2017-01-01'})\n",
    "# and save the dataframe as a csv file\n",
    "healthy_data.to_csv('data_healthy_CIK/healthy_data09_2016.csv', index=False)\n"
   ]
  },
  {
   "cell_type": "code",
   "execution_count": null,
   "metadata": {},
   "outputs": [],
   "source": [
    "# tenth chunck of the healthy data\n",
    "healthy_data, err = ek.get_data(healthy_CIK_list[9], fields=fields,\n",
    "                                 parameters={'Frq':'Y',\n",
    "                                             'SDate':'2016-01-01',\n",
    "                                             'EDate':'2017-01-01'})\n",
    "# and save the dataframe as a csv file\n",
    "healthy_data.to_csv('data_healthy_CIK/healthy_data10_2016.csv', index=False)\n"
   ]
  },
  {
   "cell_type": "code",
   "execution_count": null,
   "metadata": {},
   "outputs": [],
   "source": [
    "# eleventh chunck of the healthy data\n",
    "healthy_data, err = ek.get_data(healthy_CIK_list[10], fields=fields,\n",
    "                                 parameters={'Frq':'Y',\n",
    "                                             'SDate':'2016-01-01',\n",
    "                                             'EDate':'2017-01-01'})\n",
    "# and save the dataframe as a csv file\n",
    "healthy_data.to_csv('data_healthy_CIK/healthy_data11_2016.csv', index=False)\n"
   ]
  },
  {
   "cell_type": "code",
   "execution_count": null,
   "metadata": {},
   "outputs": [],
   "source": [
    "# twelfth chunck of the healthy data\n",
    "healthy_data, err = ek.get_data(healthy_CIK_list[11], fields=fields,\n",
    "                                 parameters={'Frq':'Y',\n",
    "                                             'SDate':'2016-01-01',\n",
    "                                             'EDate':'2017-01-01'})\n",
    "# and save the dataframe as a csv file\n",
    "healthy_data.to_csv('data_healthy_CIK/healthy_data12_2016.csv', index=False)\n"
   ]
  },
  {
   "cell_type": "code",
   "execution_count": null,
   "metadata": {},
   "outputs": [],
   "source": [
    "# thirteenth chunck of the healthy data\n",
    "healthy_data, err = ek.get_data(healthy_CIK_list[12], fields=fields,\n",
    "                                 parameters={'Frq':'Y',\n",
    "                                             'SDate':'2016-01-01',\n",
    "                                             'EDate':'2017-01-01'})\n",
    "# and save the dataframe as a csv file\n",
    "healthy_data.to_csv('data_healthy_CIK/healthy_data13_2016.csv', index=False)\n"
   ]
  },
  {
   "cell_type": "code",
   "execution_count": null,
   "metadata": {},
   "outputs": [],
   "source": [
    "# fourteenth chunck of the healthy data\n",
    "healthy_data, err = ek.get_data(healthy_CIK_list[13], fields=fields,\n",
    "                                 parameters={'Frq':'Y',\n",
    "                                             'SDate':'2016-01-01',\n",
    "                                             'EDate':'2017-01-01'})\n",
    "# and save the dataframe as a csv file\n",
    "healthy_data.to_csv('data_healthy_CIK/healthy_data14_2016.csv', index=False)\n"
   ]
  },
  {
   "cell_type": "code",
   "execution_count": null,
   "metadata": {},
   "outputs": [],
   "source": [
    "# fifteenth chunck of the healthy data\n",
    "healthy_data, err = ek.get_data(healthy_CIK_list[14], fields=fields,\n",
    "                                 parameters={'Frq':'Y',\n",
    "                                             'SDate':'2016-01-01',\n",
    "                                             'EDate':'2017-01-01'})\n",
    "# and save the dataframe as a csv file\n",
    "healthy_data.to_csv('data_healthy_CIK/healthy_data15_2016.csv', index=False)\n"
   ]
  },
  {
   "cell_type": "code",
   "execution_count": null,
   "metadata": {},
   "outputs": [],
   "source": [
    "# sixteenth chunck of the healthy data\n",
    "healthy_data, err = ek.get_data(healthy_CIK_list[15], fields=fields,\n",
    "                                 parameters={'Frq':'Y',\n",
    "                                             'SDate':'2016-01-01',\n",
    "                                             'EDate':'2017-01-01'})\n",
    "# and save the dataframe as a csv file\n",
    "healthy_data.to_csv('data_healthy_CIK/healthy_data16_2016.csv', index=False)\n"
   ]
  },
  {
   "cell_type": "code",
   "execution_count": null,
   "metadata": {},
   "outputs": [],
   "source": [
    "# seventeenth chunck of the healthy data\n",
    "healthy_data, err = ek.get_data(healthy_CIK_list[16], fields=fields,\n",
    "                                 parameters={'Frq':'Y',\n",
    "                                             'SDate':'2016-01-01',\n",
    "                                             'EDate':'2017-01-01'})\n",
    "# and save the dataframe as a csv file\n",
    "healthy_data.to_csv('data_healthy_CIK/healthy_data17_2016.csv', index=False)\n"
   ]
  },
  {
   "cell_type": "code",
   "execution_count": null,
   "metadata": {},
   "outputs": [],
   "source": [
    "# eighteenth chunck of the healthy data\n",
    "healthy_data, err = ek.get_data(healthy_CIK_list[17], fields=fields,\n",
    "                                 parameters={'Frq':'Y',\n",
    "                                             'SDate':'2016-01-01',\n",
    "                                             'EDate':'2017-01-01'})\n",
    "# and save the dataframe as a csv file\n",
    "healthy_data.to_csv('data_healthy_CIK/healthy_data18_2016.csv', index=False)\n"
   ]
  },
  {
   "cell_type": "code",
   "execution_count": null,
   "metadata": {},
   "outputs": [],
   "source": [
    "# nineteenth chunck of the healthy data\n",
    "healthy_data, err = ek.get_data(healthy_CIK_list[18], fields=fields,\n",
    "                                 parameters={'Frq':'Y',\n",
    "                                             'SDate':'2016-01-01',\n",
    "                                             'EDate':'2017-01-01'})\n",
    "# and save the dataframe as a csv file\n",
    "healthy_data.to_csv('data_healthy_CIK/healthy_data19_2016.csv', index=False)\n"
   ]
  },
  {
   "cell_type": "code",
   "execution_count": null,
   "metadata": {},
   "outputs": [],
   "source": [
    "# twentieth chunck of the healthy data\n",
    "healthy_data, err = ek.get_data(healthy_CIK_list[19], fields=fields,\n",
    "                                 parameters={'Frq':'Y',\n",
    "                                             'SDate':'2016-01-01',\n",
    "                                             'EDate':'2017-01-01'})\n",
    "# and save the dataframe as a csv file\n",
    "healthy_data.to_csv('data_healthy_CIK/healthy_data20_2016.csv', index=False)\n"
   ]
  },
  {
   "cell_type": "code",
   "execution_count": null,
   "metadata": {},
   "outputs": [],
   "source": [
    "# twenty-first chunck of the healthy data\n",
    "healthy_data, err = ek.get_data(healthy_CIK_list[20], fields=fields,\n",
    "                                 parameters={'Frq':'Y',\n",
    "                                             'SDate':'2016-01-01',\n",
    "                                             'EDate':'2017-01-01'})\n",
    "# and save the dataframe as a csv file\n",
    "healthy_data.to_csv('data_healthy_CIK/healthy_data21_2016.csv', index=False)\n"
   ]
  },
  {
   "cell_type": "code",
   "execution_count": null,
   "metadata": {},
   "outputs": [],
   "source": [
    "# twenty-second chunck of the healthy data\n",
    "healthy_data, err = ek.get_data(healthy_CIK_list[21], fields=fields,\n",
    "                                 parameters={'Frq':'Y',\n",
    "                                             'SDate':'2016-01-01',\n",
    "                                             'EDate':'2017-01-01'})\n",
    "# and save the dataframe as a csv file\n",
    "healthy_data.to_csv('data_healthy_CIK/healthy_data22_2016.csv', index=False)\n"
   ]
  },
  {
   "cell_type": "code",
   "execution_count": null,
   "metadata": {},
   "outputs": [],
   "source": [
    "# twenty-third chunck of the healthy data\n",
    "healthy_data, err = ek.get_data(healthy_CIK_list[22], fields=fields,\n",
    "                                 parameters={'Frq':'Y',\n",
    "                                             'SDate':'2016-01-01',\n",
    "                                             'EDate':'2017-01-01'})\n",
    "# and save the dataframe as a csv file\n",
    "healthy_data.to_csv('data_healthy_CIK/healthy_data23_2016.csv', index=False)\n"
   ]
  },
  {
   "cell_type": "code",
   "execution_count": null,
   "metadata": {},
   "outputs": [],
   "source": [
    "# twenty-fourth chunck of the healthy data\n",
    "healthy_data, err = ek.get_data(healthy_CIK_list[23], fields=fields,\n",
    "                                 parameters={'Frq':'Y',\n",
    "                                             'SDate':'2016-01-01',\n",
    "                                             'EDate':'2017-01-01'})\n",
    "# and save the dataframe as a csv file\n",
    "healthy_data.to_csv('data_healthy_CIK/healthy_data24_2016.csv', index=False)\n"
   ]
  },
  {
   "cell_type": "code",
   "execution_count": null,
   "metadata": {},
   "outputs": [],
   "source": [
    "# twenty-fifth chunck of the healthy data\n",
    "healthy_data, err = ek.get_data(healthy_CIK_list[24], fields=fields,\n",
    "                                 parameters={'Frq':'Y',\n",
    "                                             'SDate':'2016-01-01',\n",
    "                                             'EDate':'2017-01-01'})\n",
    "# and save the dataframe as a csv file\n",
    "healthy_data.to_csv('data_healthy_CIK/healthy_data25_2016.csv', index=False)\n"
   ]
  },
  {
   "cell_type": "code",
   "execution_count": null,
   "metadata": {},
   "outputs": [],
   "source": [
    "# twenty-sixth chunck of the healthy data\n",
    "healthy_data, err = ek.get_data(healthy_CIK_list[25], fields=fields,\n",
    "                                 parameters={'Frq':'Y',\n",
    "                                             'SDate':'2016-01-01',\n",
    "                                             'EDate':'2017-01-01'})\n",
    "# and save the dataframe as a csv file\n",
    "healthy_data.to_csv('data_healthy_CIK/healthy_data26_2016.csv', index=False)\n"
   ]
  },
  {
   "cell_type": "code",
   "execution_count": null,
   "metadata": {},
   "outputs": [],
   "source": [
    "# twenty-seventh chunck of the healthy data\n",
    "healthy_data, err = ek.get_data(healthy_CIK_list[26], fields=fields,\n",
    "                                 parameters={'Frq':'Y',\n",
    "                                             'SDate':'2016-01-01',\n",
    "                                             'EDate':'2017-01-01'})\n",
    "# and save the dataframe as a csv file\n",
    "healthy_data.to_csv('data_healthy_CIK/healthy_data27_2016.csv', index=False)\n"
   ]
  },
  {
   "cell_type": "code",
   "execution_count": null,
   "metadata": {},
   "outputs": [],
   "source": [
    "# twenty-eighth chunck of the healthy data\n",
    "healthy_data, err = ek.get_data(healthy_CIK_list[27], fields=fields,\n",
    "                                 parameters={'Frq':'Y',\n",
    "                                             'SDate':'2016-01-01',\n",
    "                                             'EDate':'2017-01-01'})\n",
    "# and save the dataframe as a csv file\n",
    "healthy_data.to_csv('data_healthy_CIK/healthy_data28_2016.csv', index=False)\n"
   ]
  },
  {
   "cell_type": "code",
   "execution_count": null,
   "metadata": {},
   "outputs": [],
   "source": [
    "# twenty-ninth chunck of the healthy data\n",
    "healthy_data, err = ek.get_data(healthy_CIK_list[28], fields=fields,\n",
    "                                 parameters={'Frq':'Y',\n",
    "                                             'SDate':'2016-01-01',\n",
    "                                             'EDate':'2017-01-01'})\n",
    "# and save the dataframe as a csv file\n",
    "healthy_data.to_csv('data_healthy_CIK/healthy_data29_2016.csv', index=False)\n"
   ]
  },
  {
   "cell_type": "code",
   "execution_count": null,
   "metadata": {},
   "outputs": [],
   "source": [
    "# thirtieth chunck of the healthy data\n",
    "healthy_data, err = ek.get_data(healthy_CIK_list[29], fields=fields,\n",
    "                                 parameters={'Frq':'Y',\n",
    "                                             'SDate':'2016-01-01',\n",
    "                                             'EDate':'2017-01-01'})\n",
    "# and save the dataframe as a csv file\n",
    "healthy_data.to_csv('data_healthy_CIK/healthy_data30_2016.csv', index=False)\n"
   ]
  },
  {
   "cell_type": "markdown",
   "metadata": {},
   "source": [
    "### 2017"
   ]
  },
  {
   "cell_type": "code",
   "execution_count": null,
   "metadata": {},
   "outputs": [],
   "source": [
    "# first chuck of the healthy data\n",
    "healthy_data, err = ek.get_data(healthy_CIK_list[0], fields=fields,\n",
    "                                 parameters={'Frq':'Y',\n",
    "                                             'SDate':'2017-01-01',\n",
    "                                             'EDate':'2018-01-01'})\n",
    "# and save the dataframe as a csv file\n",
    "healthy_data.to_csv('data_healthy_CIK/healthy_data01_2017.csv', index=False)\n"
   ]
  },
  {
   "cell_type": "code",
   "execution_count": null,
   "metadata": {},
   "outputs": [],
   "source": [
    "# second chuck of the healthy data\n",
    "healthy_data, err = ek.get_data(healthy_CIK_list[1], fields=fields,\n",
    "                                 parameters={'Frq':'Y',\n",
    "                                             'SDate':'2017-01-01',\n",
    "                                             'EDate':'2018-01-01'})\n",
    "# and save the dataframe as a csv file\n",
    "healthy_data.to_csv('data_healthy_CIK/healthy_data02_2017.csv', index=False)\n"
   ]
  },
  {
   "cell_type": "code",
   "execution_count": null,
   "metadata": {},
   "outputs": [],
   "source": [
    "# third chuck of the healthy data\n",
    "healthy_data, err = ek.get_data(healthy_CIK_list[2], fields=fields,\n",
    "                                 parameters={'Frq':'Y',\n",
    "                                             'SDate':'2017-01-01',\n",
    "                                             'EDate':'2018-01-01'})\n",
    "# and save the dataframe as a csv file\n",
    "healthy_data.to_csv('data_healthy_CIK/healthy_data03_2017.csv', index=False)\n"
   ]
  },
  {
   "cell_type": "code",
   "execution_count": null,
   "metadata": {},
   "outputs": [],
   "source": [
    "# fourth chunck of the healthy data\n",
    "healthy_data, err = ek.get_data(healthy_CIK_list[3], fields=fields,\n",
    "                                 parameters={'Frq':'Y',\n",
    "                                             'SDate':'2017-01-01',\n",
    "                                             'EDate':'2018-01-01'})\n",
    "# and save the dataframe as a csv file\n",
    "healthy_data.to_csv('data_healthy_CIK/healthy_data04_2017.csv', index=False)\n"
   ]
  },
  {
   "cell_type": "code",
   "execution_count": null,
   "metadata": {},
   "outputs": [],
   "source": [
    "# fifth chunck of the healthy data\n",
    "healthy_data, err = ek.get_data(healthy_CIK_list[4], fields=fields,\n",
    "                                 parameters={'Frq':'Y',\n",
    "                                             'SDate':'2017-01-01',\n",
    "                                             'EDate':'2018-01-01'})\n",
    "# and save the dataframe as a csv file\n",
    "healthy_data.to_csv('data_healthy_CIK/healthy_data05_2017.csv', index=False)\n"
   ]
  },
  {
   "cell_type": "code",
   "execution_count": null,
   "metadata": {},
   "outputs": [],
   "source": [
    "# sixth chunck of the healthy data\n",
    "healthy_data, err = ek.get_data(healthy_CIK_list[5], fields=fields,\n",
    "                                 parameters={'Frq':'Y',\n",
    "                                             'SDate':'2017-01-01',\n",
    "                                             'EDate':'2018-01-01'})\n",
    "# and save the dataframe as a csv file\n",
    "healthy_data.to_csv('data_healthy_CIK/healthy_data06_2017.csv', index=False)\n"
   ]
  },
  {
   "cell_type": "code",
   "execution_count": null,
   "metadata": {},
   "outputs": [],
   "source": [
    "# seventh chunck of the healthy data\n",
    "healthy_data, err = ek.get_data(healthy_CIK_list[6], fields=fields,\n",
    "                                 parameters={'Frq':'Y',\n",
    "                                             'SDate':'2017-01-01',\n",
    "                                             'EDate':'2018-01-01'})\n",
    "# and save the dataframe as a csv file\n",
    "healthy_data.to_csv('data_healthy_CIK/healthy_data07_2017.csv', index=False)\n"
   ]
  },
  {
   "cell_type": "code",
   "execution_count": null,
   "metadata": {},
   "outputs": [],
   "source": [
    "# eighth chunck of the healthy data\n",
    "healthy_data, err = ek.get_data(healthy_CIK_list[7], fields=fields,\n",
    "                                 parameters={'Frq':'Y',\n",
    "                                             'SDate':'2017-01-01',\n",
    "                                             'EDate':'2018-01-01'})\n",
    "# and save the dataframe as a csv file\n",
    "healthy_data.to_csv('data_healthy_CIK/healthy_data08_2017.csv', index=False)\n"
   ]
  },
  {
   "cell_type": "code",
   "execution_count": null,
   "metadata": {},
   "outputs": [],
   "source": [
    "# ninth chunck of the healthy data\n",
    "healthy_data, err = ek.get_data(healthy_CIK_list[8], fields=fields,\n",
    "                                 parameters={'Frq':'Y',\n",
    "                                             'SDate':'2017-01-01',\n",
    "                                             'EDate':'2018-01-01'})\n",
    "# and save the dataframe as a csv file\n",
    "healthy_data.to_csv('data_healthy_CIK/healthy_data09_2017.csv', index=False)\n"
   ]
  },
  {
   "cell_type": "code",
   "execution_count": null,
   "metadata": {},
   "outputs": [],
   "source": [
    "# tenth chunck of the healthy data\n",
    "healthy_data, err = ek.get_data(healthy_CIK_list[9], fields=fields,\n",
    "                                 parameters={'Frq':'Y',\n",
    "                                             'SDate':'2017-01-01',\n",
    "                                             'EDate':'2018-01-01'})\n",
    "# and save the dataframe as a csv file\n",
    "healthy_data.to_csv('data_healthy_CIK/healthy_data10_2017.csv', index=False)\n"
   ]
  },
  {
   "cell_type": "code",
   "execution_count": null,
   "metadata": {},
   "outputs": [],
   "source": [
    "# eleventh chunck of the healthy data\n",
    "healthy_data, err = ek.get_data(healthy_CIK_list[10], fields=fields,\n",
    "                                 parameters={'Frq':'Y',\n",
    "                                             'SDate':'2017-01-01',\n",
    "                                             'EDate':'2018-01-01'})\n",
    "# and save the dataframe as a csv file\n",
    "healthy_data.to_csv('data_healthy_CIK/healthy_data11_2017.csv', index=False)\n"
   ]
  },
  {
   "cell_type": "code",
   "execution_count": null,
   "metadata": {},
   "outputs": [],
   "source": [
    "# twelfth chunck of the healthy data\n",
    "healthy_data, err = ek.get_data(healthy_CIK_list[11], fields=fields,\n",
    "                                 parameters={'Frq':'Y',\n",
    "                                             'SDate':'2017-01-01',\n",
    "                                             'EDate':'2018-01-01'})\n",
    "# and save the dataframe as a csv file\n",
    "healthy_data.to_csv('data_healthy_CIK/healthy_data12_2017.csv', index=False)\n"
   ]
  },
  {
   "cell_type": "code",
   "execution_count": null,
   "metadata": {},
   "outputs": [],
   "source": [
    "# thirteenth chunck of the healthy data\n",
    "healthy_data, err = ek.get_data(healthy_CIK_list[12], fields=fields,\n",
    "                                 parameters={'Frq':'Y',\n",
    "                                             'SDate':'2017-01-01',\n",
    "                                             'EDate':'2018-01-01'})\n",
    "# and save the dataframe as a csv file\n",
    "healthy_data.to_csv('data_healthy_CIK/healthy_data13_2017.csv', index=False)\n"
   ]
  },
  {
   "cell_type": "code",
   "execution_count": null,
   "metadata": {},
   "outputs": [],
   "source": [
    "# fourteenth chunck of the healthy data\n",
    "healthy_data, err = ek.get_data(healthy_CIK_list[13], fields=fields,\n",
    "                                 parameters={'Frq':'Y',\n",
    "                                             'SDate':'2017-01-01',\n",
    "                                             'EDate':'2018-01-01'})\n",
    "# and save the dataframe as a csv file\n",
    "healthy_data.to_csv('data_healthy_CIK/healthy_data14_2017.csv', index=False)\n"
   ]
  },
  {
   "cell_type": "code",
   "execution_count": null,
   "metadata": {},
   "outputs": [],
   "source": [
    "# fifteenth chunck of the healthy data\n",
    "healthy_data, err = ek.get_data(healthy_CIK_list[14], fields=fields,\n",
    "                                 parameters={'Frq':'Y',\n",
    "                                             'SDate':'2017-01-01',\n",
    "                                             'EDate':'2018-01-01'})\n",
    "# and save the dataframe as a csv file\n",
    "healthy_data.to_csv('data_healthy_CIK/healthy_data15_2017.csv', index=False)\n"
   ]
  },
  {
   "cell_type": "code",
   "execution_count": null,
   "metadata": {},
   "outputs": [],
   "source": [
    "# sixteenth chunck of the healthy data\n",
    "healthy_data, err = ek.get_data(healthy_CIK_list[15], fields=fields,\n",
    "                                 parameters={'Frq':'Y',\n",
    "                                             'SDate':'2017-01-01',\n",
    "                                             'EDate':'2018-01-01'})\n",
    "# and save the dataframe as a csv file\n",
    "healthy_data.to_csv('data_healthy_CIK/healthy_data16_2017.csv', index=False)\n"
   ]
  },
  {
   "cell_type": "code",
   "execution_count": null,
   "metadata": {},
   "outputs": [],
   "source": [
    "# seventeenth chunck of the healthy data\n",
    "healthy_data, err = ek.get_data(healthy_CIK_list[16], fields=fields,\n",
    "                                 parameters={'Frq':'Y',\n",
    "                                             'SDate':'2017-01-01',\n",
    "                                             'EDate':'2018-01-01'})\n",
    "# and save the dataframe as a csv file\n",
    "healthy_data.to_csv('data_healthy_CIK/healthy_data17_2017.csv', index=False)\n"
   ]
  },
  {
   "cell_type": "code",
   "execution_count": null,
   "metadata": {},
   "outputs": [],
   "source": [
    "# eighteenth chunck of the healthy data\n",
    "healthy_data, err = ek.get_data(healthy_CIK_list[17], fields=fields,\n",
    "                                 parameters={'Frq':'Y',\n",
    "                                             'SDate':'2017-01-01',\n",
    "                                             'EDate':'2018-01-01'})\n",
    "# and save the dataframe as a csv file\n",
    "healthy_data.to_csv('data_healthy_CIK/healthy_data18_2017.csv', index=False)\n"
   ]
  },
  {
   "cell_type": "code",
   "execution_count": null,
   "metadata": {},
   "outputs": [],
   "source": [
    "# nineteenth chunck of the healthy data\n",
    "healthy_data, err = ek.get_data(healthy_CIK_list[18], fields=fields,\n",
    "                                 parameters={'Frq':'Y',\n",
    "                                             'SDate':'2017-01-01',\n",
    "                                             'EDate':'2018-01-01'})\n",
    "# and save the dataframe as a csv file\n",
    "healthy_data.to_csv('data_healthy_CIK/healthy_data19_2017.csv', index=False)\n"
   ]
  },
  {
   "cell_type": "code",
   "execution_count": null,
   "metadata": {},
   "outputs": [],
   "source": [
    "# twentieth chunck of the healthy data\n",
    "healthy_data, err = ek.get_data(healthy_CIK_list[19], fields=fields,\n",
    "                                 parameters={'Frq':'Y',\n",
    "                                             'SDate':'2017-01-01',\n",
    "                                             'EDate':'2018-01-01'})\n",
    "# and save the dataframe as a csv file\n",
    "healthy_data.to_csv('data_healthy_CIK/healthy_data20_2017.csv', index=False)\n"
   ]
  },
  {
   "cell_type": "code",
   "execution_count": null,
   "metadata": {},
   "outputs": [],
   "source": [
    "# twenty-first chunck of the healthy data\n",
    "healthy_data, err = ek.get_data(healthy_CIK_list[20], fields=fields,\n",
    "                                 parameters={'Frq':'Y',\n",
    "                                             'SDate':'2017-01-01',\n",
    "                                             'EDate':'2018-01-01'})\n",
    "# and save the dataframe as a csv file\n",
    "healthy_data.to_csv('data_healthy_CIK/healthy_data21_2017.csv', index=False)\n"
   ]
  },
  {
   "cell_type": "code",
   "execution_count": null,
   "metadata": {},
   "outputs": [],
   "source": [
    "# twenty-second chunck of the healthy data\n",
    "healthy_data, err = ek.get_data(healthy_CIK_list[21], fields=fields,\n",
    "                                 parameters={'Frq':'Y',\n",
    "                                             'SDate':'2017-01-01',\n",
    "                                             'EDate':'2018-01-01'})\n",
    "# and save the dataframe as a csv file\n",
    "healthy_data.to_csv('data_healthy_CIK/healthy_data22_2017.csv', index=False)\n"
   ]
  },
  {
   "cell_type": "code",
   "execution_count": null,
   "metadata": {},
   "outputs": [],
   "source": [
    "# twenty-third chunck of the healthy data\n",
    "healthy_data, err = ek.get_data(healthy_CIK_list[22], fields=fields,\n",
    "                                 parameters={'Frq':'Y',\n",
    "                                             'SDate':'2017-01-01',\n",
    "                                             'EDate':'2018-01-01'})\n",
    "# and save the dataframe as a csv file\n",
    "healthy_data.to_csv('data_healthy_CIK/healthy_data23_2017.csv', index=False)\n"
   ]
  },
  {
   "cell_type": "code",
   "execution_count": null,
   "metadata": {},
   "outputs": [],
   "source": [
    "# twenty-fourth chunck of the healthy data\n",
    "healthy_data, err = ek.get_data(healthy_CIK_list[23], fields=fields,\n",
    "                                 parameters={'Frq':'Y',\n",
    "                                             'SDate':'2017-01-01',\n",
    "                                             'EDate':'2018-01-01'})\n",
    "# and save the dataframe as a csv file\n",
    "healthy_data.to_csv('data_healthy_CIK/healthy_data24_2017.csv', index=False)\n"
   ]
  },
  {
   "cell_type": "code",
   "execution_count": null,
   "metadata": {},
   "outputs": [],
   "source": [
    "# twenty-fifth chunck of the healthy data\n",
    "healthy_data, err = ek.get_data(healthy_CIK_list[24], fields=fields,\n",
    "                                 parameters={'Frq':'Y',\n",
    "                                             'SDate':'2017-01-01',\n",
    "                                             'EDate':'2018-01-01'})\n",
    "# and save the dataframe as a csv file\n",
    "healthy_data.to_csv('data_healthy_CIK/healthy_data25_2017.csv', index=False)\n"
   ]
  },
  {
   "cell_type": "code",
   "execution_count": null,
   "metadata": {},
   "outputs": [],
   "source": [
    "# twenty-sixth chunck of the healthy data\n",
    "healthy_data, err = ek.get_data(healthy_CIK_list[25], fields=fields,\n",
    "                                 parameters={'Frq':'Y',\n",
    "                                             'SDate':'2017-01-01',\n",
    "                                             'EDate':'2018-01-01'})\n",
    "# and save the dataframe as a csv file\n",
    "healthy_data.to_csv('data_healthy_CIK/healthy_data26_2017.csv', index=False)\n"
   ]
  },
  {
   "cell_type": "code",
   "execution_count": null,
   "metadata": {},
   "outputs": [],
   "source": [
    "# twenty-seventh chunck of the healthy data\n",
    "healthy_data, err = ek.get_data(healthy_CIK_list[26], fields=fields,\n",
    "                                 parameters={'Frq':'Y',\n",
    "                                             'SDate':'2017-01-01',\n",
    "                                             'EDate':'2018-01-01'})\n",
    "# and save the dataframe as a csv file\n",
    "healthy_data.to_csv('data_healthy_CIK/healthy_data27_2017.csv', index=False)\n"
   ]
  },
  {
   "cell_type": "code",
   "execution_count": null,
   "metadata": {},
   "outputs": [],
   "source": [
    "# twenty-eighth chunck of the healthy data\n",
    "healthy_data, err = ek.get_data(healthy_CIK_list[27], fields=fields,\n",
    "                                 parameters={'Frq':'Y',\n",
    "                                             'SDate':'2017-01-01',\n",
    "                                             'EDate':'2018-01-01'})\n",
    "# and save the dataframe as a csv file\n",
    "healthy_data.to_csv('data_healthy_CIK/healthy_data28_2017.csv', index=False)\n"
   ]
  },
  {
   "cell_type": "code",
   "execution_count": null,
   "metadata": {},
   "outputs": [],
   "source": [
    "# twenty-ninth chunck of the healthy data\n",
    "healthy_data, err = ek.get_data(healthy_CIK_list[28], fields=fields,\n",
    "                                 parameters={'Frq':'Y',\n",
    "                                             'SDate':'2017-01-01',\n",
    "                                             'EDate':'2018-01-01'})\n",
    "# and save the dataframe as a csv file\n",
    "healthy_data.to_csv('data_healthy_CIK/healthy_data29_2017.csv', index=False)\n"
   ]
  },
  {
   "cell_type": "code",
   "execution_count": null,
   "metadata": {},
   "outputs": [],
   "source": [
    "# thirtieth chunck of the healthy data\n",
    "healthy_data, err = ek.get_data(healthy_CIK_list[29], fields=fields,\n",
    "                                 parameters={'Frq':'Y',\n",
    "                                             'SDate':'2017-01-01',\n",
    "                                             'EDate':'2018-01-01'})\n",
    "# and save the dataframe as a csv file\n",
    "healthy_data.to_csv('data_healthy_CIK/healthy_data30_2017.csv', index=False)\n"
   ]
  },
  {
   "cell_type": "markdown",
   "metadata": {},
   "source": [
    "### 2018"
   ]
  },
  {
   "cell_type": "code",
   "execution_count": null,
   "metadata": {},
   "outputs": [],
   "source": [
    "# first chuck of the healthy data\n",
    "healthy_data, err = ek.get_data(healthy_CIK_list[0], fields=fields,\n",
    "                                 parameters={'Frq':'Y',\n",
    "                                             'SDate':'2018-01-01',\n",
    "                                             'EDate':'2019-01-01'})\n",
    "# and save the dataframe as a csv file\n",
    "healthy_data.to_csv('data_healthy_CIK/healthy_data01_2018.csv', index=False)\n"
   ]
  },
  {
   "cell_type": "code",
   "execution_count": null,
   "metadata": {},
   "outputs": [],
   "source": [
    "# second chuck of the healthy data\n",
    "healthy_data, err = ek.get_data(healthy_CIK_list[1], fields=fields,\n",
    "                                 parameters={'Frq':'Y',\n",
    "                                             'SDate':'2018-01-01',\n",
    "                                             'EDate':'2019-01-01'})\n",
    "# and save the dataframe as a csv file\n",
    "healthy_data.to_csv('data_healthy_CIK/healthy_data02_2018.csv', index=False)\n"
   ]
  },
  {
   "cell_type": "code",
   "execution_count": null,
   "metadata": {},
   "outputs": [],
   "source": [
    "# third chuck of the healthy data\n",
    "healthy_data, err = ek.get_data(healthy_CIK_list[2], fields=fields,\n",
    "                                 parameters={'Frq':'Y',\n",
    "                                             'SDate':'2018-01-01',\n",
    "                                             'EDate':'2019-01-01'})\n",
    "# and save the dataframe as a csv file\n",
    "healthy_data.to_csv('data_healthy_CIK/healthy_data03_2018.csv', index=False)\n"
   ]
  },
  {
   "cell_type": "code",
   "execution_count": null,
   "metadata": {},
   "outputs": [],
   "source": [
    "# fourth chunck of the healthy data\n",
    "healthy_data, err = ek.get_data(healthy_CIK_list[3], fields=fields,\n",
    "                                 parameters={'Frq':'Y',\n",
    "                                             'SDate':'2018-01-01',\n",
    "                                             'EDate':'2019-01-01'})\n",
    "# and save the dataframe as a csv file\n",
    "healthy_data.to_csv('data_healthy_CIK/healthy_data04_2018.csv', index=False)\n"
   ]
  },
  {
   "cell_type": "code",
   "execution_count": null,
   "metadata": {},
   "outputs": [],
   "source": [
    "# fifth chunck of the healthy data\n",
    "healthy_data, err = ek.get_data(healthy_CIK_list[4], fields=fields,\n",
    "                                 parameters={'Frq':'Y',\n",
    "                                             'SDate':'2018-01-01',\n",
    "                                             'EDate':'2019-01-01'})\n",
    "# and save the dataframe as a csv file\n",
    "healthy_data.to_csv('data_healthy_CIK/healthy_data05_2018.csv', index=False)\n"
   ]
  },
  {
   "cell_type": "code",
   "execution_count": null,
   "metadata": {},
   "outputs": [],
   "source": [
    "# sixth chunck of the healthy data\n",
    "healthy_data, err = ek.get_data(healthy_CIK_list[5], fields=fields,\n",
    "                                 parameters={'Frq':'Y',\n",
    "                                             'SDate':'2018-01-01',\n",
    "                                             'EDate':'2019-01-01'})\n",
    "# and save the dataframe as a csv file\n",
    "healthy_data.to_csv('data_healthy_CIK/healthy_data06_2018.csv', index=False)\n"
   ]
  },
  {
   "cell_type": "code",
   "execution_count": null,
   "metadata": {},
   "outputs": [],
   "source": [
    "# seventh chunck of the healthy data\n",
    "healthy_data, err = ek.get_data(healthy_CIK_list[6], fields=fields,\n",
    "                                 parameters={'Frq':'Y',\n",
    "                                             'SDate':'2018-01-01',\n",
    "                                             'EDate':'2019-01-01'})\n",
    "# and save the dataframe as a csv file\n",
    "healthy_data.to_csv('data_healthy_CIK/healthy_data07_2018.csv', index=False)\n"
   ]
  },
  {
   "cell_type": "code",
   "execution_count": null,
   "metadata": {},
   "outputs": [],
   "source": [
    "# eighth chunck of the healthy data\n",
    "healthy_data, err = ek.get_data(healthy_CIK_list[7], fields=fields,\n",
    "                                 parameters={'Frq':'Y',\n",
    "                                             'SDate':'2018-01-01',\n",
    "                                             'EDate':'2019-01-01'})\n",
    "# and save the dataframe as a csv file\n",
    "healthy_data.to_csv('data_healthy_CIK/healthy_data08_2018.csv', index=False)\n"
   ]
  },
  {
   "cell_type": "code",
   "execution_count": null,
   "metadata": {},
   "outputs": [],
   "source": [
    "# ninth chunck of the healthy data\n",
    "healthy_data, err = ek.get_data(healthy_CIK_list[8], fields=fields,\n",
    "                                 parameters={'Frq':'Y',\n",
    "                                             'SDate':'2018-01-01',\n",
    "                                             'EDate':'2019-01-01'})\n",
    "# and save the dataframe as a csv file\n",
    "healthy_data.to_csv('data_healthy_CIK/healthy_data09_2018.csv', index=False)\n"
   ]
  },
  {
   "cell_type": "code",
   "execution_count": null,
   "metadata": {},
   "outputs": [],
   "source": [
    "# tenth chunck of the healthy data\n",
    "healthy_data, err = ek.get_data(healthy_CIK_list[9], fields=fields,\n",
    "                                 parameters={'Frq':'Y',\n",
    "                                             'SDate':'2018-01-01',\n",
    "                                             'EDate':'2019-01-01'})\n",
    "# and save the dataframe as a csv file\n",
    "healthy_data.to_csv('data_healthy_CIK/healthy_data10_2018.csv', index=False)\n"
   ]
  },
  {
   "cell_type": "code",
   "execution_count": null,
   "metadata": {},
   "outputs": [],
   "source": [
    "# eleventh chunck of the healthy data\n",
    "healthy_data, err = ek.get_data(healthy_CIK_list[10], fields=fields,\n",
    "                                 parameters={'Frq':'Y',\n",
    "                                             'SDate':'2018-01-01',\n",
    "                                             'EDate':'2019-01-01'})\n",
    "# and save the dataframe as a csv file\n",
    "healthy_data.to_csv('data_healthy_CIK/healthy_data11_2018.csv', index=False)\n"
   ]
  },
  {
   "cell_type": "code",
   "execution_count": null,
   "metadata": {},
   "outputs": [],
   "source": [
    "# twelfth chunck of the healthy data\n",
    "healthy_data, err = ek.get_data(healthy_CIK_list[11], fields=fields,\n",
    "                                 parameters={'Frq':'Y',\n",
    "                                             'SDate':'2018-01-01',\n",
    "                                             'EDate':'2019-01-01'})\n",
    "# and save the dataframe as a csv file\n",
    "healthy_data.to_csv('data_healthy_CIK/healthy_data12_2018.csv', index=False)\n"
   ]
  },
  {
   "cell_type": "code",
   "execution_count": null,
   "metadata": {},
   "outputs": [],
   "source": [
    "# thirteenth chunck of the healthy data\n",
    "healthy_data, err = ek.get_data(healthy_CIK_list[12], fields=fields,\n",
    "                                 parameters={'Frq':'Y',\n",
    "                                             'SDate':'2018-01-01',\n",
    "                                             'EDate':'2019-01-01'})\n",
    "# and save the dataframe as a csv file\n",
    "healthy_data.to_csv('data_healthy_CIK/healthy_data13_2018.csv', index=False)\n"
   ]
  },
  {
   "cell_type": "code",
   "execution_count": null,
   "metadata": {},
   "outputs": [],
   "source": [
    "# fourteenth chunck of the healthy data\n",
    "healthy_data, err = ek.get_data(healthy_CIK_list[13], fields=fields,\n",
    "                                 parameters={'Frq':'Y',\n",
    "                                             'SDate':'2018-01-01',\n",
    "                                             'EDate':'2019-01-01'})\n",
    "# and save the dataframe as a csv file\n",
    "healthy_data.to_csv('data_healthy_CIK/healthy_data14_2018.csv', index=False)\n"
   ]
  },
  {
   "cell_type": "code",
   "execution_count": null,
   "metadata": {},
   "outputs": [],
   "source": [
    "# fifteenth chunck of the healthy data\n",
    "healthy_data, err = ek.get_data(healthy_CIK_list[14], fields=fields,\n",
    "                                 parameters={'Frq':'Y',\n",
    "                                             'SDate':'2018-01-01',\n",
    "                                             'EDate':'2019-01-01'})\n",
    "# and save the dataframe as a csv file\n",
    "healthy_data.to_csv('data_healthy_CIK/healthy_data15_2018.csv', index=False)\n"
   ]
  },
  {
   "cell_type": "code",
   "execution_count": null,
   "metadata": {},
   "outputs": [],
   "source": [
    "# sixteenth chunck of the healthy data\n",
    "healthy_data, err = ek.get_data(healthy_CIK_list[15], fields=fields,\n",
    "                                 parameters={'Frq':'Y',\n",
    "                                             'SDate':'2018-01-01',\n",
    "                                             'EDate':'2019-01-01'})\n",
    "# and save the dataframe as a csv file\n",
    "healthy_data.to_csv('data_healthy_CIK/healthy_data16_2018.csv', index=False)\n"
   ]
  },
  {
   "cell_type": "code",
   "execution_count": null,
   "metadata": {},
   "outputs": [],
   "source": [
    "# seventeenth chunck of the healthy data\n",
    "healthy_data, err = ek.get_data(healthy_CIK_list[16], fields=fields,\n",
    "                                 parameters={'Frq':'Y',\n",
    "                                             'SDate':'2018-01-01',\n",
    "                                             'EDate':'2019-01-01'})\n",
    "# and save the dataframe as a csv file\n",
    "healthy_data.to_csv('data_healthy_CIK/healthy_data17_2018.csv', index=False)\n"
   ]
  },
  {
   "cell_type": "code",
   "execution_count": null,
   "metadata": {},
   "outputs": [],
   "source": [
    "# eighteenth chunck of the healthy data\n",
    "healthy_data, err = ek.get_data(healthy_CIK_list[17], fields=fields,\n",
    "                                 parameters={'Frq':'Y',\n",
    "                                             'SDate':'2018-01-01',\n",
    "                                             'EDate':'2019-01-01'})\n",
    "# and save the dataframe as a csv file\n",
    "healthy_data.to_csv('data_healthy_CIK/healthy_data18_2018.csv', index=False)\n"
   ]
  },
  {
   "cell_type": "code",
   "execution_count": null,
   "metadata": {},
   "outputs": [],
   "source": [
    "# nineteenth chunck of the healthy data\n",
    "healthy_data, err = ek.get_data(healthy_CIK_list[18], fields=fields,\n",
    "                                 parameters={'Frq':'Y',\n",
    "                                             'SDate':'2018-01-01',\n",
    "                                             'EDate':'2019-01-01'})\n",
    "# and save the dataframe as a csv file\n",
    "healthy_data.to_csv('data_healthy_CIK/healthy_data19_2018.csv', index=False)\n"
   ]
  },
  {
   "cell_type": "code",
   "execution_count": null,
   "metadata": {},
   "outputs": [],
   "source": [
    "# twentieth chunck of the healthy data\n",
    "healthy_data, err = ek.get_data(healthy_CIK_list[19], fields=fields,\n",
    "                                 parameters={'Frq':'Y',\n",
    "                                             'SDate':'2018-01-01',\n",
    "                                             'EDate':'2019-01-01'})\n",
    "# and save the dataframe as a csv file\n",
    "healthy_data.to_csv('data_healthy_CIK/healthy_data20_2019.csv', index=False)\n"
   ]
  },
  {
   "cell_type": "code",
   "execution_count": null,
   "metadata": {},
   "outputs": [],
   "source": [
    "# twenty-first chunck of the healthy data\n",
    "healthy_data, err = ek.get_data(healthy_CIK_list[20], fields=fields,\n",
    "                                 parameters={'Frq':'Y',\n",
    "                                             'SDate':'2018-01-01',\n",
    "                                             'EDate':'2019-01-01'})\n",
    "# and save the dataframe as a csv file\n",
    "healthy_data.to_csv('data_healthy_CIK/healthy_data21_2018.csv', index=False)\n"
   ]
  },
  {
   "cell_type": "code",
   "execution_count": null,
   "metadata": {},
   "outputs": [],
   "source": [
    "# twenty-second chunck of the healthy data\n",
    "healthy_data, err = ek.get_data(healthy_CIK_list[21], fields=fields,\n",
    "                                 parameters={'Frq':'Y',\n",
    "                                             'SDate':'2018-01-01',\n",
    "                                             'EDate':'2019-01-01'})\n",
    "# and save the dataframe as a csv file\n",
    "healthy_data.to_csv('data_healthy_CIK/healthy_data22_2018.csv', index=False)\n"
   ]
  },
  {
   "cell_type": "code",
   "execution_count": null,
   "metadata": {},
   "outputs": [],
   "source": [
    "# twenty-third chunck of the healthy data\n",
    "healthy_data, err = ek.get_data(healthy_CIK_list[22], fields=fields,\n",
    "                                 parameters={'Frq':'Y',\n",
    "                                             'SDate':'2018-01-01',\n",
    "                                             'EDate':'2019-01-01'})\n",
    "# and save the dataframe as a csv file\n",
    "healthy_data.to_csv('data_healthy_CIK/healthy_data23_2018.csv', index=False)\n"
   ]
  },
  {
   "cell_type": "code",
   "execution_count": null,
   "metadata": {},
   "outputs": [],
   "source": [
    "# twenty-fourth chunck of the healthy data\n",
    "healthy_data, err = ek.get_data(healthy_CIK_list[23], fields=fields,\n",
    "                                 parameters={'Frq':'Y',\n",
    "                                             'SDate':'2018-01-01',\n",
    "                                             'EDate':'2019-01-01'})\n",
    "# and save the dataframe as a csv file\n",
    "healthy_data.to_csv('data_healthy_CIK/healthy_data24_2018.csv', index=False)\n"
   ]
  },
  {
   "cell_type": "code",
   "execution_count": null,
   "metadata": {},
   "outputs": [],
   "source": [
    "# twenty-fifth chunck of the healthy data\n",
    "healthy_data, err = ek.get_data(healthy_CIK_list[24], fields=fields,\n",
    "                                 parameters={'Frq':'Y',\n",
    "                                             'SDate':'2018-01-01',\n",
    "                                             'EDate':'2019-01-01'})\n",
    "# and save the dataframe as a csv file\n",
    "healthy_data.to_csv('data_healthy_CIK/healthy_data25_2018.csv', index=False)\n"
   ]
  },
  {
   "cell_type": "code",
   "execution_count": null,
   "metadata": {},
   "outputs": [],
   "source": [
    "# twenty-sixth chunck of the healthy data\n",
    "healthy_data, err = ek.get_data(healthy_CIK_list[25], fields=fields,\n",
    "                                 parameters={'Frq':'Y',\n",
    "                                             'SDate':'2018-01-01',\n",
    "                                             'EDate':'2019-01-01'})\n",
    "# and save the dataframe as a csv file\n",
    "healthy_data.to_csv('data_healthy_CIK/healthy_data26_2018.csv', index=False)\n"
   ]
  },
  {
   "cell_type": "code",
   "execution_count": null,
   "metadata": {},
   "outputs": [],
   "source": [
    "# twenty-seventh chunck of the healthy data\n",
    "healthy_data, err = ek.get_data(healthy_CIK_list[26], fields=fields,\n",
    "                                 parameters={'Frq':'Y',\n",
    "                                             'SDate':'2018-01-01',\n",
    "                                             'EDate':'2019-01-01'})\n",
    "# and save the dataframe as a csv file\n",
    "healthy_data.to_csv('data_healthy_CIK/healthy_data27_2018.csv', index=False)\n"
   ]
  },
  {
   "cell_type": "code",
   "execution_count": null,
   "metadata": {},
   "outputs": [],
   "source": [
    "# twenty-eighth chunck of the healthy data\n",
    "healthy_data, err = ek.get_data(healthy_CIK_list[27], fields=fields,\n",
    "                                 parameters={'Frq':'Y',\n",
    "                                             'SDate':'2018-01-01',\n",
    "                                             'EDate':'2019-01-01'})\n",
    "# and save the dataframe as a csv file\n",
    "healthy_data.to_csv('data_healthy_CIK/healthy_data28_2018.csv', index=False)\n"
   ]
  },
  {
   "cell_type": "code",
   "execution_count": null,
   "metadata": {},
   "outputs": [],
   "source": [
    "# twenty-ninth chunck of the healthy data\n",
    "healthy_data, err = ek.get_data(healthy_CIK_list[28], fields=fields,\n",
    "                                 parameters={'Frq':'Y',\n",
    "                                             'SDate':'2018-01-01',\n",
    "                                             'EDate':'2019-01-01'})\n",
    "# and save the dataframe as a csv file\n",
    "healthy_data.to_csv('data_healthy_CIK/healthy_data29_2018.csv', index=False)\n"
   ]
  },
  {
   "cell_type": "code",
   "execution_count": null,
   "metadata": {},
   "outputs": [],
   "source": [
    "# thirtieth chunck of the healthy data\n",
    "healthy_data, err = ek.get_data(healthy_CIK_list[29], fields=fields,\n",
    "                                 parameters={'Frq':'Y',\n",
    "                                             'SDate':'2018-01-01',\n",
    "                                             'EDate':'2019-01-01'})\n",
    "# and save the dataframe as a csv file\n",
    "healthy_data.to_csv('data_healthy_CIK/healthy_data30_2018.csv', index=False)\n"
   ]
  }
 ],
 "metadata": {
  "kernelspec": {
   "display_name": "Python 3",
   "language": "python",
   "name": "python3"
  },
  "language_info": {
   "codemirror_mode": {
    "name": "ipython",
    "version": 3
   },
   "file_extension": ".py",
   "mimetype": "text/x-python",
   "name": "python",
   "nbconvert_exporter": "python",
   "pygments_lexer": "ipython3",
   "version": "3.6.3"
  }
 },
 "nbformat": 4,
 "nbformat_minor": 2
}
