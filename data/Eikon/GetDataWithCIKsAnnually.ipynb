{
 "cells": [
  {
   "cell_type": "code",
   "execution_count": 1,
   "metadata": {},
   "outputs": [],
   "source": [
    "import os\n",
    "import eikon as ek\n",
    "import numpy as np\n",
    "import pickle\n",
    "import pandas as pd\n",
    "import cufflinks as cf\n",
    "import configparser as cp"
   ]
  },
  {
   "cell_type": "code",
   "execution_count": 2,
   "metadata": {},
   "outputs": [
    {
     "data": {
      "text/plain": [
       "['eikon.cfg']"
      ]
     },
     "execution_count": 2,
     "metadata": {},
     "output_type": "execute_result"
    }
   ],
   "source": [
    "cfg = cp.ConfigParser()\n",
    "cfg.read('eikon.cfg')  # adjust for different file location"
   ]
  },
  {
   "cell_type": "code",
   "execution_count": 3,
   "metadata": {},
   "outputs": [],
   "source": [
    "ek.set_app_key(cfg['eikon']['app_id']) #set_app_id function being deprecated"
   ]
  },
  {
   "cell_type": "markdown",
   "metadata": {},
   "source": [
    "## Get a List of CIKs"
   ]
  },
  {
   "cell_type": "markdown",
   "metadata": {},
   "source": [
    "### From Compustat\n",
    "#### For Both Bankrupt and Healthy Companies"
   ]
  },
  {
   "cell_type": "code",
   "execution_count": 4,
   "metadata": {},
   "outputs": [
    {
     "data": {
      "text/html": [
       "<div>\n",
       "<style scoped>\n",
       "    .dataframe tbody tr th:only-of-type {\n",
       "        vertical-align: middle;\n",
       "    }\n",
       "\n",
       "    .dataframe tbody tr th {\n",
       "        vertical-align: top;\n",
       "    }\n",
       "\n",
       "    .dataframe thead th {\n",
       "        text-align: right;\n",
       "    }\n",
       "</style>\n",
       "<table border=\"1\" class=\"dataframe\">\n",
       "  <thead>\n",
       "    <tr style=\"text-align: right;\">\n",
       "      <th></th>\n",
       "      <th>Identifier</th>\n",
       "      <th>Company</th>\n",
       "      <th>Data Deletion Date</th>\n",
       "      <th>Deletion Reason</th>\n",
       "      <th>Ticker</th>\n",
       "      <th>CUSIP</th>\n",
       "      <th>CIK</th>\n",
       "    </tr>\n",
       "  </thead>\n",
       "  <tbody>\n",
       "    <tr>\n",
       "      <th>0</th>\n",
       "      <td>001367</td>\n",
       "      <td>Amber Resources Company of C</td>\n",
       "      <td>08/31/2012</td>\n",
       "      <td>2.0</td>\n",
       "      <td>3AMBE</td>\n",
       "      <td>023184203</td>\n",
       "      <td>0000276750</td>\n",
       "    </tr>\n",
       "    <tr>\n",
       "      <th>1</th>\n",
       "      <td>002033</td>\n",
       "      <td>Fairchild Corp. (The)</td>\n",
       "      <td>11/01/2011</td>\n",
       "      <td>2.0</td>\n",
       "      <td>FCHDQ</td>\n",
       "      <td>303698104</td>\n",
       "      <td>0000009779</td>\n",
       "    </tr>\n",
       "    <tr>\n",
       "      <th>2</th>\n",
       "      <td>004049</td>\n",
       "      <td>Constar International Inc</td>\n",
       "      <td>06/01/2011</td>\n",
       "      <td>2.0</td>\n",
       "      <td>CNSTQ</td>\n",
       "      <td>21036U206</td>\n",
       "      <td>0000029806</td>\n",
       "    </tr>\n",
       "    <tr>\n",
       "      <th>3</th>\n",
       "      <td>004352</td>\n",
       "      <td>Energy Conversion Devices In</td>\n",
       "      <td>09/04/2012</td>\n",
       "      <td>2.0</td>\n",
       "      <td>ENERQ</td>\n",
       "      <td>292659109</td>\n",
       "      <td>0000032878</td>\n",
       "    </tr>\n",
       "    <tr>\n",
       "      <th>4</th>\n",
       "      <td>004768</td>\n",
       "      <td>Fleetwood Enterprises Inc.</td>\n",
       "      <td>08/23/2010</td>\n",
       "      <td>2.0</td>\n",
       "      <td>FLTWQ</td>\n",
       "      <td>339099103</td>\n",
       "      <td>0000314132</td>\n",
       "    </tr>\n",
       "  </tbody>\n",
       "</table>\n",
       "</div>"
      ],
      "text/plain": [
       "  Identifier                       Company Data Deletion Date Deletion Reason  \\\n",
       "0     001367  Amber Resources Company of C         08/31/2012             2.0   \n",
       "1     002033         Fairchild Corp. (The)         11/01/2011             2.0   \n",
       "2     004049     Constar International Inc         06/01/2011             2.0   \n",
       "3     004352  Energy Conversion Devices In         09/04/2012             2.0   \n",
       "4     004768    Fleetwood Enterprises Inc.         08/23/2010             2.0   \n",
       "\n",
       "  Ticker      CUSIP         CIK  \n",
       "0  3AMBE  023184203  0000276750  \n",
       "1  FCHDQ  303698104  0000009779  \n",
       "2  CNSTQ  21036U206  0000029806  \n",
       "3  ENERQ  292659109  0000032878  \n",
       "4  FLTWQ  339099103  0000314132  "
      ]
     },
     "execution_count": 4,
     "metadata": {},
     "output_type": "execute_result"
    }
   ],
   "source": [
    "# set the path to csv files\n",
    "# path = 'D:\\\\studyproject\\\\bankruptcy\\\\data\\\\Compustat\\\\' # for win\n",
    "path = '/Users/user/Documents/Bankruptcy/bankruptcy/data/Compustat/' # for mac\n",
    "\n",
    "# read the csv files\n",
    "bankrupt_compustat = pd.read_csv(path + 'list_bankrupt.csv', dtype=object, index_col=0)\n",
    "healthy = pd.read_csv(path + 'list_healthy.csv', dtype=object, index_col=0)\n",
    "\n",
    "bankrupt_compustat.head()"
   ]
  },
  {
   "cell_type": "code",
   "execution_count": 5,
   "metadata": {},
   "outputs": [
    {
     "data": {
      "text/html": [
       "<div>\n",
       "<style scoped>\n",
       "    .dataframe tbody tr th:only-of-type {\n",
       "        vertical-align: middle;\n",
       "    }\n",
       "\n",
       "    .dataframe tbody tr th {\n",
       "        vertical-align: top;\n",
       "    }\n",
       "\n",
       "    .dataframe thead th {\n",
       "        text-align: right;\n",
       "    }\n",
       "</style>\n",
       "<table border=\"1\" class=\"dataframe\">\n",
       "  <thead>\n",
       "    <tr style=\"text-align: right;\">\n",
       "      <th></th>\n",
       "      <th>Identifier</th>\n",
       "      <th>Company</th>\n",
       "      <th>Data Deletion Date</th>\n",
       "      <th>Deletion Reason</th>\n",
       "      <th>Ticker</th>\n",
       "      <th>CUSIP</th>\n",
       "      <th>CIK</th>\n",
       "    </tr>\n",
       "  </thead>\n",
       "  <tbody>\n",
       "    <tr>\n",
       "      <th>0</th>\n",
       "      <td>001004</td>\n",
       "      <td>AAR Corp</td>\n",
       "      <td>.</td>\n",
       "      <td>NaN</td>\n",
       "      <td>AIR</td>\n",
       "      <td>000361105</td>\n",
       "      <td>0000001750</td>\n",
       "    </tr>\n",
       "    <tr>\n",
       "      <th>1</th>\n",
       "      <td>001013</td>\n",
       "      <td>ADC Telecommunications Inc.</td>\n",
       "      <td>12/10/2010</td>\n",
       "      <td>1.0</td>\n",
       "      <td>ADCT</td>\n",
       "      <td>000886309</td>\n",
       "      <td>0000061478</td>\n",
       "    </tr>\n",
       "    <tr>\n",
       "      <th>2</th>\n",
       "      <td>001021</td>\n",
       "      <td>AFP Imaging Corp</td>\n",
       "      <td>09/15/2014</td>\n",
       "      <td>7.0</td>\n",
       "      <td>IWKS</td>\n",
       "      <td>001058205</td>\n",
       "      <td>0000319126</td>\n",
       "    </tr>\n",
       "    <tr>\n",
       "      <th>3</th>\n",
       "      <td>001034</td>\n",
       "      <td>Alpharma Inc.</td>\n",
       "      <td>12/31/2008</td>\n",
       "      <td>1.0</td>\n",
       "      <td>ALO.2</td>\n",
       "      <td>020813101</td>\n",
       "      <td>0000730469</td>\n",
       "    </tr>\n",
       "    <tr>\n",
       "      <th>4</th>\n",
       "      <td>001045</td>\n",
       "      <td>American Airlines Group Inc</td>\n",
       "      <td>.</td>\n",
       "      <td>NaN</td>\n",
       "      <td>AAL</td>\n",
       "      <td>02376R102</td>\n",
       "      <td>0000006201</td>\n",
       "    </tr>\n",
       "  </tbody>\n",
       "</table>\n",
       "</div>"
      ],
      "text/plain": [
       "  Identifier                      Company Data Deletion Date Deletion Reason  \\\n",
       "0     001004                     AAR Corp                  .             NaN   \n",
       "1     001013  ADC Telecommunications Inc.         12/10/2010             1.0   \n",
       "2     001021             AFP Imaging Corp         09/15/2014             7.0   \n",
       "3     001034                Alpharma Inc.         12/31/2008             1.0   \n",
       "4     001045  American Airlines Group Inc                  .             NaN   \n",
       "\n",
       "  Ticker      CUSIP         CIK  \n",
       "0    AIR  000361105  0000001750  \n",
       "1   ADCT  000886309  0000061478  \n",
       "2   IWKS  001058205  0000319126  \n",
       "3  ALO.2  020813101  0000730469  \n",
       "4    AAL  02376R102  0000006201  "
      ]
     },
     "execution_count": 5,
     "metadata": {},
     "output_type": "execute_result"
    }
   ],
   "source": [
    "healthy.head()"
   ]
  },
  {
   "cell_type": "code",
   "execution_count": 6,
   "metadata": {},
   "outputs": [
    {
     "name": "stdout",
     "output_type": "stream",
     "text": [
      "100 CIKs available for Compustat bankrupt companies, and\n",
      "14761 CIKs available for healthy companies.\n"
     ]
    }
   ],
   "source": [
    "bankrupt_compustat_CIK = bankrupt_compustat.CIK.dropna().to_list()\n",
    "healthy_CIK = healthy.CIK.dropna().to_list()\n",
    "\n",
    "print(len(bankrupt_compustat_CIK), 'CIKs available for Compustat bankrupt companies, and')\n",
    "print(len(healthy_CIK), 'CIKs available for healthy companies.')\n"
   ]
  },
  {
   "cell_type": "markdown",
   "metadata": {},
   "source": [
    "### From Edgar\n",
    "#### For Bankrupt Companies"
   ]
  },
  {
   "cell_type": "code",
   "execution_count": 7,
   "metadata": {},
   "outputs": [
    {
     "data": {
      "text/html": [
       "<div>\n",
       "<style scoped>\n",
       "    .dataframe tbody tr th:only-of-type {\n",
       "        vertical-align: middle;\n",
       "    }\n",
       "\n",
       "    .dataframe tbody tr th {\n",
       "        vertical-align: top;\n",
       "    }\n",
       "\n",
       "    .dataframe thead th {\n",
       "        text-align: right;\n",
       "    }\n",
       "</style>\n",
       "<table border=\"1\" class=\"dataframe\">\n",
       "  <thead>\n",
       "    <tr style=\"text-align: right;\">\n",
       "      <th></th>\n",
       "      <th>CIK</th>\n",
       "      <th>Company name</th>\n",
       "      <th>Bankruptcy chapter</th>\n",
       "      <th>Form type</th>\n",
       "      <th>Date</th>\n",
       "      <th>URL</th>\n",
       "    </tr>\n",
       "  </thead>\n",
       "  <tbody>\n",
       "    <tr>\n",
       "      <th>0</th>\n",
       "      <td>0000002034</td>\n",
       "      <td>ACETO CORP</td>\n",
       "      <td>11</td>\n",
       "      <td>8-K</td>\n",
       "      <td>09/20/2019</td>\n",
       "      <td>https://www.sec.gov/Archives/edgar/data/2034/0...</td>\n",
       "    </tr>\n",
       "    <tr>\n",
       "      <th>1</th>\n",
       "      <td>0000002178</td>\n",
       "      <td>ADAMS RESOURCES &amp; ENERGY, INC.</td>\n",
       "      <td>11</td>\n",
       "      <td>8-K</td>\n",
       "      <td>04/24/2017</td>\n",
       "      <td>https://www.sec.gov/Archives/edgar/data/2178/0...</td>\n",
       "    </tr>\n",
       "    <tr>\n",
       "      <th>2</th>\n",
       "      <td>0000004515</td>\n",
       "      <td>AMERICAN AIRLINES INC</td>\n",
       "      <td>11</td>\n",
       "      <td>8-K</td>\n",
       "      <td>11/29/2011</td>\n",
       "      <td>https://www.sec.gov/Archives/edgar/data/4515/0...</td>\n",
       "    </tr>\n",
       "    <tr>\n",
       "      <th>3</th>\n",
       "      <td>0000004707</td>\n",
       "      <td>AMERICA CAPITAL CORP</td>\n",
       "      <td>11</td>\n",
       "      <td>8-K</td>\n",
       "      <td>02/09/2009</td>\n",
       "      <td>https://www.sec.gov/Archives/edgar/data/4707/0...</td>\n",
       "    </tr>\n",
       "    <tr>\n",
       "      <th>4</th>\n",
       "      <td>0000006201</td>\n",
       "      <td>AMR CORP</td>\n",
       "      <td>11</td>\n",
       "      <td>8-K</td>\n",
       "      <td>10/23/2013</td>\n",
       "      <td>https://www.sec.gov/Archives/edgar/data/6201/0...</td>\n",
       "    </tr>\n",
       "  </tbody>\n",
       "</table>\n",
       "</div>"
      ],
      "text/plain": [
       "          CIK                    Company name Bankruptcy chapter Form type  \\\n",
       "0  0000002034                      ACETO CORP                 11       8-K   \n",
       "1  0000002178  ADAMS RESOURCES & ENERGY, INC.                 11       8-K   \n",
       "2  0000004515           AMERICAN AIRLINES INC                 11       8-K   \n",
       "3  0000004707            AMERICA CAPITAL CORP                 11       8-K   \n",
       "4  0000006201                        AMR CORP                 11       8-K   \n",
       "\n",
       "         Date                                                URL  \n",
       "0  09/20/2019  https://www.sec.gov/Archives/edgar/data/2034/0...  \n",
       "1  04/24/2017  https://www.sec.gov/Archives/edgar/data/2178/0...  \n",
       "2  11/29/2011  https://www.sec.gov/Archives/edgar/data/4515/0...  \n",
       "3  02/09/2009  https://www.sec.gov/Archives/edgar/data/4707/0...  \n",
       "4  10/23/2013  https://www.sec.gov/Archives/edgar/data/6201/0...  "
      ]
     },
     "execution_count": 7,
     "metadata": {},
     "output_type": "execute_result"
    }
   ],
   "source": [
    "# set the path to csv file\n",
    "# path = 'D:\\\\studyproject\\\\bankruptcy\\\\data\\\\Edgar\\\\' # for win\n",
    "path = '/Users/user/Documents/Bankruptcy/bankruptcy/data/Edgar/' # for mac\n",
    "\n",
    "# read the csv files\n",
    "bankrupt_edgar = pd.read_csv(path + 'edgar_bankrupt_companies.csv', dtype=object)\n",
    "\n",
    "bankrupt_edgar.head()"
   ]
  },
  {
   "cell_type": "code",
   "execution_count": 8,
   "metadata": {},
   "outputs": [
    {
     "name": "stdout",
     "output_type": "stream",
     "text": [
      "1075 CIKs available for Edgar bankrupt companies.\n"
     ]
    }
   ],
   "source": [
    "bankrupt_edgar_CIK = bankrupt_edgar.CIK.dropna().to_list()\n",
    "\n",
    "print(len(bankrupt_edgar_CIK), 'CIKs available for Edgar bankrupt companies.')"
   ]
  },
  {
   "cell_type": "markdown",
   "metadata": {},
   "source": [
    "## Merging Bankrupt Lists"
   ]
  },
  {
   "cell_type": "code",
   "execution_count": 9,
   "metadata": {},
   "outputs": [
    {
     "data": {
      "text/plain": [
       "1103"
      ]
     },
     "execution_count": 9,
     "metadata": {},
     "output_type": "execute_result"
    }
   ],
   "source": [
    "# add two lists and remove the duplicates\n",
    "bankrupt_CIK = list(set(bankrupt_compustat_CIK + bankrupt_edgar_CIK))\n",
    "\n",
    "len(bankrupt_CIK)"
   ]
  },
  {
   "cell_type": "markdown",
   "metadata": {},
   "source": [
    "****"
   ]
  },
  {
   "cell_type": "markdown",
   "metadata": {},
   "source": [
    "## Download the Data"
   ]
  },
  {
   "cell_type": "code",
   "execution_count": 10,
   "metadata": {},
   "outputs": [],
   "source": [
    "# create folders for saving data\n",
    "if not os.path.exists('data_bankrupt_CIK'):\n",
    "    os.makedirs('data_bankrupt_CIK')\n",
    "    \n",
    "if not os.path.exists('data_healthy_CIK'):\n",
    "    os.makedirs('data_healthy_CIK')"
   ]
  },
  {
   "cell_type": "code",
   "execution_count": 11,
   "metadata": {},
   "outputs": [
    {
     "name": "stdout",
     "output_type": "stream",
     "text": [
      "3\n"
     ]
    },
    {
     "data": {
      "text/plain": [
       "30"
      ]
     },
     "execution_count": 11,
     "metadata": {},
     "output_type": "execute_result"
    }
   ],
   "source": [
    "# Eikon does not work with large lists, so we\n",
    "# need to break the healthy_CIK list\n",
    "# and also bankrupt_CIK\n",
    "\n",
    "bankrupt_CIK_list = [bankrupt_CIK[i:i + 500] for i in range(0, len(bankrupt_CIK), 500)]\n",
    "healthy_CIK_list = [healthy_CIK[i:i + 500] for i in range(0, len(healthy_CIK), 500)]\n",
    "\n",
    "print(len(bankrupt_CIK_list))\n",
    "len(healthy_CIK_list)\n"
   ]
  },
  {
   "cell_type": "markdown",
   "metadata": {},
   "source": [
    "### Financial Factors\n"
   ]
  },
  {
   "cell_type": "code",
   "execution_count": 12,
   "metadata": {},
   "outputs": [
    {
     "name": "stdout",
     "output_type": "stream",
     "text": [
      "49\n",
      "26\n"
     ]
    }
   ],
   "source": [
    "# add all financial factors we need to replicate *the paper*\n",
    "\n",
    "fields = ['TR.CommonName',\n",
    "          'TR.CIKNUMBER',\n",
    "          'TR.TotalCurrentAssets', # Current Assets\n",
    "          'TR.TotalCurrLiabilities', # Current Liabilities\n",
    "          'TR.AccountsPayableCFStmt', # Accounts Payable\n",
    "          'TR.CashAndSTInvestments',\n",
    "          'TR.TotalAssetsReported',\n",
    "          'TR.CashAndSTInvestments',\n",
    "          'TR.MarketCapDS',\n",
    "          'TR.TotalCurrLiabilities',\n",
    "          'TR.TotalAssetsReported',\n",
    "          'TR.DepreciationAmort',\n",
    "          'TR.TotalAssetsReported',\n",
    "          'TR.TotalDebtOutstanding',\n",
    "          'TR.NetDebt',\n",
    "          'TR.TotalAssetsReported',\n",
    "          'TR.Inventories',\n",
    "          'TR.NetSales',\n",
    "          'TR.TotalCurrLiabilities',\n",
    "          'TR.TotalAssetsReported',\n",
    "          'TR.TotalCurrLiabilities',\n",
    "          'TR.TotalAssetsReported',\n",
    "          'TR.TotalCurrLiabilities',\n",
    "          'TR.TotalLiabilities',\n",
    "          'TR.TotalCurrLiabilities',\n",
    "          'TR.NetSales',\n",
    "          'TR.TotalLiabilities',\n",
    "          'TR.TotalAssetsReported',\n",
    "          'TR.TotalLiabilities',\n",
    "          'TR.TotalLiabilities',\n",
    "          'TR.TangibleBookValueRptd',\n",
    "          'TR.TangibleBookValueBnk',\n",
    "          'TR.TangibleBookValueIns',\n",
    "          'TR.TangibleBookValueUtil',\n",
    "          'TR.TangibleBVPS',\n",
    "          'TR.NetIncomeStartingLine',\n",
    "          'TR.TotalAssetsReported',\n",
    "          'TR.NetIncomeStartingLine',\n",
    "          'TR.NetSales',\n",
    "          'TR.OperatingIncome',\n",
    "          'TR.TotalAssetsReported',\n",
    "          'TR.TotalCurrLiabilities',\n",
    "          'TR.RetainedEarnings',\n",
    "          'TR.TotalAssetsReported',\n",
    "          'TR.TotalEquity',\n",
    "          'TR.TotalAssetsReported',\n",
    "          'TR.InstrumentIsActive', # bankruptcy check (not reliable)\n",
    "          'TR.IsDelistedQuote',\n",
    "          'TR.NAICSIndustryGroup']  # bankruptcy check (not reliable)\n",
    "\n",
    "\n",
    "print(len(fields))\n",
    "\n",
    "# remove duplicates\n",
    "fields = list(set(fields))\n",
    "\n",
    "print(len(fields))"
   ]
  },
  {
   "cell_type": "markdown",
   "metadata": {},
   "source": [
    "# Download Data (For Real This Time)"
   ]
  },
  {
   "cell_type": "code",
   "execution_count": 13,
   "metadata": {},
   "outputs": [],
   "source": [
    "def get_data(CIK_list, status, year, month, day, chunk):\n",
    "    df, err = ek.get_data(CIK_list[chunk], fields=fields,\n",
    "                          parameters={'Frq':'Y',\n",
    "                                      'SDate':'{}-01-01'.format(year),\n",
    "                                      'EDate':'{}-{}-{}'.format(year, month, day)})\n",
    "    df.to_csv('data_{}_CIK/{}_data{}_{}.csv'.format(status, status, chunk+1, year), index=False)"
   ]
  },
  {
   "cell_type": "code",
   "execution_count": 14,
   "metadata": {},
   "outputs": [],
   "source": [
    "get_data(bankrupt_CIK_list, 'bankrupt', '2000', '12', '30', 0)"
   ]
  },
  {
   "cell_type": "code",
   "execution_count": 15,
   "metadata": {},
   "outputs": [],
   "source": [
    "get_data(bankrupt_CIK_list, 'bankrupt', '2000', '12', '30', 1)"
   ]
  },
  {
   "cell_type": "code",
   "execution_count": 16,
   "metadata": {},
   "outputs": [],
   "source": [
    "get_data(bankrupt_CIK_list, 'bankrupt', '2000', '12', '30', 2)"
   ]
  },
  {
   "cell_type": "code",
   "execution_count": 17,
   "metadata": {},
   "outputs": [],
   "source": [
    "get_data(bankrupt_CIK_list, 'bankrupt', '2001', '12', '30', 0)"
   ]
  },
  {
   "cell_type": "code",
   "execution_count": 19,
   "metadata": {},
   "outputs": [],
   "source": [
    "get_data(bankrupt_CIK_list, 'bankrupt', '2001', '12', '30', 1)"
   ]
  },
  {
   "cell_type": "code",
   "execution_count": 20,
   "metadata": {},
   "outputs": [],
   "source": [
    "get_data(bankrupt_CIK_list, 'bankrupt', '2001', '12', '30', 2)"
   ]
  },
  {
   "cell_type": "code",
   "execution_count": 21,
   "metadata": {},
   "outputs": [],
   "source": [
    "get_data(bankrupt_CIK_list, 'bankrupt', '2002', '12', '30', 0)"
   ]
  },
  {
   "cell_type": "code",
   "execution_count": 22,
   "metadata": {},
   "outputs": [],
   "source": [
    "get_data(bankrupt_CIK_list, 'bankrupt', '2002', '12', '30', 1)"
   ]
  },
  {
   "cell_type": "code",
   "execution_count": 23,
   "metadata": {},
   "outputs": [],
   "source": [
    "get_data(bankrupt_CIK_list, 'bankrupt', '2002', '12', '30', 2)"
   ]
  },
  {
   "cell_type": "code",
   "execution_count": 24,
   "metadata": {},
   "outputs": [],
   "source": [
    "get_data(bankrupt_CIK_list, 'bankrupt', '2003', '12', '30', 0)"
   ]
  },
  {
   "cell_type": "code",
   "execution_count": 25,
   "metadata": {},
   "outputs": [],
   "source": [
    "get_data(bankrupt_CIK_list, 'bankrupt', '2003', '12', '30', 1)"
   ]
  },
  {
   "cell_type": "code",
   "execution_count": 26,
   "metadata": {},
   "outputs": [],
   "source": [
    "get_data(bankrupt_CIK_list, 'bankrupt', '2003', '12', '30', 2)"
   ]
  },
  {
   "cell_type": "code",
   "execution_count": 27,
   "metadata": {},
   "outputs": [],
   "source": [
    "get_data(bankrupt_CIK_list, 'bankrupt', '2004', '12', '30', 0)"
   ]
  },
  {
   "cell_type": "code",
   "execution_count": 28,
   "metadata": {},
   "outputs": [],
   "source": [
    "get_data(bankrupt_CIK_list, 'bankrupt', '2004', '12', '30', 1)"
   ]
  },
  {
   "cell_type": "code",
   "execution_count": 29,
   "metadata": {},
   "outputs": [],
   "source": [
    "get_data(bankrupt_CIK_list, 'bankrupt', '2004', '12', '30', 2)"
   ]
  },
  {
   "cell_type": "code",
   "execution_count": 30,
   "metadata": {},
   "outputs": [],
   "source": [
    "get_data(bankrupt_CIK_list, 'bankrupt', '2005', '12', '30', 0)"
   ]
  },
  {
   "cell_type": "code",
   "execution_count": 31,
   "metadata": {},
   "outputs": [],
   "source": [
    "get_data(bankrupt_CIK_list, 'bankrupt', '2005', '12', '30', 1)"
   ]
  },
  {
   "cell_type": "code",
   "execution_count": 32,
   "metadata": {},
   "outputs": [],
   "source": [
    "get_data(bankrupt_CIK_list, 'bankrupt', '2005', '12', '30', 2)"
   ]
  },
  {
   "cell_type": "code",
   "execution_count": 33,
   "metadata": {},
   "outputs": [],
   "source": [
    "get_data(bankrupt_CIK_list, 'bankrupt', '2006', '12', '30', 0)"
   ]
  },
  {
   "cell_type": "code",
   "execution_count": 34,
   "metadata": {},
   "outputs": [],
   "source": [
    "get_data(bankrupt_CIK_list, 'bankrupt', '2006', '12', '30', 1)"
   ]
  },
  {
   "cell_type": "code",
   "execution_count": 35,
   "metadata": {},
   "outputs": [],
   "source": [
    "get_data(bankrupt_CIK_list, 'bankrupt', '2006', '12', '30', 2)"
   ]
  },
  {
   "cell_type": "code",
   "execution_count": 36,
   "metadata": {},
   "outputs": [],
   "source": [
    "get_data(bankrupt_CIK_list, 'bankrupt', '2007', '12', '30', 0)"
   ]
  },
  {
   "cell_type": "code",
   "execution_count": 37,
   "metadata": {},
   "outputs": [],
   "source": [
    "get_data(bankrupt_CIK_list, 'bankrupt', '2007', '12', '30', 1)"
   ]
  },
  {
   "cell_type": "code",
   "execution_count": 38,
   "metadata": {},
   "outputs": [],
   "source": [
    "get_data(bankrupt_CIK_list, 'bankrupt', '2007', '12', '30', 2)"
   ]
  },
  {
   "cell_type": "code",
   "execution_count": 39,
   "metadata": {},
   "outputs": [],
   "source": [
    "get_data(bankrupt_CIK_list, 'bankrupt', '2008', '12', '30', 0)"
   ]
  },
  {
   "cell_type": "code",
   "execution_count": 40,
   "metadata": {},
   "outputs": [],
   "source": [
    "get_data(bankrupt_CIK_list, 'bankrupt', '2008', '12', '30', 1)"
   ]
  },
  {
   "cell_type": "code",
   "execution_count": 41,
   "metadata": {},
   "outputs": [],
   "source": [
    "get_data(bankrupt_CIK_list, 'bankrupt', '2008', '12', '30', 2)"
   ]
  },
  {
   "cell_type": "code",
   "execution_count": 42,
   "metadata": {},
   "outputs": [],
   "source": [
    "get_data(bankrupt_CIK_list, 'bankrupt', '2009', '12', '30', 0)"
   ]
  },
  {
   "cell_type": "code",
   "execution_count": 43,
   "metadata": {},
   "outputs": [],
   "source": [
    "get_data(bankrupt_CIK_list, 'bankrupt', '2009', '12', '30', 1)"
   ]
  },
  {
   "cell_type": "code",
   "execution_count": 44,
   "metadata": {},
   "outputs": [],
   "source": [
    "get_data(bankrupt_CIK_list, 'bankrupt', '2009', '12', '30', 2)"
   ]
  },
  {
   "cell_type": "code",
   "execution_count": 45,
   "metadata": {},
   "outputs": [],
   "source": [
    "get_data(bankrupt_CIK_list, 'bankrupt', '2010', '12', '30', 0)"
   ]
  },
  {
   "cell_type": "code",
   "execution_count": 46,
   "metadata": {},
   "outputs": [],
   "source": [
    "get_data(bankrupt_CIK_list, 'bankrupt', '2010', '12', '30', 1)"
   ]
  },
  {
   "cell_type": "code",
   "execution_count": 47,
   "metadata": {},
   "outputs": [],
   "source": [
    "get_data(bankrupt_CIK_list, 'bankrupt', '2010', '12', '30', 2)"
   ]
  },
  {
   "cell_type": "code",
   "execution_count": 48,
   "metadata": {},
   "outputs": [],
   "source": [
    "get_data(bankrupt_CIK_list, 'bankrupt', '2011', '12', '30', 0)"
   ]
  },
  {
   "cell_type": "code",
   "execution_count": 51,
   "metadata": {},
   "outputs": [],
   "source": [
    "get_data(bankrupt_CIK_list, 'bankrupt', '2011', '12', '30', 1)"
   ]
  },
  {
   "cell_type": "code",
   "execution_count": 52,
   "metadata": {},
   "outputs": [],
   "source": [
    "get_data(bankrupt_CIK_list, 'bankrupt', '2011', '12', '30', 2)"
   ]
  },
  {
   "cell_type": "code",
   "execution_count": 53,
   "metadata": {},
   "outputs": [],
   "source": [
    "get_data(bankrupt_CIK_list, 'bankrupt', '2012', '12', '30', 0)"
   ]
  },
  {
   "cell_type": "code",
   "execution_count": 54,
   "metadata": {},
   "outputs": [],
   "source": [
    "get_data(bankrupt_CIK_list, 'bankrupt', '2012', '12', '30', 1)"
   ]
  },
  {
   "cell_type": "code",
   "execution_count": 55,
   "metadata": {},
   "outputs": [],
   "source": [
    "get_data(bankrupt_CIK_list, 'bankrupt', '2012', '12', '30', 2)"
   ]
  },
  {
   "cell_type": "code",
   "execution_count": 56,
   "metadata": {},
   "outputs": [],
   "source": [
    "get_data(bankrupt_CIK_list, 'bankrupt', '2013', '12', '30', 0)"
   ]
  },
  {
   "cell_type": "code",
   "execution_count": 57,
   "metadata": {},
   "outputs": [],
   "source": [
    "get_data(bankrupt_CIK_list, 'bankrupt', '2013', '12', '30', 1)"
   ]
  },
  {
   "cell_type": "code",
   "execution_count": 58,
   "metadata": {},
   "outputs": [],
   "source": [
    "get_data(bankrupt_CIK_list, 'bankrupt', '2013', '12', '30', 2)"
   ]
  },
  {
   "cell_type": "code",
   "execution_count": 59,
   "metadata": {},
   "outputs": [],
   "source": [
    "get_data(bankrupt_CIK_list, 'bankrupt', '2014', '12', '30', 0)"
   ]
  },
  {
   "cell_type": "code",
   "execution_count": 60,
   "metadata": {},
   "outputs": [],
   "source": [
    "get_data(bankrupt_CIK_list, 'bankrupt', '2014', '12', '30', 1)"
   ]
  },
  {
   "cell_type": "code",
   "execution_count": 61,
   "metadata": {},
   "outputs": [],
   "source": [
    "get_data(bankrupt_CIK_list, 'bankrupt', '2014', '12', '30', 2)"
   ]
  },
  {
   "cell_type": "code",
   "execution_count": 62,
   "metadata": {},
   "outputs": [],
   "source": [
    "get_data(bankrupt_CIK_list, 'bankrupt', '2015', '12', '30', 0)"
   ]
  },
  {
   "cell_type": "code",
   "execution_count": 63,
   "metadata": {},
   "outputs": [],
   "source": [
    "get_data(bankrupt_CIK_list, 'bankrupt', '2015', '12', '30', 1)"
   ]
  },
  {
   "cell_type": "code",
   "execution_count": 64,
   "metadata": {},
   "outputs": [],
   "source": [
    "get_data(bankrupt_CIK_list, 'bankrupt', '2015', '12', '30', 2)"
   ]
  },
  {
   "cell_type": "code",
   "execution_count": 65,
   "metadata": {},
   "outputs": [],
   "source": [
    "get_data(bankrupt_CIK_list, 'bankrupt', '2016', '12', '30', 0)"
   ]
  },
  {
   "cell_type": "code",
   "execution_count": 66,
   "metadata": {},
   "outputs": [],
   "source": [
    "get_data(bankrupt_CIK_list, 'bankrupt', '2016', '12', '30', 1)"
   ]
  },
  {
   "cell_type": "code",
   "execution_count": 67,
   "metadata": {},
   "outputs": [],
   "source": [
    "get_data(bankrupt_CIK_list, 'bankrupt', '2016', '12', '30', 2)"
   ]
  },
  {
   "cell_type": "code",
   "execution_count": 68,
   "metadata": {},
   "outputs": [],
   "source": [
    "get_data(bankrupt_CIK_list, 'bankrupt', '2017', '12', '30', 0)"
   ]
  },
  {
   "cell_type": "code",
   "execution_count": 69,
   "metadata": {},
   "outputs": [],
   "source": [
    "get_data(bankrupt_CIK_list, 'bankrupt', '2017', '12', '30', 1)"
   ]
  },
  {
   "cell_type": "code",
   "execution_count": 70,
   "metadata": {},
   "outputs": [],
   "source": [
    "get_data(bankrupt_CIK_list, 'bankrupt', '2017', '12', '30', 2)"
   ]
  },
  {
   "cell_type": "code",
   "execution_count": 71,
   "metadata": {},
   "outputs": [],
   "source": [
    "get_data(bankrupt_CIK_list, 'bankrupt', '2018', '12', '30', 0)"
   ]
  },
  {
   "cell_type": "code",
   "execution_count": 72,
   "metadata": {},
   "outputs": [],
   "source": [
    "get_data(bankrupt_CIK_list, 'bankrupt', '2018', '12', '30', 1)"
   ]
  },
  {
   "cell_type": "code",
   "execution_count": 73,
   "metadata": {},
   "outputs": [],
   "source": [
    "get_data(bankrupt_CIK_list, 'bankrupt', '2018', '12', '30', 2)"
   ]
  },
  {
   "cell_type": "code",
   "execution_count": 74,
   "metadata": {},
   "outputs": [],
   "source": [
    "get_data(bankrupt_CIK_list, 'bankrupt', '2019', '12', '30', 0)"
   ]
  },
  {
   "cell_type": "code",
   "execution_count": 75,
   "metadata": {},
   "outputs": [],
   "source": [
    "get_data(bankrupt_CIK_list, 'bankrupt', '2019', '12', '30', 1)"
   ]
  },
  {
   "cell_type": "code",
   "execution_count": 76,
   "metadata": {},
   "outputs": [],
   "source": [
    "get_data(bankrupt_CIK_list, 'bankrupt', '2019', '12', '30', 2)"
   ]
  },
  {
   "cell_type": "markdown",
   "metadata": {},
   "source": [
    "****"
   ]
  },
  {
   "cell_type": "code",
   "execution_count": 77,
   "metadata": {},
   "outputs": [],
   "source": [
    "get_data(healthy_CIK_list, 'healthy', '2000', '12', '30', 0)"
   ]
  },
  {
   "cell_type": "code",
   "execution_count": 78,
   "metadata": {},
   "outputs": [],
   "source": [
    "get_data(healthy_CIK_list, 'healthy', '2000', '12', '30', 1)"
   ]
  },
  {
   "cell_type": "code",
   "execution_count": 79,
   "metadata": {},
   "outputs": [],
   "source": [
    "get_data(healthy_CIK_list, 'healthy', '2000', '12', '30', 2)"
   ]
  },
  {
   "cell_type": "code",
   "execution_count": 80,
   "metadata": {},
   "outputs": [],
   "source": [
    "get_data(healthy_CIK_list, 'healthy', '2000', '12', '30', 3)"
   ]
  },
  {
   "cell_type": "code",
   "execution_count": 81,
   "metadata": {},
   "outputs": [],
   "source": [
    "get_data(healthy_CIK_list, 'healthy', '2000', '12', '30', 4)"
   ]
  },
  {
   "cell_type": "code",
   "execution_count": 82,
   "metadata": {},
   "outputs": [],
   "source": [
    "get_data(healthy_CIK_list, 'healthy', '2000', '12', '30', 5)"
   ]
  },
  {
   "cell_type": "code",
   "execution_count": 83,
   "metadata": {},
   "outputs": [],
   "source": [
    "get_data(healthy_CIK_list, 'healthy', '2000', '12', '30', 6)"
   ]
  },
  {
   "cell_type": "code",
   "execution_count": 84,
   "metadata": {},
   "outputs": [],
   "source": [
    "get_data(healthy_CIK_list, 'healthy', '2000', '12', '30', 7)"
   ]
  },
  {
   "cell_type": "code",
   "execution_count": 85,
   "metadata": {},
   "outputs": [],
   "source": [
    "get_data(healthy_CIK_list, 'healthy', '2000', '12', '30', 8)"
   ]
  },
  {
   "cell_type": "code",
   "execution_count": 86,
   "metadata": {},
   "outputs": [],
   "source": [
    "get_data(healthy_CIK_list, 'healthy', '2000', '12', '30', 9)"
   ]
  },
  {
   "cell_type": "code",
   "execution_count": 87,
   "metadata": {},
   "outputs": [],
   "source": [
    "get_data(healthy_CIK_list, 'healthy', '2000', '12', '30', 10)"
   ]
  },
  {
   "cell_type": "code",
   "execution_count": 88,
   "metadata": {},
   "outputs": [],
   "source": [
    "get_data(healthy_CIK_list, 'healthy', '2000', '12', '30', 11)"
   ]
  },
  {
   "cell_type": "code",
   "execution_count": 89,
   "metadata": {},
   "outputs": [],
   "source": [
    "get_data(healthy_CIK_list, 'healthy', '2000', '12', '30', 12)"
   ]
  },
  {
   "cell_type": "code",
   "execution_count": 90,
   "metadata": {},
   "outputs": [],
   "source": [
    "get_data(healthy_CIK_list, 'healthy', '2000', '12', '30', 13)"
   ]
  },
  {
   "cell_type": "code",
   "execution_count": 91,
   "metadata": {},
   "outputs": [],
   "source": [
    "get_data(healthy_CIK_list, 'healthy', '2000', '12', '30', 14)"
   ]
  },
  {
   "cell_type": "code",
   "execution_count": 92,
   "metadata": {},
   "outputs": [],
   "source": [
    "get_data(healthy_CIK_list, 'healthy', '2000', '12', '30', 15)"
   ]
  },
  {
   "cell_type": "code",
   "execution_count": 93,
   "metadata": {},
   "outputs": [],
   "source": [
    "get_data(healthy_CIK_list, 'healthy', '2000', '12', '30', 16)"
   ]
  },
  {
   "cell_type": "code",
   "execution_count": 94,
   "metadata": {},
   "outputs": [],
   "source": [
    "get_data(healthy_CIK_list, 'healthy', '2000', '12', '30', 17)"
   ]
  },
  {
   "cell_type": "code",
   "execution_count": 95,
   "metadata": {},
   "outputs": [],
   "source": [
    "get_data(healthy_CIK_list, 'healthy', '2000', '12', '30', 18)"
   ]
  },
  {
   "cell_type": "code",
   "execution_count": 96,
   "metadata": {},
   "outputs": [],
   "source": [
    "get_data(healthy_CIK_list, 'healthy', '2000', '12', '30', 19)"
   ]
  },
  {
   "cell_type": "code",
   "execution_count": 97,
   "metadata": {},
   "outputs": [],
   "source": [
    "get_data(healthy_CIK_list, 'healthy', '2000', '12', '30', 20)"
   ]
  },
  {
   "cell_type": "code",
   "execution_count": 98,
   "metadata": {},
   "outputs": [],
   "source": [
    "get_data(healthy_CIK_list, 'healthy', '2000', '12', '30', 21)"
   ]
  },
  {
   "cell_type": "code",
   "execution_count": 99,
   "metadata": {},
   "outputs": [],
   "source": [
    "get_data(healthy_CIK_list, 'healthy', '2000', '12', '30', 22)"
   ]
  },
  {
   "cell_type": "code",
   "execution_count": 100,
   "metadata": {},
   "outputs": [],
   "source": [
    "get_data(healthy_CIK_list, 'healthy', '2000', '12', '30', 23)"
   ]
  },
  {
   "cell_type": "code",
   "execution_count": 101,
   "metadata": {},
   "outputs": [],
   "source": [
    "get_data(healthy_CIK_list, 'healthy', '2000', '12', '30', 24)"
   ]
  },
  {
   "cell_type": "code",
   "execution_count": 102,
   "metadata": {},
   "outputs": [],
   "source": [
    "get_data(healthy_CIK_list, 'healthy', '2000', '12', '30', 25)"
   ]
  },
  {
   "cell_type": "code",
   "execution_count": 103,
   "metadata": {},
   "outputs": [],
   "source": [
    "get_data(healthy_CIK_list, 'healthy', '2000', '12', '30', 26)"
   ]
  },
  {
   "cell_type": "code",
   "execution_count": 104,
   "metadata": {},
   "outputs": [],
   "source": [
    "get_data(healthy_CIK_list, 'healthy', '2000', '12', '30', 27)"
   ]
  },
  {
   "cell_type": "code",
   "execution_count": 105,
   "metadata": {},
   "outputs": [],
   "source": [
    "get_data(healthy_CIK_list, 'healthy', '2000', '12', '30', 28)"
   ]
  },
  {
   "cell_type": "code",
   "execution_count": 106,
   "metadata": {},
   "outputs": [],
   "source": [
    "get_data(healthy_CIK_list, 'healthy', '2000', '12', '30', 29)"
   ]
  },
  {
   "cell_type": "code",
   "execution_count": null,
   "metadata": {},
   "outputs": [],
   "source": []
  },
  {
   "cell_type": "code",
   "execution_count": 107,
   "metadata": {},
   "outputs": [],
   "source": [
    "get_data(healthy_CIK_list, 'healthy', '2001', '12', '30', 0)"
   ]
  },
  {
   "cell_type": "code",
   "execution_count": 108,
   "metadata": {},
   "outputs": [],
   "source": [
    "get_data(healthy_CIK_list, 'healthy', '2001', '12', '30', 1)"
   ]
  },
  {
   "cell_type": "code",
   "execution_count": 109,
   "metadata": {},
   "outputs": [],
   "source": [
    "get_data(healthy_CIK_list, 'healthy', '2001', '12', '30', 2)"
   ]
  },
  {
   "cell_type": "code",
   "execution_count": 110,
   "metadata": {},
   "outputs": [],
   "source": [
    "get_data(healthy_CIK_list, 'healthy', '2001', '12', '30', 3)"
   ]
  },
  {
   "cell_type": "code",
   "execution_count": 111,
   "metadata": {},
   "outputs": [],
   "source": [
    "get_data(healthy_CIK_list, 'healthy', '2001', '12', '30', 4)"
   ]
  },
  {
   "cell_type": "code",
   "execution_count": 112,
   "metadata": {},
   "outputs": [],
   "source": [
    "get_data(healthy_CIK_list, 'healthy', '2001', '12', '30', 5)"
   ]
  },
  {
   "cell_type": "code",
   "execution_count": 113,
   "metadata": {},
   "outputs": [],
   "source": [
    "get_data(healthy_CIK_list, 'healthy', '2001', '12', '30', 6)"
   ]
  },
  {
   "cell_type": "code",
   "execution_count": 114,
   "metadata": {},
   "outputs": [],
   "source": [
    "get_data(healthy_CIK_list, 'healthy', '2001', '12', '30', 7)"
   ]
  },
  {
   "cell_type": "code",
   "execution_count": 115,
   "metadata": {},
   "outputs": [],
   "source": [
    "get_data(healthy_CIK_list, 'healthy', '2001', '12', '30', 8)"
   ]
  },
  {
   "cell_type": "code",
   "execution_count": 116,
   "metadata": {},
   "outputs": [],
   "source": [
    "get_data(healthy_CIK_list, 'healthy', '2001', '12', '30', 9)"
   ]
  },
  {
   "cell_type": "code",
   "execution_count": 117,
   "metadata": {},
   "outputs": [],
   "source": [
    "get_data(healthy_CIK_list, 'healthy', '2001', '12', '30', 10)"
   ]
  },
  {
   "cell_type": "code",
   "execution_count": 118,
   "metadata": {},
   "outputs": [],
   "source": [
    "get_data(healthy_CIK_list, 'healthy', '2001', '12', '30', 11)"
   ]
  },
  {
   "cell_type": "code",
   "execution_count": 119,
   "metadata": {},
   "outputs": [],
   "source": [
    "get_data(healthy_CIK_list, 'healthy', '2001', '12', '30', 12)"
   ]
  },
  {
   "cell_type": "code",
   "execution_count": 120,
   "metadata": {},
   "outputs": [],
   "source": [
    "get_data(healthy_CIK_list, 'healthy', '2001', '12', '30', 13)"
   ]
  },
  {
   "cell_type": "code",
   "execution_count": 121,
   "metadata": {},
   "outputs": [],
   "source": [
    "get_data(healthy_CIK_list, 'healthy', '2001', '12', '30', 14)"
   ]
  },
  {
   "cell_type": "code",
   "execution_count": 122,
   "metadata": {},
   "outputs": [],
   "source": [
    "get_data(healthy_CIK_list, 'healthy', '2001', '12', '30', 15)"
   ]
  },
  {
   "cell_type": "code",
   "execution_count": 123,
   "metadata": {},
   "outputs": [],
   "source": [
    "get_data(healthy_CIK_list, 'healthy', '2001', '12', '30', 16)"
   ]
  },
  {
   "cell_type": "code",
   "execution_count": 124,
   "metadata": {},
   "outputs": [],
   "source": [
    "get_data(healthy_CIK_list, 'healthy', '2001', '12', '30', 17)"
   ]
  },
  {
   "cell_type": "code",
   "execution_count": 125,
   "metadata": {},
   "outputs": [],
   "source": [
    "get_data(healthy_CIK_list, 'healthy', '2001', '12', '30', 18)"
   ]
  },
  {
   "cell_type": "code",
   "execution_count": 126,
   "metadata": {},
   "outputs": [],
   "source": [
    "get_data(healthy_CIK_list, 'healthy', '2001', '12', '30', 19)"
   ]
  },
  {
   "cell_type": "code",
   "execution_count": 127,
   "metadata": {},
   "outputs": [],
   "source": [
    "get_data(healthy_CIK_list, 'healthy', '2001', '12', '30', 20)"
   ]
  },
  {
   "cell_type": "code",
   "execution_count": 128,
   "metadata": {},
   "outputs": [],
   "source": [
    "get_data(healthy_CIK_list, 'healthy', '2001', '12', '30', 21)"
   ]
  },
  {
   "cell_type": "code",
   "execution_count": 129,
   "metadata": {},
   "outputs": [],
   "source": [
    "get_data(healthy_CIK_list, 'healthy', '2001', '12', '30', 22)"
   ]
  },
  {
   "cell_type": "code",
   "execution_count": 130,
   "metadata": {},
   "outputs": [],
   "source": [
    "get_data(healthy_CIK_list, 'healthy', '2001', '12', '30', 23)"
   ]
  },
  {
   "cell_type": "code",
   "execution_count": 131,
   "metadata": {},
   "outputs": [],
   "source": [
    "get_data(healthy_CIK_list, 'healthy', '2001', '12', '30', 24)"
   ]
  },
  {
   "cell_type": "code",
   "execution_count": 132,
   "metadata": {},
   "outputs": [],
   "source": [
    "get_data(healthy_CIK_list, 'healthy', '2001', '12', '30', 25)"
   ]
  },
  {
   "cell_type": "code",
   "execution_count": 133,
   "metadata": {},
   "outputs": [],
   "source": [
    "get_data(healthy_CIK_list, 'healthy', '2001', '12', '30', 26)"
   ]
  },
  {
   "cell_type": "code",
   "execution_count": 134,
   "metadata": {},
   "outputs": [],
   "source": [
    "get_data(healthy_CIK_list, 'healthy', '2001', '12', '30', 27)"
   ]
  },
  {
   "cell_type": "code",
   "execution_count": 135,
   "metadata": {},
   "outputs": [],
   "source": [
    "get_data(healthy_CIK_list, 'healthy', '2001', '12', '30', 28)"
   ]
  },
  {
   "cell_type": "code",
   "execution_count": 136,
   "metadata": {},
   "outputs": [],
   "source": [
    "get_data(healthy_CIK_list, 'healthy', '2001', '12', '30', 29)"
   ]
  },
  {
   "cell_type": "code",
   "execution_count": null,
   "metadata": {},
   "outputs": [],
   "source": []
  },
  {
   "cell_type": "code",
   "execution_count": 137,
   "metadata": {},
   "outputs": [],
   "source": [
    "get_data(healthy_CIK_list, 'healthy', '2002', '12', '30', 0)"
   ]
  },
  {
   "cell_type": "code",
   "execution_count": 138,
   "metadata": {},
   "outputs": [],
   "source": [
    "get_data(healthy_CIK_list, 'healthy', '2002', '12', '30', 1)"
   ]
  },
  {
   "cell_type": "code",
   "execution_count": 139,
   "metadata": {},
   "outputs": [],
   "source": [
    "get_data(healthy_CIK_list, 'healthy', '2002', '12', '30', 2)"
   ]
  },
  {
   "cell_type": "code",
   "execution_count": 140,
   "metadata": {},
   "outputs": [],
   "source": [
    "get_data(healthy_CIK_list, 'healthy', '2002', '12', '30', 3)"
   ]
  },
  {
   "cell_type": "code",
   "execution_count": 141,
   "metadata": {},
   "outputs": [],
   "source": [
    "get_data(healthy_CIK_list, 'healthy', '2002', '12', '30', 4)"
   ]
  },
  {
   "cell_type": "code",
   "execution_count": 142,
   "metadata": {},
   "outputs": [],
   "source": [
    "get_data(healthy_CIK_list, 'healthy', '2002', '12', '30', 5)"
   ]
  },
  {
   "cell_type": "code",
   "execution_count": 143,
   "metadata": {},
   "outputs": [],
   "source": [
    "get_data(healthy_CIK_list, 'healthy', '2002', '12', '30', 6)"
   ]
  },
  {
   "cell_type": "code",
   "execution_count": 144,
   "metadata": {},
   "outputs": [],
   "source": [
    "get_data(healthy_CIK_list, 'healthy', '2002', '12', '30', 7)"
   ]
  },
  {
   "cell_type": "code",
   "execution_count": 145,
   "metadata": {},
   "outputs": [],
   "source": [
    "get_data(healthy_CIK_list, 'healthy', '2002', '12', '30', 8)"
   ]
  },
  {
   "cell_type": "code",
   "execution_count": 146,
   "metadata": {},
   "outputs": [],
   "source": [
    "get_data(healthy_CIK_list, 'healthy', '2002', '12', '30', 9)"
   ]
  },
  {
   "cell_type": "code",
   "execution_count": 147,
   "metadata": {},
   "outputs": [],
   "source": [
    "get_data(healthy_CIK_list, 'healthy', '2002', '12', '30', 10)"
   ]
  },
  {
   "cell_type": "code",
   "execution_count": 148,
   "metadata": {},
   "outputs": [],
   "source": [
    "get_data(healthy_CIK_list, 'healthy', '2002', '12', '30', 11)"
   ]
  },
  {
   "cell_type": "code",
   "execution_count": 149,
   "metadata": {},
   "outputs": [],
   "source": [
    "get_data(healthy_CIK_list, 'healthy', '2002', '12', '30', 12)"
   ]
  },
  {
   "cell_type": "code",
   "execution_count": 150,
   "metadata": {},
   "outputs": [],
   "source": [
    "get_data(healthy_CIK_list, 'healthy', '2002', '12', '30', 13)"
   ]
  },
  {
   "cell_type": "code",
   "execution_count": 151,
   "metadata": {},
   "outputs": [],
   "source": [
    "get_data(healthy_CIK_list, 'healthy', '2002', '12', '30', 14)"
   ]
  },
  {
   "cell_type": "code",
   "execution_count": 152,
   "metadata": {},
   "outputs": [],
   "source": [
    "get_data(healthy_CIK_list, 'healthy', '2002', '12', '30', 15)"
   ]
  },
  {
   "cell_type": "code",
   "execution_count": 153,
   "metadata": {},
   "outputs": [],
   "source": [
    "get_data(healthy_CIK_list, 'healthy', '2002', '12', '30', 16)"
   ]
  },
  {
   "cell_type": "code",
   "execution_count": 154,
   "metadata": {},
   "outputs": [],
   "source": [
    "get_data(healthy_CIK_list, 'healthy', '2002', '12', '30', 17)"
   ]
  },
  {
   "cell_type": "code",
   "execution_count": 155,
   "metadata": {},
   "outputs": [],
   "source": [
    "get_data(healthy_CIK_list, 'healthy', '2002', '12', '30', 18)"
   ]
  },
  {
   "cell_type": "code",
   "execution_count": 156,
   "metadata": {},
   "outputs": [],
   "source": [
    "get_data(healthy_CIK_list, 'healthy', '2002', '12', '30', 19)"
   ]
  },
  {
   "cell_type": "code",
   "execution_count": 157,
   "metadata": {},
   "outputs": [],
   "source": [
    "get_data(healthy_CIK_list, 'healthy', '2002', '12', '30', 20)"
   ]
  },
  {
   "cell_type": "code",
   "execution_count": 158,
   "metadata": {},
   "outputs": [],
   "source": [
    "get_data(healthy_CIK_list, 'healthy', '2002', '12', '30', 21)"
   ]
  },
  {
   "cell_type": "code",
   "execution_count": 159,
   "metadata": {},
   "outputs": [],
   "source": [
    "get_data(healthy_CIK_list, 'healthy', '2002', '12', '30', 22)"
   ]
  },
  {
   "cell_type": "code",
   "execution_count": 160,
   "metadata": {},
   "outputs": [],
   "source": [
    "get_data(healthy_CIK_list, 'healthy', '2002', '12', '30', 23)"
   ]
  },
  {
   "cell_type": "code",
   "execution_count": 161,
   "metadata": {},
   "outputs": [],
   "source": [
    "get_data(healthy_CIK_list, 'healthy', '2002', '12', '30', 24)"
   ]
  },
  {
   "cell_type": "code",
   "execution_count": 162,
   "metadata": {},
   "outputs": [],
   "source": [
    "get_data(healthy_CIK_list, 'healthy', '2002', '12', '30', 25)"
   ]
  },
  {
   "cell_type": "code",
   "execution_count": 163,
   "metadata": {},
   "outputs": [],
   "source": [
    "get_data(healthy_CIK_list, 'healthy', '2002', '12', '30', 26)"
   ]
  },
  {
   "cell_type": "code",
   "execution_count": 164,
   "metadata": {},
   "outputs": [],
   "source": [
    "get_data(healthy_CIK_list, 'healthy', '2002', '12', '30', 27)"
   ]
  },
  {
   "cell_type": "code",
   "execution_count": 165,
   "metadata": {},
   "outputs": [],
   "source": [
    "get_data(healthy_CIK_list, 'healthy', '2002', '12', '30', 28)"
   ]
  },
  {
   "cell_type": "code",
   "execution_count": 166,
   "metadata": {},
   "outputs": [],
   "source": [
    "get_data(healthy_CIK_list, 'healthy', '2002', '12', '30', 29)"
   ]
  },
  {
   "cell_type": "code",
   "execution_count": null,
   "metadata": {},
   "outputs": [],
   "source": []
  },
  {
   "cell_type": "code",
   "execution_count": 167,
   "metadata": {},
   "outputs": [],
   "source": [
    "get_data(healthy_CIK_list, 'healthy', '2003', '12', '30', 0)"
   ]
  },
  {
   "cell_type": "code",
   "execution_count": 168,
   "metadata": {},
   "outputs": [],
   "source": [
    "get_data(healthy_CIK_list, 'healthy', '2003', '12', '30', 1)"
   ]
  },
  {
   "cell_type": "code",
   "execution_count": 169,
   "metadata": {},
   "outputs": [],
   "source": [
    "get_data(healthy_CIK_list, 'healthy', '2003', '12', '30', 2)"
   ]
  },
  {
   "cell_type": "code",
   "execution_count": 170,
   "metadata": {},
   "outputs": [],
   "source": [
    "get_data(healthy_CIK_list, 'healthy', '2003', '12', '30', 3)"
   ]
  },
  {
   "cell_type": "code",
   "execution_count": 171,
   "metadata": {},
   "outputs": [],
   "source": [
    "get_data(healthy_CIK_list, 'healthy', '2003', '12', '30', 4)"
   ]
  },
  {
   "cell_type": "code",
   "execution_count": 172,
   "metadata": {},
   "outputs": [],
   "source": [
    "get_data(healthy_CIK_list, 'healthy', '2003', '12', '30', 5)"
   ]
  },
  {
   "cell_type": "code",
   "execution_count": 173,
   "metadata": {},
   "outputs": [],
   "source": [
    "get_data(healthy_CIK_list, 'healthy', '2003', '12', '30', 6)"
   ]
  },
  {
   "cell_type": "code",
   "execution_count": 174,
   "metadata": {},
   "outputs": [],
   "source": [
    "get_data(healthy_CIK_list, 'healthy', '2003', '12', '30', 7)"
   ]
  },
  {
   "cell_type": "code",
   "execution_count": 175,
   "metadata": {},
   "outputs": [],
   "source": [
    "get_data(healthy_CIK_list, 'healthy', '2003', '12', '30', 8)"
   ]
  },
  {
   "cell_type": "code",
   "execution_count": 176,
   "metadata": {},
   "outputs": [],
   "source": [
    "get_data(healthy_CIK_list, 'healthy', '2003', '12', '30', 9)"
   ]
  },
  {
   "cell_type": "code",
   "execution_count": 177,
   "metadata": {},
   "outputs": [],
   "source": [
    "get_data(healthy_CIK_list, 'healthy', '2003', '12', '30', 10)"
   ]
  },
  {
   "cell_type": "code",
   "execution_count": 178,
   "metadata": {},
   "outputs": [],
   "source": [
    "get_data(healthy_CIK_list, 'healthy', '2003', '12', '30', 11)"
   ]
  },
  {
   "cell_type": "code",
   "execution_count": 179,
   "metadata": {},
   "outputs": [],
   "source": [
    "get_data(healthy_CIK_list, 'healthy', '2003', '12', '30', 12)"
   ]
  },
  {
   "cell_type": "code",
   "execution_count": 180,
   "metadata": {},
   "outputs": [],
   "source": [
    "get_data(healthy_CIK_list, 'healthy', '2003', '12', '30', 13)"
   ]
  },
  {
   "cell_type": "code",
   "execution_count": 181,
   "metadata": {},
   "outputs": [],
   "source": [
    "get_data(healthy_CIK_list, 'healthy', '2003', '12', '30', 14)"
   ]
  },
  {
   "cell_type": "code",
   "execution_count": 182,
   "metadata": {},
   "outputs": [],
   "source": [
    "get_data(healthy_CIK_list, 'healthy', '2003', '12', '30', 15)"
   ]
  },
  {
   "cell_type": "code",
   "execution_count": 183,
   "metadata": {},
   "outputs": [],
   "source": [
    "get_data(healthy_CIK_list, 'healthy', '2003', '12', '30', 16)"
   ]
  },
  {
   "cell_type": "code",
   "execution_count": 184,
   "metadata": {},
   "outputs": [],
   "source": [
    "get_data(healthy_CIK_list, 'healthy', '2003', '12', '30', 17)"
   ]
  },
  {
   "cell_type": "code",
   "execution_count": 185,
   "metadata": {},
   "outputs": [],
   "source": [
    "get_data(healthy_CIK_list, 'healthy', '2003', '12', '30', 18)"
   ]
  },
  {
   "cell_type": "code",
   "execution_count": 186,
   "metadata": {},
   "outputs": [],
   "source": [
    "get_data(healthy_CIK_list, 'healthy', '2003', '12', '30', 19)"
   ]
  },
  {
   "cell_type": "code",
   "execution_count": 187,
   "metadata": {},
   "outputs": [],
   "source": [
    "get_data(healthy_CIK_list, 'healthy', '2003', '12', '30', 20)"
   ]
  },
  {
   "cell_type": "code",
   "execution_count": 188,
   "metadata": {},
   "outputs": [],
   "source": [
    "get_data(healthy_CIK_list, 'healthy', '2003', '12', '30', 21)"
   ]
  },
  {
   "cell_type": "code",
   "execution_count": 189,
   "metadata": {},
   "outputs": [],
   "source": [
    "get_data(healthy_CIK_list, 'healthy', '2003', '12', '30', 22)"
   ]
  },
  {
   "cell_type": "code",
   "execution_count": 190,
   "metadata": {},
   "outputs": [],
   "source": [
    "get_data(healthy_CIK_list, 'healthy', '2003', '12', '30', 23)"
   ]
  },
  {
   "cell_type": "code",
   "execution_count": 191,
   "metadata": {},
   "outputs": [],
   "source": [
    "get_data(healthy_CIK_list, 'healthy', '2003', '12', '30', 24)"
   ]
  },
  {
   "cell_type": "code",
   "execution_count": 192,
   "metadata": {},
   "outputs": [],
   "source": [
    "get_data(healthy_CIK_list, 'healthy', '2003', '12', '30', 25)"
   ]
  },
  {
   "cell_type": "code",
   "execution_count": 193,
   "metadata": {},
   "outputs": [],
   "source": [
    "get_data(healthy_CIK_list, 'healthy', '2003', '12', '30', 26)"
   ]
  },
  {
   "cell_type": "code",
   "execution_count": 194,
   "metadata": {},
   "outputs": [],
   "source": [
    "get_data(healthy_CIK_list, 'healthy', '2003', '12', '30', 27)"
   ]
  },
  {
   "cell_type": "code",
   "execution_count": 195,
   "metadata": {},
   "outputs": [],
   "source": [
    "get_data(healthy_CIK_list, 'healthy', '2003', '12', '30', 28)"
   ]
  },
  {
   "cell_type": "code",
   "execution_count": 196,
   "metadata": {},
   "outputs": [],
   "source": [
    "get_data(healthy_CIK_list, 'healthy', '2003', '12', '30', 29)"
   ]
  },
  {
   "cell_type": "code",
   "execution_count": null,
   "metadata": {},
   "outputs": [],
   "source": []
  },
  {
   "cell_type": "code",
   "execution_count": 197,
   "metadata": {},
   "outputs": [],
   "source": [
    "get_data(healthy_CIK_list, 'healthy', '2004', '12', '30', 0)"
   ]
  },
  {
   "cell_type": "code",
   "execution_count": 198,
   "metadata": {},
   "outputs": [],
   "source": [
    "get_data(healthy_CIK_list, 'healthy', '2004', '12', '30', 1)"
   ]
  },
  {
   "cell_type": "code",
   "execution_count": 199,
   "metadata": {},
   "outputs": [],
   "source": [
    "get_data(healthy_CIK_list, 'healthy', '2004', '12', '30', 2)"
   ]
  },
  {
   "cell_type": "code",
   "execution_count": 200,
   "metadata": {},
   "outputs": [],
   "source": [
    "get_data(healthy_CIK_list, 'healthy', '2004', '12', '30', 3)"
   ]
  },
  {
   "cell_type": "code",
   "execution_count": 201,
   "metadata": {},
   "outputs": [],
   "source": [
    "get_data(healthy_CIK_list, 'healthy', '2004', '12', '30', 4)"
   ]
  },
  {
   "cell_type": "code",
   "execution_count": 202,
   "metadata": {},
   "outputs": [],
   "source": [
    "get_data(healthy_CIK_list, 'healthy', '2004', '12', '30', 5)"
   ]
  },
  {
   "cell_type": "code",
   "execution_count": 203,
   "metadata": {},
   "outputs": [],
   "source": [
    "get_data(healthy_CIK_list, 'healthy', '2004', '12', '30', 6)"
   ]
  },
  {
   "cell_type": "code",
   "execution_count": 204,
   "metadata": {},
   "outputs": [],
   "source": [
    "get_data(healthy_CIK_list, 'healthy', '2004', '12', '30', 7)"
   ]
  },
  {
   "cell_type": "code",
   "execution_count": 205,
   "metadata": {},
   "outputs": [],
   "source": [
    "get_data(healthy_CIK_list, 'healthy', '2004', '12', '30', 8)"
   ]
  },
  {
   "cell_type": "code",
   "execution_count": 206,
   "metadata": {},
   "outputs": [],
   "source": [
    "get_data(healthy_CIK_list, 'healthy', '2004', '12', '30', 9)"
   ]
  },
  {
   "cell_type": "code",
   "execution_count": 207,
   "metadata": {},
   "outputs": [],
   "source": [
    "get_data(healthy_CIK_list, 'healthy', '2004', '12', '30', 10)"
   ]
  },
  {
   "cell_type": "code",
   "execution_count": 208,
   "metadata": {},
   "outputs": [],
   "source": [
    "get_data(healthy_CIK_list, 'healthy', '2004', '12', '30', 11)"
   ]
  },
  {
   "cell_type": "code",
   "execution_count": 209,
   "metadata": {},
   "outputs": [],
   "source": [
    "get_data(healthy_CIK_list, 'healthy', '2004', '12', '30', 12)"
   ]
  },
  {
   "cell_type": "code",
   "execution_count": 210,
   "metadata": {},
   "outputs": [],
   "source": [
    "get_data(healthy_CIK_list, 'healthy', '2004', '12', '30', 13)"
   ]
  },
  {
   "cell_type": "code",
   "execution_count": 211,
   "metadata": {},
   "outputs": [],
   "source": [
    "get_data(healthy_CIK_list, 'healthy', '2004', '12', '30', 14)"
   ]
  },
  {
   "cell_type": "code",
   "execution_count": 212,
   "metadata": {},
   "outputs": [],
   "source": [
    "get_data(healthy_CIK_list, 'healthy', '2004', '12', '30', 15)"
   ]
  },
  {
   "cell_type": "code",
   "execution_count": 213,
   "metadata": {},
   "outputs": [],
   "source": [
    "get_data(healthy_CIK_list, 'healthy', '2004', '12', '30', 16)"
   ]
  },
  {
   "cell_type": "code",
   "execution_count": 214,
   "metadata": {},
   "outputs": [],
   "source": [
    "get_data(healthy_CIK_list, 'healthy', '2004', '12', '30', 17)"
   ]
  },
  {
   "cell_type": "code",
   "execution_count": 215,
   "metadata": {},
   "outputs": [],
   "source": [
    "get_data(healthy_CIK_list, 'healthy', '2004', '12', '30', 18)"
   ]
  },
  {
   "cell_type": "code",
   "execution_count": 216,
   "metadata": {},
   "outputs": [],
   "source": [
    "get_data(healthy_CIK_list, 'healthy', '2004', '12', '30', 19)"
   ]
  },
  {
   "cell_type": "code",
   "execution_count": 217,
   "metadata": {},
   "outputs": [],
   "source": [
    "get_data(healthy_CIK_list, 'healthy', '2004', '12', '30', 20)"
   ]
  },
  {
   "cell_type": "code",
   "execution_count": 218,
   "metadata": {},
   "outputs": [],
   "source": [
    "get_data(healthy_CIK_list, 'healthy', '2004', '12', '30', 21)"
   ]
  },
  {
   "cell_type": "code",
   "execution_count": 219,
   "metadata": {},
   "outputs": [],
   "source": [
    "get_data(healthy_CIK_list, 'healthy', '2004', '12', '30', 22)"
   ]
  },
  {
   "cell_type": "code",
   "execution_count": 220,
   "metadata": {},
   "outputs": [],
   "source": [
    "get_data(healthy_CIK_list, 'healthy', '2004', '12', '30', 23)"
   ]
  },
  {
   "cell_type": "code",
   "execution_count": 221,
   "metadata": {},
   "outputs": [],
   "source": [
    "get_data(healthy_CIK_list, 'healthy', '2004', '12', '30', 24)"
   ]
  },
  {
   "cell_type": "code",
   "execution_count": 222,
   "metadata": {},
   "outputs": [],
   "source": [
    "get_data(healthy_CIK_list, 'healthy', '2004', '12', '30', 25)"
   ]
  },
  {
   "cell_type": "code",
   "execution_count": 223,
   "metadata": {},
   "outputs": [],
   "source": [
    "get_data(healthy_CIK_list, 'healthy', '2004', '12', '30', 26)"
   ]
  },
  {
   "cell_type": "code",
   "execution_count": 224,
   "metadata": {},
   "outputs": [],
   "source": [
    "get_data(healthy_CIK_list, 'healthy', '2004', '12', '30', 27)"
   ]
  },
  {
   "cell_type": "code",
   "execution_count": 225,
   "metadata": {},
   "outputs": [],
   "source": [
    "get_data(healthy_CIK_list, 'healthy', '2004', '12', '30', 28)"
   ]
  },
  {
   "cell_type": "code",
   "execution_count": 226,
   "metadata": {},
   "outputs": [],
   "source": [
    "get_data(healthy_CIK_list, 'healthy', '2004', '12', '30', 29)"
   ]
  },
  {
   "cell_type": "code",
   "execution_count": null,
   "metadata": {},
   "outputs": [],
   "source": []
  },
  {
   "cell_type": "code",
   "execution_count": 227,
   "metadata": {},
   "outputs": [],
   "source": [
    "get_data(healthy_CIK_list, 'healthy', '2005', '12', '30', 0)"
   ]
  },
  {
   "cell_type": "code",
   "execution_count": 228,
   "metadata": {},
   "outputs": [],
   "source": [
    "get_data(healthy_CIK_list, 'healthy', '2005', '12', '30', 1)"
   ]
  },
  {
   "cell_type": "code",
   "execution_count": 229,
   "metadata": {},
   "outputs": [],
   "source": [
    "get_data(healthy_CIK_list, 'healthy', '2005', '12', '30', 2)"
   ]
  },
  {
   "cell_type": "code",
   "execution_count": 230,
   "metadata": {},
   "outputs": [],
   "source": [
    "get_data(healthy_CIK_list, 'healthy', '2005', '12', '30', 3)"
   ]
  },
  {
   "cell_type": "code",
   "execution_count": 231,
   "metadata": {},
   "outputs": [],
   "source": [
    "get_data(healthy_CIK_list, 'healthy', '2005', '12', '30', 4)"
   ]
  },
  {
   "cell_type": "code",
   "execution_count": 232,
   "metadata": {},
   "outputs": [],
   "source": [
    "get_data(healthy_CIK_list, 'healthy', '2005', '12', '30', 5)"
   ]
  },
  {
   "cell_type": "code",
   "execution_count": 233,
   "metadata": {},
   "outputs": [],
   "source": [
    "get_data(healthy_CIK_list, 'healthy', '2005', '12', '30', 6)"
   ]
  },
  {
   "cell_type": "code",
   "execution_count": 234,
   "metadata": {},
   "outputs": [],
   "source": [
    "get_data(healthy_CIK_list, 'healthy', '2005', '12', '30', 7)"
   ]
  },
  {
   "cell_type": "code",
   "execution_count": 235,
   "metadata": {},
   "outputs": [],
   "source": [
    "get_data(healthy_CIK_list, 'healthy', '2005', '12', '30', 8)"
   ]
  },
  {
   "cell_type": "code",
   "execution_count": 236,
   "metadata": {},
   "outputs": [],
   "source": [
    "get_data(healthy_CIK_list, 'healthy', '2005', '12', '30', 9)"
   ]
  },
  {
   "cell_type": "code",
   "execution_count": 237,
   "metadata": {},
   "outputs": [],
   "source": [
    "get_data(healthy_CIK_list, 'healthy', '2005', '12', '30', 10)"
   ]
  },
  {
   "cell_type": "code",
   "execution_count": 238,
   "metadata": {},
   "outputs": [],
   "source": [
    "get_data(healthy_CIK_list, 'healthy', '2005', '12', '30', 11)"
   ]
  },
  {
   "cell_type": "code",
   "execution_count": 239,
   "metadata": {},
   "outputs": [],
   "source": [
    "get_data(healthy_CIK_list, 'healthy', '2005', '12', '30', 12)"
   ]
  },
  {
   "cell_type": "code",
   "execution_count": 240,
   "metadata": {},
   "outputs": [],
   "source": [
    "get_data(healthy_CIK_list, 'healthy', '2005', '12', '30', 13)"
   ]
  },
  {
   "cell_type": "code",
   "execution_count": 241,
   "metadata": {},
   "outputs": [],
   "source": [
    "get_data(healthy_CIK_list, 'healthy', '2005', '12', '30', 14)"
   ]
  },
  {
   "cell_type": "code",
   "execution_count": 242,
   "metadata": {},
   "outputs": [],
   "source": [
    "get_data(healthy_CIK_list, 'healthy', '2005', '12', '30', 15)"
   ]
  },
  {
   "cell_type": "code",
   "execution_count": 243,
   "metadata": {},
   "outputs": [],
   "source": [
    "get_data(healthy_CIK_list, 'healthy', '2005', '12', '30', 16)"
   ]
  },
  {
   "cell_type": "code",
   "execution_count": 244,
   "metadata": {},
   "outputs": [],
   "source": [
    "get_data(healthy_CIK_list, 'healthy', '2005', '12', '30', 17)"
   ]
  },
  {
   "cell_type": "code",
   "execution_count": 245,
   "metadata": {},
   "outputs": [],
   "source": [
    "get_data(healthy_CIK_list, 'healthy', '2005', '12', '30', 18)"
   ]
  },
  {
   "cell_type": "code",
   "execution_count": 246,
   "metadata": {},
   "outputs": [],
   "source": [
    "get_data(healthy_CIK_list, 'healthy', '2005', '12', '30', 19)"
   ]
  },
  {
   "cell_type": "code",
   "execution_count": 247,
   "metadata": {},
   "outputs": [],
   "source": [
    "get_data(healthy_CIK_list, 'healthy', '2005', '12', '30', 20)"
   ]
  },
  {
   "cell_type": "code",
   "execution_count": 248,
   "metadata": {},
   "outputs": [],
   "source": [
    "get_data(healthy_CIK_list, 'healthy', '2005', '12', '30', 21)"
   ]
  },
  {
   "cell_type": "code",
   "execution_count": 249,
   "metadata": {},
   "outputs": [],
   "source": [
    "get_data(healthy_CIK_list, 'healthy', '2005', '12', '30', 22)"
   ]
  },
  {
   "cell_type": "code",
   "execution_count": 250,
   "metadata": {},
   "outputs": [],
   "source": [
    "get_data(healthy_CIK_list, 'healthy', '2005', '12', '30', 23)"
   ]
  },
  {
   "cell_type": "code",
   "execution_count": 251,
   "metadata": {},
   "outputs": [],
   "source": [
    "get_data(healthy_CIK_list, 'healthy', '2005', '12', '30', 24)"
   ]
  },
  {
   "cell_type": "code",
   "execution_count": 252,
   "metadata": {},
   "outputs": [],
   "source": [
    "get_data(healthy_CIK_list, 'healthy', '2005', '12', '30', 25)"
   ]
  },
  {
   "cell_type": "code",
   "execution_count": 253,
   "metadata": {},
   "outputs": [],
   "source": [
    "get_data(healthy_CIK_list, 'healthy', '2005', '12', '30', 26)"
   ]
  },
  {
   "cell_type": "code",
   "execution_count": 254,
   "metadata": {},
   "outputs": [],
   "source": [
    "get_data(healthy_CIK_list, 'healthy', '2005', '12', '30', 27)"
   ]
  },
  {
   "cell_type": "code",
   "execution_count": 255,
   "metadata": {},
   "outputs": [],
   "source": [
    "get_data(healthy_CIK_list, 'healthy', '2005', '12', '30', 28)"
   ]
  },
  {
   "cell_type": "code",
   "execution_count": 256,
   "metadata": {},
   "outputs": [],
   "source": [
    "get_data(healthy_CIK_list, 'healthy', '2005', '12', '30', 29)"
   ]
  },
  {
   "cell_type": "code",
   "execution_count": null,
   "metadata": {},
   "outputs": [],
   "source": []
  },
  {
   "cell_type": "code",
   "execution_count": 257,
   "metadata": {},
   "outputs": [],
   "source": [
    "get_data(healthy_CIK_list, 'healthy', '2006', '12', '30', 0)"
   ]
  },
  {
   "cell_type": "code",
   "execution_count": 258,
   "metadata": {},
   "outputs": [],
   "source": [
    "get_data(healthy_CIK_list, 'healthy', '2006', '12', '30', 1)"
   ]
  },
  {
   "cell_type": "code",
   "execution_count": 259,
   "metadata": {},
   "outputs": [],
   "source": [
    "get_data(healthy_CIK_list, 'healthy', '2006', '12', '30', 2)"
   ]
  },
  {
   "cell_type": "code",
   "execution_count": 260,
   "metadata": {},
   "outputs": [],
   "source": [
    "get_data(healthy_CIK_list, 'healthy', '2006', '12', '30', 3)"
   ]
  },
  {
   "cell_type": "code",
   "execution_count": 261,
   "metadata": {},
   "outputs": [],
   "source": [
    "get_data(healthy_CIK_list, 'healthy', '2006', '12', '30', 4)"
   ]
  },
  {
   "cell_type": "code",
   "execution_count": 262,
   "metadata": {},
   "outputs": [],
   "source": [
    "get_data(healthy_CIK_list, 'healthy', '2006', '12', '30', 5)"
   ]
  },
  {
   "cell_type": "code",
   "execution_count": 263,
   "metadata": {},
   "outputs": [],
   "source": [
    "get_data(healthy_CIK_list, 'healthy', '2006', '12', '30', 6)"
   ]
  },
  {
   "cell_type": "code",
   "execution_count": 264,
   "metadata": {},
   "outputs": [],
   "source": [
    "get_data(healthy_CIK_list, 'healthy', '2006', '12', '30', 7)"
   ]
  },
  {
   "cell_type": "code",
   "execution_count": 265,
   "metadata": {},
   "outputs": [],
   "source": [
    "get_data(healthy_CIK_list, 'healthy', '2006', '12', '30', 8)"
   ]
  },
  {
   "cell_type": "code",
   "execution_count": 266,
   "metadata": {},
   "outputs": [],
   "source": [
    "get_data(healthy_CIK_list, 'healthy', '2006', '12', '30', 9)"
   ]
  },
  {
   "cell_type": "code",
   "execution_count": 267,
   "metadata": {},
   "outputs": [],
   "source": [
    "get_data(healthy_CIK_list, 'healthy', '2006', '12', '30', 10)"
   ]
  },
  {
   "cell_type": "code",
   "execution_count": 268,
   "metadata": {},
   "outputs": [],
   "source": [
    "get_data(healthy_CIK_list, 'healthy', '2006', '12', '30', 11)"
   ]
  },
  {
   "cell_type": "code",
   "execution_count": 269,
   "metadata": {},
   "outputs": [],
   "source": [
    "get_data(healthy_CIK_list, 'healthy', '2006', '12', '30', 12)"
   ]
  },
  {
   "cell_type": "code",
   "execution_count": 270,
   "metadata": {},
   "outputs": [],
   "source": [
    "get_data(healthy_CIK_list, 'healthy', '2006', '12', '30', 13)"
   ]
  },
  {
   "cell_type": "code",
   "execution_count": 271,
   "metadata": {},
   "outputs": [],
   "source": [
    "get_data(healthy_CIK_list, 'healthy', '2006', '12', '30', 14)"
   ]
  },
  {
   "cell_type": "code",
   "execution_count": 272,
   "metadata": {},
   "outputs": [],
   "source": [
    "get_data(healthy_CIK_list, 'healthy', '2006', '12', '30', 15)"
   ]
  },
  {
   "cell_type": "code",
   "execution_count": 273,
   "metadata": {},
   "outputs": [],
   "source": [
    "get_data(healthy_CIK_list, 'healthy', '2006', '12', '30', 16)"
   ]
  },
  {
   "cell_type": "code",
   "execution_count": 274,
   "metadata": {},
   "outputs": [],
   "source": [
    "get_data(healthy_CIK_list, 'healthy', '2006', '12', '30', 17)"
   ]
  },
  {
   "cell_type": "code",
   "execution_count": 275,
   "metadata": {},
   "outputs": [],
   "source": [
    "get_data(healthy_CIK_list, 'healthy', '2006', '12', '30', 18)"
   ]
  },
  {
   "cell_type": "code",
   "execution_count": 276,
   "metadata": {},
   "outputs": [],
   "source": [
    "get_data(healthy_CIK_list, 'healthy', '2006', '12', '30', 19)"
   ]
  },
  {
   "cell_type": "code",
   "execution_count": 277,
   "metadata": {},
   "outputs": [],
   "source": [
    "get_data(healthy_CIK_list, 'healthy', '2006', '12', '30', 20)"
   ]
  },
  {
   "cell_type": "code",
   "execution_count": 278,
   "metadata": {},
   "outputs": [],
   "source": [
    "get_data(healthy_CIK_list, 'healthy', '2006', '12', '30', 21)"
   ]
  },
  {
   "cell_type": "code",
   "execution_count": 279,
   "metadata": {},
   "outputs": [],
   "source": [
    "get_data(healthy_CIK_list, 'healthy', '2006', '12', '30', 22)"
   ]
  },
  {
   "cell_type": "code",
   "execution_count": 280,
   "metadata": {},
   "outputs": [],
   "source": [
    "get_data(healthy_CIK_list, 'healthy', '2006', '12', '30', 23)"
   ]
  },
  {
   "cell_type": "code",
   "execution_count": 281,
   "metadata": {},
   "outputs": [],
   "source": [
    "get_data(healthy_CIK_list, 'healthy', '2006', '12', '30', 24)"
   ]
  },
  {
   "cell_type": "code",
   "execution_count": 282,
   "metadata": {},
   "outputs": [],
   "source": [
    "get_data(healthy_CIK_list, 'healthy', '2006', '12', '30', 25)"
   ]
  },
  {
   "cell_type": "code",
   "execution_count": 283,
   "metadata": {},
   "outputs": [],
   "source": [
    "get_data(healthy_CIK_list, 'healthy', '2006', '12', '30', 26)"
   ]
  },
  {
   "cell_type": "code",
   "execution_count": 284,
   "metadata": {},
   "outputs": [],
   "source": [
    "get_data(healthy_CIK_list, 'healthy', '2006', '12', '30', 27)"
   ]
  },
  {
   "cell_type": "code",
   "execution_count": 285,
   "metadata": {},
   "outputs": [],
   "source": [
    "get_data(healthy_CIK_list, 'healthy', '2006', '12', '30', 28)"
   ]
  },
  {
   "cell_type": "code",
   "execution_count": 286,
   "metadata": {},
   "outputs": [],
   "source": [
    "get_data(healthy_CIK_list, 'healthy', '2006', '12', '30', 29)"
   ]
  },
  {
   "cell_type": "code",
   "execution_count": null,
   "metadata": {},
   "outputs": [],
   "source": []
  },
  {
   "cell_type": "code",
   "execution_count": 287,
   "metadata": {},
   "outputs": [],
   "source": [
    "get_data(healthy_CIK_list, 'healthy', '2007', '12', '30', 0)"
   ]
  },
  {
   "cell_type": "code",
   "execution_count": 288,
   "metadata": {},
   "outputs": [],
   "source": [
    "get_data(healthy_CIK_list, 'healthy', '2007', '12', '30', 1)"
   ]
  },
  {
   "cell_type": "code",
   "execution_count": 289,
   "metadata": {},
   "outputs": [],
   "source": [
    "get_data(healthy_CIK_list, 'healthy', '2007', '12', '30', 2)"
   ]
  },
  {
   "cell_type": "code",
   "execution_count": 290,
   "metadata": {},
   "outputs": [],
   "source": [
    "get_data(healthy_CIK_list, 'healthy', '2007', '12', '30', 3)"
   ]
  },
  {
   "cell_type": "code",
   "execution_count": 291,
   "metadata": {},
   "outputs": [],
   "source": [
    "get_data(healthy_CIK_list, 'healthy', '2007', '12', '30', 4)"
   ]
  },
  {
   "cell_type": "code",
   "execution_count": 292,
   "metadata": {},
   "outputs": [],
   "source": [
    "get_data(healthy_CIK_list, 'healthy', '2007', '12', '30', 5)"
   ]
  },
  {
   "cell_type": "code",
   "execution_count": 293,
   "metadata": {},
   "outputs": [],
   "source": [
    "get_data(healthy_CIK_list, 'healthy', '2007', '12', '30', 6)"
   ]
  },
  {
   "cell_type": "code",
   "execution_count": 294,
   "metadata": {},
   "outputs": [],
   "source": [
    "get_data(healthy_CIK_list, 'healthy', '2007', '12', '30', 7)"
   ]
  },
  {
   "cell_type": "code",
   "execution_count": 295,
   "metadata": {},
   "outputs": [],
   "source": [
    "get_data(healthy_CIK_list, 'healthy', '2007', '12', '30', 8)"
   ]
  },
  {
   "cell_type": "code",
   "execution_count": 296,
   "metadata": {},
   "outputs": [],
   "source": [
    "get_data(healthy_CIK_list, 'healthy', '2007', '12', '30', 9)"
   ]
  },
  {
   "cell_type": "code",
   "execution_count": 297,
   "metadata": {},
   "outputs": [],
   "source": [
    "get_data(healthy_CIK_list, 'healthy', '2007', '12', '30', 10)"
   ]
  },
  {
   "cell_type": "code",
   "execution_count": 298,
   "metadata": {},
   "outputs": [],
   "source": [
    "get_data(healthy_CIK_list, 'healthy', '2007', '12', '30', 11)"
   ]
  },
  {
   "cell_type": "code",
   "execution_count": 299,
   "metadata": {},
   "outputs": [],
   "source": [
    "get_data(healthy_CIK_list, 'healthy', '2007', '12', '30', 12)"
   ]
  },
  {
   "cell_type": "code",
   "execution_count": 300,
   "metadata": {},
   "outputs": [],
   "source": [
    "get_data(healthy_CIK_list, 'healthy', '2007', '12', '30', 13)"
   ]
  },
  {
   "cell_type": "code",
   "execution_count": 301,
   "metadata": {},
   "outputs": [],
   "source": [
    "get_data(healthy_CIK_list, 'healthy', '2007', '12', '30', 14)"
   ]
  },
  {
   "cell_type": "code",
   "execution_count": 302,
   "metadata": {},
   "outputs": [],
   "source": [
    "get_data(healthy_CIK_list, 'healthy', '2007', '12', '30', 15)"
   ]
  },
  {
   "cell_type": "code",
   "execution_count": 303,
   "metadata": {},
   "outputs": [],
   "source": [
    "get_data(healthy_CIK_list, 'healthy', '2007', '12', '30', 16)"
   ]
  },
  {
   "cell_type": "code",
   "execution_count": 304,
   "metadata": {},
   "outputs": [],
   "source": [
    "get_data(healthy_CIK_list, 'healthy', '2007', '12', '30', 17)"
   ]
  },
  {
   "cell_type": "code",
   "execution_count": 305,
   "metadata": {},
   "outputs": [],
   "source": [
    "get_data(healthy_CIK_list, 'healthy', '2007', '12', '30', 18)"
   ]
  },
  {
   "cell_type": "code",
   "execution_count": 306,
   "metadata": {},
   "outputs": [],
   "source": [
    "get_data(healthy_CIK_list, 'healthy', '2007', '12', '30', 19)"
   ]
  },
  {
   "cell_type": "code",
   "execution_count": 307,
   "metadata": {},
   "outputs": [],
   "source": [
    "get_data(healthy_CIK_list, 'healthy', '2007', '12', '30', 20)"
   ]
  },
  {
   "cell_type": "code",
   "execution_count": 308,
   "metadata": {},
   "outputs": [],
   "source": [
    "get_data(healthy_CIK_list, 'healthy', '2007', '12', '30', 21)"
   ]
  },
  {
   "cell_type": "code",
   "execution_count": 309,
   "metadata": {},
   "outputs": [],
   "source": [
    "get_data(healthy_CIK_list, 'healthy', '2007', '12', '30', 22)"
   ]
  },
  {
   "cell_type": "code",
   "execution_count": 310,
   "metadata": {},
   "outputs": [],
   "source": [
    "get_data(healthy_CIK_list, 'healthy', '2007', '12', '30', 23)"
   ]
  },
  {
   "cell_type": "code",
   "execution_count": 311,
   "metadata": {},
   "outputs": [],
   "source": [
    "get_data(healthy_CIK_list, 'healthy', '2007', '12', '30', 24)"
   ]
  },
  {
   "cell_type": "code",
   "execution_count": 312,
   "metadata": {},
   "outputs": [],
   "source": [
    "get_data(healthy_CIK_list, 'healthy', '2007', '12', '30', 25)"
   ]
  },
  {
   "cell_type": "code",
   "execution_count": 313,
   "metadata": {},
   "outputs": [],
   "source": [
    "get_data(healthy_CIK_list, 'healthy', '2007', '12', '30', 26)"
   ]
  },
  {
   "cell_type": "code",
   "execution_count": 314,
   "metadata": {},
   "outputs": [],
   "source": [
    "get_data(healthy_CIK_list, 'healthy', '2007', '12', '30', 27)"
   ]
  },
  {
   "cell_type": "code",
   "execution_count": 315,
   "metadata": {},
   "outputs": [],
   "source": [
    "get_data(healthy_CIK_list, 'healthy', '2007', '12', '30', 28)"
   ]
  },
  {
   "cell_type": "code",
   "execution_count": 316,
   "metadata": {},
   "outputs": [],
   "source": [
    "get_data(healthy_CIK_list, 'healthy', '2007', '12', '30', 29)"
   ]
  },
  {
   "cell_type": "code",
   "execution_count": null,
   "metadata": {},
   "outputs": [],
   "source": []
  },
  {
   "cell_type": "code",
   "execution_count": 317,
   "metadata": {},
   "outputs": [],
   "source": [
    "get_data(healthy_CIK_list, 'healthy', '2008', '12', '30', 0)"
   ]
  },
  {
   "cell_type": "code",
   "execution_count": 318,
   "metadata": {},
   "outputs": [],
   "source": [
    "get_data(healthy_CIK_list, 'healthy', '2008', '12', '30', 1)"
   ]
  },
  {
   "cell_type": "code",
   "execution_count": 319,
   "metadata": {},
   "outputs": [],
   "source": [
    "get_data(healthy_CIK_list, 'healthy', '2008', '12', '30', 2)"
   ]
  },
  {
   "cell_type": "code",
   "execution_count": 320,
   "metadata": {},
   "outputs": [],
   "source": [
    "get_data(healthy_CIK_list, 'healthy', '2008', '12', '30', 3)"
   ]
  },
  {
   "cell_type": "code",
   "execution_count": 321,
   "metadata": {},
   "outputs": [],
   "source": [
    "get_data(healthy_CIK_list, 'healthy', '2008', '12', '30', 4)"
   ]
  },
  {
   "cell_type": "code",
   "execution_count": 322,
   "metadata": {},
   "outputs": [],
   "source": [
    "get_data(healthy_CIK_list, 'healthy', '2008', '12', '30', 5)"
   ]
  },
  {
   "cell_type": "code",
   "execution_count": 323,
   "metadata": {},
   "outputs": [],
   "source": [
    "get_data(healthy_CIK_list, 'healthy', '2008', '12', '30', 6)"
   ]
  },
  {
   "cell_type": "code",
   "execution_count": 324,
   "metadata": {},
   "outputs": [],
   "source": [
    "get_data(healthy_CIK_list, 'healthy', '2008', '12', '30', 7)"
   ]
  },
  {
   "cell_type": "code",
   "execution_count": 325,
   "metadata": {},
   "outputs": [],
   "source": [
    "get_data(healthy_CIK_list, 'healthy', '2008', '12', '30', 8)"
   ]
  },
  {
   "cell_type": "code",
   "execution_count": 326,
   "metadata": {},
   "outputs": [],
   "source": [
    "get_data(healthy_CIK_list, 'healthy', '2008', '12', '30', 9)"
   ]
  },
  {
   "cell_type": "code",
   "execution_count": 327,
   "metadata": {},
   "outputs": [],
   "source": [
    "get_data(healthy_CIK_list, 'healthy', '2008', '12', '30', 10)"
   ]
  },
  {
   "cell_type": "code",
   "execution_count": 328,
   "metadata": {},
   "outputs": [],
   "source": [
    "get_data(healthy_CIK_list, 'healthy', '2008', '12', '30', 11)"
   ]
  },
  {
   "cell_type": "code",
   "execution_count": 329,
   "metadata": {},
   "outputs": [],
   "source": [
    "get_data(healthy_CIK_list, 'healthy', '2008', '12', '30', 12)"
   ]
  },
  {
   "cell_type": "code",
   "execution_count": 330,
   "metadata": {},
   "outputs": [],
   "source": [
    "get_data(healthy_CIK_list, 'healthy', '2008', '12', '30', 13)"
   ]
  },
  {
   "cell_type": "code",
   "execution_count": 331,
   "metadata": {},
   "outputs": [],
   "source": [
    "get_data(healthy_CIK_list, 'healthy', '2008', '12', '30', 14)"
   ]
  },
  {
   "cell_type": "code",
   "execution_count": 332,
   "metadata": {},
   "outputs": [],
   "source": [
    "get_data(healthy_CIK_list, 'healthy', '2008', '12', '30', 15)"
   ]
  },
  {
   "cell_type": "code",
   "execution_count": 333,
   "metadata": {},
   "outputs": [],
   "source": [
    "get_data(healthy_CIK_list, 'healthy', '2008', '12', '30', 16)"
   ]
  },
  {
   "cell_type": "code",
   "execution_count": 334,
   "metadata": {},
   "outputs": [],
   "source": [
    "get_data(healthy_CIK_list, 'healthy', '2008', '12', '30', 17)"
   ]
  },
  {
   "cell_type": "code",
   "execution_count": 335,
   "metadata": {},
   "outputs": [],
   "source": [
    "get_data(healthy_CIK_list, 'healthy', '2008', '12', '30', 18)"
   ]
  },
  {
   "cell_type": "code",
   "execution_count": 336,
   "metadata": {},
   "outputs": [],
   "source": [
    "get_data(healthy_CIK_list, 'healthy', '2008', '12', '30', 19)"
   ]
  },
  {
   "cell_type": "code",
   "execution_count": 337,
   "metadata": {},
   "outputs": [],
   "source": [
    "get_data(healthy_CIK_list, 'healthy', '2008', '12', '30', 20)"
   ]
  },
  {
   "cell_type": "code",
   "execution_count": 338,
   "metadata": {},
   "outputs": [],
   "source": [
    "get_data(healthy_CIK_list, 'healthy', '2008', '12', '30', 21)"
   ]
  },
  {
   "cell_type": "code",
   "execution_count": 339,
   "metadata": {},
   "outputs": [],
   "source": [
    "get_data(healthy_CIK_list, 'healthy', '2008', '12', '30', 22)"
   ]
  },
  {
   "cell_type": "code",
   "execution_count": 340,
   "metadata": {},
   "outputs": [],
   "source": [
    "get_data(healthy_CIK_list, 'healthy', '2008', '12', '30', 23)"
   ]
  },
  {
   "cell_type": "code",
   "execution_count": 341,
   "metadata": {},
   "outputs": [],
   "source": [
    "get_data(healthy_CIK_list, 'healthy', '2008', '12', '30', 24)"
   ]
  },
  {
   "cell_type": "code",
   "execution_count": 342,
   "metadata": {},
   "outputs": [],
   "source": [
    "get_data(healthy_CIK_list, 'healthy', '2008', '12', '30', 25)"
   ]
  },
  {
   "cell_type": "code",
   "execution_count": 343,
   "metadata": {},
   "outputs": [],
   "source": [
    "get_data(healthy_CIK_list, 'healthy', '2008', '12', '30', 26)"
   ]
  },
  {
   "cell_type": "code",
   "execution_count": 344,
   "metadata": {},
   "outputs": [],
   "source": [
    "get_data(healthy_CIK_list, 'healthy', '2008', '12', '30', 27)"
   ]
  },
  {
   "cell_type": "code",
   "execution_count": 345,
   "metadata": {},
   "outputs": [],
   "source": [
    "get_data(healthy_CIK_list, 'healthy', '2008', '12', '30', 28)"
   ]
  },
  {
   "cell_type": "code",
   "execution_count": 346,
   "metadata": {},
   "outputs": [],
   "source": [
    "get_data(healthy_CIK_list, 'healthy', '2008', '12', '30', 29)"
   ]
  },
  {
   "cell_type": "code",
   "execution_count": null,
   "metadata": {},
   "outputs": [],
   "source": []
  },
  {
   "cell_type": "code",
   "execution_count": 347,
   "metadata": {},
   "outputs": [],
   "source": [
    "get_data(healthy_CIK_list, 'healthy', '2009', '12', '30', 0)"
   ]
  },
  {
   "cell_type": "code",
   "execution_count": 348,
   "metadata": {},
   "outputs": [],
   "source": [
    "get_data(healthy_CIK_list, 'healthy', '2009', '12', '30', 1)"
   ]
  },
  {
   "cell_type": "code",
   "execution_count": 349,
   "metadata": {},
   "outputs": [],
   "source": [
    "get_data(healthy_CIK_list, 'healthy', '2009', '12', '30', 2)"
   ]
  },
  {
   "cell_type": "code",
   "execution_count": 350,
   "metadata": {},
   "outputs": [],
   "source": [
    "get_data(healthy_CIK_list, 'healthy', '2009', '12', '30', 3)"
   ]
  },
  {
   "cell_type": "code",
   "execution_count": 351,
   "metadata": {},
   "outputs": [],
   "source": [
    "get_data(healthy_CIK_list, 'healthy', '2009', '12', '30', 4)"
   ]
  },
  {
   "cell_type": "code",
   "execution_count": 352,
   "metadata": {},
   "outputs": [],
   "source": [
    "get_data(healthy_CIK_list, 'healthy', '2009', '12', '30', 5)"
   ]
  },
  {
   "cell_type": "code",
   "execution_count": 353,
   "metadata": {},
   "outputs": [],
   "source": [
    "get_data(healthy_CIK_list, 'healthy', '2009', '12', '30', 6)"
   ]
  },
  {
   "cell_type": "code",
   "execution_count": 354,
   "metadata": {},
   "outputs": [],
   "source": [
    "get_data(healthy_CIK_list, 'healthy', '2009', '12', '30', 7)"
   ]
  },
  {
   "cell_type": "code",
   "execution_count": 355,
   "metadata": {},
   "outputs": [],
   "source": [
    "get_data(healthy_CIK_list, 'healthy', '2009', '12', '30', 8)"
   ]
  },
  {
   "cell_type": "code",
   "execution_count": 356,
   "metadata": {},
   "outputs": [],
   "source": [
    "get_data(healthy_CIK_list, 'healthy', '2009', '12', '30', 9)"
   ]
  },
  {
   "cell_type": "code",
   "execution_count": 357,
   "metadata": {},
   "outputs": [],
   "source": [
    "get_data(healthy_CIK_list, 'healthy', '2009', '12', '30', 10)"
   ]
  },
  {
   "cell_type": "code",
   "execution_count": 358,
   "metadata": {},
   "outputs": [],
   "source": [
    "get_data(healthy_CIK_list, 'healthy', '2009', '12', '30', 11)"
   ]
  },
  {
   "cell_type": "code",
   "execution_count": 359,
   "metadata": {},
   "outputs": [],
   "source": [
    "get_data(healthy_CIK_list, 'healthy', '2009', '12', '30', 12)"
   ]
  },
  {
   "cell_type": "code",
   "execution_count": 360,
   "metadata": {},
   "outputs": [],
   "source": [
    "get_data(healthy_CIK_list, 'healthy', '2009', '12', '30', 13)"
   ]
  },
  {
   "cell_type": "code",
   "execution_count": 361,
   "metadata": {},
   "outputs": [],
   "source": [
    "get_data(healthy_CIK_list, 'healthy', '2009', '12', '30', 14)"
   ]
  },
  {
   "cell_type": "code",
   "execution_count": 362,
   "metadata": {},
   "outputs": [],
   "source": [
    "get_data(healthy_CIK_list, 'healthy', '2009', '12', '30', 15)"
   ]
  },
  {
   "cell_type": "code",
   "execution_count": 363,
   "metadata": {},
   "outputs": [],
   "source": [
    "get_data(healthy_CIK_list, 'healthy', '2009', '12', '30', 16)"
   ]
  },
  {
   "cell_type": "code",
   "execution_count": 364,
   "metadata": {},
   "outputs": [],
   "source": [
    "get_data(healthy_CIK_list, 'healthy', '2009', '12', '30', 17)"
   ]
  },
  {
   "cell_type": "code",
   "execution_count": 365,
   "metadata": {},
   "outputs": [],
   "source": [
    "get_data(healthy_CIK_list, 'healthy', '2009', '12', '30', 18)"
   ]
  },
  {
   "cell_type": "code",
   "execution_count": 366,
   "metadata": {},
   "outputs": [],
   "source": [
    "get_data(healthy_CIK_list, 'healthy', '2009', '12', '30', 19)"
   ]
  },
  {
   "cell_type": "code",
   "execution_count": 367,
   "metadata": {},
   "outputs": [],
   "source": [
    "get_data(healthy_CIK_list, 'healthy', '2009', '12', '30', 20)"
   ]
  },
  {
   "cell_type": "code",
   "execution_count": 368,
   "metadata": {},
   "outputs": [],
   "source": [
    "get_data(healthy_CIK_list, 'healthy', '2009', '12', '30', 21)"
   ]
  },
  {
   "cell_type": "code",
   "execution_count": 369,
   "metadata": {},
   "outputs": [],
   "source": [
    "get_data(healthy_CIK_list, 'healthy', '2009', '12', '30', 22)"
   ]
  },
  {
   "cell_type": "code",
   "execution_count": 370,
   "metadata": {},
   "outputs": [],
   "source": [
    "get_data(healthy_CIK_list, 'healthy', '2009', '12', '30', 23)"
   ]
  },
  {
   "cell_type": "code",
   "execution_count": 371,
   "metadata": {},
   "outputs": [],
   "source": [
    "get_data(healthy_CIK_list, 'healthy', '2009', '12', '30', 24)"
   ]
  },
  {
   "cell_type": "code",
   "execution_count": 372,
   "metadata": {},
   "outputs": [],
   "source": [
    "get_data(healthy_CIK_list, 'healthy', '2009', '12', '30', 25)"
   ]
  },
  {
   "cell_type": "code",
   "execution_count": 373,
   "metadata": {},
   "outputs": [],
   "source": [
    "get_data(healthy_CIK_list, 'healthy', '2009', '12', '30', 26)"
   ]
  },
  {
   "cell_type": "code",
   "execution_count": 374,
   "metadata": {},
   "outputs": [],
   "source": [
    "get_data(healthy_CIK_list, 'healthy', '2009', '12', '30', 27)"
   ]
  },
  {
   "cell_type": "code",
   "execution_count": 375,
   "metadata": {},
   "outputs": [],
   "source": [
    "get_data(healthy_CIK_list, 'healthy', '2009', '12', '30', 28)"
   ]
  },
  {
   "cell_type": "code",
   "execution_count": 376,
   "metadata": {},
   "outputs": [],
   "source": [
    "get_data(healthy_CIK_list, 'healthy', '2009', '12', '30', 29)"
   ]
  },
  {
   "cell_type": "code",
   "execution_count": null,
   "metadata": {},
   "outputs": [],
   "source": []
  },
  {
   "cell_type": "code",
   "execution_count": 377,
   "metadata": {},
   "outputs": [],
   "source": [
    "get_data(healthy_CIK_list, 'healthy', '2010', '12', '30', 0)"
   ]
  },
  {
   "cell_type": "code",
   "execution_count": 378,
   "metadata": {},
   "outputs": [],
   "source": [
    "get_data(healthy_CIK_list, 'healthy', '2010', '12', '30', 1)"
   ]
  },
  {
   "cell_type": "code",
   "execution_count": 379,
   "metadata": {},
   "outputs": [],
   "source": [
    "get_data(healthy_CIK_list, 'healthy', '2010', '12', '30', 2)"
   ]
  },
  {
   "cell_type": "code",
   "execution_count": 380,
   "metadata": {},
   "outputs": [],
   "source": [
    "get_data(healthy_CIK_list, 'healthy', '2010', '12', '30', 3)"
   ]
  },
  {
   "cell_type": "code",
   "execution_count": 381,
   "metadata": {},
   "outputs": [],
   "source": [
    "get_data(healthy_CIK_list, 'healthy', '2010', '12', '30', 4)"
   ]
  },
  {
   "cell_type": "code",
   "execution_count": 382,
   "metadata": {},
   "outputs": [],
   "source": [
    "get_data(healthy_CIK_list, 'healthy', '2010', '12', '30', 5)"
   ]
  },
  {
   "cell_type": "code",
   "execution_count": 383,
   "metadata": {},
   "outputs": [],
   "source": [
    "get_data(healthy_CIK_list, 'healthy', '2010', '12', '30', 6)"
   ]
  },
  {
   "cell_type": "code",
   "execution_count": 384,
   "metadata": {},
   "outputs": [],
   "source": [
    "get_data(healthy_CIK_list, 'healthy', '2010', '12', '30', 7)"
   ]
  },
  {
   "cell_type": "code",
   "execution_count": 385,
   "metadata": {},
   "outputs": [],
   "source": [
    "get_data(healthy_CIK_list, 'healthy', '2010', '12', '30', 8)"
   ]
  },
  {
   "cell_type": "code",
   "execution_count": 386,
   "metadata": {},
   "outputs": [],
   "source": [
    "get_data(healthy_CIK_list, 'healthy', '2010', '12', '30', 9)"
   ]
  },
  {
   "cell_type": "code",
   "execution_count": 387,
   "metadata": {},
   "outputs": [],
   "source": [
    "get_data(healthy_CIK_list, 'healthy', '2010', '12', '30', 10)"
   ]
  },
  {
   "cell_type": "code",
   "execution_count": 388,
   "metadata": {},
   "outputs": [],
   "source": [
    "get_data(healthy_CIK_list, 'healthy', '2010', '12', '30', 11)"
   ]
  },
  {
   "cell_type": "code",
   "execution_count": 389,
   "metadata": {},
   "outputs": [],
   "source": [
    "get_data(healthy_CIK_list, 'healthy', '2010', '12', '30', 12)"
   ]
  },
  {
   "cell_type": "code",
   "execution_count": 390,
   "metadata": {},
   "outputs": [],
   "source": [
    "get_data(healthy_CIK_list, 'healthy', '2010', '12', '30', 13)"
   ]
  },
  {
   "cell_type": "code",
   "execution_count": 391,
   "metadata": {},
   "outputs": [],
   "source": [
    "get_data(healthy_CIK_list, 'healthy', '2010', '12', '30', 14)"
   ]
  },
  {
   "cell_type": "code",
   "execution_count": 392,
   "metadata": {},
   "outputs": [],
   "source": [
    "get_data(healthy_CIK_list, 'healthy', '2010', '12', '30', 15)"
   ]
  },
  {
   "cell_type": "code",
   "execution_count": 393,
   "metadata": {},
   "outputs": [],
   "source": [
    "get_data(healthy_CIK_list, 'healthy', '2010', '12', '30', 16)"
   ]
  },
  {
   "cell_type": "code",
   "execution_count": 394,
   "metadata": {},
   "outputs": [],
   "source": [
    "get_data(healthy_CIK_list, 'healthy', '2010', '12', '30', 17)"
   ]
  },
  {
   "cell_type": "code",
   "execution_count": 395,
   "metadata": {},
   "outputs": [],
   "source": [
    "get_data(healthy_CIK_list, 'healthy', '2010', '12', '30', 18)"
   ]
  },
  {
   "cell_type": "code",
   "execution_count": 396,
   "metadata": {},
   "outputs": [],
   "source": [
    "get_data(healthy_CIK_list, 'healthy', '2010', '12', '30', 19)"
   ]
  },
  {
   "cell_type": "code",
   "execution_count": 397,
   "metadata": {},
   "outputs": [],
   "source": [
    "get_data(healthy_CIK_list, 'healthy', '2010', '12', '30', 20)"
   ]
  },
  {
   "cell_type": "code",
   "execution_count": 398,
   "metadata": {},
   "outputs": [],
   "source": [
    "get_data(healthy_CIK_list, 'healthy', '2010', '12', '30', 21)"
   ]
  },
  {
   "cell_type": "code",
   "execution_count": 399,
   "metadata": {},
   "outputs": [],
   "source": [
    "get_data(healthy_CIK_list, 'healthy', '2010', '12', '30', 22)"
   ]
  },
  {
   "cell_type": "code",
   "execution_count": 400,
   "metadata": {},
   "outputs": [],
   "source": [
    "get_data(healthy_CIK_list, 'healthy', '2010', '12', '30', 23)"
   ]
  },
  {
   "cell_type": "code",
   "execution_count": 401,
   "metadata": {},
   "outputs": [],
   "source": [
    "get_data(healthy_CIK_list, 'healthy', '2010', '12', '30', 24)"
   ]
  },
  {
   "cell_type": "code",
   "execution_count": 402,
   "metadata": {},
   "outputs": [],
   "source": [
    "get_data(healthy_CIK_list, 'healthy', '2010', '12', '30', 25)"
   ]
  },
  {
   "cell_type": "code",
   "execution_count": 403,
   "metadata": {},
   "outputs": [],
   "source": [
    "get_data(healthy_CIK_list, 'healthy', '2010', '12', '30', 26)"
   ]
  },
  {
   "cell_type": "code",
   "execution_count": 404,
   "metadata": {},
   "outputs": [],
   "source": [
    "get_data(healthy_CIK_list, 'healthy', '2010', '12', '30', 27)"
   ]
  },
  {
   "cell_type": "code",
   "execution_count": 405,
   "metadata": {},
   "outputs": [],
   "source": [
    "get_data(healthy_CIK_list, 'healthy', '2010', '12', '30', 28)"
   ]
  },
  {
   "cell_type": "code",
   "execution_count": 406,
   "metadata": {},
   "outputs": [],
   "source": [
    "get_data(healthy_CIK_list, 'healthy', '2010', '12', '30', 29)"
   ]
  },
  {
   "cell_type": "code",
   "execution_count": null,
   "metadata": {},
   "outputs": [],
   "source": []
  },
  {
   "cell_type": "code",
   "execution_count": 407,
   "metadata": {},
   "outputs": [],
   "source": [
    "get_data(healthy_CIK_list, 'healthy', '2011', '12', '30', 0)"
   ]
  },
  {
   "cell_type": "code",
   "execution_count": 408,
   "metadata": {},
   "outputs": [],
   "source": [
    "get_data(healthy_CIK_list, 'healthy', '2011', '12', '30', 1)"
   ]
  },
  {
   "cell_type": "code",
   "execution_count": 409,
   "metadata": {},
   "outputs": [],
   "source": [
    "get_data(healthy_CIK_list, 'healthy', '2011', '12', '30', 2)"
   ]
  },
  {
   "cell_type": "code",
   "execution_count": 410,
   "metadata": {},
   "outputs": [],
   "source": [
    "get_data(healthy_CIK_list, 'healthy', '2011', '12', '30', 3)"
   ]
  },
  {
   "cell_type": "code",
   "execution_count": 411,
   "metadata": {},
   "outputs": [],
   "source": [
    "get_data(healthy_CIK_list, 'healthy', '2011', '12', '30', 4)"
   ]
  },
  {
   "cell_type": "code",
   "execution_count": 412,
   "metadata": {},
   "outputs": [],
   "source": [
    "get_data(healthy_CIK_list, 'healthy', '2011', '12', '30', 5)"
   ]
  },
  {
   "cell_type": "code",
   "execution_count": 413,
   "metadata": {},
   "outputs": [],
   "source": [
    "get_data(healthy_CIK_list, 'healthy', '2011', '12', '30', 6)"
   ]
  },
  {
   "cell_type": "code",
   "execution_count": 414,
   "metadata": {},
   "outputs": [],
   "source": [
    "get_data(healthy_CIK_list, 'healthy', '2011', '12', '30', 7)"
   ]
  },
  {
   "cell_type": "code",
   "execution_count": 415,
   "metadata": {},
   "outputs": [],
   "source": [
    "get_data(healthy_CIK_list, 'healthy', '2011', '12', '30', 8)"
   ]
  },
  {
   "cell_type": "code",
   "execution_count": 416,
   "metadata": {},
   "outputs": [],
   "source": [
    "get_data(healthy_CIK_list, 'healthy', '2011', '12', '30', 9)"
   ]
  },
  {
   "cell_type": "code",
   "execution_count": 417,
   "metadata": {},
   "outputs": [],
   "source": [
    "get_data(healthy_CIK_list, 'healthy', '2011', '12', '30', 10)"
   ]
  },
  {
   "cell_type": "code",
   "execution_count": 418,
   "metadata": {},
   "outputs": [],
   "source": [
    "get_data(healthy_CIK_list, 'healthy', '2011', '12', '30', 11)"
   ]
  },
  {
   "cell_type": "code",
   "execution_count": 419,
   "metadata": {},
   "outputs": [],
   "source": [
    "get_data(healthy_CIK_list, 'healthy', '2011', '12', '30', 12)"
   ]
  },
  {
   "cell_type": "code",
   "execution_count": 420,
   "metadata": {},
   "outputs": [],
   "source": [
    "get_data(healthy_CIK_list, 'healthy', '2011', '12', '30', 13)"
   ]
  },
  {
   "cell_type": "code",
   "execution_count": 421,
   "metadata": {},
   "outputs": [],
   "source": [
    "get_data(healthy_CIK_list, 'healthy', '2011', '12', '30', 14)"
   ]
  },
  {
   "cell_type": "code",
   "execution_count": 422,
   "metadata": {},
   "outputs": [],
   "source": [
    "get_data(healthy_CIK_list, 'healthy', '2011', '12', '30', 15)"
   ]
  },
  {
   "cell_type": "code",
   "execution_count": 423,
   "metadata": {},
   "outputs": [],
   "source": [
    "get_data(healthy_CIK_list, 'healthy', '2011', '12', '30', 16)"
   ]
  },
  {
   "cell_type": "code",
   "execution_count": 424,
   "metadata": {},
   "outputs": [],
   "source": [
    "get_data(healthy_CIK_list, 'healthy', '2011', '12', '30', 17)"
   ]
  },
  {
   "cell_type": "code",
   "execution_count": 425,
   "metadata": {},
   "outputs": [],
   "source": [
    "get_data(healthy_CIK_list, 'healthy', '2011', '12', '30', 18)"
   ]
  },
  {
   "cell_type": "code",
   "execution_count": 426,
   "metadata": {},
   "outputs": [],
   "source": [
    "get_data(healthy_CIK_list, 'healthy', '2011', '12', '30', 19)"
   ]
  },
  {
   "cell_type": "code",
   "execution_count": 427,
   "metadata": {},
   "outputs": [],
   "source": [
    "get_data(healthy_CIK_list, 'healthy', '2011', '12', '30', 20)"
   ]
  },
  {
   "cell_type": "code",
   "execution_count": 428,
   "metadata": {},
   "outputs": [],
   "source": [
    "get_data(healthy_CIK_list, 'healthy', '2011', '12', '30', 21)"
   ]
  },
  {
   "cell_type": "code",
   "execution_count": 429,
   "metadata": {},
   "outputs": [],
   "source": [
    "get_data(healthy_CIK_list, 'healthy', '2011', '12', '30', 22)"
   ]
  },
  {
   "cell_type": "code",
   "execution_count": 430,
   "metadata": {},
   "outputs": [],
   "source": [
    "get_data(healthy_CIK_list, 'healthy', '2011', '12', '30', 23)"
   ]
  },
  {
   "cell_type": "code",
   "execution_count": 431,
   "metadata": {},
   "outputs": [],
   "source": [
    "get_data(healthy_CIK_list, 'healthy', '2011', '12', '30', 24)"
   ]
  },
  {
   "cell_type": "code",
   "execution_count": 432,
   "metadata": {},
   "outputs": [],
   "source": [
    "get_data(healthy_CIK_list, 'healthy', '2011', '12', '30', 25)"
   ]
  },
  {
   "cell_type": "code",
   "execution_count": 433,
   "metadata": {},
   "outputs": [],
   "source": [
    "get_data(healthy_CIK_list, 'healthy', '2011', '12', '30', 26)"
   ]
  },
  {
   "cell_type": "code",
   "execution_count": 434,
   "metadata": {},
   "outputs": [],
   "source": [
    "get_data(healthy_CIK_list, 'healthy', '2011', '12', '30', 27)"
   ]
  },
  {
   "cell_type": "code",
   "execution_count": 435,
   "metadata": {},
   "outputs": [],
   "source": [
    "get_data(healthy_CIK_list, 'healthy', '2011', '12', '30', 28)"
   ]
  },
  {
   "cell_type": "code",
   "execution_count": 436,
   "metadata": {},
   "outputs": [],
   "source": [
    "get_data(healthy_CIK_list, 'healthy', '2011', '12', '30', 29)"
   ]
  },
  {
   "cell_type": "code",
   "execution_count": null,
   "metadata": {},
   "outputs": [],
   "source": []
  },
  {
   "cell_type": "code",
   "execution_count": 437,
   "metadata": {},
   "outputs": [],
   "source": [
    "get_data(healthy_CIK_list, 'healthy', '2012', '12', '30', 0)"
   ]
  },
  {
   "cell_type": "code",
   "execution_count": 438,
   "metadata": {},
   "outputs": [],
   "source": [
    "get_data(healthy_CIK_list, 'healthy', '2012', '12', '30', 1)"
   ]
  },
  {
   "cell_type": "code",
   "execution_count": 439,
   "metadata": {},
   "outputs": [],
   "source": [
    "get_data(healthy_CIK_list, 'healthy', '2012', '12', '30', 2)"
   ]
  },
  {
   "cell_type": "code",
   "execution_count": 440,
   "metadata": {},
   "outputs": [],
   "source": [
    "get_data(healthy_CIK_list, 'healthy', '2012', '12', '30', 3)"
   ]
  },
  {
   "cell_type": "code",
   "execution_count": 441,
   "metadata": {},
   "outputs": [],
   "source": [
    "get_data(healthy_CIK_list, 'healthy', '2012', '12', '30', 4)"
   ]
  },
  {
   "cell_type": "code",
   "execution_count": 442,
   "metadata": {},
   "outputs": [],
   "source": [
    "get_data(healthy_CIK_list, 'healthy', '2012', '12', '30', 5)"
   ]
  },
  {
   "cell_type": "code",
   "execution_count": 443,
   "metadata": {},
   "outputs": [],
   "source": [
    "get_data(healthy_CIK_list, 'healthy', '2012', '12', '30', 6)"
   ]
  },
  {
   "cell_type": "code",
   "execution_count": 444,
   "metadata": {},
   "outputs": [],
   "source": [
    "get_data(healthy_CIK_list, 'healthy', '2012', '12', '30', 7)"
   ]
  },
  {
   "cell_type": "code",
   "execution_count": 445,
   "metadata": {},
   "outputs": [],
   "source": [
    "get_data(healthy_CIK_list, 'healthy', '2012', '12', '30', 8)"
   ]
  },
  {
   "cell_type": "code",
   "execution_count": 446,
   "metadata": {},
   "outputs": [],
   "source": [
    "get_data(healthy_CIK_list, 'healthy', '2012', '12', '30', 9)"
   ]
  },
  {
   "cell_type": "code",
   "execution_count": 447,
   "metadata": {},
   "outputs": [],
   "source": [
    "get_data(healthy_CIK_list, 'healthy', '2012', '12', '30', 10)"
   ]
  },
  {
   "cell_type": "code",
   "execution_count": 448,
   "metadata": {},
   "outputs": [],
   "source": [
    "get_data(healthy_CIK_list, 'healthy', '2012', '12', '30', 11)"
   ]
  },
  {
   "cell_type": "code",
   "execution_count": 449,
   "metadata": {},
   "outputs": [],
   "source": [
    "get_data(healthy_CIK_list, 'healthy', '2012', '12', '30', 12)"
   ]
  },
  {
   "cell_type": "code",
   "execution_count": 450,
   "metadata": {},
   "outputs": [],
   "source": [
    "get_data(healthy_CIK_list, 'healthy', '2012', '12', '30', 13)"
   ]
  },
  {
   "cell_type": "code",
   "execution_count": 451,
   "metadata": {},
   "outputs": [],
   "source": [
    "get_data(healthy_CIK_list, 'healthy', '2012', '12', '30', 14)"
   ]
  },
  {
   "cell_type": "code",
   "execution_count": 452,
   "metadata": {},
   "outputs": [],
   "source": [
    "get_data(healthy_CIK_list, 'healthy', '2012', '12', '30', 15)"
   ]
  },
  {
   "cell_type": "code",
   "execution_count": 453,
   "metadata": {},
   "outputs": [],
   "source": [
    "get_data(healthy_CIK_list, 'healthy', '2012', '12', '30', 16)"
   ]
  },
  {
   "cell_type": "code",
   "execution_count": 454,
   "metadata": {},
   "outputs": [],
   "source": [
    "get_data(healthy_CIK_list, 'healthy', '2012', '12', '30', 17)"
   ]
  },
  {
   "cell_type": "code",
   "execution_count": 455,
   "metadata": {},
   "outputs": [],
   "source": [
    "get_data(healthy_CIK_list, 'healthy', '2012', '12', '30', 18)"
   ]
  },
  {
   "cell_type": "code",
   "execution_count": 456,
   "metadata": {},
   "outputs": [],
   "source": [
    "get_data(healthy_CIK_list, 'healthy', '2012', '12', '30', 19)"
   ]
  },
  {
   "cell_type": "code",
   "execution_count": 457,
   "metadata": {},
   "outputs": [],
   "source": [
    "get_data(healthy_CIK_list, 'healthy', '2012', '12', '30', 20)"
   ]
  },
  {
   "cell_type": "code",
   "execution_count": 458,
   "metadata": {},
   "outputs": [],
   "source": [
    "get_data(healthy_CIK_list, 'healthy', '2012', '12', '30', 21)"
   ]
  },
  {
   "cell_type": "code",
   "execution_count": 459,
   "metadata": {},
   "outputs": [],
   "source": [
    "get_data(healthy_CIK_list, 'healthy', '2012', '12', '30', 22)"
   ]
  },
  {
   "cell_type": "code",
   "execution_count": 460,
   "metadata": {},
   "outputs": [],
   "source": [
    "get_data(healthy_CIK_list, 'healthy', '2012', '12', '30', 23)"
   ]
  },
  {
   "cell_type": "code",
   "execution_count": 461,
   "metadata": {},
   "outputs": [],
   "source": [
    "get_data(healthy_CIK_list, 'healthy', '2012', '12', '30', 24)"
   ]
  },
  {
   "cell_type": "code",
   "execution_count": 462,
   "metadata": {},
   "outputs": [],
   "source": [
    "get_data(healthy_CIK_list, 'healthy', '2012', '12', '30', 25)"
   ]
  },
  {
   "cell_type": "code",
   "execution_count": 463,
   "metadata": {},
   "outputs": [],
   "source": [
    "get_data(healthy_CIK_list, 'healthy', '2012', '12', '30', 26)"
   ]
  },
  {
   "cell_type": "code",
   "execution_count": 464,
   "metadata": {},
   "outputs": [],
   "source": [
    "get_data(healthy_CIK_list, 'healthy', '2012', '12', '30', 27)"
   ]
  },
  {
   "cell_type": "code",
   "execution_count": 465,
   "metadata": {},
   "outputs": [],
   "source": [
    "get_data(healthy_CIK_list, 'healthy', '2012', '12', '30', 28)"
   ]
  },
  {
   "cell_type": "code",
   "execution_count": 466,
   "metadata": {},
   "outputs": [],
   "source": [
    "get_data(healthy_CIK_list, 'healthy', '2012', '12', '30', 29)"
   ]
  },
  {
   "cell_type": "code",
   "execution_count": null,
   "metadata": {},
   "outputs": [],
   "source": []
  },
  {
   "cell_type": "code",
   "execution_count": 467,
   "metadata": {},
   "outputs": [],
   "source": [
    "get_data(healthy_CIK_list, 'healthy', '2013', '12', '30', 0)"
   ]
  },
  {
   "cell_type": "code",
   "execution_count": 468,
   "metadata": {},
   "outputs": [],
   "source": [
    "get_data(healthy_CIK_list, 'healthy', '2013', '12', '30', 1)"
   ]
  },
  {
   "cell_type": "code",
   "execution_count": 469,
   "metadata": {},
   "outputs": [],
   "source": [
    "get_data(healthy_CIK_list, 'healthy', '2013', '12', '30', 2)"
   ]
  },
  {
   "cell_type": "code",
   "execution_count": 470,
   "metadata": {},
   "outputs": [],
   "source": [
    "get_data(healthy_CIK_list, 'healthy', '2013', '12', '30', 3)"
   ]
  },
  {
   "cell_type": "code",
   "execution_count": 471,
   "metadata": {},
   "outputs": [],
   "source": [
    "get_data(healthy_CIK_list, 'healthy', '2013', '12', '30', 4)"
   ]
  },
  {
   "cell_type": "code",
   "execution_count": 472,
   "metadata": {},
   "outputs": [],
   "source": [
    "get_data(healthy_CIK_list, 'healthy', '2013', '12', '30', 5)"
   ]
  },
  {
   "cell_type": "code",
   "execution_count": 473,
   "metadata": {},
   "outputs": [],
   "source": [
    "get_data(healthy_CIK_list, 'healthy', '2013', '12', '30', 6)"
   ]
  },
  {
   "cell_type": "code",
   "execution_count": 474,
   "metadata": {},
   "outputs": [],
   "source": [
    "get_data(healthy_CIK_list, 'healthy', '2013', '12', '30', 7)"
   ]
  },
  {
   "cell_type": "code",
   "execution_count": 475,
   "metadata": {},
   "outputs": [],
   "source": [
    "get_data(healthy_CIK_list, 'healthy', '2013', '12', '30', 8)"
   ]
  },
  {
   "cell_type": "code",
   "execution_count": 476,
   "metadata": {},
   "outputs": [],
   "source": [
    "get_data(healthy_CIK_list, 'healthy', '2013', '12', '30', 9)"
   ]
  },
  {
   "cell_type": "code",
   "execution_count": 477,
   "metadata": {},
   "outputs": [],
   "source": [
    "get_data(healthy_CIK_list, 'healthy', '2013', '12', '30', 10)"
   ]
  },
  {
   "cell_type": "code",
   "execution_count": 478,
   "metadata": {},
   "outputs": [],
   "source": [
    "get_data(healthy_CIK_list, 'healthy', '2013', '12', '30', 11)"
   ]
  },
  {
   "cell_type": "code",
   "execution_count": 479,
   "metadata": {},
   "outputs": [],
   "source": [
    "get_data(healthy_CIK_list, 'healthy', '2013', '12', '30', 12)"
   ]
  },
  {
   "cell_type": "code",
   "execution_count": 480,
   "metadata": {},
   "outputs": [],
   "source": [
    "get_data(healthy_CIK_list, 'healthy', '2013', '12', '30', 13)"
   ]
  },
  {
   "cell_type": "code",
   "execution_count": 481,
   "metadata": {},
   "outputs": [],
   "source": [
    "get_data(healthy_CIK_list, 'healthy', '2013', '12', '30', 14)"
   ]
  },
  {
   "cell_type": "code",
   "execution_count": 482,
   "metadata": {},
   "outputs": [],
   "source": [
    "get_data(healthy_CIK_list, 'healthy', '2013', '12', '30', 15)"
   ]
  },
  {
   "cell_type": "code",
   "execution_count": 483,
   "metadata": {},
   "outputs": [],
   "source": [
    "get_data(healthy_CIK_list, 'healthy', '2013', '12', '30', 16)"
   ]
  },
  {
   "cell_type": "code",
   "execution_count": 484,
   "metadata": {},
   "outputs": [],
   "source": [
    "get_data(healthy_CIK_list, 'healthy', '2013', '12', '30', 17)"
   ]
  },
  {
   "cell_type": "code",
   "execution_count": 485,
   "metadata": {},
   "outputs": [],
   "source": [
    "get_data(healthy_CIK_list, 'healthy', '2013', '12', '30', 18)"
   ]
  },
  {
   "cell_type": "code",
   "execution_count": 486,
   "metadata": {},
   "outputs": [],
   "source": [
    "get_data(healthy_CIK_list, 'healthy', '2013', '12', '30', 19)"
   ]
  },
  {
   "cell_type": "code",
   "execution_count": 487,
   "metadata": {},
   "outputs": [],
   "source": [
    "get_data(healthy_CIK_list, 'healthy', '2013', '12', '30', 20)"
   ]
  },
  {
   "cell_type": "code",
   "execution_count": 488,
   "metadata": {},
   "outputs": [],
   "source": [
    "get_data(healthy_CIK_list, 'healthy', '2013', '12', '30', 21)"
   ]
  },
  {
   "cell_type": "code",
   "execution_count": 489,
   "metadata": {},
   "outputs": [],
   "source": [
    "get_data(healthy_CIK_list, 'healthy', '2013', '12', '30', 22)"
   ]
  },
  {
   "cell_type": "code",
   "execution_count": 490,
   "metadata": {},
   "outputs": [],
   "source": [
    "get_data(healthy_CIK_list, 'healthy', '2013', '12', '30', 23)"
   ]
  },
  {
   "cell_type": "code",
   "execution_count": 491,
   "metadata": {},
   "outputs": [],
   "source": [
    "get_data(healthy_CIK_list, 'healthy', '2013', '12', '30', 24)"
   ]
  },
  {
   "cell_type": "code",
   "execution_count": 492,
   "metadata": {},
   "outputs": [],
   "source": [
    "get_data(healthy_CIK_list, 'healthy', '2013', '12', '30', 25)"
   ]
  },
  {
   "cell_type": "code",
   "execution_count": 493,
   "metadata": {},
   "outputs": [],
   "source": [
    "get_data(healthy_CIK_list, 'healthy', '2013', '12', '30', 26)"
   ]
  },
  {
   "cell_type": "code",
   "execution_count": 494,
   "metadata": {},
   "outputs": [],
   "source": [
    "get_data(healthy_CIK_list, 'healthy', '2013', '12', '30', 27)"
   ]
  },
  {
   "cell_type": "code",
   "execution_count": 495,
   "metadata": {},
   "outputs": [],
   "source": [
    "get_data(healthy_CIK_list, 'healthy', '2013', '12', '30', 28)"
   ]
  },
  {
   "cell_type": "code",
   "execution_count": 496,
   "metadata": {},
   "outputs": [],
   "source": [
    "get_data(healthy_CIK_list, 'healthy', '2013', '12', '30', 29)"
   ]
  },
  {
   "cell_type": "code",
   "execution_count": null,
   "metadata": {},
   "outputs": [],
   "source": []
  },
  {
   "cell_type": "code",
   "execution_count": 497,
   "metadata": {},
   "outputs": [],
   "source": [
    "get_data(healthy_CIK_list, 'healthy', '2014', '12', '30', 0)"
   ]
  },
  {
   "cell_type": "code",
   "execution_count": 498,
   "metadata": {},
   "outputs": [],
   "source": [
    "get_data(healthy_CIK_list, 'healthy', '2014', '12', '30', 1)"
   ]
  },
  {
   "cell_type": "code",
   "execution_count": 499,
   "metadata": {},
   "outputs": [],
   "source": [
    "get_data(healthy_CIK_list, 'healthy', '2014', '12', '30', 2)"
   ]
  },
  {
   "cell_type": "code",
   "execution_count": 500,
   "metadata": {},
   "outputs": [],
   "source": [
    "get_data(healthy_CIK_list, 'healthy', '2014', '12', '30', 3)"
   ]
  },
  {
   "cell_type": "code",
   "execution_count": 501,
   "metadata": {},
   "outputs": [],
   "source": [
    "get_data(healthy_CIK_list, 'healthy', '2014', '12', '30', 4)"
   ]
  },
  {
   "cell_type": "code",
   "execution_count": 502,
   "metadata": {},
   "outputs": [],
   "source": [
    "get_data(healthy_CIK_list, 'healthy', '2014', '12', '30', 5)"
   ]
  },
  {
   "cell_type": "code",
   "execution_count": 503,
   "metadata": {},
   "outputs": [],
   "source": [
    "get_data(healthy_CIK_list, 'healthy', '2014', '12', '30', 6)"
   ]
  },
  {
   "cell_type": "code",
   "execution_count": 504,
   "metadata": {},
   "outputs": [],
   "source": [
    "get_data(healthy_CIK_list, 'healthy', '2014', '12', '30', 7)"
   ]
  },
  {
   "cell_type": "code",
   "execution_count": 505,
   "metadata": {},
   "outputs": [],
   "source": [
    "get_data(healthy_CIK_list, 'healthy', '2014', '12', '30', 8)"
   ]
  },
  {
   "cell_type": "code",
   "execution_count": 506,
   "metadata": {},
   "outputs": [],
   "source": [
    "get_data(healthy_CIK_list, 'healthy', '2014', '12', '30', 9)"
   ]
  },
  {
   "cell_type": "code",
   "execution_count": 507,
   "metadata": {},
   "outputs": [],
   "source": [
    "get_data(healthy_CIK_list, 'healthy', '2014', '12', '30', 10)"
   ]
  },
  {
   "cell_type": "code",
   "execution_count": 508,
   "metadata": {},
   "outputs": [],
   "source": [
    "get_data(healthy_CIK_list, 'healthy', '2014', '12', '30', 11)"
   ]
  },
  {
   "cell_type": "code",
   "execution_count": 509,
   "metadata": {},
   "outputs": [],
   "source": [
    "get_data(healthy_CIK_list, 'healthy', '2014', '12', '30', 12)"
   ]
  },
  {
   "cell_type": "code",
   "execution_count": 510,
   "metadata": {},
   "outputs": [],
   "source": [
    "get_data(healthy_CIK_list, 'healthy', '2014', '12', '30', 13)"
   ]
  },
  {
   "cell_type": "code",
   "execution_count": 511,
   "metadata": {},
   "outputs": [],
   "source": [
    "get_data(healthy_CIK_list, 'healthy', '2014', '12', '30', 14)"
   ]
  },
  {
   "cell_type": "code",
   "execution_count": 512,
   "metadata": {},
   "outputs": [],
   "source": [
    "get_data(healthy_CIK_list, 'healthy', '2014', '12', '30', 15)"
   ]
  },
  {
   "cell_type": "code",
   "execution_count": 513,
   "metadata": {},
   "outputs": [],
   "source": [
    "get_data(healthy_CIK_list, 'healthy', '2014', '12', '30', 16)"
   ]
  },
  {
   "cell_type": "code",
   "execution_count": 514,
   "metadata": {},
   "outputs": [],
   "source": [
    "get_data(healthy_CIK_list, 'healthy', '2014', '12', '30', 17)"
   ]
  },
  {
   "cell_type": "code",
   "execution_count": 515,
   "metadata": {},
   "outputs": [],
   "source": [
    "get_data(healthy_CIK_list, 'healthy', '2014', '12', '30', 18)"
   ]
  },
  {
   "cell_type": "code",
   "execution_count": 516,
   "metadata": {},
   "outputs": [],
   "source": [
    "get_data(healthy_CIK_list, 'healthy', '2014', '12', '30', 19)"
   ]
  },
  {
   "cell_type": "code",
   "execution_count": 517,
   "metadata": {},
   "outputs": [],
   "source": [
    "get_data(healthy_CIK_list, 'healthy', '2014', '12', '30', 20)"
   ]
  },
  {
   "cell_type": "code",
   "execution_count": 518,
   "metadata": {},
   "outputs": [],
   "source": [
    "get_data(healthy_CIK_list, 'healthy', '2014', '12', '30', 21)"
   ]
  },
  {
   "cell_type": "code",
   "execution_count": 519,
   "metadata": {},
   "outputs": [],
   "source": [
    "get_data(healthy_CIK_list, 'healthy', '2014', '12', '30', 22)"
   ]
  },
  {
   "cell_type": "code",
   "execution_count": 520,
   "metadata": {},
   "outputs": [],
   "source": [
    "get_data(healthy_CIK_list, 'healthy', '2014', '12', '30', 23)"
   ]
  },
  {
   "cell_type": "code",
   "execution_count": 521,
   "metadata": {},
   "outputs": [],
   "source": [
    "get_data(healthy_CIK_list, 'healthy', '2014', '12', '30', 24)"
   ]
  },
  {
   "cell_type": "code",
   "execution_count": 522,
   "metadata": {},
   "outputs": [],
   "source": [
    "get_data(healthy_CIK_list, 'healthy', '2014', '12', '30', 25)"
   ]
  },
  {
   "cell_type": "code",
   "execution_count": 523,
   "metadata": {},
   "outputs": [],
   "source": [
    "get_data(healthy_CIK_list, 'healthy', '2014', '12', '30', 26)"
   ]
  },
  {
   "cell_type": "code",
   "execution_count": 524,
   "metadata": {},
   "outputs": [],
   "source": [
    "get_data(healthy_CIK_list, 'healthy', '2014', '12', '30', 27)"
   ]
  },
  {
   "cell_type": "code",
   "execution_count": 525,
   "metadata": {},
   "outputs": [],
   "source": [
    "get_data(healthy_CIK_list, 'healthy', '2014', '12', '30', 28)"
   ]
  },
  {
   "cell_type": "code",
   "execution_count": 526,
   "metadata": {},
   "outputs": [],
   "source": [
    "get_data(healthy_CIK_list, 'healthy', '2014', '12', '30', 29)"
   ]
  },
  {
   "cell_type": "code",
   "execution_count": null,
   "metadata": {},
   "outputs": [],
   "source": []
  },
  {
   "cell_type": "code",
   "execution_count": 527,
   "metadata": {},
   "outputs": [],
   "source": [
    "get_data(healthy_CIK_list, 'healthy', '2015', '12', '30', 0)"
   ]
  },
  {
   "cell_type": "code",
   "execution_count": 528,
   "metadata": {},
   "outputs": [],
   "source": [
    "get_data(healthy_CIK_list, 'healthy', '2015', '12', '30', 1)"
   ]
  },
  {
   "cell_type": "code",
   "execution_count": 529,
   "metadata": {},
   "outputs": [],
   "source": [
    "get_data(healthy_CIK_list, 'healthy', '2015', '12', '30', 2)"
   ]
  },
  {
   "cell_type": "code",
   "execution_count": 530,
   "metadata": {},
   "outputs": [],
   "source": [
    "get_data(healthy_CIK_list, 'healthy', '2015', '12', '30', 3)"
   ]
  },
  {
   "cell_type": "code",
   "execution_count": 531,
   "metadata": {},
   "outputs": [],
   "source": [
    "get_data(healthy_CIK_list, 'healthy', '2015', '12', '30', 4)"
   ]
  },
  {
   "cell_type": "code",
   "execution_count": 532,
   "metadata": {},
   "outputs": [],
   "source": [
    "get_data(healthy_CIK_list, 'healthy', '2015', '12', '30', 5)"
   ]
  },
  {
   "cell_type": "code",
   "execution_count": 533,
   "metadata": {},
   "outputs": [],
   "source": [
    "get_data(healthy_CIK_list, 'healthy', '2015', '12', '30', 6)"
   ]
  },
  {
   "cell_type": "code",
   "execution_count": 534,
   "metadata": {},
   "outputs": [],
   "source": [
    "get_data(healthy_CIK_list, 'healthy', '2015', '12', '30', 7)"
   ]
  },
  {
   "cell_type": "code",
   "execution_count": 535,
   "metadata": {},
   "outputs": [],
   "source": [
    "get_data(healthy_CIK_list, 'healthy', '2015', '12', '30', 8)"
   ]
  },
  {
   "cell_type": "code",
   "execution_count": 536,
   "metadata": {},
   "outputs": [],
   "source": [
    "get_data(healthy_CIK_list, 'healthy', '2015', '12', '30', 9)"
   ]
  },
  {
   "cell_type": "code",
   "execution_count": 537,
   "metadata": {},
   "outputs": [],
   "source": [
    "get_data(healthy_CIK_list, 'healthy', '2015', '12', '30', 10)"
   ]
  },
  {
   "cell_type": "code",
   "execution_count": 538,
   "metadata": {},
   "outputs": [],
   "source": [
    "get_data(healthy_CIK_list, 'healthy', '2015', '12', '30', 11)"
   ]
  },
  {
   "cell_type": "code",
   "execution_count": 539,
   "metadata": {},
   "outputs": [],
   "source": [
    "get_data(healthy_CIK_list, 'healthy', '2015', '12', '30', 12)"
   ]
  },
  {
   "cell_type": "code",
   "execution_count": 540,
   "metadata": {},
   "outputs": [],
   "source": [
    "get_data(healthy_CIK_list, 'healthy', '2015', '12', '30', 13)"
   ]
  },
  {
   "cell_type": "code",
   "execution_count": 541,
   "metadata": {},
   "outputs": [],
   "source": [
    "get_data(healthy_CIK_list, 'healthy', '2015', '12', '30', 14)"
   ]
  },
  {
   "cell_type": "code",
   "execution_count": 542,
   "metadata": {},
   "outputs": [],
   "source": [
    "get_data(healthy_CIK_list, 'healthy', '2015', '12', '30', 15)"
   ]
  },
  {
   "cell_type": "code",
   "execution_count": 543,
   "metadata": {},
   "outputs": [],
   "source": [
    "get_data(healthy_CIK_list, 'healthy', '2015', '12', '30', 16)"
   ]
  },
  {
   "cell_type": "code",
   "execution_count": 544,
   "metadata": {},
   "outputs": [],
   "source": [
    "get_data(healthy_CIK_list, 'healthy', '2015', '12', '30', 17)"
   ]
  },
  {
   "cell_type": "code",
   "execution_count": 545,
   "metadata": {},
   "outputs": [],
   "source": [
    "get_data(healthy_CIK_list, 'healthy', '2015', '12', '30', 18)"
   ]
  },
  {
   "cell_type": "code",
   "execution_count": 546,
   "metadata": {},
   "outputs": [],
   "source": [
    "get_data(healthy_CIK_list, 'healthy', '2015', '12', '30', 19)"
   ]
  },
  {
   "cell_type": "code",
   "execution_count": 547,
   "metadata": {},
   "outputs": [],
   "source": [
    "get_data(healthy_CIK_list, 'healthy', '2015', '12', '30', 20)"
   ]
  },
  {
   "cell_type": "code",
   "execution_count": 548,
   "metadata": {},
   "outputs": [],
   "source": [
    "get_data(healthy_CIK_list, 'healthy', '2015', '12', '30', 21)"
   ]
  },
  {
   "cell_type": "code",
   "execution_count": 549,
   "metadata": {},
   "outputs": [],
   "source": [
    "get_data(healthy_CIK_list, 'healthy', '2015', '12', '30', 22)"
   ]
  },
  {
   "cell_type": "code",
   "execution_count": 550,
   "metadata": {},
   "outputs": [],
   "source": [
    "get_data(healthy_CIK_list, 'healthy', '2015', '12', '30', 23)"
   ]
  },
  {
   "cell_type": "code",
   "execution_count": 551,
   "metadata": {},
   "outputs": [],
   "source": [
    "get_data(healthy_CIK_list, 'healthy', '2015', '12', '30', 24)"
   ]
  },
  {
   "cell_type": "code",
   "execution_count": 552,
   "metadata": {},
   "outputs": [],
   "source": [
    "get_data(healthy_CIK_list, 'healthy', '2015', '12', '30', 25)"
   ]
  },
  {
   "cell_type": "code",
   "execution_count": 553,
   "metadata": {},
   "outputs": [],
   "source": [
    "get_data(healthy_CIK_list, 'healthy', '2015', '12', '30', 26)"
   ]
  },
  {
   "cell_type": "code",
   "execution_count": 554,
   "metadata": {},
   "outputs": [],
   "source": [
    "get_data(healthy_CIK_list, 'healthy', '2015', '12', '30', 27)"
   ]
  },
  {
   "cell_type": "code",
   "execution_count": 555,
   "metadata": {},
   "outputs": [],
   "source": [
    "get_data(healthy_CIK_list, 'healthy', '2015', '12', '30', 28)"
   ]
  },
  {
   "cell_type": "code",
   "execution_count": 556,
   "metadata": {},
   "outputs": [],
   "source": [
    "get_data(healthy_CIK_list, 'healthy', '2015', '12', '30', 29)"
   ]
  },
  {
   "cell_type": "code",
   "execution_count": null,
   "metadata": {},
   "outputs": [],
   "source": []
  },
  {
   "cell_type": "code",
   "execution_count": 557,
   "metadata": {},
   "outputs": [],
   "source": [
    "get_data(healthy_CIK_list, 'healthy', '2016', '12', '30', 0)"
   ]
  },
  {
   "cell_type": "code",
   "execution_count": 558,
   "metadata": {},
   "outputs": [],
   "source": [
    "get_data(healthy_CIK_list, 'healthy', '2016', '12', '30', 1)"
   ]
  },
  {
   "cell_type": "code",
   "execution_count": 559,
   "metadata": {},
   "outputs": [],
   "source": [
    "get_data(healthy_CIK_list, 'healthy', '2016', '12', '30', 2)"
   ]
  },
  {
   "cell_type": "code",
   "execution_count": 560,
   "metadata": {},
   "outputs": [],
   "source": [
    "get_data(healthy_CIK_list, 'healthy', '2016', '12', '30', 3)"
   ]
  },
  {
   "cell_type": "code",
   "execution_count": 561,
   "metadata": {},
   "outputs": [],
   "source": [
    "get_data(healthy_CIK_list, 'healthy', '2016', '12', '30', 4)"
   ]
  },
  {
   "cell_type": "code",
   "execution_count": 562,
   "metadata": {},
   "outputs": [],
   "source": [
    "get_data(healthy_CIK_list, 'healthy', '2016', '12', '30', 5)"
   ]
  },
  {
   "cell_type": "code",
   "execution_count": 563,
   "metadata": {},
   "outputs": [],
   "source": [
    "get_data(healthy_CIK_list, 'healthy', '2016', '12', '30', 6)"
   ]
  },
  {
   "cell_type": "code",
   "execution_count": 564,
   "metadata": {},
   "outputs": [],
   "source": [
    "get_data(healthy_CIK_list, 'healthy', '2016', '12', '30', 7)"
   ]
  },
  {
   "cell_type": "code",
   "execution_count": 565,
   "metadata": {},
   "outputs": [],
   "source": [
    "get_data(healthy_CIK_list, 'healthy', '2016', '12', '30', 8)"
   ]
  },
  {
   "cell_type": "code",
   "execution_count": 566,
   "metadata": {},
   "outputs": [],
   "source": [
    "get_data(healthy_CIK_list, 'healthy', '2016', '12', '30', 9)"
   ]
  },
  {
   "cell_type": "code",
   "execution_count": 567,
   "metadata": {},
   "outputs": [],
   "source": [
    "get_data(healthy_CIK_list, 'healthy', '2016', '12', '30', 10)"
   ]
  },
  {
   "cell_type": "code",
   "execution_count": 568,
   "metadata": {},
   "outputs": [],
   "source": [
    "get_data(healthy_CIK_list, 'healthy', '2016', '12', '30', 11)"
   ]
  },
  {
   "cell_type": "code",
   "execution_count": 569,
   "metadata": {},
   "outputs": [],
   "source": [
    "get_data(healthy_CIK_list, 'healthy', '2016', '12', '30', 12)"
   ]
  },
  {
   "cell_type": "code",
   "execution_count": 570,
   "metadata": {},
   "outputs": [],
   "source": [
    "get_data(healthy_CIK_list, 'healthy', '2016', '12', '30', 13)"
   ]
  },
  {
   "cell_type": "code",
   "execution_count": 571,
   "metadata": {},
   "outputs": [],
   "source": [
    "get_data(healthy_CIK_list, 'healthy', '2016', '12', '30', 14)"
   ]
  },
  {
   "cell_type": "code",
   "execution_count": 572,
   "metadata": {},
   "outputs": [],
   "source": [
    "get_data(healthy_CIK_list, 'healthy', '2016', '12', '30', 15)"
   ]
  },
  {
   "cell_type": "code",
   "execution_count": 573,
   "metadata": {},
   "outputs": [],
   "source": [
    "get_data(healthy_CIK_list, 'healthy', '2016', '12', '30', 16)"
   ]
  },
  {
   "cell_type": "code",
   "execution_count": 574,
   "metadata": {},
   "outputs": [],
   "source": [
    "get_data(healthy_CIK_list, 'healthy', '2016', '12', '30', 17)"
   ]
  },
  {
   "cell_type": "code",
   "execution_count": 575,
   "metadata": {},
   "outputs": [],
   "source": [
    "get_data(healthy_CIK_list, 'healthy', '2016', '12', '30', 18)"
   ]
  },
  {
   "cell_type": "code",
   "execution_count": 576,
   "metadata": {},
   "outputs": [],
   "source": [
    "get_data(healthy_CIK_list, 'healthy', '2016', '12', '30', 19)"
   ]
  },
  {
   "cell_type": "code",
   "execution_count": 577,
   "metadata": {},
   "outputs": [],
   "source": [
    "get_data(healthy_CIK_list, 'healthy', '2016', '12', '30', 20)"
   ]
  },
  {
   "cell_type": "code",
   "execution_count": 578,
   "metadata": {},
   "outputs": [],
   "source": [
    "get_data(healthy_CIK_list, 'healthy', '2016', '12', '30', 21)"
   ]
  },
  {
   "cell_type": "code",
   "execution_count": 579,
   "metadata": {},
   "outputs": [],
   "source": [
    "get_data(healthy_CIK_list, 'healthy', '2016', '12', '30', 22)"
   ]
  },
  {
   "cell_type": "code",
   "execution_count": 580,
   "metadata": {},
   "outputs": [],
   "source": [
    "get_data(healthy_CIK_list, 'healthy', '2016', '12', '30', 23)"
   ]
  },
  {
   "cell_type": "code",
   "execution_count": 581,
   "metadata": {},
   "outputs": [],
   "source": [
    "get_data(healthy_CIK_list, 'healthy', '2016', '12', '30', 24)"
   ]
  },
  {
   "cell_type": "code",
   "execution_count": 582,
   "metadata": {},
   "outputs": [],
   "source": [
    "get_data(healthy_CIK_list, 'healthy', '2016', '12', '30', 25)"
   ]
  },
  {
   "cell_type": "code",
   "execution_count": 583,
   "metadata": {},
   "outputs": [],
   "source": [
    "get_data(healthy_CIK_list, 'healthy', '2016', '12', '30', 26)"
   ]
  },
  {
   "cell_type": "code",
   "execution_count": 584,
   "metadata": {},
   "outputs": [],
   "source": [
    "get_data(healthy_CIK_list, 'healthy', '2016', '12', '30', 27)"
   ]
  },
  {
   "cell_type": "code",
   "execution_count": 585,
   "metadata": {},
   "outputs": [],
   "source": [
    "get_data(healthy_CIK_list, 'healthy', '2016', '12', '30', 28)"
   ]
  },
  {
   "cell_type": "code",
   "execution_count": 586,
   "metadata": {},
   "outputs": [],
   "source": [
    "get_data(healthy_CIK_list, 'healthy', '2016', '12', '30', 29)"
   ]
  },
  {
   "cell_type": "code",
   "execution_count": null,
   "metadata": {},
   "outputs": [],
   "source": []
  },
  {
   "cell_type": "code",
   "execution_count": 587,
   "metadata": {},
   "outputs": [],
   "source": [
    "get_data(healthy_CIK_list, 'healthy', '2017', '12', '30', 0)"
   ]
  },
  {
   "cell_type": "code",
   "execution_count": 588,
   "metadata": {},
   "outputs": [],
   "source": [
    "get_data(healthy_CIK_list, 'healthy', '2017', '12', '30', 1)"
   ]
  },
  {
   "cell_type": "code",
   "execution_count": 589,
   "metadata": {},
   "outputs": [],
   "source": [
    "get_data(healthy_CIK_list, 'healthy', '2017', '12', '30', 2)"
   ]
  },
  {
   "cell_type": "code",
   "execution_count": 590,
   "metadata": {},
   "outputs": [],
   "source": [
    "get_data(healthy_CIK_list, 'healthy', '2017', '12', '30', 3)"
   ]
  },
  {
   "cell_type": "code",
   "execution_count": 591,
   "metadata": {},
   "outputs": [],
   "source": [
    "get_data(healthy_CIK_list, 'healthy', '2017', '12', '30', 4)"
   ]
  },
  {
   "cell_type": "code",
   "execution_count": 592,
   "metadata": {},
   "outputs": [],
   "source": [
    "get_data(healthy_CIK_list, 'healthy', '2017', '12', '30', 5)"
   ]
  },
  {
   "cell_type": "code",
   "execution_count": 593,
   "metadata": {},
   "outputs": [],
   "source": [
    "get_data(healthy_CIK_list, 'healthy', '2017', '12', '30', 6)"
   ]
  },
  {
   "cell_type": "code",
   "execution_count": 594,
   "metadata": {},
   "outputs": [],
   "source": [
    "get_data(healthy_CIK_list, 'healthy', '2017', '12', '30', 7)"
   ]
  },
  {
   "cell_type": "code",
   "execution_count": 595,
   "metadata": {},
   "outputs": [],
   "source": [
    "get_data(healthy_CIK_list, 'healthy', '2017', '12', '30', 8)"
   ]
  },
  {
   "cell_type": "code",
   "execution_count": 596,
   "metadata": {},
   "outputs": [],
   "source": [
    "get_data(healthy_CIK_list, 'healthy', '2017', '12', '30', 9)"
   ]
  },
  {
   "cell_type": "code",
   "execution_count": 597,
   "metadata": {},
   "outputs": [],
   "source": [
    "get_data(healthy_CIK_list, 'healthy', '2017', '12', '30', 10)"
   ]
  },
  {
   "cell_type": "code",
   "execution_count": 598,
   "metadata": {},
   "outputs": [],
   "source": [
    "get_data(healthy_CIK_list, 'healthy', '2017', '12', '30', 11)"
   ]
  },
  {
   "cell_type": "code",
   "execution_count": 599,
   "metadata": {},
   "outputs": [],
   "source": [
    "get_data(healthy_CIK_list, 'healthy', '2017', '12', '30', 12)"
   ]
  },
  {
   "cell_type": "code",
   "execution_count": 600,
   "metadata": {},
   "outputs": [],
   "source": [
    "get_data(healthy_CIK_list, 'healthy', '2017', '12', '30', 13)"
   ]
  },
  {
   "cell_type": "code",
   "execution_count": 601,
   "metadata": {},
   "outputs": [],
   "source": [
    "get_data(healthy_CIK_list, 'healthy', '2017', '12', '30', 14)"
   ]
  },
  {
   "cell_type": "code",
   "execution_count": 602,
   "metadata": {},
   "outputs": [],
   "source": [
    "get_data(healthy_CIK_list, 'healthy', '2017', '12', '30', 15)"
   ]
  },
  {
   "cell_type": "code",
   "execution_count": 603,
   "metadata": {},
   "outputs": [],
   "source": [
    "get_data(healthy_CIK_list, 'healthy', '2017', '12', '30', 16)"
   ]
  },
  {
   "cell_type": "code",
   "execution_count": 604,
   "metadata": {},
   "outputs": [],
   "source": [
    "get_data(healthy_CIK_list, 'healthy', '2017', '12', '30', 17)"
   ]
  },
  {
   "cell_type": "code",
   "execution_count": 605,
   "metadata": {},
   "outputs": [],
   "source": [
    "get_data(healthy_CIK_list, 'healthy', '2017', '12', '30', 18)"
   ]
  },
  {
   "cell_type": "code",
   "execution_count": 606,
   "metadata": {},
   "outputs": [],
   "source": [
    "get_data(healthy_CIK_list, 'healthy', '2017', '12', '30', 19)"
   ]
  },
  {
   "cell_type": "code",
   "execution_count": 607,
   "metadata": {},
   "outputs": [],
   "source": [
    "get_data(healthy_CIK_list, 'healthy', '2017', '12', '30', 20)"
   ]
  },
  {
   "cell_type": "code",
   "execution_count": 608,
   "metadata": {},
   "outputs": [],
   "source": [
    "get_data(healthy_CIK_list, 'healthy', '2017', '12', '30', 21)"
   ]
  },
  {
   "cell_type": "code",
   "execution_count": 609,
   "metadata": {},
   "outputs": [],
   "source": [
    "get_data(healthy_CIK_list, 'healthy', '2017', '12', '30', 22)"
   ]
  },
  {
   "cell_type": "code",
   "execution_count": 610,
   "metadata": {},
   "outputs": [],
   "source": [
    "get_data(healthy_CIK_list, 'healthy', '2017', '12', '30', 23)"
   ]
  },
  {
   "cell_type": "code",
   "execution_count": 611,
   "metadata": {},
   "outputs": [],
   "source": [
    "get_data(healthy_CIK_list, 'healthy', '2017', '12', '30', 24)"
   ]
  },
  {
   "cell_type": "code",
   "execution_count": 612,
   "metadata": {},
   "outputs": [],
   "source": [
    "get_data(healthy_CIK_list, 'healthy', '2017', '12', '30', 25)"
   ]
  },
  {
   "cell_type": "code",
   "execution_count": 613,
   "metadata": {},
   "outputs": [],
   "source": [
    "get_data(healthy_CIK_list, 'healthy', '2017', '12', '30', 26)"
   ]
  },
  {
   "cell_type": "code",
   "execution_count": 614,
   "metadata": {},
   "outputs": [],
   "source": [
    "get_data(healthy_CIK_list, 'healthy', '2017', '12', '30', 27)"
   ]
  },
  {
   "cell_type": "code",
   "execution_count": 615,
   "metadata": {},
   "outputs": [],
   "source": [
    "get_data(healthy_CIK_list, 'healthy', '2017', '12', '30', 28)"
   ]
  },
  {
   "cell_type": "code",
   "execution_count": 616,
   "metadata": {},
   "outputs": [],
   "source": [
    "get_data(healthy_CIK_list, 'healthy', '2017', '12', '30', 29)"
   ]
  },
  {
   "cell_type": "code",
   "execution_count": null,
   "metadata": {},
   "outputs": [],
   "source": []
  },
  {
   "cell_type": "code",
   "execution_count": 617,
   "metadata": {},
   "outputs": [],
   "source": [
    "get_data(healthy_CIK_list, 'healthy', '2018', '12', '30', 0)"
   ]
  },
  {
   "cell_type": "code",
   "execution_count": 618,
   "metadata": {},
   "outputs": [],
   "source": [
    "get_data(healthy_CIK_list, 'healthy', '2018', '12', '30', 1)"
   ]
  },
  {
   "cell_type": "code",
   "execution_count": 619,
   "metadata": {},
   "outputs": [],
   "source": [
    "get_data(healthy_CIK_list, 'healthy', '2018', '12', '30', 2)"
   ]
  },
  {
   "cell_type": "code",
   "execution_count": 620,
   "metadata": {},
   "outputs": [],
   "source": [
    "get_data(healthy_CIK_list, 'healthy', '2018', '12', '30', 3)"
   ]
  },
  {
   "cell_type": "code",
   "execution_count": 621,
   "metadata": {},
   "outputs": [],
   "source": [
    "get_data(healthy_CIK_list, 'healthy', '2018', '12', '30', 4)"
   ]
  },
  {
   "cell_type": "code",
   "execution_count": 622,
   "metadata": {},
   "outputs": [],
   "source": [
    "get_data(healthy_CIK_list, 'healthy', '2018', '12', '30', 5)"
   ]
  },
  {
   "cell_type": "code",
   "execution_count": 623,
   "metadata": {},
   "outputs": [],
   "source": [
    "get_data(healthy_CIK_list, 'healthy', '2018', '12', '30', 6)"
   ]
  },
  {
   "cell_type": "code",
   "execution_count": 624,
   "metadata": {},
   "outputs": [],
   "source": [
    "get_data(healthy_CIK_list, 'healthy', '2018', '12', '30', 7)"
   ]
  },
  {
   "cell_type": "code",
   "execution_count": 625,
   "metadata": {},
   "outputs": [],
   "source": [
    "get_data(healthy_CIK_list, 'healthy', '2018', '12', '30', 8)"
   ]
  },
  {
   "cell_type": "code",
   "execution_count": 626,
   "metadata": {},
   "outputs": [],
   "source": [
    "get_data(healthy_CIK_list, 'healthy', '2018', '12', '30', 9)"
   ]
  },
  {
   "cell_type": "code",
   "execution_count": 627,
   "metadata": {},
   "outputs": [],
   "source": [
    "get_data(healthy_CIK_list, 'healthy', '2018', '12', '30', 10)"
   ]
  },
  {
   "cell_type": "code",
   "execution_count": 628,
   "metadata": {},
   "outputs": [],
   "source": [
    "get_data(healthy_CIK_list, 'healthy', '2018', '12', '30', 11)"
   ]
  },
  {
   "cell_type": "code",
   "execution_count": 629,
   "metadata": {},
   "outputs": [],
   "source": [
    "get_data(healthy_CIK_list, 'healthy', '2018', '12', '30', 12)"
   ]
  },
  {
   "cell_type": "code",
   "execution_count": 630,
   "metadata": {},
   "outputs": [],
   "source": [
    "get_data(healthy_CIK_list, 'healthy', '2018', '12', '30', 13)"
   ]
  },
  {
   "cell_type": "code",
   "execution_count": 631,
   "metadata": {},
   "outputs": [],
   "source": [
    "get_data(healthy_CIK_list, 'healthy', '2018', '12', '30', 14)"
   ]
  },
  {
   "cell_type": "code",
   "execution_count": 632,
   "metadata": {},
   "outputs": [],
   "source": [
    "get_data(healthy_CIK_list, 'healthy', '2018', '12', '30', 15)"
   ]
  },
  {
   "cell_type": "code",
   "execution_count": 633,
   "metadata": {},
   "outputs": [],
   "source": [
    "get_data(healthy_CIK_list, 'healthy', '2018', '12', '30', 16)"
   ]
  },
  {
   "cell_type": "code",
   "execution_count": 634,
   "metadata": {},
   "outputs": [],
   "source": [
    "get_data(healthy_CIK_list, 'healthy', '2018', '12', '30', 17)"
   ]
  },
  {
   "cell_type": "code",
   "execution_count": 635,
   "metadata": {},
   "outputs": [],
   "source": [
    "get_data(healthy_CIK_list, 'healthy', '2018', '12', '30', 18)"
   ]
  },
  {
   "cell_type": "code",
   "execution_count": 636,
   "metadata": {},
   "outputs": [],
   "source": [
    "get_data(healthy_CIK_list, 'healthy', '2018', '12', '30', 19)"
   ]
  },
  {
   "cell_type": "code",
   "execution_count": 637,
   "metadata": {},
   "outputs": [],
   "source": [
    "get_data(healthy_CIK_list, 'healthy', '2018', '12', '30', 20)"
   ]
  },
  {
   "cell_type": "code",
   "execution_count": 638,
   "metadata": {},
   "outputs": [],
   "source": [
    "get_data(healthy_CIK_list, 'healthy', '2018', '12', '30', 21)"
   ]
  },
  {
   "cell_type": "code",
   "execution_count": 639,
   "metadata": {},
   "outputs": [],
   "source": [
    "get_data(healthy_CIK_list, 'healthy', '2018', '12', '30', 22)"
   ]
  },
  {
   "cell_type": "code",
   "execution_count": 640,
   "metadata": {},
   "outputs": [],
   "source": [
    "get_data(healthy_CIK_list, 'healthy', '2018', '12', '30', 23)"
   ]
  },
  {
   "cell_type": "code",
   "execution_count": 641,
   "metadata": {},
   "outputs": [],
   "source": [
    "get_data(healthy_CIK_list, 'healthy', '2018', '12', '30', 24)"
   ]
  },
  {
   "cell_type": "code",
   "execution_count": 642,
   "metadata": {},
   "outputs": [],
   "source": [
    "get_data(healthy_CIK_list, 'healthy', '2018', '12', '30', 25)"
   ]
  },
  {
   "cell_type": "code",
   "execution_count": 643,
   "metadata": {},
   "outputs": [],
   "source": [
    "get_data(healthy_CIK_list, 'healthy', '2018', '12', '30', 26)"
   ]
  },
  {
   "cell_type": "code",
   "execution_count": 644,
   "metadata": {},
   "outputs": [],
   "source": [
    "get_data(healthy_CIK_list, 'healthy', '2018', '12', '30', 27)"
   ]
  },
  {
   "cell_type": "code",
   "execution_count": 645,
   "metadata": {},
   "outputs": [],
   "source": [
    "get_data(healthy_CIK_list, 'healthy', '2018', '12', '30', 28)"
   ]
  },
  {
   "cell_type": "code",
   "execution_count": null,
   "metadata": {},
   "outputs": [],
   "source": [
    "get_data(healthy_CIK_list, 'healthy', '2018', '12', '30', 29)"
   ]
  },
  {
   "cell_type": "code",
   "execution_count": null,
   "metadata": {},
   "outputs": [],
   "source": []
  },
  {
   "cell_type": "code",
   "execution_count": null,
   "metadata": {},
   "outputs": [],
   "source": [
    "get_data(healthy_CIK_list, 'healthy', '2019', '12', '30', 0)"
   ]
  },
  {
   "cell_type": "code",
   "execution_count": null,
   "metadata": {},
   "outputs": [],
   "source": [
    "get_data(healthy_CIK_list, 'healthy', '2019', '12', '30', 1)"
   ]
  },
  {
   "cell_type": "code",
   "execution_count": null,
   "metadata": {},
   "outputs": [],
   "source": [
    "get_data(healthy_CIK_list, 'healthy', '2019', '12', '30', 2)"
   ]
  },
  {
   "cell_type": "code",
   "execution_count": null,
   "metadata": {},
   "outputs": [],
   "source": [
    "get_data(healthy_CIK_list, 'healthy', '2019', '12', '30', 3)"
   ]
  },
  {
   "cell_type": "code",
   "execution_count": null,
   "metadata": {},
   "outputs": [],
   "source": [
    "get_data(healthy_CIK_list, 'healthy', '2019', '12', '30', 4)"
   ]
  },
  {
   "cell_type": "code",
   "execution_count": null,
   "metadata": {},
   "outputs": [],
   "source": [
    "get_data(healthy_CIK_list, 'healthy', '2019', '12', '30', 5)"
   ]
  },
  {
   "cell_type": "code",
   "execution_count": null,
   "metadata": {},
   "outputs": [],
   "source": [
    "get_data(healthy_CIK_list, 'healthy', '2019', '12', '30', 6)"
   ]
  },
  {
   "cell_type": "code",
   "execution_count": null,
   "metadata": {},
   "outputs": [],
   "source": [
    "get_data(healthy_CIK_list, 'healthy', '2019', '12', '30', 7)"
   ]
  },
  {
   "cell_type": "code",
   "execution_count": null,
   "metadata": {},
   "outputs": [],
   "source": [
    "get_data(healthy_CIK_list, 'healthy', '2019', '12', '30', 8)"
   ]
  },
  {
   "cell_type": "code",
   "execution_count": null,
   "metadata": {},
   "outputs": [],
   "source": [
    "get_data(healthy_CIK_list, 'healthy', '2019', '12', '30', 9)"
   ]
  },
  {
   "cell_type": "code",
   "execution_count": null,
   "metadata": {},
   "outputs": [],
   "source": [
    "get_data(healthy_CIK_list, 'healthy', '2019', '12', '30', 10)"
   ]
  },
  {
   "cell_type": "code",
   "execution_count": null,
   "metadata": {},
   "outputs": [],
   "source": [
    "get_data(healthy_CIK_list, 'healthy', '2019', '12', '30', 11)"
   ]
  },
  {
   "cell_type": "code",
   "execution_count": null,
   "metadata": {},
   "outputs": [],
   "source": [
    "get_data(healthy_CIK_list, 'healthy', '2019', '12', '30', 12)"
   ]
  },
  {
   "cell_type": "code",
   "execution_count": null,
   "metadata": {},
   "outputs": [],
   "source": [
    "get_data(healthy_CIK_list, 'healthy', '2019', '12', '30', 13)"
   ]
  },
  {
   "cell_type": "code",
   "execution_count": null,
   "metadata": {},
   "outputs": [],
   "source": [
    "get_data(healthy_CIK_list, 'healthy', '2019', '12', '30', 14)"
   ]
  },
  {
   "cell_type": "code",
   "execution_count": null,
   "metadata": {},
   "outputs": [],
   "source": [
    "get_data(healthy_CIK_list, 'healthy', '2019', '12', '30', 15)"
   ]
  },
  {
   "cell_type": "code",
   "execution_count": null,
   "metadata": {},
   "outputs": [],
   "source": [
    "get_data(healthy_CIK_list, 'healthy', '2019', '12', '30', 16)"
   ]
  },
  {
   "cell_type": "code",
   "execution_count": null,
   "metadata": {},
   "outputs": [],
   "source": [
    "get_data(healthy_CIK_list, 'healthy', '2019', '12', '30', 17)"
   ]
  },
  {
   "cell_type": "code",
   "execution_count": null,
   "metadata": {},
   "outputs": [],
   "source": [
    "get_data(healthy_CIK_list, 'healthy', '2019', '12', '30', 18)"
   ]
  },
  {
   "cell_type": "code",
   "execution_count": null,
   "metadata": {},
   "outputs": [],
   "source": [
    "get_data(healthy_CIK_list, 'healthy', '2019', '12', '30', 19)"
   ]
  },
  {
   "cell_type": "code",
   "execution_count": null,
   "metadata": {},
   "outputs": [],
   "source": [
    "get_data(healthy_CIK_list, 'healthy', '2019', '12', '30', 20)"
   ]
  },
  {
   "cell_type": "code",
   "execution_count": null,
   "metadata": {},
   "outputs": [],
   "source": [
    "get_data(healthy_CIK_list, 'healthy', '2019', '12', '30', 21)"
   ]
  },
  {
   "cell_type": "code",
   "execution_count": null,
   "metadata": {},
   "outputs": [],
   "source": [
    "get_data(healthy_CIK_list, 'healthy', '2019', '12', '30', 22)"
   ]
  },
  {
   "cell_type": "code",
   "execution_count": null,
   "metadata": {},
   "outputs": [],
   "source": [
    "get_data(healthy_CIK_list, 'healthy', '2019', '12', '30', 23)"
   ]
  },
  {
   "cell_type": "code",
   "execution_count": null,
   "metadata": {},
   "outputs": [],
   "source": [
    "get_data(healthy_CIK_list, 'healthy', '2019', '12', '30', 24)"
   ]
  },
  {
   "cell_type": "code",
   "execution_count": null,
   "metadata": {},
   "outputs": [],
   "source": [
    "get_data(healthy_CIK_list, 'healthy', '2019', '12', '30', 25)"
   ]
  },
  {
   "cell_type": "code",
   "execution_count": null,
   "metadata": {},
   "outputs": [],
   "source": [
    "get_data(healthy_CIK_list, 'healthy', '2019', '12', '30', 26)"
   ]
  },
  {
   "cell_type": "code",
   "execution_count": null,
   "metadata": {},
   "outputs": [],
   "source": [
    "get_data(healthy_CIK_list, 'healthy', '2019', '12', '30', 27)"
   ]
  },
  {
   "cell_type": "code",
   "execution_count": null,
   "metadata": {},
   "outputs": [],
   "source": [
    "get_data(healthy_CIK_list, 'healthy', '2019', '12', '30', 28)"
   ]
  },
  {
   "cell_type": "code",
   "execution_count": null,
   "metadata": {},
   "outputs": [],
   "source": [
    "get_data(healthy_CIK_list, 'healthy', '2019', '12', '30', 29)"
   ]
  }
 ],
 "metadata": {
  "kernelspec": {
   "display_name": "Python 3",
   "language": "python",
   "name": "python3"
  },
  "language_info": {
   "codemirror_mode": {
    "name": "ipython",
    "version": 3
   },
   "file_extension": ".py",
   "mimetype": "text/x-python",
   "name": "python",
   "nbconvert_exporter": "python",
   "pygments_lexer": "ipython3",
   "version": "3.7.3"
  }
 },
 "nbformat": 4,
 "nbformat_minor": 2
}
