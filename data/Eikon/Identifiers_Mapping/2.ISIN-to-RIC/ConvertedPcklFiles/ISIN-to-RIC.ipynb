{
 "cells": [
  {
   "cell_type": "code",
   "execution_count": 24,
   "metadata": {},
   "outputs": [],
   "source": [
    "import eikon as ek\n",
    "import pandas as pd\n",
    "import pickle\n",
    "import configparser as cp"
   ]
  },
  {
   "cell_type": "markdown",
   "metadata": {},
   "source": [
    "## Connecting to Eikon Data API"
   ]
  },
  {
   "cell_type": "code",
   "execution_count": 26,
   "metadata": {},
   "outputs": [],
   "source": [
    "cfg = cp.ConfigParser()\n",
    "cfg.read('eikon.cfg')\n",
    "\n",
    "# set_app_id function being deprecated\n",
    "ek.set_app_key(cfg['eikon']['app_id'])"
   ]
  },
  {
   "cell_type": "markdown",
   "metadata": {},
   "source": [
    "### Load ISIN and RIC list-pickles"
   ]
  },
  {
   "cell_type": "code",
   "execution_count": 6,
   "metadata": {},
   "outputs": [],
   "source": [
    "path = '/Users/user/Documents/Bankruptcy/bankruptcy/data/Eikon/Lists'\n",
    "\n",
    "with open(path + '/bankrupt_ISIN.txt', 'rb') as f:\n",
    "    bankrupt_ISIN = pickle.load(f)\n",
    "\n",
    "with open(path + '/bankrupt_RIC.txt', 'rb') as f:\n",
    "    bankrupt_RIC = pickle.load(f)\n",
    "\n",
    "with open(path + '/healthy_ISIN.txt', 'rb') as f:\n",
    "    healthy_ISIN = pickle.load(f)\n",
    "\n",
    "with open(path + '/healthy_RIC.txt', 'rb') as f:\n",
    "    healthy_RIC = pickle.load(f)"
   ]
  },
  {
   "cell_type": "markdown",
   "metadata": {},
   "source": [
    "### Convert ISIN codes to RICs and vice versa"
   ]
  },
  {
   "cell_type": "markdown",
   "metadata": {},
   "source": [
    "#### Bankrupt Companies"
   ]
  },
  {
   "cell_type": "code",
   "execution_count": 7,
   "metadata": {},
   "outputs": [],
   "source": [
    "# bankrupt ISIN to RIC\n",
    "bankrupt_ISIN2RIC = ek.get_symbology(bankrupt_ISIN, from_symbol_type='ISIN', to_symbol_type='RIC')\n",
    "with open('bankrupt_ISIN2RIC.txt', 'wb') as f:\n",
    "    pickle.dump(bankrupt_ISIN2RIC, f)\n",
    "    \n",
    "# bankrupt RIC to ISIN\n",
    "bankrupt_RIC2ISIN = ek.get_symbology(bankrupt_RIC, from_symbol_type='RIC', to_symbol_type='ISIN')\n",
    "with open('bankrupt_RIC2ISIN.txt', 'wb') as f:\n",
    "    pickle.dump(bankrupt_RIC2ISIN, f)"
   ]
  },
  {
   "cell_type": "markdown",
   "metadata": {},
   "source": [
    "#### Healthy Companies"
   ]
  },
  {
   "cell_type": "code",
   "execution_count": 9,
   "metadata": {},
   "outputs": [
    {
     "data": {
      "text/plain": [
       "20083"
      ]
     },
     "execution_count": 9,
     "metadata": {},
     "output_type": "execute_result"
    }
   ],
   "source": [
    "# we need to use smaller lists for conversion\n",
    "len(healthy_ISIN)"
   ]
  },
  {
   "cell_type": "code",
   "execution_count": 30,
   "metadata": {},
   "outputs": [
    {
     "name": "stdout",
     "output_type": "stream",
     "text": [
      "3000\n",
      "3000\n",
      "3000\n",
      "1705\n"
     ]
    }
   ],
   "source": [
    "# we divide hte healthy lists into 3000-item chunks\n",
    "\n",
    "# for ISIN lists\n",
    "healthy_ISIN_1 = healthy_ISIN[:3000]\n",
    "healthy_ISIN_2 = healthy_ISIN[3000:6000]\n",
    "healthy_ISIN_3 = healthy_ISIN[6000:9000]\n",
    "healthy_ISIN_4 = healthy_ISIN[9000:12000]\n",
    "healthy_ISIN_5 = healthy_ISIN[12000:15000]\n",
    "healthy_ISIN_6 = healthy_ISIN[15000:18000]\n",
    "healthy_ISIN_7 = healthy_ISIN[18000:]\n",
    "\n",
    "# and also RIC lists\n",
    "healthy_RIC_1 = healthy_RIC[:3000]\n",
    "healthy_RIC_2 = healthy_RIC[3000:6000]\n",
    "healthy_RIC_3 = healthy_RIC[6000:9000]\n",
    "healthy_RIC_4 = healthy_RIC[9000:12000]\n",
    "\n",
    "\n",
    "print(len(healthy_RIC_1))\n",
    "print(len(healthy_RIC_2))\n",
    "print(len(healthy_RIC_3))\n",
    "print(len(healthy_RIC_4))\n"
   ]
  },
  {
   "cell_type": "code",
   "execution_count": 20,
   "metadata": {},
   "outputs": [],
   "source": [
    "# healthy ISIN to RIC\n",
    "\n",
    "healthy_ISIN2RIC1 = ek.get_symbology(healthy_ISIN_1, from_symbol_type='ISIN', to_symbol_type='RIC')\n",
    "healthy_ISIN2RIC2 = ek.get_symbology(healthy_ISIN_2, from_symbol_type='ISIN', to_symbol_type='RIC')\n",
    "healthy_ISIN2RIC3 = ek.get_symbology(healthy_ISIN_3, from_symbol_type='ISIN', to_symbol_type='RIC')\n",
    "healthy_ISIN2RIC4 = ek.get_symbology(healthy_ISIN_4, from_symbol_type='ISIN', to_symbol_type='RIC')\n",
    "healthy_ISIN2RIC5 = ek.get_symbology(healthy_ISIN_5, from_symbol_type='ISIN', to_symbol_type='RIC')\n",
    "healthy_ISIN2RIC6 = ek.get_symbology(healthy_ISIN_6, from_symbol_type='ISIN', to_symbol_type='RIC')\n",
    "healthy_ISIN2RIC7 = ek.get_symbology(healthy_ISIN_7, from_symbol_type='ISIN', to_symbol_type='RIC')\n",
    "\n",
    "healthy_ISIN2RIC = pd.concat([healthy_ISIN2RIC1, healthy_ISIN2RIC2, healthy_ISIN2RIC3, healthy_ISIN2RIC4,\n",
    "                             healthy_ISIN2RIC5, healthy_ISIN2RIC6, healthy_ISIN2RIC7])\n"
   ]
  },
  {
   "cell_type": "code",
   "execution_count": 22,
   "metadata": {},
   "outputs": [
    {
     "name": "stdout",
     "output_type": "stream",
     "text": [
      "19748\n"
     ]
    },
    {
     "data": {
      "text/html": [
       "<div>\n",
       "<style scoped>\n",
       "    .dataframe tbody tr th:only-of-type {\n",
       "        vertical-align: middle;\n",
       "    }\n",
       "\n",
       "    .dataframe tbody tr th {\n",
       "        vertical-align: top;\n",
       "    }\n",
       "\n",
       "    .dataframe thead th {\n",
       "        text-align: right;\n",
       "    }\n",
       "</style>\n",
       "<table border=\"1\" class=\"dataframe\">\n",
       "  <thead>\n",
       "    <tr style=\"text-align: right;\">\n",
       "      <th></th>\n",
       "      <th>RIC</th>\n",
       "      <th>error</th>\n",
       "    </tr>\n",
       "  </thead>\n",
       "  <tbody>\n",
       "    <tr>\n",
       "      <th>US0003611052</th>\n",
       "      <td>AIR</td>\n",
       "      <td>NaN</td>\n",
       "    </tr>\n",
       "    <tr>\n",
       "      <th>US0008863096</th>\n",
       "      <td>NaN</td>\n",
       "      <td>No best match available</td>\n",
       "    </tr>\n",
       "    <tr>\n",
       "      <th>US0010582056</th>\n",
       "      <td>IWKS.PK</td>\n",
       "      <td>NaN</td>\n",
       "    </tr>\n",
       "    <tr>\n",
       "      <th>US0208131013</th>\n",
       "      <td>NaN</td>\n",
       "      <td>No best match available</td>\n",
       "    </tr>\n",
       "    <tr>\n",
       "      <th>US02376R1023</th>\n",
       "      <td>AAL.O</td>\n",
       "      <td>NaN</td>\n",
       "    </tr>\n",
       "  </tbody>\n",
       "</table>\n",
       "</div>"
      ],
      "text/plain": [
       "                  RIC                    error\n",
       "US0003611052      AIR                      NaN\n",
       "US0008863096      NaN  No best match available\n",
       "US0010582056  IWKS.PK                      NaN\n",
       "US0208131013      NaN  No best match available\n",
       "US02376R1023    AAL.O                      NaN"
      ]
     },
     "execution_count": 22,
     "metadata": {},
     "output_type": "execute_result"
    }
   ],
   "source": [
    "print(len(healthy_ISIN2RIC))\n",
    "healthy_ISIN2RIC.head()"
   ]
  },
  {
   "cell_type": "code",
   "execution_count": 23,
   "metadata": {},
   "outputs": [],
   "source": [
    "# store the dataframe\n",
    "\n",
    "with open('healthy_ISIN2RIC.txt', 'wb') as f:\n",
    "    pickle.dump(healthy_ISIN2RIC, f)"
   ]
  },
  {
   "cell_type": "markdown",
   "metadata": {},
   "source": [
    "****"
   ]
  },
  {
   "cell_type": "code",
   "execution_count": 31,
   "metadata": {},
   "outputs": [],
   "source": [
    "# healthy RIC to ISIN\n",
    "\n",
    "healthy_RIC2ISIN1 = ek.get_symbology(healthy_RIC_1, from_symbol_type='RIC', to_symbol_type='ISIN')\n",
    "healthy_RIC2ISIN2 = ek.get_symbology(healthy_RIC_2, from_symbol_type='RIC', to_symbol_type='ISIN')\n",
    "healthy_RIC2ISIN3 = ek.get_symbology(healthy_RIC_3, from_symbol_type='RIC', to_symbol_type='ISIN')\n",
    "healthy_RIC2ISIN4 = ek.get_symbology(healthy_RIC_4, from_symbol_type='RIC', to_symbol_type='ISIN')\n",
    "\n",
    "healthy_RIC2ISIN = pd.concat([healthy_RIC2ISIN1, healthy_RIC2ISIN2, healthy_RIC2ISIN3, healthy_RIC2ISIN4])\n",
    "\n"
   ]
  },
  {
   "cell_type": "code",
   "execution_count": 32,
   "metadata": {},
   "outputs": [
    {
     "name": "stdout",
     "output_type": "stream",
     "text": [
      "10639\n"
     ]
    },
    {
     "data": {
      "text/html": [
       "<div>\n",
       "<style scoped>\n",
       "    .dataframe tbody tr th:only-of-type {\n",
       "        vertical-align: middle;\n",
       "    }\n",
       "\n",
       "    .dataframe tbody tr th {\n",
       "        vertical-align: top;\n",
       "    }\n",
       "\n",
       "    .dataframe thead th {\n",
       "        text-align: right;\n",
       "    }\n",
       "</style>\n",
       "<table border=\"1\" class=\"dataframe\">\n",
       "  <thead>\n",
       "    <tr style=\"text-align: right;\">\n",
       "      <th></th>\n",
       "      <th>ISIN</th>\n",
       "      <th>error</th>\n",
       "    </tr>\n",
       "  </thead>\n",
       "  <tbody>\n",
       "    <tr>\n",
       "      <th>AIR</th>\n",
       "      <td>US0003611052</td>\n",
       "      <td>NaN</td>\n",
       "    </tr>\n",
       "    <tr>\n",
       "      <th>IWKS.PK</th>\n",
       "      <td>US0010582056</td>\n",
       "      <td>NaN</td>\n",
       "    </tr>\n",
       "    <tr>\n",
       "      <th>CECE.O</th>\n",
       "      <td>US1251411013</td>\n",
       "      <td>NaN</td>\n",
       "    </tr>\n",
       "    <tr>\n",
       "      <th>ASA</th>\n",
       "      <td>BMG3156P1032</td>\n",
       "      <td>NaN</td>\n",
       "    </tr>\n",
       "    <tr>\n",
       "      <th>AVX</th>\n",
       "      <td>US0024441075</td>\n",
       "      <td>NaN</td>\n",
       "    </tr>\n",
       "  </tbody>\n",
       "</table>\n",
       "</div>"
      ],
      "text/plain": [
       "                 ISIN error\n",
       "AIR      US0003611052   NaN\n",
       "IWKS.PK  US0010582056   NaN\n",
       "CECE.O   US1251411013   NaN\n",
       "ASA      BMG3156P1032   NaN\n",
       "AVX      US0024441075   NaN"
      ]
     },
     "execution_count": 32,
     "metadata": {},
     "output_type": "execute_result"
    }
   ],
   "source": [
    "print(len(healthy_RIC2ISIN))\n",
    "healthy_RIC2ISIN.head()"
   ]
  },
  {
   "cell_type": "code",
   "execution_count": 33,
   "metadata": {},
   "outputs": [],
   "source": [
    "# store the dataframe\n",
    "\n",
    "with open('healthy_RIC2ISIN.txt', 'wb') as f:\n",
    "    pickle.dump(healthy_RIC2ISIN, f)"
   ]
  }
 ],
 "metadata": {
  "kernelspec": {
   "display_name": "Python 3",
   "language": "python",
   "name": "python3"
  },
  "language_info": {
   "codemirror_mode": {
    "name": "ipython",
    "version": 3
   },
   "file_extension": ".py",
   "mimetype": "text/x-python",
   "name": "python",
   "nbconvert_exporter": "python",
   "pygments_lexer": "ipython3",
   "version": "3.7.3"
  }
 },
 "nbformat": 4,
 "nbformat_minor": 2
}
