{
 "cells": [
  {
   "cell_type": "code",
   "execution_count": 1,
   "metadata": {},
   "outputs": [],
   "source": [
    "import pickle\n",
    "import numpy as np\n",
    "import pandas as pd"
   ]
  },
  {
   "cell_type": "code",
   "execution_count": null,
   "metadata": {},
   "outputs": [],
   "source": [
    "# reading the pickled dataframes\n",
    "with open('ConvertedPcklFiles/bankrupt_ISIN2RIC.txt', 'rb') as fp:\n",
    "    bankrupt_ISIN2RIC = pickle.load(fp)\n",
    "\n",
    "with open('ConvertedPcklFiles/bankrupt_RIC2ISIN.txt', 'rb') as fp:\n",
    "    bankrupt_RIC2ISIN = pickle.load(fp)\n",
    "\n",
    "with open('ConvertedPcklFiles/healthy_ISIN2RIC.txt', 'rb') as fp:\n",
    "    healthy_ISIN2RIC = pickle.load(fp)\n",
    "\n",
    "with open('ConvertedPcklFiles/healthy_RIC2ISIN.txt', 'rb') as fp:\n",
    "    healthy_RIC2ISIN = pickle.load(fp)\n",
    "    \n",
    "# trim the dataframe\n",
    "bankrupt_ISIN2RIC.reset_index(level=0, inplace=True)\n",
    "bankrupt_ISIN2RIC.rename(columns={\"index\": \"ISIN\"})\n",
    "bankrupt_ISIN2RIC.rename(columns={'RIC':'ISIN'})\n",
    "bankrupt_RIC2ISIN.reset_index(inplace=True)\n",
    "healthy_ISIN2RIC.reset_index(inplace=True)\n",
    "healthy_RIC2ISIN.reset_index(inplace=True)\n"
   ]
  },
  {
   "cell_type": "code",
   "execution_count": null,
   "metadata": {},
   "outputs": [],
   "source": [
    "# have a peak at the dataframes\n",
    "print(bankrupt_ISIN2RIC.head())\n",
    "print()\n",
    "print(bankrupt_RIC2ISIN.head())\n",
    "print()\n",
    "print(healthy_ISIN2RIC.head())\n",
    "print()\n",
    "print(healthy_RIC2ISIN.head())"
   ]
  },
  {
   "cell_type": "code",
   "execution_count": null,
   "metadata": {},
   "outputs": [],
   "source": [
    "df = pd.DataFrame({\"A\": [1, 2, 3], \"B\": [4, 5, 6]})\n",
    "\n",
    "df"
   ]
  },
  {
   "cell_type": "code",
   "execution_count": null,
   "metadata": {},
   "outputs": [],
   "source": []
  },
  {
   "cell_type": "code",
   "execution_count": null,
   "metadata": {},
   "outputs": [],
   "source": [
    "# read the bankrupt and healthy dataframe from previous conversion\n",
    "\n",
    "# set the path\n",
    "# path = 'D:\\\\studyproject\\\\bankruptcy\\\\data\\\\Eikon\\\\Identifiers_Mapping' + \\\n",
    "#         '\\\\1.CUSIP-to-ISIN\\\\'  # for win\n",
    "path = '/Users/user/Documents/Bankruptcy/bankruptcy/data/Eikon/'  + \\\n",
    "       'Identifiers_Mapping/1.CUSIP-to-ISIN/' # for mac\n",
    "\n",
    "# the files that should be read\n",
    "# bankrupt = pd.read_csv(path + '1.bankrupt_listv2.csv', dtype=object, index_col=[0])\n",
    "# healthy = pd.read_csv(path + '1.healthy_listv2.csv', dtype=object, index_col=[0])\n",
    "# the test files\n",
    "bankrupt = pd.read_csv(path + '1.bankrupt_list.csv', dtype=object, index_col=[0])\n",
    "healthy = pd.read_csv(path + '1.healthy_list.csv', dtype=object, index_col=[0])\n",
    "\n",
    "\n",
    "bankrupt.head()"
   ]
  },
  {
   "cell_type": "code",
   "execution_count": null,
   "metadata": {},
   "outputs": [],
   "source": [
    "healthy.head()"
   ]
  },
  {
   "cell_type": "code",
   "execution_count": null,
   "metadata": {},
   "outputs": [],
   "source": [
    "# first extract two final dataframes from\n",
    "# bankupt and healthy dataframes that only includes\n",
    "# companies with one and only one ISIN, this way the\n",
    "# RIC is taken care of, cause there's no company wit\n",
    "# RIC missing ISIN, anyway...\n",
    "\n",
    "# exclude NANs\n",
    "bankrupt_ek = bankrupt[bankrupt['ISIN'] == bankrupt['ISIN']]\n",
    "healthy_ek = healthy[healthy['ISIN'] == healthy['ISIN']]\n",
    "\n",
    "# exclude double-ISINs\n",
    "bankrupt_ek = bankrupt_ek[~bankrupt_ek.ISIN.str.contains(' - ')]\n",
    "healthy_ek = healthy_ek[~healthy_ek.ISIN.str.contains(' - ')]\n",
    "\n",
    "bankrupt.head()"
   ]
  },
  {
   "cell_type": "code",
   "execution_count": null,
   "metadata": {},
   "outputs": [],
   "source": [
    "healthy.head()"
   ]
  },
  {
   "cell_type": "code",
   "execution_count": null,
   "metadata": {},
   "outputs": [],
   "source": [
    "# now simp"
   ]
  }
 ],
 "metadata": {
  "kernelspec": {
   "display_name": "Python 3",
   "language": "python",
   "name": "python3"
  },
  "language_info": {
   "codemirror_mode": {
    "name": "ipython",
    "version": 3
   },
   "file_extension": ".py",
   "mimetype": "text/x-python",
   "name": "python",
   "nbconvert_exporter": "python",
   "pygments_lexer": "ipython3",
   "version": "3.6.3"
  }
 },
 "nbformat": 4,
 "nbformat_minor": 2
}
