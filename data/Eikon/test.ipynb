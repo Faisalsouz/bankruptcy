{
 "cells": [
  {
   "cell_type": "code",
   "execution_count": 1,
   "metadata": {},
   "outputs": [],
   "source": [
    "import os\n",
    "import eikon as ek\n",
    "import numpy as np\n",
    "import pickle\n",
    "import pandas as pd\n",
    "import cufflinks as cf\n",
    "import configparser as cp"
   ]
  },
  {
   "cell_type": "code",
   "execution_count": 2,
   "metadata": {},
   "outputs": [
    {
     "data": {
      "text/plain": [
       "['eikon.cfg']"
      ]
     },
     "execution_count": 2,
     "metadata": {},
     "output_type": "execute_result"
    }
   ],
   "source": [
    "cfg = cp.ConfigParser()\n",
    "cfg.read('eikon.cfg')  # adjust for different file location"
   ]
  },
  {
   "cell_type": "code",
   "execution_count": 3,
   "metadata": {},
   "outputs": [],
   "source": [
    "ek.set_app_key(cfg['eikon']['app_id']) #set_app_id function being deprecated"
   ]
  },
  {
   "cell_type": "code",
   "execution_count": 26,
   "metadata": {},
   "outputs": [],
   "source": [
    "something = ek.get_data('SCREEN(IN(TR.PZPHasFiledForBankruptcy, Y))','TR.CommonName')\n"
   ]
  },
  {
   "cell_type": "code",
   "execution_count": 27,
   "metadata": {},
   "outputs": [
    {
     "data": {
      "text/plain": [
       "(                                          NaN  TR.COMMONNAME\n",
       " 0  SCREEN(IN(TR.PZPHasFiledForBankruptcy, Y))            NaN,\n",
       " [{'code': 800,\n",
       "   'col': 1,\n",
       "   'message': 'SCREEN(IN(TR.PZPHasFiledForBankruptcy, Y)) processing failed.',\n",
       "   'row': 0}])"
      ]
     },
     "execution_count": 27,
     "metadata": {},
     "output_type": "execute_result"
    }
   ],
   "source": [
    "something\n"
   ]
  },
  {
   "cell_type": "code",
   "execution_count": 30,
   "metadata": {},
   "outputs": [],
   "source": [
    "br_bool = ek.get_data(['GSCQ.PK^L09', 'BMERQ.PK^D16', 'SLF.TO','GRRP.PK'], fields=['TR.PZPHasFiledForBankruptcy']) # b,b,h, b\n",
    "br_date = ek.get_data(['GSCQ.PK^L09', 'BMERQ.PK^D16', 'SLF.TO','GRRP.PK'], fields=['TR.PZPBankruptcyFilingDate']) # b,b,h, b"
   ]
  },
  {
   "cell_type": "code",
   "execution_count": 31,
   "metadata": {},
   "outputs": [
    {
     "data": {
      "text/plain": [
       "(     Instrument  Has Filed For Bankruptcy\n",
       " 0   GSCQ.PK^L09                       NaN\n",
       " 1  BMERQ.PK^D16                       NaN\n",
       " 2        SLF.TO                       NaN\n",
       " 3       GRRP.PK                       NaN, None)"
      ]
     },
     "execution_count": 31,
     "metadata": {},
     "output_type": "execute_result"
    }
   ],
   "source": [
    "br_bool"
   ]
  },
  {
   "cell_type": "code",
   "execution_count": 32,
   "metadata": {},
   "outputs": [
    {
     "data": {
      "text/plain": [
       "(     Instrument  Bankruptcy Filing Date\n",
       " 0   GSCQ.PK^L09                     NaN\n",
       " 1  BMERQ.PK^D16                     NaN\n",
       " 2        SLF.TO                     NaN\n",
       " 3       GRRP.PK                     NaN, None)"
      ]
     },
     "execution_count": 32,
     "metadata": {},
     "output_type": "execute_result"
    }
   ],
   "source": [
    "br_date"
   ]
  },
  {
   "cell_type": "code",
   "execution_count": 15,
   "metadata": {},
   "outputs": [],
   "source": [
    "path_xlsx = '/Users/user/Documents/Bankruptcy/bankruptcy/data/Eikon/' + \\\n",
    "       'Identifiers_Mapping/1.CUSIP-to-ISIN/' # for mac\n",
    "    \n",
    "bankrupt_m = pd.read_excel(path_xlsx + '1.bankrupt_list_v2.xlsx', sheet_name='1.bankrupt_list',\n",
    "                           dtype=object)\n",
    "\n",
    "ric_list = bankrupt_m.RIC.dropna().tolist()\n",
    "\n"
   ]
  },
  {
   "cell_type": "code",
   "execution_count": 16,
   "metadata": {},
   "outputs": [
    {
     "data": {
      "text/plain": [
       "101"
      ]
     },
     "execution_count": 16,
     "metadata": {},
     "output_type": "execute_result"
    }
   ],
   "source": [
    "len(ric_list)"
   ]
  },
  {
   "cell_type": "code",
   "execution_count": 33,
   "metadata": {},
   "outputs": [],
   "source": [
    "# for bankrupt list\n",
    "\n",
    "b_list = ek.get_data(ric_list, fields=['TR.PZPHasFiledForBankruptcy'])\n",
    "d_list = ek.get_data(ric_list, fields=['TR.PZPBankruptcyFilingDate'])"
   ]
  },
  {
   "cell_type": "code",
   "execution_count": 44,
   "metadata": {},
   "outputs": [
    {
     "data": {
      "text/plain": [
       "(          Instrument  Bankruptcy Filing Date\n",
       " 0       AMBEQ.OB^H12                     NaN\n",
       " 1       FCHDQ.PK^K11                     NaN\n",
       " 2        CNST.OQ^A11                     NaN\n",
       " 3       ENERQ.PK^I12                     NaN\n",
       " 4       FLTWQ.PK^H10                     NaN\n",
       " 5         FFEX.O^H13                     NaN\n",
       " 6       GAPTQ.PK^C12                     NaN\n",
       " 7       IBCIQ.PK^B09                     NaN\n",
       " 8        KYC.QAD^I02                     NaN\n",
       " 9       FGMGQ.PK^H14                     NaN\n",
       " 10      PTFCQ.PK^J11                     NaN\n",
       " 11      RONCQ.PK^B12                     NaN\n",
       " 12       SCRD.PK^H09                     NaN\n",
       " 13         SR.TH^C15                     NaN\n",
       " 14      ENCZQ.PK^L10                     NaN\n",
       " 15       BBAO.PK^I08                     NaN\n",
       " 16      CANRQ.PK^A10                     NaN\n",
       " 17      BMERQ.PK^D16                     NaN\n",
       " 18      AXIHQ.PK^F16                     NaN\n",
       " 19      NXXIQ.PK^A12                     NaN\n",
       " 20       NAMS.PK^H09                     NaN\n",
       " 21      FFEDQ.PK^L12                     NaN\n",
       " 22      FWMHQ.PK^G16                     NaN\n",
       " 23      TELTQ.PK^B12                     NaN\n",
       " 24      CORSQ.PK^J11                     NaN\n",
       " 25       HDEF.PK^H09                     NaN\n",
       " 26      LFGRQ.PK^L09                     NaN\n",
       " 27      CSARQ.PK^H09                     NaN\n",
       " 28      VRSOQ.PK^C13                     NaN\n",
       " 29      HAYZQ.PK^L09                     NaN\n",
       " ..               ...                     ...\n",
       " 71   NL0013673908.PA                     NaN\n",
       " 72      HIPPQ.PK^E15                     NaN\n",
       " 73      MSNWQ.PK^G11                     NaN\n",
       " 74      PNCLQ.PK^E13                     NaN\n",
       " 75      ISGTQ.PK^C11                     NaN\n",
       " 76      LUMCQ.PK^G09                     NaN\n",
       " 77      MPCCQ.PK^E11                     NaN\n",
       " 78        FPS.TO^G09                     NaN\n",
       " 79      JRCCQ.PK^C16                     NaN\n",
       " 80        PWBh.V^L11                     NaN\n",
       " 81      ADALF.PK^K10                     NaN\n",
       " 82      ANRZQ.PK^G16                     NaN\n",
       " 83      BOGAQ.OB^J09                     NaN\n",
       " 84      TBSIQ.PK^D12                     NaN\n",
       " 85      GLNHQ.PK^A11                     NaN\n",
       " 86      ASCLF.PK^C10                     NaN\n",
       " 87      TCMIQ.PK^J11                     NaN\n",
       " 88      OSHWQ.PK^B14                     NaN\n",
       " 89      KOMUF.PK^E09                     NaN\n",
       " 90      MFGLQ.PK^F13                     NaN\n",
       " 91      BAXSQ.PK^H15                     NaN\n",
       " 92      GIGIQ.PK^F14                     NaN\n",
       " 93      GFGFQ.PK^E11                     NaN\n",
       " 94      XRGYQ.PK^B16                     NaN\n",
       " 95      UNTKQ.PK^A15                     NaN\n",
       " 96      SMXIQ.PK^H16                     NaN\n",
       " 97        LPR.TO^K13                     NaN\n",
       " 98      PLT_u.TO^L15                     NaN\n",
       " 99      JHTXQ.PK^H11                     NaN\n",
       " 100     DUNRQ.PK^J15                     NaN\n",
       " \n",
       " [101 rows x 2 columns], None)"
      ]
     },
     "execution_count": 44,
     "metadata": {},
     "output_type": "execute_result"
    }
   ],
   "source": [
    "d_list"
   ]
  }
 ],
 "metadata": {
  "kernelspec": {
   "display_name": "Python 3",
   "language": "python",
   "name": "python3"
  },
  "language_info": {
   "codemirror_mode": {
    "name": "ipython",
    "version": 3
   },
   "file_extension": ".py",
   "mimetype": "text/x-python",
   "name": "python",
   "nbconvert_exporter": "python",
   "pygments_lexer": "ipython3",
   "version": "3.6.3"
  }
 },
 "nbformat": 4,
 "nbformat_minor": 2
}
