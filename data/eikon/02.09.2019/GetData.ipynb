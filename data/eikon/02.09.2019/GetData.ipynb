{
 "cells": [
  {
   "cell_type": "code",
   "execution_count": 1,
   "metadata": {},
   "outputs": [],
   "source": [
    "import eikon as ek  # the Eikon Python wrapper package\n",
    "import numpy as np  # NumPy\n",
    "import pandas as pd  # pandas\n",
    "import cufflinks as cf  # Cufflinks\n",
    "import configparser as cp"
   ]
  },
  {
   "cell_type": "markdown",
   "metadata": {},
   "source": [
    "## Connecting to Eikon Data API\n",
    "\n",
    "This code sets the app_id to connect to the Eikon Data API Proxy which needs to be running locally. It requires the previously created text file eikon.cfg to be in the current working directory."
   ]
  },
  {
   "cell_type": "code",
   "execution_count": 2,
   "metadata": {},
   "outputs": [
    {
     "data": {
      "text/plain": [
       "['eikon.cfg']"
      ]
     },
     "execution_count": 2,
     "metadata": {},
     "output_type": "execute_result"
    }
   ],
   "source": [
    "cfg = cp.ConfigParser()\n",
    "cfg.read('eikon.cfg')  # adjust for different file location"
   ]
  },
  {
   "cell_type": "code",
   "execution_count": 3,
   "metadata": {},
   "outputs": [],
   "source": [
    "ek.set_app_key(cfg['eikon']['app_id']) #set_app_id function being deprecated"
   ]
  },
  {
   "cell_type": "markdown",
   "metadata": {},
   "source": [
    "## Converting Symbols"
   ]
  },
  {
   "cell_type": "code",
   "execution_count": 52,
   "metadata": {},
   "outputs": [
    {
     "name": "stdout",
     "output_type": "stream",
     "text": [
      "112\n",
      "112\n",
      "20708\n",
      "20766\n"
     ]
    }
   ],
   "source": [
    "# read data for bankrupt and healthy companies\n",
    "# read the list of bankrupt companies\n",
    "bankrupt = pd.read_csv('bankrupt.csv')\n",
    "healthy = pd.read_csv('healthy.csv')\n",
    "\n",
    "# get the tickers\n",
    "bankrupt_ticker = bankrupt['Ticker'].tolist()\n",
    "healthy_ticker = healthy['Ticker'].tolist()\n",
    "\n",
    "# get CUSIP\n",
    "bankrupt_cusip = bankrupt['CUSIP'].tolist()\n",
    "healthy_cusip = healthy['CUSIP'].tolist()\n",
    "\n",
    "print(len(set(bankrupt_ticker)))\n",
    "print(len(set(bankrupt_cusip)))\n",
    "print(len(set(healthy_ticker)))\n",
    "print(len(set(healthy_cusip)))\n"
   ]
  },
  {
   "cell_type": "markdown",
   "metadata": {},
   "source": [
    "### Bankrupt: Ticker to RIC"
   ]
  },
  {
   "cell_type": "code",
   "execution_count": 41,
   "metadata": {},
   "outputs": [
    {
     "name": "stdout",
     "output_type": "stream",
     "text": [
      "112\n"
     ]
    },
    {
     "data": {
      "text/plain": [
       "58"
      ]
     },
     "execution_count": 41,
     "metadata": {},
     "output_type": "execute_result"
    }
   ],
   "source": [
    "bankrupt_tic2ric = ek.get_symbology(bankrupt_ticker, from_symbol_type='ticker', to_symbol_type='RIC')\n",
    "print(len(bankrupt_tic2ric))\n",
    "bankrupt_tic2ric.to_csv('bankrupt_tic2ric.csv')\n",
    "#bankrupt_tic2ric\n",
    "len(set(bankrupt_tic2ric.RIC.to_list()))"
   ]
  },
  {
   "cell_type": "markdown",
   "metadata": {},
   "source": [
    "### Bankrupt: Ticker to ISIN"
   ]
  },
  {
   "cell_type": "code",
   "execution_count": 44,
   "metadata": {},
   "outputs": [
    {
     "name": "stdout",
     "output_type": "stream",
     "text": [
      "112\n"
     ]
    },
    {
     "data": {
      "text/plain": [
       "96"
      ]
     },
     "execution_count": 44,
     "metadata": {},
     "output_type": "execute_result"
    }
   ],
   "source": [
    "bankrupt_tic2isn = ek.get_symbology(bankrupt_ticker, from_symbol_type='ticker', to_symbol_type='ISIN')\n",
    "print(len(bankrupt_tic2isn))\n",
    "bankrupt_tic2isn.to_csv('bankrupt_tic2isn.csv')\n",
    "#bankrupt_tic2isn\n",
    "len(set(bankrupt_tic2isn.ISIN.to_list()))"
   ]
  },
  {
   "cell_type": "markdown",
   "metadata": {},
   "source": [
    "### Bankrupt: CUSIP to RIC"
   ]
  },
  {
   "cell_type": "code",
   "execution_count": 46,
   "metadata": {},
   "outputs": [
    {
     "name": "stdout",
     "output_type": "stream",
     "text": [
      "112\n"
     ]
    },
    {
     "data": {
      "text/plain": [
       "7"
      ]
     },
     "execution_count": 46,
     "metadata": {},
     "output_type": "execute_result"
    }
   ],
   "source": [
    "bankrupt_csp2ric = ek.get_symbology(bankrupt_cusip, from_symbol_type='CUSIP', to_symbol_type='RIC')\n",
    "print(len(bankrupt_csp2ric))\n",
    "bankrupt_csp2ric.to_csv('bankrupt_csp2ric.csv')\n",
    "#bankrupt_csp2ric\n",
    "len(set(bankrupt_csp2ric.RIC.to_list()))"
   ]
  },
  {
   "cell_type": "markdown",
   "metadata": {},
   "source": [
    "### Bankrupt: CUSIP to ISIN"
   ]
  },
  {
   "cell_type": "code",
   "execution_count": 48,
   "metadata": {},
   "outputs": [
    {
     "name": "stdout",
     "output_type": "stream",
     "text": [
      "112\n"
     ]
    },
    {
     "data": {
      "text/plain": [
       "96"
      ]
     },
     "execution_count": 48,
     "metadata": {},
     "output_type": "execute_result"
    }
   ],
   "source": [
    "bankrupt_csp2isn = ek.get_symbology(bankrupt_cusip, from_symbol_type='CUSIP', to_symbol_type='ISIN')\n",
    "print(len(bankrupt_tic2isn))\n",
    "bankrupt_csp2isn.to_csv('bankrupt_csp2isn.csv')\n",
    "#bankrupt_csp2isn\n",
    "len(set(bankrupt_tic2isn.ISIN.to_list()))"
   ]
  },
  {
   "cell_type": "markdown",
   "metadata": {},
   "source": [
    "### Preprocessing healthy lists for NANs and length"
   ]
  },
  {
   "cell_type": "code",
   "execution_count": 99,
   "metadata": {},
   "outputs": [
    {
     "name": "stdout",
     "output_type": "stream",
     "text": [
      "4000\n",
      "4000\n",
      "4000\n",
      "4000\n",
      "4000\n",
      "761\n",
      "-.-.-.-.-.-.-.-.-.-.-.-.-.-.-.-.-.-.-.-.-.-.-.-.-.-.-.\n",
      "4000\n",
      "4000\n",
      "4000\n",
      "4000\n",
      "4000\n",
      "765\n"
     ]
    }
   ],
   "source": [
    "# get rid of NANs\n",
    "healthy_ticker_NAN = [element for element in healthy_ticker if type(element) != float]\n",
    "healthy_cusip_NAN = [element for element in healthy_cusip if type(element) != float]\n",
    "\n",
    "\n",
    "# divide healthy tickers to 4000-ticker chunks\n",
    "healthy_ticker_NAN1 = healthy_ticker_NAN[:4000]\n",
    "healthy_ticker_NAN2 = healthy_ticker_NAN[4000:8000]\n",
    "healthy_ticker_NAN3 = healthy_ticker_NAN[8000:12000]\n",
    "healthy_ticker_NAN4 = healthy_ticker_NAN[12000:16000]\n",
    "healthy_ticker_NAN5 = healthy_ticker_NAN[16000:20000]\n",
    "healthy_ticker_NAN6 = healthy_ticker_NAN[20000:]\n",
    "\n",
    "print(len(healthy_ticker_NAN1))\n",
    "print(len(healthy_ticker_NAN2))\n",
    "print(len(healthy_ticker_NAN3))\n",
    "print(len(healthy_ticker_NAN4))\n",
    "print(len(healthy_ticker_NAN5))\n",
    "print(len(healthy_ticker_NAN6))\n",
    "\n",
    "print('-.-.-.-.-.-.-.-.-.-.-.-.-.-.-.-.-.-.-.-.-.-.-.-.-.-.-.')\n",
    "\n",
    "# divide healthy CUSIP to 4000-CUSIP chunks\n",
    "healthy_cusip_NAN1 = healthy_cusip_NAN[:4000]\n",
    "healthy_cusip_NAN2 = healthy_cusip_NAN[4000:8000]\n",
    "healthy_cusip_NAN3 = healthy_cusip_NAN[8000:12000]\n",
    "healthy_cusip_NAN4 = healthy_cusip_NAN[12000:16000]\n",
    "healthy_cusip_NAN5 = healthy_cusip_NAN[16000:20000]\n",
    "healthy_cusip_NAN6 = healthy_cusip_NAN[20000:]\n",
    "\n",
    "print(len(healthy_cusip_NAN1))\n",
    "print(len(healthy_cusip_NAN2))\n",
    "print(len(healthy_cusip_NAN3))\n",
    "print(len(healthy_cusip_NAN4))\n",
    "print(len(healthy_cusip_NAN5))\n",
    "print(len(healthy_cusip_NAN6))\n",
    "\n"
   ]
  },
  {
   "cell_type": "markdown",
   "metadata": {},
   "source": [
    "### Healthy: Ticker to RIC"
   ]
  },
  {
   "cell_type": "code",
   "execution_count": 90,
   "metadata": {},
   "outputs": [
    {
     "name": "stdout",
     "output_type": "stream",
     "text": [
      "4000\n"
     ]
    },
    {
     "data": {
      "text/plain": [
       "928"
      ]
     },
     "execution_count": 90,
     "metadata": {},
     "output_type": "execute_result"
    }
   ],
   "source": [
    "healthy_tic2ric1 = ek.get_symbology(healthy_ticker_NAN1, from_symbol_type='ticker', to_symbol_type='RIC')\n",
    "print(len(healthy_tic2ric1))\n",
    "healthy_tic2ric1.to_csv('healthy_tic2ric1.csv')\n",
    "#healthy_tic2ric1\n",
    "len(set(healthy_tic2ric1.RIC.to_list()))"
   ]
  },
  {
   "cell_type": "code",
   "execution_count": 91,
   "metadata": {},
   "outputs": [
    {
     "name": "stdout",
     "output_type": "stream",
     "text": [
      "3998\n"
     ]
    },
    {
     "data": {
      "text/plain": [
       "530"
      ]
     },
     "execution_count": 91,
     "metadata": {},
     "output_type": "execute_result"
    }
   ],
   "source": [
    "healthy_tic2ric2 = ek.get_symbology(healthy_ticker_NAN2, from_symbol_type='ticker', to_symbol_type='RIC')\n",
    "print(len(healthy_tic2ric2))\n",
    "healthy_tic2ric2.to_csv('healthy_tic2ric2.csv')\n",
    "#healthy_tic2ric2\n",
    "len(set(healthy_tic2ric2.RIC.to_list()))"
   ]
  },
  {
   "cell_type": "code",
   "execution_count": 92,
   "metadata": {},
   "outputs": [
    {
     "name": "stdout",
     "output_type": "stream",
     "text": [
      "3997\n"
     ]
    },
    {
     "data": {
      "text/plain": [
       "460"
      ]
     },
     "execution_count": 92,
     "metadata": {},
     "output_type": "execute_result"
    }
   ],
   "source": [
    "healthy_tic2ric3 = ek.get_symbology(healthy_ticker_NAN3, from_symbol_type='ticker', to_symbol_type='RIC')\n",
    "print(len(healthy_tic2ric3))\n",
    "healthy_tic2ric3.to_csv('healthy_tic2ric3.csv')\n",
    "#healthy_tic2ric3\n",
    "len(set(healthy_tic2ric3.RIC.to_list()))"
   ]
  },
  {
   "cell_type": "code",
   "execution_count": 94,
   "metadata": {},
   "outputs": [
    {
     "name": "stdout",
     "output_type": "stream",
     "text": [
      "4000\n"
     ]
    },
    {
     "data": {
      "text/plain": [
       "763"
      ]
     },
     "execution_count": 94,
     "metadata": {},
     "output_type": "execute_result"
    }
   ],
   "source": [
    "healthy_tic2ric4 = ek.get_symbology(healthy_ticker_NAN4, from_symbol_type='ticker', to_symbol_type='RIC')\n",
    "print(len(healthy_tic2ric4))\n",
    "healthy_tic2ric4.to_csv('healthy_tic2ric4.csv')\n",
    "#healthy_tic2ric4\n",
    "len(set(healthy_tic2ric4.RIC.to_list()))"
   ]
  },
  {
   "cell_type": "code",
   "execution_count": 96,
   "metadata": {},
   "outputs": [
    {
     "name": "stdout",
     "output_type": "stream",
     "text": [
      "3999\n"
     ]
    },
    {
     "data": {
      "text/plain": [
       "705"
      ]
     },
     "execution_count": 96,
     "metadata": {},
     "output_type": "execute_result"
    }
   ],
   "source": [
    "healthy_tic2ric5 = ek.get_symbology(healthy_ticker_NAN5, from_symbol_type='ticker', to_symbol_type='RIC')\n",
    "print(len(healthy_tic2ric5))\n",
    "healthy_tic2ric5.to_csv('healthy_tic2ric5.csv')\n",
    "#healthy_tic2ric5\n",
    "len(set(healthy_tic2ric5.RIC.to_list()))"
   ]
  },
  {
   "cell_type": "code",
   "execution_count": 98,
   "metadata": {},
   "outputs": [
    {
     "name": "stdout",
     "output_type": "stream",
     "text": [
      "761\n"
     ]
    },
    {
     "data": {
      "text/plain": [
       "123"
      ]
     },
     "execution_count": 98,
     "metadata": {},
     "output_type": "execute_result"
    }
   ],
   "source": [
    "healthy_tic2ric6 = ek.get_symbology(healthy_ticker_NAN6, from_symbol_type='ticker', to_symbol_type='RIC')\n",
    "print(len(healthy_tic2ric6))\n",
    "healthy_tic2ric6.to_csv('healthy_tic2ric6.csv')\n",
    "#healthy_tic2ric6\n",
    "len(set(healthy_tic2ric6.RIC.to_list()))"
   ]
  },
  {
   "cell_type": "markdown",
   "metadata": {},
   "source": [
    "### Healthy: Ticker to ISIN"
   ]
  },
  {
   "cell_type": "code",
   "execution_count": 101,
   "metadata": {},
   "outputs": [
    {
     "name": "stdout",
     "output_type": "stream",
     "text": [
      "4000\n"
     ]
    },
    {
     "data": {
      "text/plain": [
       "2355"
      ]
     },
     "execution_count": 101,
     "metadata": {},
     "output_type": "execute_result"
    }
   ],
   "source": [
    "healthy_tic2isn1 = ek.get_symbology(healthy_ticker_NAN1, from_symbol_type='ticker', to_symbol_type='ISIN')\n",
    "print(len(healthy_tic2isn1))\n",
    "healthy_tic2isn1.to_csv('healthy_tic2isn1.csv')\n",
    "#healthy_tic2isn1\n",
    "len(set(healthy_tic2isn1.ISIN.to_list()))"
   ]
  },
  {
   "cell_type": "code",
   "execution_count": 102,
   "metadata": {},
   "outputs": [
    {
     "name": "stdout",
     "output_type": "stream",
     "text": [
      "3998\n"
     ]
    },
    {
     "data": {
      "text/plain": [
       "2136"
      ]
     },
     "execution_count": 102,
     "metadata": {},
     "output_type": "execute_result"
    }
   ],
   "source": [
    "healthy_tic2isn2 = ek.get_symbology(healthy_ticker_NAN2, from_symbol_type='ticker', to_symbol_type='ISIN')\n",
    "print(len(healthy_tic2isn2))\n",
    "healthy_tic2isn2.to_csv('healthy_tic2isn2.csv')\n",
    "#healthy_tic2isn2\n",
    "len(set(healthy_tic2isn2.ISIN.to_list()))"
   ]
  },
  {
   "cell_type": "code",
   "execution_count": 103,
   "metadata": {},
   "outputs": [
    {
     "name": "stdout",
     "output_type": "stream",
     "text": [
      "3997\n"
     ]
    },
    {
     "data": {
      "text/plain": [
       "2414"
      ]
     },
     "execution_count": 103,
     "metadata": {},
     "output_type": "execute_result"
    }
   ],
   "source": [
    "healthy_tic2isn3 = ek.get_symbology(healthy_ticker_NAN3, from_symbol_type='ticker', to_symbol_type='ISIN')\n",
    "print(len(healthy_tic2isn3))\n",
    "healthy_tic2isn3.to_csv('healthy_tic2isn3.csv')\n",
    "#healthy_tic2isn3\n",
    "len(set(healthy_tic2isn3.ISIN.to_list()))"
   ]
  },
  {
   "cell_type": "code",
   "execution_count": 104,
   "metadata": {},
   "outputs": [
    {
     "name": "stdout",
     "output_type": "stream",
     "text": [
      "4000\n"
     ]
    },
    {
     "data": {
      "text/plain": [
       "2338"
      ]
     },
     "execution_count": 104,
     "metadata": {},
     "output_type": "execute_result"
    }
   ],
   "source": [
    "healthy_tic2isn4 = ek.get_symbology(healthy_ticker_NAN4, from_symbol_type='ticker', to_symbol_type='ISIN')\n",
    "print(len(healthy_tic2isn4))\n",
    "healthy_tic2isn4.to_csv('healthy_tic2isn4.csv')\n",
    "#healthy_tic2isn4\n",
    "len(set(healthy_tic2isn4.ISIN.to_list()))"
   ]
  },
  {
   "cell_type": "code",
   "execution_count": 105,
   "metadata": {},
   "outputs": [
    {
     "name": "stdout",
     "output_type": "stream",
     "text": [
      "3999\n"
     ]
    },
    {
     "data": {
      "text/plain": [
       "2259"
      ]
     },
     "execution_count": 105,
     "metadata": {},
     "output_type": "execute_result"
    }
   ],
   "source": [
    "healthy_tic2isn5 = ek.get_symbology(healthy_ticker_NAN5, from_symbol_type='ticker', to_symbol_type='ISIN')\n",
    "print(len(healthy_tic2isn5))\n",
    "healthy_tic2isn5.to_csv('healthy_tic2isn5.csv')\n",
    "#healthy_tic2isn5\n",
    "len(set(healthy_tic2isn5.ISIN.to_list()))"
   ]
  },
  {
   "cell_type": "code",
   "execution_count": 106,
   "metadata": {},
   "outputs": [
    {
     "name": "stdout",
     "output_type": "stream",
     "text": [
      "761\n"
     ]
    },
    {
     "data": {
      "text/plain": [
       "418"
      ]
     },
     "execution_count": 106,
     "metadata": {},
     "output_type": "execute_result"
    }
   ],
   "source": [
    "healthy_tic2isn6 = ek.get_symbology(healthy_ticker_NAN6, from_symbol_type='ticker', to_symbol_type='ISIN')\n",
    "print(len(healthy_tic2isn6))\n",
    "healthy_tic2isn6.to_csv('healthy_tic2isn6.csv')\n",
    "#healthy_tic2isn6\n",
    "len(set(healthy_tic2isn6.ISIN.to_list()))"
   ]
  },
  {
   "cell_type": "markdown",
   "metadata": {},
   "source": [
    "### Healthy: CUSIP to RIC"
   ]
  },
  {
   "cell_type": "code",
   "execution_count": 107,
   "metadata": {},
   "outputs": [
    {
     "name": "stdout",
     "output_type": "stream",
     "text": [
      "4000\n"
     ]
    },
    {
     "data": {
      "text/plain": [
       "2113"
      ]
     },
     "execution_count": 107,
     "metadata": {},
     "output_type": "execute_result"
    }
   ],
   "source": [
    "healthy_csp2ric1 = ek.get_symbology(healthy_cusip_NAN1, from_symbol_type='CUSIP', to_symbol_type='RIC')\n",
    "print(len(healthy_csp2ric1))\n",
    "healthy_csp2ric1.to_csv('healthy_csp2ric1.csv')\n",
    "#healthy_csp2ric1\n",
    "len(set(healthy_csp2ric1.RIC.to_list()))"
   ]
  },
  {
   "cell_type": "code",
   "execution_count": 108,
   "metadata": {},
   "outputs": [
    {
     "name": "stdout",
     "output_type": "stream",
     "text": [
      "4000\n"
     ]
    },
    {
     "data": {
      "text/plain": [
       "1662"
      ]
     },
     "execution_count": 108,
     "metadata": {},
     "output_type": "execute_result"
    }
   ],
   "source": [
    "healthy_csp2ric2 = ek.get_symbology(healthy_cusip_NAN2, from_symbol_type='CUSIP', to_symbol_type='RIC')\n",
    "print(len(healthy_csp2ric2))\n",
    "healthy_csp2ric2.to_csv('healthy_csp2ric2.csv')\n",
    "#healthy_csp2ric2\n",
    "len(set(healthy_csp2ric2.RIC.to_list()))"
   ]
  },
  {
   "cell_type": "code",
   "execution_count": 109,
   "metadata": {},
   "outputs": [
    {
     "name": "stdout",
     "output_type": "stream",
     "text": [
      "4000\n"
     ]
    },
    {
     "data": {
      "text/plain": [
       "1831"
      ]
     },
     "execution_count": 109,
     "metadata": {},
     "output_type": "execute_result"
    }
   ],
   "source": [
    "healthy_csp2ric3 = ek.get_symbology(healthy_cusip_NAN3, from_symbol_type='CUSIP', to_symbol_type='RIC')\n",
    "print(len(healthy_csp2ric3))\n",
    "healthy_csp2ric3.to_csv('healthy_csp2ric3.csv')\n",
    "#healthy_csp2ric3\n",
    "len(set(healthy_csp2ric3.RIC.to_list()))"
   ]
  },
  {
   "cell_type": "code",
   "execution_count": 110,
   "metadata": {},
   "outputs": [
    {
     "name": "stdout",
     "output_type": "stream",
     "text": [
      "4000\n"
     ]
    },
    {
     "data": {
      "text/plain": [
       "1499"
      ]
     },
     "execution_count": 110,
     "metadata": {},
     "output_type": "execute_result"
    }
   ],
   "source": [
    "healthy_csp2ric4 = ek.get_symbology(healthy_cusip_NAN4, from_symbol_type='CUSIP', to_symbol_type='RIC')\n",
    "print(len(healthy_csp2ric4))\n",
    "healthy_csp2ric4.to_csv('healthy_csp2ric4.csv')\n",
    "#healthy_csp2ric4\n",
    "len(set(healthy_csp2ric4.RIC.to_list()))"
   ]
  },
  {
   "cell_type": "code",
   "execution_count": 111,
   "metadata": {},
   "outputs": [
    {
     "name": "stdout",
     "output_type": "stream",
     "text": [
      "4000\n"
     ]
    },
    {
     "data": {
      "text/plain": [
       "1363"
      ]
     },
     "execution_count": 111,
     "metadata": {},
     "output_type": "execute_result"
    }
   ],
   "source": [
    "healthy_csp2ric5 = ek.get_symbology(healthy_cusip_NAN5, from_symbol_type='CUSIP', to_symbol_type='RIC')\n",
    "print(len(healthy_csp2ric5))\n",
    "healthy_csp2ric5.to_csv('healthy_csp2ric5.csv')\n",
    "#healthy_csp2ric5\n",
    "len(set(healthy_csp2ric5.RIC.to_list()))"
   ]
  },
  {
   "cell_type": "code",
   "execution_count": 112,
   "metadata": {},
   "outputs": [
    {
     "name": "stdout",
     "output_type": "stream",
     "text": [
      "765\n"
     ]
    },
    {
     "data": {
      "text/plain": [
       "362"
      ]
     },
     "execution_count": 112,
     "metadata": {},
     "output_type": "execute_result"
    }
   ],
   "source": [
    "healthy_csp2ric6 = ek.get_symbology(healthy_cusip_NAN6, from_symbol_type='CUSIP', to_symbol_type='RIC')\n",
    "print(len(healthy_csp2ric6))\n",
    "healthy_csp2ric6.to_csv('healthy_csp2ric6.csv')\n",
    "#healthy_csp2ric6\n",
    "len(set(healthy_csp2ric6.RIC.to_list()))"
   ]
  },
  {
   "cell_type": "markdown",
   "metadata": {},
   "source": [
    "### Healthy: CUSIP to ISIN"
   ]
  },
  {
   "cell_type": "code",
   "execution_count": 113,
   "metadata": {},
   "outputs": [
    {
     "name": "stdout",
     "output_type": "stream",
     "text": [
      "4000\n"
     ]
    },
    {
     "data": {
      "text/plain": [
       "2355"
      ]
     },
     "execution_count": 113,
     "metadata": {},
     "output_type": "execute_result"
    }
   ],
   "source": [
    "healthy_csp2isn1 = ek.get_symbology(healthy_cusip_NAN1, from_symbol_type='CUSIP', to_symbol_type='ISIN')\n",
    "print(len(healthy_tic2isn1))\n",
    "healthy_csp2isn1.to_csv('healthy_csp2isn1.csv')\n",
    "#healthy_csp2isn1\n",
    "len(set(healthy_tic2isn1.ISIN.to_list()))"
   ]
  },
  {
   "cell_type": "code",
   "execution_count": 114,
   "metadata": {},
   "outputs": [
    {
     "name": "stdout",
     "output_type": "stream",
     "text": [
      "3998\n"
     ]
    },
    {
     "data": {
      "text/plain": [
       "2136"
      ]
     },
     "execution_count": 114,
     "metadata": {},
     "output_type": "execute_result"
    }
   ],
   "source": [
    "healthy_csp2isn2 = ek.get_symbology(healthy_cusip_NAN2, from_symbol_type='CUSIP', to_symbol_type='ISIN')\n",
    "print(len(healthy_tic2isn2))\n",
    "healthy_csp2isn2.to_csv('healthy_csp2isn2.csv')\n",
    "#healthy_csp2isn2\n",
    "len(set(healthy_tic2isn2.ISIN.to_list()))"
   ]
  },
  {
   "cell_type": "code",
   "execution_count": 115,
   "metadata": {},
   "outputs": [
    {
     "name": "stdout",
     "output_type": "stream",
     "text": [
      "3997\n"
     ]
    },
    {
     "data": {
      "text/plain": [
       "2414"
      ]
     },
     "execution_count": 115,
     "metadata": {},
     "output_type": "execute_result"
    }
   ],
   "source": [
    "healthy_csp2isn3 = ek.get_symbology(healthy_cusip_NAN3, from_symbol_type='CUSIP', to_symbol_type='ISIN')\n",
    "print(len(healthy_tic2isn3))\n",
    "healthy_csp2isn3.to_csv('healthy_csp2isn3.csv')\n",
    "#healthy_csp2isn3\n",
    "len(set(healthy_tic2isn3.ISIN.to_list()))"
   ]
  },
  {
   "cell_type": "code",
   "execution_count": 116,
   "metadata": {},
   "outputs": [
    {
     "name": "stdout",
     "output_type": "stream",
     "text": [
      "4000\n"
     ]
    },
    {
     "data": {
      "text/plain": [
       "2338"
      ]
     },
     "execution_count": 116,
     "metadata": {},
     "output_type": "execute_result"
    }
   ],
   "source": [
    "healthy_csp2isn4 = ek.get_symbology(healthy_cusip_NAN4, from_symbol_type='CUSIP', to_symbol_type='ISIN')\n",
    "print(len(healthy_tic2isn4))\n",
    "healthy_csp2isn4.to_csv('healthy_csp2isn4.csv')\n",
    "#healthy_csp2isn4\n",
    "len(set(healthy_tic2isn4.ISIN.to_list()))"
   ]
  },
  {
   "cell_type": "code",
   "execution_count": 117,
   "metadata": {},
   "outputs": [
    {
     "name": "stdout",
     "output_type": "stream",
     "text": [
      "3999\n"
     ]
    },
    {
     "data": {
      "text/plain": [
       "2259"
      ]
     },
     "execution_count": 117,
     "metadata": {},
     "output_type": "execute_result"
    }
   ],
   "source": [
    "healthy_csp2isn5 = ek.get_symbology(healthy_cusip_NAN5, from_symbol_type='CUSIP', to_symbol_type='ISIN')\n",
    "print(len(healthy_tic2isn5))\n",
    "healthy_csp2isn5.to_csv('healthy_csp2isn5.csv')\n",
    "#healthy_csp2isn5\n",
    "len(set(healthy_tic2isn5.ISIN.to_list()))"
   ]
  },
  {
   "cell_type": "code",
   "execution_count": 118,
   "metadata": {},
   "outputs": [
    {
     "name": "stdout",
     "output_type": "stream",
     "text": [
      "761\n"
     ]
    },
    {
     "data": {
      "text/plain": [
       "418"
      ]
     },
     "execution_count": 118,
     "metadata": {},
     "output_type": "execute_result"
    }
   ],
   "source": [
    "healthy_csp2isn6 = ek.get_symbology(healthy_cusip_NAN6, from_symbol_type='CUSIP', to_symbol_type='ISIN')\n",
    "print(len(healthy_tic2isn6))\n",
    "healthy_csp2isn6.to_csv('healthy_csp2isn6.csv')\n",
    "#healthy_csp2isn6\n",
    "len(set(healthy_tic2isn6.ISIN.to_list()))"
   ]
  },
  {
   "cell_type": "markdown",
   "metadata": {},
   "source": [
    "****"
   ]
  },
  {
   "cell_type": "markdown",
   "metadata": {},
   "source": [
    "## Retrieving Historical Data\n",
    "\n",
    "As a test, consider the retrieval of historical end-of-day data for the Apple, Inc. stock."
   ]
  },
  {
   "cell_type": "code",
   "execution_count": 28,
   "metadata": {},
   "outputs": [],
   "source": [
    "testAAPLdata = ek.get_timeseries('AAPL.O',  # the RIC for Apple, Inc.\n",
    "                         fields='*',  # all fields\n",
    "                         start_date='2000-01-01',  # start date\n",
    "                         end_date='2019-08-19')  # end date"
   ]
  },
  {
   "cell_type": "code",
   "execution_count": 24,
   "metadata": {},
   "outputs": [
    {
     "data": {
      "text/html": [
       "<div>\n",
       "<style scoped>\n",
       "    .dataframe tbody tr th:only-of-type {\n",
       "        vertical-align: middle;\n",
       "    }\n",
       "\n",
       "    .dataframe tbody tr th {\n",
       "        vertical-align: top;\n",
       "    }\n",
       "\n",
       "    .dataframe thead th {\n",
       "        text-align: right;\n",
       "    }\n",
       "</style>\n",
       "<table border=\"1\" class=\"dataframe\">\n",
       "  <thead>\n",
       "    <tr style=\"text-align: right;\">\n",
       "      <th>AAPL.O</th>\n",
       "      <th>HIGH</th>\n",
       "      <th>CLOSE</th>\n",
       "      <th>LOW</th>\n",
       "      <th>OPEN</th>\n",
       "      <th>COUNT</th>\n",
       "      <th>VOLUME</th>\n",
       "    </tr>\n",
       "    <tr>\n",
       "      <th>Date</th>\n",
       "      <th></th>\n",
       "      <th></th>\n",
       "      <th></th>\n",
       "      <th></th>\n",
       "      <th></th>\n",
       "      <th></th>\n",
       "    </tr>\n",
       "  </thead>\n",
       "  <tbody>\n",
       "    <tr>\n",
       "      <th>2019-08-12</th>\n",
       "      <td>202.0516</td>\n",
       "      <td>200.48</td>\n",
       "      <td>199.1500</td>\n",
       "      <td>199.62</td>\n",
       "      <td>181412.0</td>\n",
       "      <td>22481889.0</td>\n",
       "    </tr>\n",
       "    <tr>\n",
       "      <th>2019-08-13</th>\n",
       "      <td>212.1400</td>\n",
       "      <td>208.97</td>\n",
       "      <td>200.8300</td>\n",
       "      <td>201.02</td>\n",
       "      <td>377969.0</td>\n",
       "      <td>47539786.0</td>\n",
       "    </tr>\n",
       "    <tr>\n",
       "      <th>2019-08-14</th>\n",
       "      <td>206.4400</td>\n",
       "      <td>202.75</td>\n",
       "      <td>202.5869</td>\n",
       "      <td>203.16</td>\n",
       "      <td>292722.0</td>\n",
       "      <td>36547443.0</td>\n",
       "    </tr>\n",
       "    <tr>\n",
       "      <th>2019-08-15</th>\n",
       "      <td>205.1400</td>\n",
       "      <td>201.74</td>\n",
       "      <td>199.6700</td>\n",
       "      <td>203.46</td>\n",
       "      <td>246488.0</td>\n",
       "      <td>27883363.0</td>\n",
       "    </tr>\n",
       "    <tr>\n",
       "      <th>2019-08-16</th>\n",
       "      <td>207.1600</td>\n",
       "      <td>206.50</td>\n",
       "      <td>203.8400</td>\n",
       "      <td>204.28</td>\n",
       "      <td>221213.0</td>\n",
       "      <td>28813624.0</td>\n",
       "    </tr>\n",
       "  </tbody>\n",
       "</table>\n",
       "</div>"
      ],
      "text/plain": [
       "AAPL.O          HIGH   CLOSE       LOW    OPEN     COUNT      VOLUME\n",
       "Date                                                                \n",
       "2019-08-12  202.0516  200.48  199.1500  199.62  181412.0  22481889.0\n",
       "2019-08-13  212.1400  208.97  200.8300  201.02  377969.0  47539786.0\n",
       "2019-08-14  206.4400  202.75  202.5869  203.16  292722.0  36547443.0\n",
       "2019-08-15  205.1400  201.74  199.6700  203.46  246488.0  27883363.0\n",
       "2019-08-16  207.1600  206.50  203.8400  204.28  221213.0  28813624.0"
      ]
     },
     "execution_count": 24,
     "metadata": {},
     "output_type": "execute_result"
    }
   ],
   "source": [
    "testAAPLdata.tail()  # final five rows"
   ]
  },
  {
   "cell_type": "code",
   "execution_count": 29,
   "metadata": {},
   "outputs": [
    {
     "data": {
      "text/html": [
       "<div>\n",
       "<style scoped>\n",
       "    .dataframe tbody tr th:only-of-type {\n",
       "        vertical-align: middle;\n",
       "    }\n",
       "\n",
       "    .dataframe tbody tr th {\n",
       "        vertical-align: top;\n",
       "    }\n",
       "\n",
       "    .dataframe thead th {\n",
       "        text-align: right;\n",
       "    }\n",
       "</style>\n",
       "<table border=\"1\" class=\"dataframe\">\n",
       "  <thead>\n",
       "    <tr style=\"text-align: right;\">\n",
       "      <th>AAPL.O</th>\n",
       "      <th>HIGH</th>\n",
       "      <th>CLOSE</th>\n",
       "      <th>LOW</th>\n",
       "      <th>OPEN</th>\n",
       "      <th>COUNT</th>\n",
       "      <th>VOLUME</th>\n",
       "    </tr>\n",
       "    <tr>\n",
       "      <th>Date</th>\n",
       "      <th></th>\n",
       "      <th></th>\n",
       "      <th></th>\n",
       "      <th></th>\n",
       "      <th></th>\n",
       "      <th></th>\n",
       "    </tr>\n",
       "  </thead>\n",
       "  <tbody>\n",
       "    <tr>\n",
       "      <th>2007-09-18</th>\n",
       "      <td>20.407122</td>\n",
       "      <td>20.131408</td>\n",
       "      <td>19.689980</td>\n",
       "      <td>19.865694</td>\n",
       "      <td>-1.0</td>\n",
       "      <td>2.660223e+08</td>\n",
       "    </tr>\n",
       "    <tr>\n",
       "      <th>2007-09-19</th>\n",
       "      <td>20.451408</td>\n",
       "      <td>20.109966</td>\n",
       "      <td>19.914266</td>\n",
       "      <td>20.431408</td>\n",
       "      <td>-1.0</td>\n",
       "      <td>2.567201e+08</td>\n",
       "    </tr>\n",
       "    <tr>\n",
       "      <th>2007-09-20</th>\n",
       "      <td>20.255694</td>\n",
       "      <td>20.044266</td>\n",
       "      <td>19.902837</td>\n",
       "      <td>20.021409</td>\n",
       "      <td>-1.0</td>\n",
       "      <td>1.729599e+08</td>\n",
       "    </tr>\n",
       "    <tr>\n",
       "      <th>2007-09-21</th>\n",
       "      <td>20.664265</td>\n",
       "      <td>20.592837</td>\n",
       "      <td>20.044266</td>\n",
       "      <td>20.162837</td>\n",
       "      <td>-1.0</td>\n",
       "      <td>2.847198e+08</td>\n",
       "    </tr>\n",
       "    <tr>\n",
       "      <th>2007-09-24</th>\n",
       "      <td>21.407121</td>\n",
       "      <td>21.182836</td>\n",
       "      <td>20.949979</td>\n",
       "      <td>20.961408</td>\n",
       "      <td>-1.0</td>\n",
       "      <td>2.630403e+08</td>\n",
       "    </tr>\n",
       "  </tbody>\n",
       "</table>\n",
       "</div>"
      ],
      "text/plain": [
       "AAPL.O           HIGH      CLOSE        LOW       OPEN  COUNT        VOLUME\n",
       "Date                                                                       \n",
       "2007-09-18  20.407122  20.131408  19.689980  19.865694   -1.0  2.660223e+08\n",
       "2007-09-19  20.451408  20.109966  19.914266  20.431408   -1.0  2.567201e+08\n",
       "2007-09-20  20.255694  20.044266  19.902837  20.021409   -1.0  1.729599e+08\n",
       "2007-09-21  20.664265  20.592837  20.044266  20.162837   -1.0  2.847198e+08\n",
       "2007-09-24  21.407121  21.182836  20.949979  20.961408   -1.0  2.630403e+08"
      ]
     },
     "execution_count": 29,
     "metadata": {},
     "output_type": "execute_result"
    }
   ],
   "source": [
    "testAAPLdata.head()"
   ]
  },
  {
   "cell_type": "code",
   "execution_count": 30,
   "metadata": {},
   "outputs": [],
   "source": [
    "testAAPLdata.to_csv('testDataAPPL.csv')"
   ]
  },
  {
   "cell_type": "markdown",
   "metadata": {},
   "source": [
    "## Test get_data Function"
   ]
  },
  {
   "cell_type": "code",
   "execution_count": 44,
   "metadata": {},
   "outputs": [],
   "source": [
    "data_grid, err = ek.get_data(['IBM', 'GOOG.O', 'MSFT.O'],\n",
    "                             ['TR.TotalReturnYTD', 'TR.WACCBeta', 'YRHIGH', 'YRLOW'])"
   ]
  },
  {
   "cell_type": "code",
   "execution_count": 45,
   "metadata": {},
   "outputs": [
    {
     "data": {
      "text/html": [
       "<div>\n",
       "<style scoped>\n",
       "    .dataframe tbody tr th:only-of-type {\n",
       "        vertical-align: middle;\n",
       "    }\n",
       "\n",
       "    .dataframe tbody tr th {\n",
       "        vertical-align: top;\n",
       "    }\n",
       "\n",
       "    .dataframe thead th {\n",
       "        text-align: right;\n",
       "    }\n",
       "</style>\n",
       "<table border=\"1\" class=\"dataframe\">\n",
       "  <thead>\n",
       "    <tr style=\"text-align: right;\">\n",
       "      <th></th>\n",
       "      <th>Instrument</th>\n",
       "      <th>YTD Total Return</th>\n",
       "      <th>Beta</th>\n",
       "      <th>YRHIGH</th>\n",
       "      <th>YRLOW</th>\n",
       "    </tr>\n",
       "  </thead>\n",
       "  <tbody>\n",
       "    <tr>\n",
       "      <th>0</th>\n",
       "      <td>IBM</td>\n",
       "      <td>21.879417</td>\n",
       "      <td>1.279859</td>\n",
       "      <td>154.360</td>\n",
       "      <td>105.94</td>\n",
       "    </tr>\n",
       "    <tr>\n",
       "      <th>1</th>\n",
       "      <td>GOOG.O</td>\n",
       "      <td>13.710760</td>\n",
       "      <td>0.996100</td>\n",
       "      <td>1289.270</td>\n",
       "      <td>970.11</td>\n",
       "    </tr>\n",
       "    <tr>\n",
       "      <th>2</th>\n",
       "      <td>MSFT.O</td>\n",
       "      <td>35.556317</td>\n",
       "      <td>1.217389</td>\n",
       "      <td>141.675</td>\n",
       "      <td>93.96</td>\n",
       "    </tr>\n",
       "  </tbody>\n",
       "</table>\n",
       "</div>"
      ],
      "text/plain": [
       "  Instrument  YTD Total Return      Beta    YRHIGH   YRLOW\n",
       "0        IBM         21.879417  1.279859   154.360  105.94\n",
       "1     GOOG.O         13.710760  0.996100  1289.270  970.11\n",
       "2     MSFT.O         35.556317  1.217389   141.675   93.96"
      ]
     },
     "execution_count": 45,
     "metadata": {},
     "output_type": "execute_result"
    }
   ],
   "source": [
    "data_grid"
   ]
  }
 ],
 "metadata": {
  "kernelspec": {
   "display_name": "Python 3",
   "language": "python",
   "name": "python3"
  },
  "language_info": {
   "codemirror_mode": {
    "name": "ipython",
    "version": 3
   },
   "file_extension": ".py",
   "mimetype": "text/x-python",
   "name": "python",
   "nbconvert_exporter": "python",
   "pygments_lexer": "ipython3",
   "version": "3.6.3"
  }
 },
 "nbformat": 4,
 "nbformat_minor": 2
}
