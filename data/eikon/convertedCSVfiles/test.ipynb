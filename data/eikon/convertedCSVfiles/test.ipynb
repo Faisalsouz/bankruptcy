{
 "cells": [
  {
   "cell_type": "code",
   "execution_count": 1,
   "metadata": {},
   "outputs": [],
   "source": [
    "import pandas as pd"
   ]
  },
  {
   "cell_type": "code",
   "execution_count": 2,
   "metadata": {},
   "outputs": [],
   "source": [
    "bankrupt = pd.read_csv('list_bankrupt.csv')\n",
    "healthy = pd.read_csv('list_healthy.csv')"
   ]
  },
  {
   "cell_type": "code",
   "execution_count": 3,
   "metadata": {},
   "outputs": [
    {
     "name": "stdout",
     "output_type": "stream",
     "text": [
      "112\n",
      "112\n",
      "20708\n",
      "20766\n"
     ]
    }
   ],
   "source": [
    "# get the tickers\n",
    "bankrupt_ticker = bankrupt['Ticker'].tolist()\n",
    "healthy_ticker = healthy['Ticker'].tolist()\n",
    "\n",
    "# get CUSIP\n",
    "bankrupt_cusip = bankrupt['CUSIP'].tolist()\n",
    "healthy_cusip = healthy['CUSIP'].tolist()\n",
    "\n",
    "print(len(set(bankrupt_ticker)))\n",
    "print(len(set(bankrupt_cusip)))\n",
    "print(len(set(healthy_ticker)))\n",
    "print(len(set(healthy_cusip)))"
   ]
  },
  {
   "cell_type": "code",
   "execution_count": 11,
   "metadata": {},
   "outputs": [
    {
     "data": {
      "text/plain": [
       "20765"
      ]
     },
     "execution_count": 11,
     "metadata": {},
     "output_type": "execute_result"
    }
   ],
   "source": [
    "h_tic = healthy['Ticker'].dropna().tolist()\n",
    "h_csp = healthy['CUSIP'].dropna().tolist()\n",
    "len(h_cusip)"
   ]
  },
  {
   "cell_type": "code",
   "execution_count": 13,
   "metadata": {},
   "outputs": [
    {
     "name": "stdout",
     "output_type": "stream",
     "text": [
      "4000\n",
      "4000\n",
      "4000\n",
      "4000\n",
      "4000\n",
      "761\n",
      "4000\n",
      "4000\n",
      "4000\n",
      "4000\n",
      "4000\n",
      "765\n"
     ]
    }
   ],
   "source": [
    "h_tic1 = h_tic[:4000]\n",
    "h_tic2 = h_tic[4000:8000]\n",
    "h_tic3 = h_tic[8000:12000]\n",
    "h_tic4 = h_tic[12000:16000]\n",
    "h_tic5 = h_tic[16000:20000]\n",
    "h_tic6 = h_tic[20000:]\n",
    "\n",
    "print(len(h_tic1))\n",
    "print(len(h_tic2))\n",
    "print(len(h_tic3))\n",
    "print(len(h_tic4))\n",
    "print(len(h_tic5))\n",
    "print(len(h_tic6))\n",
    "\n",
    "# divide healthy CUSIPs list to 4000-CUSIP chunks\n",
    "# cause Eikon does not convert a 20,000 length list\n",
    "# last chunk includes only 765 CUSIP\n",
    "h_csp1 = h_csp[:4000]\n",
    "h_csp2 = h_csp[4000:8000]\n",
    "h_csp3 = h_csp[8000:12000]\n",
    "h_csp4 = h_csp[12000:16000]\n",
    "h_csp5 = h_csp[16000:20000]\n",
    "h_csp6 = h_csp[20000:]\n",
    "\n",
    "print(len(h_csp1))\n",
    "print(len(h_csp2))\n",
    "print(len(h_csp3))\n",
    "print(len(h_csp4))\n",
    "print(len(h_csp5))\n",
    "print(len(h_csp6))\n"
   ]
  },
  {
   "cell_type": "code",
   "execution_count": null,
   "metadata": {},
   "outputs": [],
   "source": []
  }
 ],
 "metadata": {
  "kernelspec": {
   "display_name": "Python 3",
   "language": "python",
   "name": "python3"
  },
  "language_info": {
   "codemirror_mode": {
    "name": "ipython",
    "version": 3
   },
   "file_extension": ".py",
   "mimetype": "text/x-python",
   "name": "python",
   "nbconvert_exporter": "python",
   "pygments_lexer": "ipython3",
   "version": "3.6.3"
  }
 },
 "nbformat": 4,
 "nbformat_minor": 2
}
