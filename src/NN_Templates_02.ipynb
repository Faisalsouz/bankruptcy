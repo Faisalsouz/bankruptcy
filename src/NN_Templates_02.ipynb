{
  "nbformat": 4,
  "nbformat_minor": 0,
  "metadata": {
    "kernelspec": {
      "name": "python3",
      "display_name": "Python 3"
    },
    "language_info": {
      "codemirror_mode": {
        "name": "ipython",
        "version": 3
      },
      "file_extension": ".py",
      "mimetype": "text/x-python",
      "name": "python",
      "nbconvert_exporter": "python",
      "pygments_lexer": "ipython3",
      "version": "3.7.3"
    },
    "colab": {
      "name": "NN_Templates_02.ipynb",
      "provenance": [],
      "collapsed_sections": []
    },
    "accelerator": "GPU"
  },
  "cells": [
    {
      "cell_type": "markdown",
      "metadata": {
        "colab_type": "text",
        "id": "VYwgWaYBxMoW"
      },
      "source": [
        "### Imports"
      ]
    },
    {
      "cell_type": "code",
      "metadata": {
        "id": "Q08lbGBEk7JQ",
        "colab_type": "code",
        "colab": {
          "base_uri": "https://localhost:8080/",
          "height": 33
        },
        "outputId": "c6915e40-8c35-4e2e-b56b-a7f2dfb99738"
      },
      "source": [
        "# TODO: Update for tf 2.0\n",
        "%tensorflow_version 1.x\n",
        "import numpy as np\n",
        "import pandas as pd\n",
        "import tensorflow as tf\n",
        "import matplotlib.pyplot as plt\n",
        "from keras.models import Sequential\n",
        "from keras.layers import *\n",
        "from keras.optimizers import Adam\n",
        "from keras.preprocessing.sequence import TimeseriesGenerator"
      ],
      "execution_count": 1,
      "outputs": [
        {
          "output_type": "stream",
          "text": [
            "Using TensorFlow backend.\n"
          ],
          "name": "stderr"
        }
      ]
    },
    {
      "cell_type": "markdown",
      "metadata": {
        "id": "Qezxs7sa1F5l",
        "colab_type": "text"
      },
      "source": [
        "### Global Variables"
      ]
    },
    {
      "cell_type": "code",
      "metadata": {
        "id": "70tUXZPt1Jj1",
        "colab_type": "code",
        "colab": {}
      },
      "source": [
        "# The batch size by which the training data is fed into the network.\n",
        "BATCH_TRAINING = 2\n",
        "\n",
        "# The function used to evaluate performace of the model and tune the parameters.\n",
        "LOSS_FUNCTION = tf.keras.losses.BinaryCrossentropy()\n",
        "\n",
        "# The function by which your models parameters are adjusted to seek a local minimum.\n",
        "# OPTIMIZER = adjusted within the network functions\n",
        "\n",
        "# The rate at which the optimizer seeks the local minimum.\n",
        "LEARNING_RATE = 1\n",
        "\n",
        "# The number of iterations for which the model is trained.\n",
        "EPOCHS = 20"
      ],
      "execution_count": 0,
      "outputs": []
    },
    {
      "cell_type": "markdown",
      "metadata": {
        "id": "lx5WX0Ruk7JV",
        "colab_type": "text"
      },
      "source": [
        "### Load the Dataset"
      ]
    },
    {
      "cell_type": "code",
      "metadata": {
        "id": "eAT4bcRtk7JW",
        "colab_type": "code",
        "outputId": "aecbb1c8-38b4-4307-fab3-f03c182668ed",
        "colab": {
          "base_uri": "https://localhost:8080/",
          "height": 67
        }
      },
      "source": [
        "# Import dataset from relevant source(s).\n",
        "# TODO: Import normalized data from Cora and Fatimah.\n",
        "# TODO: Load full dataset, including embedding features.\n",
        "bankrupt = 'https://raw.githubusercontent.com/shrnkm/bankruptcy/master/data/Eikon/small_test_sets/data_test_bankrupt.csv?token=AGV7MSYDPC5VTFWFYCHH2NC54TTUU'\n",
        "healthy = 'https://raw.githubusercontent.com/shrnkm/bankruptcy/master/data/Eikon/small_test_sets/data_test_healthy.csv?token=AGV7MS4YUG4JXQ34EHSXNV254TTYO'\n",
        "df_mixed = pd.concat([pd.read_csv(bankrupt), pd.read_csv(healthy)])\n",
        "np.random.seed(0)\n",
        "\n",
        "# Split data based on years (80% of all years for training, 20% for testing).\n",
        "split = 20 * 0.8\n",
        "split_idx = 2000 + split\n",
        "train_data = np.array(df_mixed.loc[df_mixed['Year'] <= split_idx].values)\n",
        "train_labels = np.array(df_mixed.loc[df_mixed['Year'] <= split_idx]['Bankrupt'].values)\n",
        "test_data = np.array(df_mixed.loc[df_mixed['Year'] > split_idx].values)\n",
        "test_labels = np.array(df_mixed.loc[df_mixed['Year'] > split_idx]['Bankrupt'].values)\n",
        "print(\"\\nSplit after year {}\".format(split))\n",
        "\n",
        "# Drop irrelevant columns (years, instrument).\n",
        "train_data = np.delete(train_data, 0, axis=1)\n",
        "train_data = np.delete(train_data, -2, axis=1)\n",
        "print(\"Length train data: {}, Length test data: {}\".format(len(train_data), len(test_data)))"
      ],
      "execution_count": 3,
      "outputs": [
        {
          "output_type": "stream",
          "text": [
            "\n",
            "Split after year 16.0\n",
            "Length train data: 3349, Length test data: 591\n"
          ],
          "name": "stdout"
        }
      ]
    },
    {
      "cell_type": "markdown",
      "metadata": {
        "id": "TTz6_Nhuk7JZ",
        "colab_type": "text"
      },
      "source": [
        "### Investigate the Dataset"
      ]
    },
    {
      "cell_type": "code",
      "metadata": {
        "id": "pMTP9uoA7D4_",
        "colab_type": "code",
        "outputId": "2b7b2dd7-5eac-466f-8e3f-8bfbca09ec1f",
        "colab": {
          "base_uri": "https://localhost:8080/",
          "height": 67
        }
      },
      "source": [
        "# Print relevant information about the dataset(s) structure.\n",
        "print(\"Number of training instruments: {}\\nNumber of test instruments:{}\".format(len(train_data), len(test_data)))\n",
        "print(\"Shape of one instrument datapoint: {}\".format(train_data[0].shape))"
      ],
      "execution_count": 4,
      "outputs": [
        {
          "output_type": "stream",
          "text": [
            "Number of training instruments: 3349\n",
            "Number of test instruments:591\n",
            "Shape of one instrument datapoint: (22,)\n"
          ],
          "name": "stdout"
        }
      ]
    },
    {
      "cell_type": "markdown",
      "metadata": {
        "id": "CHkirbT3k7Jf",
        "colab_type": "text"
      },
      "source": [
        "### Visualize the Dataset"
      ]
    },
    {
      "cell_type": "code",
      "metadata": {
        "id": "JL9Nd876k7Jg",
        "colab_type": "code",
        "outputId": "c08d298c-ba88-412a-f336-e9b441809778",
        "colab": {
          "base_uri": "https://localhost:8080/",
          "height": 133
        }
      },
      "source": [
        "# Visualize specific examples from the dataset to gain understanding of what each datapoint is composed.\n",
        "print(\"Example instrument:\\n\\n{}\".format(df_mixed.loc[0]))"
      ],
      "execution_count": 5,
      "outputs": [
        {
          "output_type": "stream",
          "text": [
            "Example instrument:\n",
            "\n",
            "   Instrument   Total Debt  ...  Year  Bankrupt\n",
            "0     1071645  151023000.0  ...  2000         1\n",
            "0     1000229   89686000.0  ...  2000         0\n",
            "\n",
            "[2 rows x 24 columns]\n"
          ],
          "name": "stdout"
        }
      ]
    },
    {
      "cell_type": "markdown",
      "metadata": {
        "id": "iPvNOvWLk7Jj",
        "colab_type": "text"
      },
      "source": [
        "### Build the TensorFlow Dataset"
      ]
    },
    {
      "cell_type": "code",
      "metadata": {
        "id": "T1FwN7-Uk7Jk",
        "colab_type": "code",
        "outputId": "04e6b375-a00d-43a1-b404-909c0443ba35",
        "colab": {
          "base_uri": "https://localhost:8080/",
          "height": 50
        }
      },
      "source": [
        "# Network variables.\n",
        "num_features = train_data[0].shape[0]\n",
        "num_inputs = int(split)\n",
        "\n",
        "# Initialize the time-series generators.\n",
        "train_generator = TimeseriesGenerator(train_data, train_labels, length=num_inputs, batch_size=BATCH_TRAINING, stride=num_inputs+1, shuffle=True)\n",
        "test_generator = TimeseriesGenerator(test_data, test_labels, length=num_inputs)\n",
        "\n",
        "# Visualize the newly created generator.\n",
        "print('Number of samples: {}'.format(len(train_generator)))\n",
        "print('Number of samples in first input pass: {}'.format(len(train_generator[0])))"
      ],
      "execution_count": 6,
      "outputs": [
        {
          "output_type": "stream",
          "text": [
            "Number of samples: 99\n",
            "Number of samples in first input pass: 2\n"
          ],
          "name": "stdout"
        }
      ]
    },
    {
      "cell_type": "markdown",
      "metadata": {
        "id": "1tJZhPl0k7Jn",
        "colab_type": "text"
      },
      "source": [
        "### Build the Model(s)"
      ]
    },
    {
      "cell_type": "code",
      "metadata": {
        "id": "73hnafLbk7Jo",
        "colab_type": "code",
        "colab": {}
      },
      "source": [
        "# Instantiate functions for each desired network architecture.\n",
        "\n",
        "# TODO: Test different network architectures and layer types. Compare results.\n",
        "# TODO: Test different optimizers.\n",
        "\n",
        "# Standard NN based on Mai et al.\n",
        "def NN_Standard(input_shape):\n",
        "    print('Shape: ', input_shape)\n",
        "    model = Sequential()\n",
        "    model.add(Dense(4, input_shape=input_shape))\n",
        "    model.add(Flatten())\n",
        "    model.add(Dense(1, activation='sigmoid'))\n",
        "    model.compile(optimizer='adam',\n",
        "                  loss=LOSS_FUNCTION,\n",
        "                  # TODO: ROC Score\n",
        "                  metrics=['accuracy'])\n",
        "\n",
        "    return model\n",
        "\n",
        "\n",
        "# A deep NN.\n",
        "def NN_Deep(input_shape):\n",
        "    print('Shape: ', input_shape)\n",
        "    model = Sequential()\n",
        "    model.add(Dense(4, input_shape=input_shape))\n",
        "    model.add(Dense(4, input_shape=input_shape))\n",
        "    model.add(Dense(4, input_shape=input_shape))\n",
        "    model.add(Dense(4, input_shape=input_shape))\n",
        "    model.add(Flatten())\n",
        "    model.add(Dense(1, activation='sigmoid'))\n",
        "    model.compile(optimizer='adam',\n",
        "                  loss=LOSS_FUNCTION,\n",
        "                  # TODO: ROC Score\n",
        "                  metrics=['accuracy'])\n",
        "\n",
        "    return model\n",
        "\n",
        "# A wide NN.\n",
        "def NN_Wide(input_shape):\n",
        "    print('Shape: ', input_shape)\n",
        "    model = Sequential()\n",
        "    model.add(Dense(22, input_shape=input_shape))\n",
        "    model.add(Flatten())\n",
        "    model.add(Dense(1, activation='sigmoid'))\n",
        "    model.compile(optimizer='adam',\n",
        "                  loss=LOSS_FUNCTION,\n",
        "                  # TODO: ROC Score\n",
        "                  metrics=['accuracy'])\n",
        "\n",
        "    return model"
      ],
      "execution_count": 0,
      "outputs": []
    },
    {
      "cell_type": "markdown",
      "metadata": {
        "id": "saa9XvBak7Js",
        "colab_type": "text"
      },
      "source": [
        "### Train the model."
      ]
    },
    {
      "cell_type": "code",
      "metadata": {
        "id": "SBOYUsfHk7Ju",
        "colab_type": "code",
        "outputId": "d1f3b850-b9ce-402e-cd7f-f8b0e2c1d8e6",
        "colab": {
          "base_uri": "https://localhost:8080/",
          "height": 1000
        }
      },
      "source": [
        "# Clear the session.\n",
        "tf.keras.backend.clear_session()\n",
        "\n",
        "# Initialize the selected model.\n",
        "model = NN_Standard((num_inputs, num_features))\n",
        "# model = NN_Deep((num_inputs, num_features))\n",
        "# model = NN_Wide((num_inputs, num_features))\n",
        "\n",
        "# Print details of the model.\n",
        "model.summary()\n",
        "\n",
        "# Train for appropriate number of epochs.\n",
        "history = model.fit_generator(train_generator, epochs=EPOCHS)"
      ],
      "execution_count": 8,
      "outputs": [
        {
          "output_type": "stream",
          "text": [
            "Shape:  (16, 22)\n",
            "WARNING:tensorflow:From /usr/local/lib/python3.6/dist-packages/keras/backend/tensorflow_backend.py:66: The name tf.get_default_graph is deprecated. Please use tf.compat.v1.get_default_graph instead.\n",
            "\n",
            "WARNING:tensorflow:From /usr/local/lib/python3.6/dist-packages/keras/backend/tensorflow_backend.py:541: The name tf.placeholder is deprecated. Please use tf.compat.v1.placeholder instead.\n",
            "\n",
            "WARNING:tensorflow:From /usr/local/lib/python3.6/dist-packages/keras/backend/tensorflow_backend.py:4432: The name tf.random_uniform is deprecated. Please use tf.random.uniform instead.\n",
            "\n",
            "WARNING:tensorflow:From /usr/local/lib/python3.6/dist-packages/keras/optimizers.py:793: The name tf.train.Optimizer is deprecated. Please use tf.compat.v1.train.Optimizer instead.\n",
            "\n",
            "WARNING:tensorflow:From /usr/local/lib/python3.6/dist-packages/tensorflow_core/python/ops/nn_impl.py:183: where (from tensorflow.python.ops.array_ops) is deprecated and will be removed in a future version.\n",
            "Instructions for updating:\n",
            "Use tf.where in 2.0, which has the same broadcast rule as np.where\n",
            "Model: \"sequential_1\"\n",
            "_________________________________________________________________\n",
            "Layer (type)                 Output Shape              Param #   \n",
            "=================================================================\n",
            "dense_1 (Dense)              (None, 16, 4)             92        \n",
            "_________________________________________________________________\n",
            "flatten_1 (Flatten)          (None, 64)                0         \n",
            "_________________________________________________________________\n",
            "dense_2 (Dense)              (None, 1)                 65        \n",
            "=================================================================\n",
            "Total params: 157\n",
            "Trainable params: 157\n",
            "Non-trainable params: 0\n",
            "_________________________________________________________________\n",
            "WARNING:tensorflow:From /usr/local/lib/python3.6/dist-packages/keras/backend/tensorflow_backend.py:1033: The name tf.assign_add is deprecated. Please use tf.compat.v1.assign_add instead.\n",
            "\n",
            "WARNING:tensorflow:From /usr/local/lib/python3.6/dist-packages/keras/backend/tensorflow_backend.py:1020: The name tf.assign is deprecated. Please use tf.compat.v1.assign instead.\n",
            "\n",
            "WARNING:tensorflow:From /usr/local/lib/python3.6/dist-packages/keras/backend/tensorflow_backend.py:3005: The name tf.Session is deprecated. Please use tf.compat.v1.Session instead.\n",
            "\n",
            "Epoch 1/20\n",
            "WARNING:tensorflow:From /usr/local/lib/python3.6/dist-packages/keras/backend/tensorflow_backend.py:190: The name tf.get_default_session is deprecated. Please use tf.compat.v1.get_default_session instead.\n",
            "\n",
            "WARNING:tensorflow:From /usr/local/lib/python3.6/dist-packages/keras/backend/tensorflow_backend.py:197: The name tf.ConfigProto is deprecated. Please use tf.compat.v1.ConfigProto instead.\n",
            "\n",
            "WARNING:tensorflow:From /usr/local/lib/python3.6/dist-packages/keras/backend/tensorflow_backend.py:207: The name tf.global_variables is deprecated. Please use tf.compat.v1.global_variables instead.\n",
            "\n",
            "WARNING:tensorflow:From /usr/local/lib/python3.6/dist-packages/keras/backend/tensorflow_backend.py:216: The name tf.is_variable_initialized is deprecated. Please use tf.compat.v1.is_variable_initialized instead.\n",
            "\n",
            "WARNING:tensorflow:From /usr/local/lib/python3.6/dist-packages/keras/backend/tensorflow_backend.py:223: The name tf.variables_initializer is deprecated. Please use tf.compat.v1.variables_initializer instead.\n",
            "\n",
            "99/99 [==============================] - 1s 13ms/step - loss: 14371412478.1111 - acc: 0.2879\n",
            "Epoch 2/20\n",
            "99/99 [==============================] - 0s 4ms/step - loss: 1073362553.4741 - acc: 0.5707\n",
            "Epoch 3/20\n",
            "99/99 [==============================] - 0s 3ms/step - loss: 852699899.2391 - acc: 0.6919\n",
            "Epoch 4/20\n",
            "99/99 [==============================] - 0s 4ms/step - loss: 1030983881.1881 - acc: 0.7475\n",
            "Epoch 5/20\n",
            "99/99 [==============================] - 0s 3ms/step - loss: 692449961.7686 - acc: 0.7929\n",
            "Epoch 6/20\n",
            "99/99 [==============================] - 0s 3ms/step - loss: 89025759.2071 - acc: 0.9343\n",
            "Epoch 7/20\n",
            "99/99 [==============================] - 0s 4ms/step - loss: 165804271.0562 - acc: 0.9343\n",
            "Epoch 8/20\n",
            "99/99 [==============================] - 0s 3ms/step - loss: 159885427.6111 - acc: 0.8939\n",
            "Epoch 9/20\n",
            "99/99 [==============================] - 0s 4ms/step - loss: 81475203.7017 - acc: 0.9293\n",
            "Epoch 10/20\n",
            "99/99 [==============================] - 0s 4ms/step - loss: 222024434.5650 - acc: 0.9343\n",
            "Epoch 11/20\n",
            "99/99 [==============================] - 0s 4ms/step - loss: 117106744.5202 - acc: 0.9394\n",
            "Epoch 12/20\n",
            "99/99 [==============================] - 0s 3ms/step - loss: 138833833.7778 - acc: 0.9394\n",
            "Epoch 13/20\n",
            "99/99 [==============================] - 0s 4ms/step - loss: 88089055.6635 - acc: 0.9394\n",
            "Epoch 14/20\n",
            "99/99 [==============================] - 0s 4ms/step - loss: 17064991.1288 - acc: 0.9596\n",
            "Epoch 15/20\n",
            "99/99 [==============================] - 0s 3ms/step - loss: 34808811.5960 - acc: 0.9596\n",
            "Epoch 16/20\n",
            "99/99 [==============================] - 0s 4ms/step - loss: 11962173.9798 - acc: 0.9596\n",
            "Epoch 17/20\n",
            "99/99 [==============================] - 0s 4ms/step - loss: 24694226.1162 - acc: 0.9495\n",
            "Epoch 18/20\n",
            "99/99 [==============================] - 0s 4ms/step - loss: 161469148.5530 - acc: 0.9192\n",
            "Epoch 19/20\n",
            "99/99 [==============================] - 0s 4ms/step - loss: 32464837.6768 - acc: 0.9646\n",
            "Epoch 20/20\n",
            "99/99 [==============================] - 0s 4ms/step - loss: 31151204.8662 - acc: 0.9495\n"
          ],
          "name": "stdout"
        }
      ]
    },
    {
      "cell_type": "markdown",
      "metadata": {
        "id": "aNVOdZlHk7Jy",
        "colab_type": "text"
      },
      "source": [
        "### Visualize the Training Process"
      ]
    },
    {
      "cell_type": "code",
      "metadata": {
        "scrolled": false,
        "id": "qNV3lyDNk7Jz",
        "colab_type": "code",
        "colab": {
          "base_uri": "https://localhost:8080/",
          "height": 573
        },
        "outputId": "ac32e40f-d186-49d8-a82d-97cc8f7ba985"
      },
      "source": [
        "# Visualize evaluation measures for training and test data. \n",
        "# TODO: Plot precision and ROC.\n",
        "\n",
        "# Plot train and test loss.\n",
        "plt.plot(history.history['loss'])\n",
        "plt.title('Train Loss')\n",
        "plt.ylabel('Loss')\n",
        "plt.xlabel('Epoch')\n",
        "plt.show()\n",
        "\n",
        "# Plot test accuracy.\n",
        "plt.plot(history.history['acc'])\n",
        "plt.title('Train Accuracy')\n",
        "plt.ylabel('Accuracy')\n",
        "plt.xlabel('Epoch')\n",
        "plt.ylim(0, 1)\n",
        "plt.show()"
      ],
      "execution_count": 9,
      "outputs": [
        {
          "output_type": "display_data",
          "data": {
            "image/png": "[encoded data removed]",
            "text/plain": [
              "<Figure size 432x288 with 1 Axes>"
            ]
          },
          "metadata": {
            "tags": []
          }
        },
        {
          "output_type": "display_data",
          "data": {
            "image/png": "[encoded data removed]",
            "text/plain": [
              "<Figure size 432x288 with 1 Axes>"
            ]
          },
          "metadata": {
            "tags": []
          }
        }
      ]
    },
    {
      "cell_type": "markdown",
      "metadata": {
        "id": "O8CbvrQy8QUj",
        "colab_type": "text"
      },
      "source": [
        "### Evaluate Models on Test Data"
      ]
    },
    {
      "cell_type": "code",
      "metadata": {
        "id": "kO1Zp1Yv8USL",
        "colab_type": "code",
        "colab": {}
      },
      "source": [
        "# TODO"
      ],
      "execution_count": 0,
      "outputs": []
    }
  ]
}